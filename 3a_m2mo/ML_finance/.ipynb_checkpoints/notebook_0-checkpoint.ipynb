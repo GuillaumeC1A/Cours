{
 "cells": [
  {
   "cell_type": "markdown",
   "metadata": {
    "nbgrader": {
     "grade": false,
     "grade_id": "cell-5adf6a29694ce64b",
     "locked": true,
     "schema_version": 1,
     "solution": false
    },
    "slideshow": {
     "slide_type": "slide"
    }
   },
   "source": [
    "# Introduction to Python\n",
    "\n",
    "We introduce here the `python` language. \n"
   ]
  },
  {
   "cell_type": "markdown",
   "metadata": {
    "slideshow": {
     "slide_type": "subslide"
    }
   },
   "source": [
    "## Specific features of Python\n",
    "\n",
    "- An **interpreted** (as opposed to *compiled*) language. Contrary to e.g.\n",
    "`C++` or `fortran`, one does not compile Python code before executing it.\n",
    "\n",
    "- Object-oriented language.\n",
    "\n",
    "- Script `myscript.py` ; here, jupyter notebook.\n",
    "\n",
    "- A free software released under an **open-source** license: Python can\n",
    "be used and distributed free of charge.\n",
    "\n",
    "- Use Python 3"
   ]
  },
  {
   "cell_type": "markdown",
   "metadata": {
    "nbgrader": {
     "grade": false,
     "grade_id": "cell-da05268b6b981cb2",
     "locked": true,
     "schema_version": 1,
     "solution": false
    },
    "slideshow": {
     "slide_type": "slide"
    }
   },
   "source": [
    "# Hello world\n",
    "\n",
    "- In a `jupyter` notebook, type something in a cell, execute, and the result is printed just below. "
   ]
  },
  {
   "cell_type": "code",
   "execution_count": null,
   "metadata": {
    "ExecuteTime": {
     "end_time": "2020-09-03T08:37:32.967947Z",
     "start_time": "2020-09-03T08:37:32.963813Z"
    },
    "scrolled": false,
    "slideshow": {
     "slide_type": "fragment"
    }
   },
   "outputs": [],
   "source": [
    "print(\"Salut tout le monde!\")"
   ]
  },
  {
   "cell_type": "markdown",
   "metadata": {
    "slideshow": {
     "slide_type": "slide"
    }
   },
   "source": [
    "# Basic types"
   ]
  },
  {
   "cell_type": "markdown",
   "metadata": {
    "slideshow": {
     "slide_type": "subslide"
    }
   },
   "source": [
    "## Integers"
   ]
  },
  {
   "cell_type": "code",
   "execution_count": null,
   "metadata": {
    "ExecuteTime": {
     "end_time": "2020-09-03T08:37:32.978648Z",
     "start_time": "2020-09-03T08:37:32.970110Z"
    },
    "slideshow": {
     "slide_type": "fragment"
    }
   },
   "outputs": [],
   "source": [
    "1 + 42"
   ]
  },
  {
   "cell_type": "code",
   "execution_count": null,
   "metadata": {},
   "outputs": [],
   "source": [
    "2*3"
   ]
  },
  {
   "cell_type": "code",
   "execution_count": null,
   "metadata": {},
   "outputs": [],
   "source": [
    "8/2"
   ]
  },
  {
   "cell_type": "code",
   "execution_count": null,
   "metadata": {
    "ExecuteTime": {
     "end_time": "2020-09-03T08:37:32.984155Z",
     "start_time": "2020-09-03T08:37:32.980783Z"
    },
    "scrolled": true,
    "slideshow": {
     "slide_type": "-"
    }
   },
   "outputs": [],
   "source": [
    "type(1+1)"
   ]
  },
  {
   "cell_type": "markdown",
   "metadata": {
    "slideshow": {
     "slide_type": "fragment"
    }
   },
   "source": [
    "We can assign values to variables with `=`"
   ]
  },
  {
   "cell_type": "code",
   "execution_count": null,
   "metadata": {
    "ExecuteTime": {
     "end_time": "2020-09-03T08:37:32.989588Z",
     "start_time": "2020-09-03T08:37:32.986162Z"
    },
    "slideshow": {
     "slide_type": "-"
    }
   },
   "outputs": [],
   "source": [
    "a = (3 + 5 ** 2) % 4\n",
    "a"
   ]
  },
  {
   "cell_type": "markdown",
   "metadata": {
    "slideshow": {
     "slide_type": "subslide"
    }
   },
   "source": [
    "## Remarks\n",
    "\n",
    "- We don't declare the type of a variable before assigning its value. \n",
    "In C, conversely, one should write\n",
    "\n",
    "```C\n",
    "int a = 4;\n",
    "```\n",
    "\n",
    "- **Arbitrary large** integer arithmetics"
   ]
  },
  {
   "cell_type": "code",
   "execution_count": null,
   "metadata": {
    "ExecuteTime": {
     "end_time": "2020-09-03T08:37:32.994619Z",
     "start_time": "2020-09-03T08:37:32.991292Z"
    },
    "slideshow": {
     "slide_type": "fragment"
    }
   },
   "outputs": [],
   "source": [
    "17 ** 542"
   ]
  },
  {
   "cell_type": "markdown",
   "metadata": {
    "slideshow": {
     "slide_type": "subslide"
    }
   },
   "source": [
    "## Floats\n",
    "\n",
    "There exists a floating point type that is created when the variable has decimal values"
   ]
  },
  {
   "cell_type": "code",
   "execution_count": null,
   "metadata": {
    "ExecuteTime": {
     "end_time": "2020-09-03T08:37:32.999170Z",
     "start_time": "2020-09-03T08:37:32.996578Z"
    },
    "slideshow": {
     "slide_type": "-"
    }
   },
   "outputs": [],
   "source": [
    "c = 2."
   ]
  },
  {
   "cell_type": "code",
   "execution_count": null,
   "metadata": {
    "ExecuteTime": {
     "end_time": "2020-09-03T08:37:33.006420Z",
     "start_time": "2020-09-03T08:37:33.003052Z"
    },
    "scrolled": true,
    "slideshow": {
     "slide_type": "-"
    }
   },
   "outputs": [],
   "source": [
    "type(c)"
   ]
  },
  {
   "cell_type": "code",
   "execution_count": null,
   "metadata": {
    "ExecuteTime": {
     "end_time": "2020-09-03T08:37:33.011933Z",
     "start_time": "2020-09-03T08:37:33.008547Z"
    },
    "slideshow": {
     "slide_type": "fragment"
    }
   },
   "outputs": [],
   "source": [
    "c = 2\n",
    "type(c)"
   ]
  },
  {
   "cell_type": "code",
   "execution_count": null,
   "metadata": {
    "ExecuteTime": {
     "end_time": "2020-09-03T08:37:33.016985Z",
     "start_time": "2020-09-03T08:37:33.013559Z"
    },
    "slideshow": {
     "slide_type": "fragment"
    }
   },
   "outputs": [],
   "source": [
    "truc = 1 / 2\n",
    "truc"
   ]
  },
  {
   "cell_type": "code",
   "execution_count": null,
   "metadata": {
    "ExecuteTime": {
     "end_time": "2020-09-03T08:37:33.021879Z",
     "start_time": "2020-09-03T08:37:33.018691Z"
    },
    "slideshow": {
     "slide_type": "-"
    }
   },
   "outputs": [],
   "source": [
    "type(truc)"
   ]
  },
  {
   "cell_type": "markdown",
   "metadata": {
    "slideshow": {
     "slide_type": "subslide"
    }
   },
   "source": [
    "## Boolean\n",
    "Similarly, boolean types are created from a comparison"
   ]
  },
  {
   "cell_type": "code",
   "execution_count": null,
   "metadata": {
    "ExecuteTime": {
     "end_time": "2020-09-03T08:37:33.026811Z",
     "start_time": "2020-09-03T08:37:33.023550Z"
    },
    "scrolled": false,
    "slideshow": {
     "slide_type": "fragment"
    }
   },
   "outputs": [],
   "source": [
    "test = 3 > 4\n",
    "test"
   ]
  },
  {
   "cell_type": "code",
   "execution_count": null,
   "metadata": {
    "ExecuteTime": {
     "end_time": "2020-09-03T08:37:33.031692Z",
     "start_time": "2020-09-03T08:37:33.028506Z"
    },
    "slideshow": {
     "slide_type": "-"
    }
   },
   "outputs": [],
   "source": [
    "type(test)"
   ]
  },
  {
   "cell_type": "code",
   "execution_count": null,
   "metadata": {
    "ExecuteTime": {
     "end_time": "2020-09-03T08:37:33.036656Z",
     "start_time": "2020-09-03T08:37:33.033267Z"
    },
    "slideshow": {
     "slide_type": "fragment"
    }
   },
   "outputs": [],
   "source": [
    "False == (not True)"
   ]
  },
  {
   "cell_type": "code",
   "execution_count": null,
   "metadata": {
    "ExecuteTime": {
     "end_time": "2020-09-03T08:37:33.041595Z",
     "start_time": "2020-09-03T08:37:33.038345Z"
    },
    "scrolled": true,
    "slideshow": {
     "slide_type": "fragment"
    }
   },
   "outputs": [],
   "source": [
    "1.41 < 2.71 and 2.71 < 3.14"
   ]
  },
  {
   "cell_type": "code",
   "execution_count": null,
   "metadata": {
    "ExecuteTime": {
     "end_time": "2020-09-03T08:37:33.046354Z",
     "start_time": "2020-09-03T08:37:33.043269Z"
    },
    "slideshow": {
     "slide_type": "-"
    }
   },
   "outputs": [],
   "source": [
    "# It's equivalent to\n",
    "1.41 < 2.71 < 3.14"
   ]
  },
  {
   "cell_type": "markdown",
   "metadata": {
    "slideshow": {
     "slide_type": "subslide"
    }
   },
   "source": [
    "## Type conversion (casting)"
   ]
  },
  {
   "cell_type": "code",
   "execution_count": null,
   "metadata": {
    "ExecuteTime": {
     "end_time": "2020-09-03T08:37:33.052877Z",
     "start_time": "2020-09-03T08:37:33.049545Z"
    },
    "scrolled": true,
    "slideshow": {
     "slide_type": "fragment"
    }
   },
   "outputs": [],
   "source": [
    "a = 1\n",
    "type(a)"
   ]
  },
  {
   "cell_type": "code",
   "execution_count": null,
   "metadata": {
    "ExecuteTime": {
     "end_time": "2020-09-03T08:37:33.058601Z",
     "start_time": "2020-09-03T08:37:33.055357Z"
    },
    "scrolled": true,
    "slideshow": {
     "slide_type": "-"
    }
   },
   "outputs": [],
   "source": [
    "b = float(a)\n",
    "type(b)"
   ]
  },
  {
   "cell_type": "code",
   "execution_count": null,
   "metadata": {
    "ExecuteTime": {
     "end_time": "2020-09-03T08:37:33.063441Z",
     "start_time": "2020-09-03T08:37:33.060201Z"
    },
    "scrolled": true,
    "slideshow": {
     "slide_type": "-"
    }
   },
   "outputs": [],
   "source": [
    "str(b)"
   ]
  },
  {
   "cell_type": "code",
   "execution_count": null,
   "metadata": {
    "ExecuteTime": {
     "end_time": "2020-09-03T08:37:33.068106Z",
     "start_time": "2020-09-03T08:37:33.065066Z"
    },
    "slideshow": {
     "slide_type": "fragment"
    }
   },
   "outputs": [],
   "source": [
    "bool(b)\n",
    "# All non-zero, non empty objects are casted to boolean as True (more later)"
   ]
  },
  {
   "cell_type": "code",
   "execution_count": null,
   "metadata": {
    "ExecuteTime": {
     "end_time": "2020-09-03T08:37:33.073091Z",
     "start_time": "2020-09-03T08:37:33.069674Z"
    },
    "slideshow": {
     "slide_type": "-"
    }
   },
   "outputs": [],
   "source": [
    "bool(1-1)"
   ]
  },
  {
   "cell_type": "markdown",
   "metadata": {
    "slideshow": {
     "slide_type": "slide"
    }
   },
   "source": [
    "#  Containers\n",
    "\n",
    "Python provides many efficient types of containers, in which collections of objects can be stored. \n",
    "\n",
    "The main ones are `list`, `tuple`, `set` and `dict`."
   ]
  },
  {
   "cell_type": "markdown",
   "metadata": {
    "slideshow": {
     "slide_type": "subslide"
    }
   },
   "source": [
    "## Tuples"
   ]
  },
  {
   "cell_type": "code",
   "execution_count": null,
   "metadata": {
    "ExecuteTime": {
     "end_time": "2020-09-03T08:37:33.077998Z",
     "start_time": "2020-09-03T08:37:33.074604Z"
    },
    "scrolled": false,
    "slideshow": {
     "slide_type": "fragment"
    }
   },
   "outputs": [],
   "source": [
    "tt = ('truc', 3.14, \"truc\")\n",
    "tt"
   ]
  },
  {
   "cell_type": "code",
   "execution_count": null,
   "metadata": {
    "ExecuteTime": {
     "end_time": "2020-09-03T08:37:33.082347Z",
     "start_time": "2020-09-03T08:37:33.079565Z"
    },
    "scrolled": false,
    "slideshow": {
     "slide_type": "-"
    }
   },
   "outputs": [],
   "source": [
    "tt[0]"
   ]
  },
  {
   "cell_type": "code",
   "execution_count": null,
   "metadata": {},
   "outputs": [],
   "source": [
    "tt[1]"
   ]
  },
  {
   "cell_type": "markdown",
   "metadata": {},
   "source": [
    "**Warning.** Indexing **starts at 0** not at 1 for any *iterable* object in Python."
   ]
  },
  {
   "cell_type": "markdown",
   "metadata": {
    "slideshow": {
     "slide_type": "fragment"
    }
   },
   "source": [
    "You can't change a tuple, we say that it's *immutable*"
   ]
  },
  {
   "cell_type": "code",
   "execution_count": null,
   "metadata": {
    "ExecuteTime": {
     "end_time": "2020-09-03T08:37:33.163893Z",
     "start_time": "2020-09-03T08:37:33.083714Z"
    },
    "slideshow": {
     "slide_type": "-"
    }
   },
   "outputs": [],
   "source": [
    "tt[0] = 1"
   ]
  },
  {
   "cell_type": "markdown",
   "metadata": {
    "slideshow": {
     "slide_type": "subslide"
    }
   },
   "source": [
    "Three ways of doing the same thing"
   ]
  },
  {
   "cell_type": "code",
   "execution_count": null,
   "metadata": {
    "ExecuteTime": {
     "end_time": "2020-09-03T08:37:33.170611Z",
     "start_time": "2020-09-03T08:37:33.022Z"
    },
    "slideshow": {
     "slide_type": "-"
    }
   },
   "outputs": [],
   "source": [
    "# Method 1\n",
    "tuple([1, 2, 3])"
   ]
  },
  {
   "cell_type": "code",
   "execution_count": null,
   "metadata": {
    "ExecuteTime": {
     "end_time": "2020-09-03T08:37:33.171702Z",
     "start_time": "2020-09-03T08:37:33.024Z"
    },
    "scrolled": true,
    "slideshow": {
     "slide_type": "-"
    }
   },
   "outputs": [],
   "source": [
    "# Method 2\n",
    "1, 2, 3"
   ]
  },
  {
   "cell_type": "code",
   "execution_count": null,
   "metadata": {
    "ExecuteTime": {
     "end_time": "2020-09-03T08:37:33.172726Z",
     "start_time": "2020-09-03T08:37:33.026Z"
    },
    "scrolled": true,
    "slideshow": {
     "slide_type": "-"
    }
   },
   "outputs": [],
   "source": [
    "# Method 3\n",
    "(1, 2, 3)"
   ]
  },
  {
   "cell_type": "markdown",
   "metadata": {
    "slideshow": {
     "slide_type": "-"
    }
   },
   "source": [
    "Simpler is better, so generally use Method 2."
   ]
  },
  {
   "cell_type": "code",
   "execution_count": null,
   "metadata": {
    "ExecuteTime": {
     "end_time": "2020-09-03T08:37:33.173811Z",
     "start_time": "2020-09-03T08:37:33.028Z"
    },
    "scrolled": false,
    "slideshow": {
     "slide_type": "fragment"
    }
   },
   "outputs": [],
   "source": [
    "toto = 1, 2, 3\n",
    "toto"
   ]
  },
  {
   "cell_type": "markdown",
   "metadata": {
    "slideshow": {
     "slide_type": "subslide"
    }
   },
   "source": [
    "## The Zen of Python easter-egg"
   ]
  },
  {
   "cell_type": "code",
   "execution_count": null,
   "metadata": {
    "ExecuteTime": {
     "end_time": "2020-09-03T08:37:33.174910Z",
     "start_time": "2020-09-03T08:37:33.031Z"
    },
    "scrolled": false,
    "slideshow": {
     "slide_type": "-"
    }
   },
   "outputs": [],
   "source": [
    "import this"
   ]
  },
  {
   "cell_type": "markdown",
   "metadata": {
    "slideshow": {
     "slide_type": "subslide"
    }
   },
   "source": [
    "## Lists\n",
    "\n",
    "A list is an ordered collection of objects. These objects may have different types. For example:"
   ]
  },
  {
   "cell_type": "code",
   "execution_count": null,
   "metadata": {
    "ExecuteTime": {
     "end_time": "2020-09-03T08:37:33.175917Z",
     "start_time": "2020-09-03T08:37:33.034Z"
    },
    "slideshow": {
     "slide_type": "-"
    }
   },
   "outputs": [],
   "source": [
    "colors = ['red', 'blue', 'green', 'black', 'white']"
   ]
  },
  {
   "cell_type": "code",
   "execution_count": null,
   "metadata": {
    "ExecuteTime": {
     "end_time": "2020-09-03T08:37:33.176957Z",
     "start_time": "2020-09-03T08:37:33.036Z"
    },
    "scrolled": false,
    "slideshow": {
     "slide_type": "-"
    }
   },
   "outputs": [],
   "source": [
    "type(colors)"
   ]
  },
  {
   "cell_type": "markdown",
   "metadata": {
    "slideshow": {
     "slide_type": "fragment"
    }
   },
   "source": [
    "**Indexing:** accessing individual objects contained in the list"
   ]
  },
  {
   "cell_type": "code",
   "execution_count": null,
   "metadata": {
    "ExecuteTime": {
     "end_time": "2020-09-03T08:37:33.177983Z",
     "start_time": "2020-09-03T08:37:33.038Z"
    },
    "slideshow": {
     "slide_type": "-"
    }
   },
   "outputs": [],
   "source": [
    "colors[2]"
   ]
  },
  {
   "cell_type": "code",
   "execution_count": null,
   "metadata": {
    "ExecuteTime": {
     "end_time": "2020-09-03T08:37:33.179090Z",
     "start_time": "2020-09-03T08:37:33.040Z"
    },
    "slideshow": {
     "slide_type": "-"
    }
   },
   "outputs": [],
   "source": [
    "colors[2] = 3.14\n",
    "colors"
   ]
  },
  {
   "cell_type": "markdown",
   "metadata": {
    "slideshow": {
     "slide_type": "subslide"
    }
   },
   "source": [
    "Counting from the end with negative indices:"
   ]
  },
  {
   "cell_type": "code",
   "execution_count": null,
   "metadata": {
    "ExecuteTime": {
     "end_time": "2020-09-03T08:37:33.180017Z",
     "start_time": "2020-09-03T08:37:33.042Z"
    },
    "scrolled": true,
    "slideshow": {
     "slide_type": "-"
    }
   },
   "outputs": [],
   "source": [
    "colors[-2]"
   ]
  },
  {
   "cell_type": "markdown",
   "metadata": {
    "slideshow": {
     "slide_type": "fragment"
    }
   },
   "source": [
    "Index must remain in the range of the list"
   ]
  },
  {
   "cell_type": "code",
   "execution_count": null,
   "metadata": {
    "ExecuteTime": {
     "end_time": "2020-09-03T08:37:33.181088Z",
     "start_time": "2020-09-03T08:37:33.044Z"
    },
    "scrolled": true,
    "slideshow": {
     "slide_type": "-"
    }
   },
   "outputs": [],
   "source": [
    "colors[10]"
   ]
  },
  {
   "cell_type": "code",
   "execution_count": null,
   "metadata": {
    "ExecuteTime": {
     "end_time": "2020-09-03T08:37:33.182052Z",
     "start_time": "2020-09-03T08:37:33.046Z"
    },
    "slideshow": {
     "slide_type": "subslide"
    }
   },
   "outputs": [],
   "source": [
    "colors"
   ]
  },
  {
   "cell_type": "code",
   "execution_count": null,
   "metadata": {
    "ExecuteTime": {
     "end_time": "2020-09-03T08:37:33.183087Z",
     "start_time": "2020-09-03T08:37:33.048Z"
    }
   },
   "outputs": [],
   "source": [
    "tt"
   ]
  },
  {
   "cell_type": "code",
   "execution_count": null,
   "metadata": {
    "ExecuteTime": {
     "end_time": "2020-09-03T08:37:33.184188Z",
     "start_time": "2020-09-03T08:37:33.050Z"
    },
    "slideshow": {
     "slide_type": "-"
    }
   },
   "outputs": [],
   "source": [
    "colors.append(tt)\n",
    "colors"
   ]
  },
  {
   "cell_type": "code",
   "execution_count": null,
   "metadata": {
    "ExecuteTime": {
     "end_time": "2020-09-03T08:37:33.185157Z",
     "start_time": "2020-09-03T08:37:33.052Z"
    },
    "scrolled": true,
    "slideshow": {
     "slide_type": "-"
    }
   },
   "outputs": [],
   "source": [
    "len(colors)"
   ]
  },
  {
   "cell_type": "markdown",
   "metadata": {
    "slideshow": {
     "slide_type": "subslide"
    }
   },
   "source": [
    "## Slicing: obtaining sublists of regularly-spaced elements\n",
    "\n",
    "This work with anything iterable whenever it makes sense (`list`, `str`, `tuple`, etc.)"
   ]
  },
  {
   "cell_type": "code",
   "execution_count": null,
   "metadata": {
    "ExecuteTime": {
     "end_time": "2020-09-03T08:37:33.186138Z",
     "start_time": "2020-09-03T08:37:33.054Z"
    },
    "slideshow": {
     "slide_type": "fragment"
    }
   },
   "outputs": [],
   "source": [
    "colors"
   ]
  },
  {
   "cell_type": "code",
   "execution_count": null,
   "metadata": {
    "ExecuteTime": {
     "end_time": "2020-09-03T08:37:33.187299Z",
     "start_time": "2020-09-03T08:37:33.055Z"
    },
    "slideshow": {
     "slide_type": "-"
    }
   },
   "outputs": [],
   "source": [
    "list(reversed(colors))"
   ]
  },
  {
   "cell_type": "code",
   "execution_count": null,
   "metadata": {
    "ExecuteTime": {
     "end_time": "2020-09-03T08:37:33.188380Z",
     "start_time": "2020-09-03T08:37:33.057Z"
    },
    "scrolled": true,
    "slideshow": {
     "slide_type": "-"
    }
   },
   "outputs": [],
   "source": [
    "colors[::-1]"
   ]
  },
  {
   "cell_type": "markdown",
   "metadata": {
    "slideshow": {
     "slide_type": "-"
    }
   },
   "source": [
    "**Slicing syntax**: ``colors[start:stop:stride]``\n",
    "\n",
    "NB: All slicing parameters are optional"
   ]
  },
  {
   "cell_type": "code",
   "execution_count": null,
   "metadata": {
    "ExecuteTime": {
     "end_time": "2020-09-03T08:37:33.189292Z",
     "start_time": "2020-09-03T08:37:33.060Z"
    },
    "slideshow": {
     "slide_type": "subslide"
    }
   },
   "outputs": [],
   "source": [
    "colors"
   ]
  },
  {
   "cell_type": "code",
   "execution_count": null,
   "metadata": {
    "ExecuteTime": {
     "end_time": "2020-09-03T08:37:33.190371Z",
     "start_time": "2020-09-03T08:37:33.062Z"
    },
    "slideshow": {
     "slide_type": "-"
    }
   },
   "outputs": [],
   "source": [
    "colors[3:]"
   ]
  },
  {
   "cell_type": "code",
   "execution_count": null,
   "metadata": {
    "ExecuteTime": {
     "end_time": "2020-09-03T08:37:33.191447Z",
     "start_time": "2020-09-03T08:37:33.064Z"
    },
    "slideshow": {
     "slide_type": "-"
    }
   },
   "outputs": [],
   "source": [
    "colors[:3]"
   ]
  },
  {
   "cell_type": "code",
   "execution_count": null,
   "metadata": {
    "ExecuteTime": {
     "end_time": "2020-09-03T08:37:33.192365Z",
     "start_time": "2020-09-03T08:37:33.066Z"
    },
    "scrolled": true,
    "slideshow": {
     "slide_type": "-"
    }
   },
   "outputs": [],
   "source": [
    "colors[1::2]"
   ]
  },
  {
   "cell_type": "code",
   "execution_count": null,
   "metadata": {
    "ExecuteTime": {
     "end_time": "2020-09-03T08:37:33.193446Z",
     "start_time": "2020-09-03T08:37:33.068Z"
    },
    "slideshow": {
     "slide_type": "-"
    }
   },
   "outputs": [],
   "source": [
    "colors[::-1]"
   ]
  },
  {
   "cell_type": "markdown",
   "metadata": {
    "slideshow": {
     "slide_type": "subslide"
    }
   },
   "source": [
    "## Strings\n",
    "\n",
    "Different string syntaxes (simple, double or triple quotes):"
   ]
  },
  {
   "cell_type": "code",
   "execution_count": null,
   "metadata": {
    "ExecuteTime": {
     "end_time": "2020-09-03T08:37:33.194554Z",
     "start_time": "2020-09-03T08:37:33.070Z"
    },
    "slideshow": {
     "slide_type": "fragment"
    }
   },
   "outputs": [],
   "source": [
    "s = 'tintin'\n",
    "type(s)"
   ]
  },
  {
   "cell_type": "code",
   "execution_count": null,
   "metadata": {
    "ExecuteTime": {
     "end_time": "2020-09-03T08:37:33.195567Z",
     "start_time": "2020-09-03T08:37:33.072Z"
    },
    "scrolled": true,
    "slideshow": {
     "slide_type": "-"
    }
   },
   "outputs": [],
   "source": [
    "s"
   ]
  },
  {
   "cell_type": "code",
   "execution_count": null,
   "metadata": {
    "ExecuteTime": {
     "end_time": "2020-09-03T08:37:33.196539Z",
     "start_time": "2020-09-03T08:37:33.074Z"
    },
    "slideshow": {
     "slide_type": "fragment"
    }
   },
   "outputs": [],
   "source": [
    "s = \"\"\"Bonjour,\n",
    "Bienvenue en cours de Machine Learning.\n",
    "Je vous souhaite une bonne journée.\n",
    "Salut.       \n",
    "\"\"\"\n",
    "s"
   ]
  },
  {
   "cell_type": "code",
   "execution_count": null,
   "metadata": {
    "ExecuteTime": {
     "end_time": "2020-09-03T08:37:33.197714Z",
     "start_time": "2020-09-03T08:37:33.076Z"
    },
    "slideshow": {
     "slide_type": "-"
    }
   },
   "outputs": [],
   "source": [
    "s.strip()"
   ]
  },
  {
   "cell_type": "code",
   "execution_count": null,
   "metadata": {
    "ExecuteTime": {
     "end_time": "2020-09-03T08:37:33.198762Z",
     "start_time": "2020-09-03T08:37:33.078Z"
    },
    "scrolled": true,
    "slideshow": {
     "slide_type": "subslide"
    }
   },
   "outputs": [],
   "source": [
    "print(s.strip())"
   ]
  },
  {
   "cell_type": "code",
   "execution_count": null,
   "metadata": {
    "ExecuteTime": {
     "end_time": "2020-09-03T08:37:33.199746Z",
     "start_time": "2020-09-03T08:37:33.080Z"
    },
    "scrolled": false,
    "slideshow": {
     "slide_type": "-"
    }
   },
   "outputs": [],
   "source": [
    "len(s)"
   ]
  },
  {
   "cell_type": "code",
   "execution_count": null,
   "metadata": {
    "ExecuteTime": {
     "end_time": "2020-09-03T08:37:33.200821Z",
     "start_time": "2020-09-03T08:37:33.082Z"
    },
    "scrolled": true,
    "slideshow": {
     "slide_type": "fragment"
    }
   },
   "outputs": [],
   "source": [
    "# Casting to a list\n",
    "list(s.strip()[:15])"
   ]
  },
  {
   "cell_type": "code",
   "execution_count": null,
   "metadata": {
    "ExecuteTime": {
     "end_time": "2020-09-03T08:37:33.201786Z",
     "start_time": "2020-09-03T08:37:33.084Z"
    },
    "scrolled": true,
    "slideshow": {
     "slide_type": "fragment"
    }
   },
   "outputs": [],
   "source": [
    "# Arithmetics\n",
    "print('Bonjour' * 2)\n",
    "print('Hello' + ' all')"
   ]
  },
  {
   "cell_type": "code",
   "execution_count": null,
   "metadata": {
    "ExecuteTime": {
     "end_time": "2020-09-03T08:37:33.202812Z",
     "start_time": "2020-09-03T08:37:33.085Z"
    },
    "slideshow": {
     "slide_type": "-"
    }
   },
   "outputs": [],
   "source": [
    "sss = 'A'\n",
    "sss += 'bc'\n",
    "sss += 'dE'\n",
    "sss.lower()"
   ]
  },
  {
   "cell_type": "code",
   "execution_count": null,
   "metadata": {
    "ExecuteTime": {
     "end_time": "2020-09-03T08:37:33.203923Z",
     "start_time": "2020-09-03T08:37:33.087Z"
    },
    "scrolled": true,
    "slideshow": {
     "slide_type": "subslide"
    }
   },
   "outputs": [],
   "source": [
    "ss = s.strip()\n",
    "print(ss[:9] + ss[69:85])"
   ]
  },
  {
   "cell_type": "code",
   "execution_count": null,
   "metadata": {
    "ExecuteTime": {
     "end_time": "2020-09-03T08:37:33.204922Z",
     "start_time": "2020-09-03T08:37:33.088Z"
    },
    "scrolled": false,
    "slideshow": {
     "slide_type": "-"
    }
   },
   "outputs": [],
   "source": [
    "s.strip().split('\\n')"
   ]
  },
  {
   "cell_type": "code",
   "execution_count": null,
   "metadata": {
    "ExecuteTime": {
     "end_time": "2020-09-03T08:37:33.205877Z",
     "start_time": "2020-09-03T08:37:33.090Z"
    },
    "scrolled": false,
    "slideshow": {
     "slide_type": "-"
    }
   },
   "outputs": [],
   "source": [
    "s[::3]"
   ]
  },
  {
   "cell_type": "code",
   "execution_count": null,
   "metadata": {
    "ExecuteTime": {
     "end_time": "2020-09-03T08:37:33.206958Z",
     "start_time": "2020-09-03T08:37:33.091Z"
    },
    "scrolled": false,
    "slideshow": {
     "slide_type": "-"
    }
   },
   "outputs": [],
   "source": [
    "s[3:10]"
   ]
  },
  {
   "cell_type": "code",
   "execution_count": null,
   "metadata": {
    "ExecuteTime": {
     "end_time": "2020-09-03T08:37:33.207928Z",
     "start_time": "2020-09-03T08:37:33.093Z"
    },
    "slideshow": {
     "slide_type": "fragment"
    }
   },
   "outputs": [],
   "source": [
    "' '.join(['Il', 'fait', 'super', 'beau', \"aujourd'hui\"])"
   ]
  },
  {
   "cell_type": "markdown",
   "metadata": {
    "slideshow": {
     "slide_type": "subslide"
    }
   },
   "source": [
    "### Important \n",
    "A string is **immutable** !"
   ]
  },
  {
   "cell_type": "code",
   "execution_count": null,
   "metadata": {
    "ExecuteTime": {
     "end_time": "2020-09-03T08:37:33.208924Z",
     "start_time": "2020-09-03T08:37:33.094Z"
    },
    "slideshow": {
     "slide_type": "-"
    }
   },
   "outputs": [],
   "source": [
    "s = 'I am an immutable guy'"
   ]
  },
  {
   "cell_type": "code",
   "execution_count": null,
   "metadata": {
    "ExecuteTime": {
     "end_time": "2020-09-03T08:37:33.209989Z",
     "start_time": "2020-09-03T08:37:33.096Z"
    },
    "scrolled": false,
    "slideshow": {
     "slide_type": "-"
    }
   },
   "outputs": [],
   "source": [
    "s[2] = 's'"
   ]
  },
  {
   "cell_type": "code",
   "execution_count": null,
   "metadata": {
    "ExecuteTime": {
     "end_time": "2020-09-03T08:37:33.211034Z",
     "start_time": "2020-09-03T08:37:33.097Z"
    },
    "slideshow": {
     "slide_type": "fragment"
    }
   },
   "outputs": [],
   "source": [
    "id(s)"
   ]
  },
  {
   "cell_type": "code",
   "execution_count": null,
   "metadata": {
    "ExecuteTime": {
     "end_time": "2020-09-03T08:37:33.212031Z",
     "start_time": "2020-09-03T08:37:33.099Z"
    },
    "scrolled": true
   },
   "outputs": [],
   "source": [
    "print(s + ' for sure')\n",
    "id(s), id(s + ' for sure')"
   ]
  },
  {
   "cell_type": "markdown",
   "metadata": {
    "slideshow": {
     "slide_type": "subslide"
    }
   },
   "source": [
    "### Extra stuff with strings"
   ]
  },
  {
   "cell_type": "code",
   "execution_count": null,
   "metadata": {
    "ExecuteTime": {
     "end_time": "2020-09-03T08:37:33.213183Z",
     "start_time": "2020-09-03T08:37:33.100Z"
    },
    "slideshow": {
     "slide_type": "-"
    }
   },
   "outputs": [],
   "source": [
    "'square of 2 is ' + str(2 ** 2)"
   ]
  },
  {
   "cell_type": "code",
   "execution_count": null,
   "metadata": {
    "ExecuteTime": {
     "end_time": "2020-09-03T08:37:33.214168Z",
     "start_time": "2020-09-03T08:37:33.102Z"
    },
    "slideshow": {
     "slide_type": "-"
    }
   },
   "outputs": [],
   "source": [
    "'square of 2 is %d' % 2 ** 2"
   ]
  },
  {
   "cell_type": "code",
   "execution_count": null,
   "metadata": {
    "ExecuteTime": {
     "end_time": "2020-09-03T08:37:33.215228Z",
     "start_time": "2020-09-03T08:37:33.104Z"
    },
    "slideshow": {
     "slide_type": "-"
    }
   },
   "outputs": [],
   "source": [
    "'square of 2 is {}'.format(2 ** 2)"
   ]
  },
  {
   "cell_type": "code",
   "execution_count": null,
   "metadata": {
    "ExecuteTime": {
     "end_time": "2020-09-03T08:37:33.216223Z",
     "start_time": "2020-09-03T08:37:33.105Z"
    },
    "scrolled": true,
    "slideshow": {
     "slide_type": "-"
    }
   },
   "outputs": [],
   "source": [
    "'square of 2 is {square}'.format(square=2 ** 2)"
   ]
  },
  {
   "cell_type": "code",
   "execution_count": null,
   "metadata": {
    "ExecuteTime": {
     "end_time": "2020-09-03T08:37:33.217348Z",
     "start_time": "2020-09-03T08:37:33.107Z"
    },
    "slideshow": {
     "slide_type": "fragment"
    }
   },
   "outputs": [],
   "source": [
    "# From Python 3.6 you can use an `f-string`\n",
    "number = 2\n",
    "square = number ** 2\n",
    "\n",
    "f'square of {number} is {square}'"
   ]
  },
  {
   "cell_type": "markdown",
   "metadata": {
    "slideshow": {
     "slide_type": "subslide"
    }
   },
   "source": [
    "### The `in` keyword\n",
    "\n",
    "You can use the `in` keyword with any container, whenever it makes sense"
   ]
  },
  {
   "cell_type": "code",
   "execution_count": null,
   "metadata": {
    "ExecuteTime": {
     "end_time": "2020-09-03T08:37:33.218403Z",
     "start_time": "2020-09-03T08:37:33.109Z"
    },
    "scrolled": true,
    "slideshow": {
     "slide_type": "fragment"
    }
   },
   "outputs": [],
   "source": [
    "print(s)\n",
    "print('Salut' in s)"
   ]
  },
  {
   "cell_type": "code",
   "execution_count": null,
   "metadata": {
    "ExecuteTime": {
     "end_time": "2020-09-03T08:37:33.219569Z",
     "start_time": "2020-09-03T08:37:33.110Z"
    },
    "scrolled": true,
    "slideshow": {
     "slide_type": "-"
    }
   },
   "outputs": [],
   "source": [
    "print(tt)\n",
    "print('truc' in tt)"
   ]
  },
  {
   "cell_type": "code",
   "execution_count": null,
   "metadata": {
    "ExecuteTime": {
     "end_time": "2020-09-03T08:37:33.220512Z",
     "start_time": "2020-09-03T08:37:33.112Z"
    },
    "scrolled": true,
    "slideshow": {
     "slide_type": "fragment"
    }
   },
   "outputs": [],
   "source": [
    "print(colors)\n",
    "print('truc' in colors)"
   ]
  },
  {
   "cell_type": "code",
   "execution_count": null,
   "metadata": {
    "ExecuteTime": {
     "end_time": "2020-09-03T08:37:33.221506Z",
     "start_time": "2020-09-03T08:37:33.113Z"
    },
    "scrolled": true
   },
   "outputs": [],
   "source": [
    "('truc', 3.14, 'truc') in colors"
   ]
  },
  {
   "cell_type": "markdown",
   "metadata": {
    "slideshow": {
     "slide_type": "subslide"
    }
   },
   "source": [
    "Explain this weird behaviour:"
   ]
  },
  {
   "cell_type": "code",
   "execution_count": null,
   "metadata": {
    "ExecuteTime": {
     "end_time": "2020-09-03T08:37:33.222627Z",
     "start_time": "2020-09-03T08:37:33.115Z"
    },
    "scrolled": false,
    "slideshow": {
     "slide_type": "-"
    }
   },
   "outputs": [],
   "source": [
    "5 in [1, 2, 3, 4] == False"
   ]
  },
  {
   "cell_type": "code",
   "execution_count": null,
   "metadata": {
    "ExecuteTime": {
     "end_time": "2020-09-03T08:37:33.223726Z",
     "start_time": "2020-09-03T08:37:33.116Z"
    },
    "scrolled": false,
    "slideshow": {
     "slide_type": "-"
    }
   },
   "outputs": [],
   "source": [
    "5 not in [1, 2, 3, 4]"
   ]
  },
  {
   "cell_type": "code",
   "execution_count": null,
   "metadata": {
    "ExecuteTime": {
     "end_time": "2020-09-03T08:37:33.224812Z",
     "start_time": "2020-09-03T08:37:33.117Z"
    },
    "scrolled": true,
    "slideshow": {
     "slide_type": "-"
    }
   },
   "outputs": [],
   "source": [
    "(5 in [1, 2, 3, 4]) == False"
   ]
  },
  {
   "cell_type": "code",
   "execution_count": null,
   "metadata": {
    "ExecuteTime": {
     "end_time": "2020-09-03T08:37:33.226005Z",
     "start_time": "2020-09-03T08:37:33.119Z"
    },
    "slideshow": {
     "slide_type": "fragment"
    }
   },
   "outputs": [],
   "source": [
    "# ANSWER.\n",
    "# This is a chained comparison. We have seen that \n",
    "1 < 2 < 3\n",
    "# is equivalent to\n",
    "(1 < 2) and (2 < 3)\n",
    "# so that\n",
    "5 in [1, 2, 3, 4] == False\n",
    "# is equivalent to\n",
    "(5 in [1, 2, 3, 4]) and ([1, 2, 3, 4] == False)"
   ]
  },
  {
   "cell_type": "markdown",
   "metadata": {
    "slideshow": {
     "slide_type": "subslide"
    }
   },
   "source": [
    "## Dictionaries\n",
    "\n",
    "- A dictionary is basically an efficient table that **maps keys to values**.\n",
    "- An important container in Python, many things are actually a `dict` in `Python`."
   ]
  },
  {
   "cell_type": "code",
   "execution_count": null,
   "metadata": {
    "ExecuteTime": {
     "end_time": "2020-09-03T08:37:33.227086Z",
     "start_time": "2020-09-03T08:37:33.120Z"
    },
    "slideshow": {
     "slide_type": "fragment"
    }
   },
   "outputs": [],
   "source": [
    "tel = {'emmanuelle': 5752, 'sebastian': 5578}\n",
    "print(tel)\n",
    "print(type(tel))"
   ]
  },
  {
   "cell_type": "code",
   "execution_count": null,
   "metadata": {
    "ExecuteTime": {
     "end_time": "2020-09-03T08:37:33.228177Z",
     "start_time": "2020-09-03T08:37:33.122Z"
    },
    "scrolled": true,
    "slideshow": {
     "slide_type": "fragment"
    }
   },
   "outputs": [],
   "source": [
    "tel['emmanuelle'], tel['sebastian']"
   ]
  },
  {
   "cell_type": "code",
   "execution_count": null,
   "metadata": {
    "ExecuteTime": {
     "end_time": "2020-09-03T08:37:33.229283Z",
     "start_time": "2020-09-03T08:37:33.123Z"
    }
   },
   "outputs": [],
   "source": [
    "tel['francis'] = '5919'\n",
    "tel"
   ]
  },
  {
   "cell_type": "code",
   "execution_count": null,
   "metadata": {
    "ExecuteTime": {
     "end_time": "2020-09-03T08:37:33.230356Z",
     "start_time": "2020-09-03T08:37:33.125Z"
    },
    "scrolled": true
   },
   "outputs": [],
   "source": [
    "len(tel)"
   ]
  },
  {
   "cell_type": "markdown",
   "metadata": {
    "slideshow": {
     "slide_type": "subslide"
    }
   },
   "source": [
    "### Important remarks\n",
    "\n",
    "- Keys can be of different types\n",
    "- A key must be of **immutable** type"
   ]
  },
  {
   "cell_type": "code",
   "execution_count": null,
   "metadata": {
    "ExecuteTime": {
     "end_time": "2020-09-03T08:37:33.231415Z",
     "start_time": "2020-09-03T08:37:33.127Z"
    },
    "scrolled": true
   },
   "outputs": [],
   "source": [
    "tel[7162453] = [1, 3, 2]\n",
    "tel[3.14] = 'bidule'\n",
    "tel[('jaouad', 2)] = 1234\n",
    "tel"
   ]
  },
  {
   "cell_type": "code",
   "execution_count": null,
   "metadata": {
    "ExecuteTime": {
     "end_time": "2020-09-03T08:37:33.232489Z",
     "start_time": "2020-09-03T08:37:33.128Z"
    }
   },
   "outputs": [],
   "source": [
    "# A list is immutable\n",
    "tel[['jaouad']] = '5678'"
   ]
  },
  {
   "cell_type": "code",
   "execution_count": null,
   "metadata": {
    "ExecuteTime": {
     "end_time": "2020-09-03T08:37:33.233563Z",
     "start_time": "2020-09-03T08:37:33.129Z"
    },
    "scrolled": false,
    "slideshow": {
     "slide_type": "subslide"
    }
   },
   "outputs": [],
   "source": [
    "tel = {'emmanuelle': 5752, 'sebastian' : 5578, 'jaouad' : 1234}\n",
    "print(tel.keys())\n",
    "print(tel.values())\n",
    "print(tel.items())"
   ]
  },
  {
   "cell_type": "code",
   "execution_count": null,
   "metadata": {
    "ExecuteTime": {
     "end_time": "2020-09-03T08:37:33.234652Z",
     "start_time": "2020-09-03T08:37:33.131Z"
    },
    "slideshow": {
     "slide_type": "fragment"
    }
   },
   "outputs": [],
   "source": [
    "'emmanuelle' in tel"
   ]
  },
  {
   "cell_type": "code",
   "execution_count": null,
   "metadata": {
    "ExecuteTime": {
     "end_time": "2020-09-03T08:37:33.235653Z",
     "start_time": "2020-09-03T08:37:33.132Z"
    },
    "scrolled": false
   },
   "outputs": [],
   "source": [
    "5919 in tel.values()"
   ]
  },
  {
   "cell_type": "markdown",
   "metadata": {
    "slideshow": {
     "slide_type": "subslide"
    }
   },
   "source": [
    "You can swap values like this"
   ]
  },
  {
   "cell_type": "code",
   "execution_count": null,
   "metadata": {
    "ExecuteTime": {
     "end_time": "2020-09-03T08:37:33.236664Z",
     "start_time": "2020-09-03T08:37:33.134Z"
    },
    "scrolled": true
   },
   "outputs": [],
   "source": [
    "print(tel)\n",
    "tel['emmanuelle'], tel['sebastian'] = tel['sebastian'], tel['emmanuelle']\n",
    "print(tel)"
   ]
  },
  {
   "cell_type": "code",
   "execution_count": null,
   "metadata": {
    "ExecuteTime": {
     "end_time": "2020-09-03T08:37:33.237676Z",
     "start_time": "2020-09-03T08:37:33.136Z"
    },
    "scrolled": true
   },
   "outputs": [],
   "source": [
    "# It works, since\n",
    "a, b = 2.71, 3.14\n",
    "a, b = b, a\n",
    "a, b"
   ]
  },
  {
   "cell_type": "markdown",
   "metadata": {
    "slideshow": {
     "slide_type": "subslide"
    }
   },
   "source": [
    "### Exercice 1\n",
    "\n",
    "Get keys of `tel` sorted by decreasing order"
   ]
  },
  {
   "cell_type": "code",
   "execution_count": null,
   "metadata": {
    "ExecuteTime": {
     "end_time": "2020-09-03T08:37:33.238642Z",
     "start_time": "2020-09-03T08:37:33.137Z"
    },
    "slideshow": {
     "slide_type": "-"
    }
   },
   "outputs": [],
   "source": [
    "tel = {'emmanuelle': 5752, 'sebastian' : 5578, 'jaouad' : 1234}"
   ]
  },
  {
   "cell_type": "markdown",
   "metadata": {
    "slideshow": {
     "slide_type": "fragment"
    }
   },
   "source": [
    "#### Answer"
   ]
  },
  {
   "cell_type": "code",
   "execution_count": null,
   "metadata": {
    "ExecuteTime": {
     "end_time": "2020-09-03T08:37:33.239675Z",
     "start_time": "2020-09-03T08:37:33.139Z"
    },
    "scrolled": true
   },
   "outputs": [],
   "source": [
    "sorted(tel, reverse=True)"
   ]
  },
  {
   "cell_type": "markdown",
   "metadata": {
    "slideshow": {
     "slide_type": "subslide"
    }
   },
   "source": [
    "### Exercice 2\n",
    "\n",
    "Get keys of `tel` sorted by increasing values\n"
   ]
  },
  {
   "cell_type": "code",
   "execution_count": null,
   "metadata": {
    "ExecuteTime": {
     "end_time": "2020-09-03T08:37:33.240790Z",
     "start_time": "2020-09-03T08:37:33.141Z"
    }
   },
   "outputs": [],
   "source": [
    "tel = {'emmanuelle': 5752, 'sebastian' : 5578, 'jaouad' : 1234}"
   ]
  },
  {
   "cell_type": "markdown",
   "metadata": {
    "slideshow": {
     "slide_type": "fragment"
    }
   },
   "source": [
    "#### Answer"
   ]
  },
  {
   "cell_type": "code",
   "execution_count": null,
   "metadata": {
    "ExecuteTime": {
     "end_time": "2020-09-03T08:37:33.241730Z",
     "start_time": "2020-09-03T08:37:33.143Z"
    },
    "slideshow": {
     "slide_type": "-"
    }
   },
   "outputs": [],
   "source": [
    "sorted(tel, key=tel.get)"
   ]
  },
  {
   "cell_type": "markdown",
   "metadata": {
    "slideshow": {
     "slide_type": "subslide"
    }
   },
   "source": [
    "### Exercice 3\n",
    "\n",
    "Obtain a sorted-by-key version of `tel`"
   ]
  },
  {
   "cell_type": "code",
   "execution_count": null,
   "metadata": {
    "ExecuteTime": {
     "end_time": "2020-09-03T08:37:33.242818Z",
     "start_time": "2020-09-03T08:37:33.144Z"
    }
   },
   "outputs": [],
   "source": [
    "tel = {'emmanuelle': 5752, 'sebastian' : 5578, 'jaouad' : 1234}"
   ]
  },
  {
   "cell_type": "markdown",
   "metadata": {
    "slideshow": {
     "slide_type": "fragment"
    }
   },
   "source": [
    "#### Answer\n",
    "\n",
    "- A dict is inherently **orderless**\n",
    "- Only a representation of a dict can be ordered"
   ]
  },
  {
   "cell_type": "code",
   "execution_count": null,
   "metadata": {
    "ExecuteTime": {
     "end_time": "2020-09-03T08:37:33.243834Z",
     "start_time": "2020-09-03T08:37:33.146Z"
    },
    "scrolled": false,
    "slideshow": {
     "slide_type": "fragment"
    }
   },
   "outputs": [],
   "source": [
    "# Simplest is through a list\n",
    "sorted(tel.items())"
   ]
  },
  {
   "cell_type": "markdown",
   "metadata": {
    "slideshow": {
     "slide_type": "subslide"
    }
   },
   "source": [
    "If you really want an ordered dict `OrderDict` memorizes order of insertion in it"
   ]
  },
  {
   "cell_type": "code",
   "execution_count": null,
   "metadata": {
    "ExecuteTime": {
     "end_time": "2020-09-03T08:37:33.244836Z",
     "start_time": "2020-09-03T08:37:33.148Z"
    },
    "scrolled": false
   },
   "outputs": [],
   "source": [
    "from collections import OrderedDict\n",
    "\n",
    "OrderedDict(sorted(tel.items()))"
   ]
  },
  {
   "cell_type": "markdown",
   "metadata": {
    "slideshow": {
     "slide_type": "subslide"
    }
   },
   "source": [
    "## Sets\n",
    "\n",
    "A set is an unordered container, containing unique elements"
   ]
  },
  {
   "cell_type": "code",
   "execution_count": null,
   "metadata": {
    "ExecuteTime": {
     "end_time": "2020-09-03T08:37:33.245863Z",
     "start_time": "2020-09-03T08:37:33.149Z"
    },
    "scrolled": true
   },
   "outputs": [],
   "source": [
    "ss = {1, 2, 2, 2, 3, 3, 'tintin', 'tintin', 'toto'}\n",
    "ss"
   ]
  },
  {
   "cell_type": "code",
   "execution_count": null,
   "metadata": {
    "ExecuteTime": {
     "end_time": "2020-09-03T08:37:33.246841Z",
     "start_time": "2020-09-03T08:37:33.151Z"
    },
    "scrolled": false
   },
   "outputs": [],
   "source": [
    "s = 'truc truc bidule truc'\n",
    "set(s)"
   ]
  },
  {
   "cell_type": "code",
   "execution_count": null,
   "metadata": {
    "ExecuteTime": {
     "end_time": "2020-09-03T08:37:33.247860Z",
     "start_time": "2020-09-03T08:37:33.152Z"
    },
    "slideshow": {
     "slide_type": "fragment"
    }
   },
   "outputs": [],
   "source": [
    "{1, 5, 2, 1, 1}.union({1, 2, 3})"
   ]
  },
  {
   "cell_type": "code",
   "execution_count": null,
   "metadata": {
    "ExecuteTime": {
     "end_time": "2020-09-03T08:37:33.249008Z",
     "start_time": "2020-09-03T08:37:33.153Z"
    }
   },
   "outputs": [],
   "source": [
    "set([1, 5, 2, 1, 1]).intersection(set([1, 2, 3]))"
   ]
  },
  {
   "cell_type": "code",
   "execution_count": null,
   "metadata": {
    "ExecuteTime": {
     "end_time": "2020-09-03T08:37:33.249867Z",
     "start_time": "2020-09-03T08:37:33.155Z"
    }
   },
   "outputs": [],
   "source": [
    "ss.add('tintin')\n",
    "ss"
   ]
  },
  {
   "cell_type": "markdown",
   "metadata": {
    "slideshow": {
     "slide_type": "subslide"
    }
   },
   "source": [
    "You can combine all containers together"
   ]
  },
  {
   "cell_type": "code",
   "execution_count": null,
   "metadata": {
    "ExecuteTime": {
     "end_time": "2020-09-03T08:37:33.250968Z",
     "start_time": "2020-09-03T08:37:33.157Z"
    },
    "scrolled": true
   },
   "outputs": [],
   "source": [
    "dd = {\n",
    "    'truc': [1, 2, 3], \n",
    "    5: (1, 4, 2),\n",
    "    (1, 3): {'hello', 'world'}\n",
    "}\n",
    "dd"
   ]
  },
  {
   "cell_type": "markdown",
   "metadata": {
    "slideshow": {
     "slide_type": "slide"
    }
   },
   "source": [
    "# Assigments in `Python` is name binding\n",
    "\n",
    "## Everything is either mutable or immutable"
   ]
  },
  {
   "cell_type": "code",
   "execution_count": null,
   "metadata": {
    "ExecuteTime": {
     "end_time": "2020-09-03T08:37:33.252043Z",
     "start_time": "2020-09-03T08:37:33.159Z"
    },
    "slideshow": {
     "slide_type": "subslide"
    }
   },
   "outputs": [],
   "source": [
    "ss = {1, 2, 3}\n",
    "sss = ss\n",
    "sss, ss"
   ]
  },
  {
   "cell_type": "code",
   "execution_count": null,
   "metadata": {
    "ExecuteTime": {
     "end_time": "2020-09-03T08:37:33.253027Z",
     "start_time": "2020-09-03T08:37:33.160Z"
    },
    "scrolled": true,
    "slideshow": {
     "slide_type": "-"
    }
   },
   "outputs": [],
   "source": [
    "sss.add(4)"
   ]
  },
  {
   "cell_type": "markdown",
   "metadata": {
    "slideshow": {
     "slide_type": "-"
    }
   },
   "source": [
    "**Question.** What is in `ss` ?"
   ]
  },
  {
   "cell_type": "code",
   "execution_count": null,
   "metadata": {
    "ExecuteTime": {
     "end_time": "2020-09-03T08:37:33.254048Z",
     "start_time": "2020-09-03T08:37:33.162Z"
    },
    "scrolled": true,
    "slideshow": {
     "slide_type": "fragment"
    }
   },
   "outputs": [],
   "source": [
    "ss, sss"
   ]
  },
  {
   "cell_type": "markdown",
   "metadata": {
    "slideshow": {
     "slide_type": "fragment"
    }
   },
   "source": [
    "`ss` and `sss` are names for the same object"
   ]
  },
  {
   "cell_type": "code",
   "execution_count": null,
   "metadata": {
    "ExecuteTime": {
     "end_time": "2020-09-03T08:37:33.255094Z",
     "start_time": "2020-09-03T08:37:33.164Z"
    },
    "scrolled": false,
    "slideshow": {
     "slide_type": "-"
    }
   },
   "outputs": [],
   "source": [
    "id(ss), id(sss)"
   ]
  },
  {
   "cell_type": "code",
   "execution_count": null,
   "metadata": {
    "ExecuteTime": {
     "end_time": "2020-09-03T08:37:33.256030Z",
     "start_time": "2020-09-03T08:37:33.165Z"
    },
    "slideshow": {
     "slide_type": "-"
    }
   },
   "outputs": [],
   "source": [
    "ss is sss"
   ]
  },
  {
   "cell_type": "markdown",
   "metadata": {
    "slideshow": {
     "slide_type": "subslide"
    }
   },
   "source": [
    "## About assigments\n",
    "\n",
    "- Python never copies an object\n",
    "- Unless you ask him to\n",
    "\n",
    "When you code\n",
    "```python\n",
    "x = [1, 2, 3]\n",
    "y = x\n",
    "```\n",
    "you just\n",
    "- **bind** the variable name `x` to a list `[1, 2, 3]`\n",
    "- give another name `y` to the same object"
   ]
  },
  {
   "cell_type": "markdown",
   "metadata": {
    "slideshow": {
     "slide_type": "subslide"
    }
   },
   "source": [
    "**Important remarks**\n",
    "\n",
    "- **Everything** is an object in Python\n",
    "- Either **immutable** or **mutable**"
   ]
  },
  {
   "cell_type": "code",
   "execution_count": null,
   "metadata": {
    "ExecuteTime": {
     "end_time": "2020-09-03T08:37:33.257057Z",
     "start_time": "2020-09-03T08:37:33.167Z"
    },
    "scrolled": false
   },
   "outputs": [],
   "source": [
    "id(1), id(1+1), id(2)"
   ]
  },
  {
   "cell_type": "markdown",
   "metadata": {
    "slideshow": {
     "slide_type": "fragment"
    }
   },
   "source": [
    "**A `list` is mutable**"
   ]
  },
  {
   "cell_type": "code",
   "execution_count": null,
   "metadata": {
    "ExecuteTime": {
     "end_time": "2020-09-03T08:37:33.361881Z",
     "start_time": "2020-09-03T08:37:33.358520Z"
    },
    "scrolled": true,
    "slideshow": {
     "slide_type": "-"
    }
   },
   "outputs": [],
   "source": [
    "x = [1, 2, 3]\n",
    "print(id(x), x)\n",
    "x[0] += 42; x.append(3.14)\n",
    "print(id(x), x)"
   ]
  },
  {
   "cell_type": "markdown",
   "metadata": {
    "slideshow": {
     "slide_type": "subslide"
    }
   },
   "source": [
    "**A `str` is immutable**\n",
    "\n",
    "In order to \"change\" an **immutable** object, Python creates a new one"
   ]
  },
  {
   "cell_type": "code",
   "execution_count": null,
   "metadata": {
    "ExecuteTime": {
     "end_time": "2020-09-03T08:37:33.366275Z",
     "start_time": "2020-09-03T08:37:33.363605Z"
    },
    "scrolled": false
   },
   "outputs": [],
   "source": [
    "s = 'to'\n",
    "print(id(s), s)\n",
    "s += 'to'\n",
    "print(id(s), s)"
   ]
  },
  {
   "cell_type": "markdown",
   "metadata": {
    "slideshow": {
     "slide_type": "subslide"
    }
   },
   "source": [
    "**Once again, a `list` is mutable**"
   ]
  },
  {
   "cell_type": "code",
   "execution_count": null,
   "metadata": {
    "ExecuteTime": {
     "end_time": "2020-09-03T08:37:33.371544Z",
     "start_time": "2020-09-03T08:37:33.368018Z"
    },
    "scrolled": false,
    "slideshow": {
     "slide_type": "-"
    }
   },
   "outputs": [],
   "source": [
    "super_list = [3.14, (1, 2, 3), 'tintin']\n",
    "other_list = super_list\n",
    "id(other_list), id(super_list)"
   ]
  },
  {
   "cell_type": "markdown",
   "metadata": {
    "slideshow": {
     "slide_type": "-"
    }
   },
   "source": [
    "- `other_list` and `super_list` are the same list\n",
    "- If you change one, you change the other.\n",
    "- `id` returns the identity of an object. Two objects with the same idendity are the same (not only the same type, but the same instance)"
   ]
  },
  {
   "cell_type": "code",
   "execution_count": null,
   "metadata": {
    "ExecuteTime": {
     "end_time": "2020-09-03T08:37:33.376228Z",
     "start_time": "2020-09-03T08:37:33.373007Z"
    }
   },
   "outputs": [],
   "source": [
    "other_list[1] = 'youps'\n",
    "other_list, super_list"
   ]
  },
  {
   "cell_type": "markdown",
   "metadata": {
    "slideshow": {
     "slide_type": "subslide"
    }
   },
   "source": [
    "## If you want a copy, you need to ask for one"
   ]
  },
  {
   "cell_type": "code",
   "execution_count": null,
   "metadata": {
    "ExecuteTime": {
     "end_time": "2020-09-03T08:37:33.381049Z",
     "start_time": "2020-09-03T08:37:33.377905Z"
    }
   },
   "outputs": [],
   "source": [
    "other_list = super_list.copy()\n",
    "id(other_list), id(super_list)"
   ]
  },
  {
   "cell_type": "code",
   "execution_count": null,
   "metadata": {
    "ExecuteTime": {
     "end_time": "2020-09-03T08:37:33.385647Z",
     "start_time": "2020-09-03T08:37:33.382440Z"
    }
   },
   "outputs": [],
   "source": [
    "other_list[1] = 'copy'\n",
    "other_list, super_list"
   ]
  },
  {
   "cell_type": "markdown",
   "metadata": {},
   "source": [
    "Only `other_list` is modified. "
   ]
  },
  {
   "cell_type": "markdown",
   "metadata": {
    "slideshow": {
     "slide_type": "subslide"
    }
   },
   "source": [
    "But... what if you have a `list` of `list` ? (or a mutable object containing mutable objects)"
   ]
  },
  {
   "cell_type": "code",
   "execution_count": null,
   "metadata": {
    "ExecuteTime": {
     "end_time": "2020-09-03T08:37:33.390560Z",
     "start_time": "2020-09-03T08:37:33.387031Z"
    },
    "slideshow": {
     "slide_type": "fragment"
    }
   },
   "outputs": [],
   "source": [
    "l1, l2 = [1, 2, 3], [4, 5, 6]\n",
    "list_list = [l1, l2]\n",
    "list_list"
   ]
  },
  {
   "cell_type": "markdown",
   "metadata": {},
   "source": [
    "Let's make a copy of `list_list`"
   ]
  },
  {
   "cell_type": "code",
   "execution_count": null,
   "metadata": {
    "ExecuteTime": {
     "end_time": "2020-09-03T08:37:33.395483Z",
     "start_time": "2020-09-03T08:37:33.391993Z"
    }
   },
   "outputs": [],
   "source": [
    "copy_list = list_list.copy()\n",
    "copy_list.append('super')\n",
    "list_list, copy_list"
   ]
  },
  {
   "cell_type": "markdown",
   "metadata": {},
   "source": [
    "OK, only `copy_list` is modified, as expected"
   ]
  },
  {
   "cell_type": "markdown",
   "metadata": {
    "slideshow": {
     "slide_type": "subslide"
    }
   },
   "source": [
    "But now..."
   ]
  },
  {
   "cell_type": "code",
   "execution_count": null,
   "metadata": {
    "ExecuteTime": {
     "end_time": "2020-09-03T08:37:33.400434Z",
     "start_time": "2020-09-03T08:37:33.396930Z"
    }
   },
   "outputs": [],
   "source": [
    "copy_list[0][1] = 'oups'\n",
    "copy_list, list_list"
   ]
  },
  {
   "cell_type": "markdown",
   "metadata": {
    "slideshow": {
     "slide_type": "fragment"
    }
   },
   "source": [
    "**Question.** What happened ?!?"
   ]
  },
  {
   "cell_type": "markdown",
   "metadata": {
    "slideshow": {
     "slide_type": "fragment"
    }
   },
   "source": [
    "- The `list_list` object is copied\n",
    "- But NOT what it's containing !\n",
    "- By default `copy` does a *shallow* copy, not a *deep* copy\n",
    "- It does not build copies of what is contained\n",
    "- If you want to copy an object and all that is contained in it, you need to use `deepcopy`."
   ]
  },
  {
   "cell_type": "code",
   "execution_count": null,
   "metadata": {
    "ExecuteTime": {
     "end_time": "2020-09-03T08:37:33.405623Z",
     "start_time": "2020-09-03T08:37:33.401862Z"
    }
   },
   "outputs": [],
   "source": [
    "from copy import deepcopy\n",
    "\n",
    "copy_list = deepcopy(list_list)\n",
    "copy_list[0][1] = 'incredible !'\n",
    "list_list, copy_list"
   ]
  },
  {
   "cell_type": "markdown",
   "metadata": {
    "slideshow": {
     "slide_type": "subslide"
    }
   },
   "source": [
    "## Final remarks"
   ]
  },
  {
   "cell_type": "code",
   "execution_count": null,
   "metadata": {
    "ExecuteTime": {
     "end_time": "2020-09-03T08:37:33.410076Z",
     "start_time": "2020-09-03T08:37:33.407082Z"
    }
   },
   "outputs": [],
   "source": [
    "tt = ([1, 2, 3], [4, 5, 6])\n",
    "print(id(tt), tt)\n",
    "print(list(map(id, tt)))"
   ]
  },
  {
   "cell_type": "code",
   "execution_count": null,
   "metadata": {
    "ExecuteTime": {
     "end_time": "2020-09-03T08:37:33.414424Z",
     "start_time": "2020-09-03T08:37:33.411529Z"
    },
    "scrolled": true
   },
   "outputs": [],
   "source": [
    "tt[0][1] = '42'\n",
    "print(id(tt), tt)\n",
    "print(list(map(id, tt)))"
   ]
  },
  {
   "cell_type": "markdown",
   "metadata": {
    "slideshow": {
     "slide_type": "slide"
    }
   },
   "source": [
    "# Control flow and other stuff...\n",
    "\n",
    "Namely tests, loops, again booleans, etc."
   ]
  },
  {
   "cell_type": "code",
   "execution_count": null,
   "metadata": {
    "ExecuteTime": {
     "end_time": "2020-09-03T08:37:33.418600Z",
     "start_time": "2020-09-03T08:37:33.415810Z"
    },
    "slideshow": {
     "slide_type": "subslide"
    }
   },
   "outputs": [],
   "source": [
    "if 2 ** 2 == 5:\n",
    "    print('Obvious')\n",
    "else:\n",
    "    print('YES')\n",
    "print('toujours')"
   ]
  },
  {
   "cell_type": "markdown",
   "metadata": {
    "slideshow": {
     "slide_type": "subslide"
    }
   },
   "source": [
    "## Blocks are delimited by indentation!"
   ]
  },
  {
   "cell_type": "code",
   "execution_count": null,
   "metadata": {
    "ExecuteTime": {
     "end_time": "2020-09-03T08:37:33.422976Z",
     "start_time": "2020-09-03T08:37:33.419919Z"
    }
   },
   "outputs": [],
   "source": [
    "a = 3\n",
    "if a > 0:\n",
    "    if a == 1:\n",
    "        print(1)\n",
    "    elif a == 2:\n",
    "        print(2)\n",
    "elif a == 2:\n",
    "    print(2)\n",
    "elif a == 3:\n",
    "    print(3)\n",
    "else:\n",
    "    print(a)"
   ]
  },
  {
   "cell_type": "markdown",
   "metadata": {
    "slideshow": {
     "slide_type": "subslide"
    }
   },
   "source": [
    "## Anything can be understood as a boolean\n",
    "\n",
    "For example, don't do this to test if a list is empty"
   ]
  },
  {
   "cell_type": "code",
   "execution_count": null,
   "metadata": {
    "ExecuteTime": {
     "end_time": "2020-09-03T08:37:33.426569Z",
     "start_time": "2020-09-03T08:37:33.424210Z"
    }
   },
   "outputs": [],
   "source": [
    "l2 = ['hello', 'everybody']\n",
    "\n",
    "if len(l2) > 0:\n",
    "    print(l2[0])"
   ]
  },
  {
   "cell_type": "markdown",
   "metadata": {},
   "source": [
    "but this"
   ]
  },
  {
   "cell_type": "code",
   "execution_count": null,
   "metadata": {
    "ExecuteTime": {
     "end_time": "2020-09-03T08:37:33.430086Z",
     "start_time": "2020-09-03T08:37:33.427914Z"
    }
   },
   "outputs": [],
   "source": [
    "if l2:\n",
    "    print(l2[0])"
   ]
  },
  {
   "cell_type": "markdown",
   "metadata": {
    "slideshow": {
     "slide_type": "subslide"
    }
   },
   "source": [
    "**Some poetry**\n",
    "\n",
    "- An empty `dict` is `False`\n",
    "- An empty `string` is `False`\n",
    "- An empty `list` is `False`\n",
    "- An empty `tuple` is `False`\n",
    "- An empty `set` is `False`\n",
    "- `0` is `False`\n",
    "- `.0` is `False`\n",
    "- etc...\n",
    "- everything else is `True`"
   ]
  },
  {
   "cell_type": "markdown",
   "metadata": {
    "slideshow": {
     "slide_type": "subslide"
    }
   },
   "source": [
    "## While loops"
   ]
  },
  {
   "cell_type": "code",
   "execution_count": null,
   "metadata": {
    "ExecuteTime": {
     "end_time": "2020-09-03T08:37:33.433946Z",
     "start_time": "2020-09-03T08:37:33.431337Z"
    }
   },
   "outputs": [],
   "source": [
    "a = 10\n",
    "b = 1\n",
    "while b < a:\n",
    "    b = b + 1\n",
    "    print(b)"
   ]
  },
  {
   "cell_type": "markdown",
   "metadata": {
    "slideshow": {
     "slide_type": "subslide"
    }
   },
   "source": [
    "Compute the decimals of Pi using the Wallis formula\n",
    "\n",
    "$$\n",
    "\\pi = 2 \\prod_{i=1}^{100} \\frac{4i^2}{4i^2 - 1}\n",
    "$$"
   ]
  },
  {
   "cell_type": "code",
   "execution_count": null,
   "metadata": {
    "ExecuteTime": {
     "end_time": "2020-09-03T08:37:33.515781Z",
     "start_time": "2020-09-03T08:37:33.435457Z"
    }
   },
   "outputs": [],
   "source": [
    "pi = 2\n",
    "eps = 1e-10\n",
    "dif = 2 * eps\n",
    "i = 1\n",
    "while dif > eps:\n",
    "    pi, i, old_pi = pi * 4 * i ** 2 / (4 * i ** 2 - 1), i + 1, pi\n",
    "    dif = pi - old_pi"
   ]
  },
  {
   "cell_type": "code",
   "execution_count": null,
   "metadata": {
    "ExecuteTime": {
     "end_time": "2020-09-03T08:37:33.520547Z",
     "start_time": "2020-09-03T08:37:33.517633Z"
    }
   },
   "outputs": [],
   "source": [
    "pi"
   ]
  },
  {
   "cell_type": "code",
   "execution_count": null,
   "metadata": {
    "ExecuteTime": {
     "end_time": "2020-09-03T08:37:33.524702Z",
     "start_time": "2020-09-03T08:37:33.521860Z"
    }
   },
   "outputs": [],
   "source": [
    "from math import pi\n",
    "\n",
    "pi"
   ]
  },
  {
   "cell_type": "markdown",
   "metadata": {
    "slideshow": {
     "slide_type": "subslide"
    }
   },
   "source": [
    "##  `for` loop with `range`\n",
    "- Iteration with an index, with a list, with many things !\n",
    "- `range` has the same parameters as with slicing `start:end:stride`, all parameters being optional"
   ]
  },
  {
   "cell_type": "code",
   "execution_count": null,
   "metadata": {
    "ExecuteTime": {
     "end_time": "2020-09-03T08:37:33.528738Z",
     "start_time": "2020-09-03T08:37:33.526065Z"
    },
    "scrolled": true
   },
   "outputs": [],
   "source": [
    "for i in range(7, 1, -1):\n",
    "    print(i)"
   ]
  },
  {
   "cell_type": "code",
   "execution_count": null,
   "metadata": {
    "ExecuteTime": {
     "end_time": "2020-09-03T08:37:33.533990Z",
     "start_time": "2020-09-03T08:37:33.530290Z"
    },
    "slideshow": {
     "slide_type": "subslide"
    }
   },
   "outputs": [],
   "source": [
    "for i in range(4):\n",
    "    print(i + 1)\n",
    "print('-')\n",
    "\n",
    "for i in range(1, 5):\n",
    "    print(i)\n",
    "print('-')\n",
    "\n",
    "for i in range(1, 10, 3):\n",
    "    print(i)"
   ]
  },
  {
   "cell_type": "markdown",
   "metadata": {
    "slideshow": {
     "slide_type": "subslide"
    }
   },
   "source": [
    "You can use `else` in a `for` loop"
   ]
  },
  {
   "cell_type": "code",
   "execution_count": null,
   "metadata": {
    "ExecuteTime": {
     "end_time": "2020-09-03T08:37:33.538570Z",
     "start_time": "2020-09-03T08:37:33.535582Z"
    }
   },
   "outputs": [],
   "source": [
    "names = ['sophie', 'elias', 'jaouad', 'simon', 'yiyang']\n",
    "\n",
    "for name in names:\n",
    "    if name.startswith('u'):\n",
    "        print(name)\n",
    "        break\n",
    "else:\n",
    "    print('Not found.')"
   ]
  },
  {
   "cell_type": "code",
   "execution_count": null,
   "metadata": {
    "ExecuteTime": {
     "end_time": "2020-09-03T08:37:33.543299Z",
     "start_time": "2020-09-03T08:37:33.540040Z"
    }
   },
   "outputs": [],
   "source": [
    "names = ['sophie', 'elias', 'jaouad', 'ulysse', 'simon', 'yiyang']\n",
    "\n",
    "for name in names:\n",
    "    if name.startswith('u'):\n",
    "        print(name)\n",
    "        break\n",
    "else:\n",
    "    print('Not found.')"
   ]
  },
  {
   "cell_type": "markdown",
   "metadata": {
    "slideshow": {
     "slide_type": "subslide"
    }
   },
   "source": [
    "## For loops over iterable objects\n",
    "\n",
    "You can iterate using `for` over any container: `list`, `tuple`, `dict`, `str`, `set` among others..."
   ]
  },
  {
   "cell_type": "code",
   "execution_count": null,
   "metadata": {
    "ExecuteTime": {
     "end_time": "2020-09-03T08:37:33.547181Z",
     "start_time": "2020-09-03T08:37:33.544947Z"
    }
   },
   "outputs": [],
   "source": [
    "colors = ['red', 'blue', 'black', 'white']\n",
    "peoples = ['sophie', 'jaouad', 'elias', 'yiyang']"
   ]
  },
  {
   "cell_type": "code",
   "execution_count": null,
   "metadata": {
    "ExecuteTime": {
     "end_time": "2020-09-03T08:37:33.551786Z",
     "start_time": "2020-09-03T08:37:33.548750Z"
    },
    "scrolled": true
   },
   "outputs": [],
   "source": [
    "# This is too long\n",
    "for i in range(len(colors)):\n",
    "    print(colors[i])\n",
    "    \n",
    "# This is better\n",
    "for color in colors:\n",
    "    print(color)"
   ]
  },
  {
   "cell_type": "markdown",
   "metadata": {
    "slideshow": {
     "slide_type": "subslide"
    }
   },
   "source": [
    "To iterate over several sequences at the same time, use `zip`"
   ]
  },
  {
   "cell_type": "code",
   "execution_count": null,
   "metadata": {
    "ExecuteTime": {
     "end_time": "2020-09-03T08:37:33.555833Z",
     "start_time": "2020-09-03T08:37:33.553149Z"
    }
   },
   "outputs": [],
   "source": [
    "for color, people in zip(colors, peoples):\n",
    "    print(color, people)"
   ]
  },
  {
   "cell_type": "code",
   "execution_count": null,
   "metadata": {
    "ExecuteTime": {
     "end_time": "2020-09-03T08:37:33.560251Z",
     "start_time": "2020-09-03T08:37:33.557477Z"
    },
    "scrolled": true,
    "slideshow": {
     "slide_type": "fragment"
    }
   },
   "outputs": [],
   "source": [
    "l = [\"Bonjour\", {'francis': 5214, 'stephane': 5123}, ('truc', 3)]\n",
    "for e in l:\n",
    "    print(e, len(e))"
   ]
  },
  {
   "cell_type": "markdown",
   "metadata": {
    "slideshow": {
     "slide_type": "subslide"
    }
   },
   "source": [
    "**Loop over a `str`**"
   ]
  },
  {
   "cell_type": "code",
   "execution_count": null,
   "metadata": {
    "ExecuteTime": {
     "end_time": "2020-09-03T08:37:33.564416Z",
     "start_time": "2020-09-03T08:37:33.561886Z"
    },
    "scrolled": true
   },
   "outputs": [],
   "source": [
    "s = 'Bonjour'\n",
    "for c in s:\n",
    "    print(c)"
   ]
  },
  {
   "cell_type": "markdown",
   "metadata": {
    "slideshow": {
     "slide_type": "subslide"
    }
   },
   "source": [
    "**Loop over a `dict`**"
   ]
  },
  {
   "cell_type": "code",
   "execution_count": null,
   "metadata": {
    "ExecuteTime": {
     "end_time": "2020-09-03T08:37:33.569000Z",
     "start_time": "2020-09-03T08:37:33.566174Z"
    },
    "scrolled": true
   },
   "outputs": [],
   "source": [
    "dd = {(1, 3): {'hello', 'world'}, 'truc': [1, 2, 3], 5: (1, 4, 2)}\n",
    "\n",
    "# Default is to loop over keys\n",
    "for key in dd:\n",
    "    print(key)"
   ]
  },
  {
   "cell_type": "code",
   "execution_count": null,
   "metadata": {
    "ExecuteTime": {
     "end_time": "2020-09-03T08:37:33.573006Z",
     "start_time": "2020-09-03T08:37:33.570484Z"
    },
    "scrolled": true
   },
   "outputs": [],
   "source": [
    "# Loop over values\n",
    "for e in dd.values():\n",
    "    print(e)"
   ]
  },
  {
   "cell_type": "code",
   "execution_count": null,
   "metadata": {
    "ExecuteTime": {
     "end_time": "2020-09-03T08:37:33.577260Z",
     "start_time": "2020-09-03T08:37:33.574632Z"
    }
   },
   "outputs": [],
   "source": [
    "# Loop over items (key, value) pairs\n",
    "for key, val in dd.items():\n",
    "    print(key, val)"
   ]
  },
  {
   "cell_type": "markdown",
   "metadata": {
    "slideshow": {
     "slide_type": "subslide"
    }
   },
   "source": [
    "## Comprehensions\n",
    "\n",
    "You can construct a `list`, `dict`, `set` and others using the **comprehension** syntax\n",
    "\n",
    "**`list` comprehension**"
   ]
  },
  {
   "cell_type": "code",
   "execution_count": null,
   "metadata": {
    "ExecuteTime": {
     "end_time": "2020-09-03T08:37:33.582919Z",
     "start_time": "2020-09-03T08:37:33.578922Z"
    }
   },
   "outputs": [],
   "source": [
    "print(colors)\n",
    "print(peoples)\n",
    "\n",
    "# The list of people with favorite color that has no more than 4 characters\n",
    "[people for color, people in zip(colors, peoples) if len(color) <= 4]"
   ]
  },
  {
   "cell_type": "markdown",
   "metadata": {
    "slideshow": {
     "slide_type": "subslide"
    }
   },
   "source": [
    "**`dict` comprehension**"
   ]
  },
  {
   "cell_type": "code",
   "execution_count": null,
   "metadata": {
    "ExecuteTime": {
     "end_time": "2020-09-03T08:37:33.587932Z",
     "start_time": "2020-09-03T08:37:33.584386Z"
    },
    "scrolled": true
   },
   "outputs": [],
   "source": [
    "{people: color for color, people in zip(colors, peoples) if len(color) <= 4}"
   ]
  },
  {
   "cell_type": "code",
   "execution_count": null,
   "metadata": {
    "ExecuteTime": {
     "end_time": "2020-09-03T08:37:33.592856Z",
     "start_time": "2020-09-03T08:37:33.589599Z"
    },
    "slideshow": {
     "slide_type": "fragment"
    }
   },
   "outputs": [],
   "source": [
    "# Allows to build a dict from two lists (for keys and values)\n",
    "{key: value for (key, value) in zip(peoples, colors)}"
   ]
  },
  {
   "cell_type": "code",
   "execution_count": null,
   "metadata": {
    "ExecuteTime": {
     "end_time": "2020-09-03T08:37:33.597417Z",
     "start_time": "2020-09-03T08:37:33.594270Z"
    }
   },
   "outputs": [],
   "source": [
    "# But it's simpler (so better) to use\n",
    "dict(zip(peoples, colors))"
   ]
  },
  {
   "cell_type": "markdown",
   "metadata": {
    "slideshow": {
     "slide_type": "subslide"
    }
   },
   "source": [
    "Something very convenient is `enumerate`"
   ]
  },
  {
   "cell_type": "code",
   "execution_count": null,
   "metadata": {
    "ExecuteTime": {
     "end_time": "2020-09-03T08:37:33.601535Z",
     "start_time": "2020-09-03T08:37:33.598896Z"
    }
   },
   "outputs": [],
   "source": [
    "for i, color in enumerate(colors):\n",
    "    print(i, color)"
   ]
  },
  {
   "cell_type": "code",
   "execution_count": null,
   "metadata": {
    "ExecuteTime": {
     "end_time": "2020-09-03T08:37:33.606605Z",
     "start_time": "2020-09-03T08:37:33.603248Z"
    }
   },
   "outputs": [],
   "source": [
    "list(enumerate(colors))"
   ]
  },
  {
   "cell_type": "code",
   "execution_count": null,
   "metadata": {
    "ExecuteTime": {
     "end_time": "2020-09-03T08:37:33.610702Z",
     "start_time": "2020-09-03T08:37:33.608246Z"
    },
    "slideshow": {
     "slide_type": "fragment"
    }
   },
   "outputs": [],
   "source": [
    "print(dict(enumerate(s)))"
   ]
  },
  {
   "cell_type": "code",
   "execution_count": null,
   "metadata": {
    "ExecuteTime": {
     "end_time": "2020-09-03T08:37:33.615660Z",
     "start_time": "2020-09-03T08:37:33.612274Z"
    }
   },
   "outputs": [],
   "source": [
    "s = 'Hey everyone'\n",
    "{c: i for i, c in enumerate(s)}"
   ]
  },
  {
   "cell_type": "markdown",
   "metadata": {
    "slideshow": {
     "slide_type": "slide"
    }
   },
   "source": [
    "## About functional programming\n",
    "\n",
    "We can use `lambda` to define **anonymous** functions, and use them in the `map` and `reduce` functions"
   ]
  },
  {
   "cell_type": "code",
   "execution_count": null,
   "metadata": {
    "ExecuteTime": {
     "end_time": "2020-09-03T08:37:33.620009Z",
     "start_time": "2020-09-03T08:37:33.616992Z"
    },
    "scrolled": true
   },
   "outputs": [],
   "source": [
    "square = lambda x: x ** 2\n",
    "square(2)"
   ]
  },
  {
   "cell_type": "code",
   "execution_count": null,
   "metadata": {
    "ExecuteTime": {
     "end_time": "2020-09-03T08:37:33.624139Z",
     "start_time": "2020-09-03T08:37:33.621349Z"
    }
   },
   "outputs": [],
   "source": [
    "sum2 = lambda a, b: a + b\n",
    "print(sum2('Hello', ' world'))\n",
    "print(sum2(1, 2))"
   ]
  },
  {
   "cell_type": "markdown",
   "metadata": {},
   "source": [
    "Intended for short and one-line function. \n",
    "\n",
    "More complex functions use `def` (see below)"
   ]
  },
  {
   "cell_type": "markdown",
   "metadata": {
    "slideshow": {
     "slide_type": "subslide"
    }
   },
   "source": [
    "## Exercice\n",
    "\n",
    "Print the squares of even numbers between 0 et 15\n",
    "\n",
    "1. Using a list comprehension as before\n",
    "2. Using `map`"
   ]
  },
  {
   "cell_type": "code",
   "execution_count": null,
   "metadata": {
    "ExecuteTime": {
     "end_time": "2020-09-03T08:37:33.628809Z",
     "start_time": "2020-09-03T08:37:33.625482Z"
    },
    "scrolled": false,
    "slideshow": {
     "slide_type": "fragment"
    }
   },
   "outputs": [],
   "source": [
    "# Answer to 1.\n",
    "[i ** 2 for i in range(15) if i % 2 == 0]"
   ]
  },
  {
   "cell_type": "code",
   "execution_count": null,
   "metadata": {
    "ExecuteTime": {
     "end_time": "2020-09-03T08:37:33.633597Z",
     "start_time": "2020-09-03T08:37:33.630241Z"
    },
    "scrolled": false,
    "slideshow": {
     "slide_type": "fragment"
    }
   },
   "outputs": [],
   "source": [
    "# Answer to 2. \n",
    "list(map(lambda x: x ** 2, range(0, 15, 2)))"
   ]
  },
  {
   "cell_type": "markdown",
   "metadata": {
    "slideshow": {
     "slide_type": "subslide"
    }
   },
   "source": [
    "**Remark**. We will see later why we need to use `list` above"
   ]
  },
  {
   "cell_type": "code",
   "execution_count": null,
   "metadata": {
    "ExecuteTime": {
     "end_time": "2020-09-03T08:37:33.638055Z",
     "start_time": "2020-09-03T08:37:33.634960Z"
    }
   },
   "outputs": [],
   "source": [
    "map(lambda x: x ** 2, range(0, 15, 2))"
   ]
  },
  {
   "cell_type": "markdown",
   "metadata": {
    "slideshow": {
     "slide_type": "subslide"
    }
   },
   "source": [
    "Now, to get the sum of these squares, we can use `sum`"
   ]
  },
  {
   "cell_type": "code",
   "execution_count": null,
   "metadata": {
    "ExecuteTime": {
     "end_time": "2020-09-03T08:37:33.642796Z",
     "start_time": "2020-09-03T08:37:33.639474Z"
    },
    "scrolled": true
   },
   "outputs": [],
   "source": [
    "sum(map(lambda x: x ** 2, range(0, 15, 2)))"
   ]
  },
  {
   "cell_type": "markdown",
   "metadata": {
    "slideshow": {
     "slide_type": "fragment"
    }
   },
   "source": [
    "We can also use `reduce` (not a good idea here, but it's good to know that it exists)"
   ]
  },
  {
   "cell_type": "code",
   "execution_count": null,
   "metadata": {
    "ExecuteTime": {
     "end_time": "2020-09-03T08:37:33.647648Z",
     "start_time": "2020-09-03T08:37:33.644175Z"
    },
    "scrolled": false
   },
   "outputs": [],
   "source": [
    "from functools import reduce\n",
    "\n",
    "reduce(lambda a, b: a + b, map(lambda x: x ** 2, range(0, 15, 2)))"
   ]
  },
  {
   "cell_type": "markdown",
   "metadata": {
    "slideshow": {
     "slide_type": "subslide"
    }
   },
   "source": [
    "There is also something that can be useful in `functool` called `partial`\n",
    "\n",
    "It allows to **simplify** functions by freezing some arguments"
   ]
  },
  {
   "cell_type": "code",
   "execution_count": null,
   "metadata": {
    "ExecuteTime": {
     "end_time": "2020-09-03T08:37:33.652572Z",
     "start_time": "2020-09-03T08:37:33.649061Z"
    },
    "slideshow": {
     "slide_type": "-"
    }
   },
   "outputs": [],
   "source": [
    "from functools import partial\n",
    "\n",
    "def mult(a, b):\n",
    "    return a * b\n",
    "\n",
    "double = partial(mult, b=2)\n",
    "double(2) "
   ]
  },
  {
   "cell_type": "markdown",
   "metadata": {
    "slideshow": {
     "slide_type": "subslide"
    }
   },
   "source": [
    "\n",
    "What is the output of\n",
    "\n",
    "```python\n",
    "reduce(lambda a, b: a + b[0] * b[1], enumerate('abcde'), 'A')\n",
    "```"
   ]
  },
  {
   "cell_type": "code",
   "execution_count": null,
   "metadata": {
    "ExecuteTime": {
     "end_time": "2020-09-03T08:37:33.657407Z",
     "start_time": "2020-09-03T08:37:33.654021Z"
    },
    "scrolled": true,
    "slideshow": {
     "slide_type": "fragment"
    }
   },
   "outputs": [],
   "source": [
    "reduce(lambda a, b: a + b[0] * b[1], enumerate('abcde'), 'A')"
   ]
  },
  {
   "cell_type": "markdown",
   "metadata": {
    "slideshow": {
     "slide_type": "fragment"
    }
   },
   "source": [
    "This does the following"
   ]
  },
  {
   "cell_type": "code",
   "execution_count": null,
   "metadata": {
    "ExecuteTime": {
     "end_time": "2020-09-03T08:37:33.662111Z",
     "start_time": "2020-09-03T08:37:33.658744Z"
    }
   },
   "outputs": [],
   "source": [
    "((((('A' + 0 * 'a') + 1 * 'b') + 2 * 'c') + 3 * 'd') + 4 * 'e')"
   ]
  },
  {
   "cell_type": "markdown",
   "metadata": {
    "slideshow": {
     "slide_type": "slide"
    }
   },
   "source": [
    "# Generators"
   ]
  },
  {
   "cell_type": "code",
   "execution_count": null,
   "metadata": {
    "ExecuteTime": {
     "end_time": "2020-09-03T08:37:36.519108Z",
     "start_time": "2020-09-03T08:37:33.663470Z"
    },
    "scrolled": false,
    "slideshow": {
     "slide_type": "subslide"
    }
   },
   "outputs": [],
   "source": [
    "import sys\n",
    "import matplotlib.pyplot as plt\n",
    "%matplotlib inline\n",
    "\n",
    "plt.figure(figsize=(6, 6))\n",
    "plt.plot([sys.getsizeof(list(range(i))) for i in range(100)], lw=3)\n",
    "plt.plot([sys.getsizeof(range(i)) for i in range(100)], lw=3)\n",
    "plt.xlabel('Number of elements (value of i)', fontsize=14)\n",
    "plt.ylabel('Size (in bytes)', fontsize=14)\n",
    "_ = plt.legend(['list(range(i))', 'range(i)'], fontsize=16)"
   ]
  },
  {
   "cell_type": "markdown",
   "metadata": {
    "slideshow": {
     "slide_type": "subslide"
    }
   },
   "source": [
    "## Why generators ?\n",
    "\n",
    "The memory used by `range(i)` does not scale linearly with `i`\n",
    "\n",
    "What is happening ?\n",
    "\n",
    "- `range(n)` does not allocate a list of `n` elements ! \n",
    "- It **generates on the fly** the list of required integers\n",
    "- We say that such an object behaves like a **generator** in `Python`\n",
    "- Many things in the `Python` standard library behaves like this\n",
    "\n",
    "\n",
    "**Warning.** Getting the real memory footprint of a `Python` object is difficult. \n",
    "Note that `sizeof` calls the `__sizeof__` method of `r`, which does not give in general the actual memory used by an object."
   ]
  },
  {
   "cell_type": "markdown",
   "metadata": {
    "ExecuteTime": {
     "end_time": "2019-11-30T14:38:20.466174Z",
     "start_time": "2019-11-30T14:38:20.461164Z"
    },
    "slideshow": {
     "slide_type": "subslide"
    }
   },
   "source": [
    "The following computation has no memory footprint:"
   ]
  },
  {
   "cell_type": "code",
   "execution_count": null,
   "metadata": {
    "ExecuteTime": {
     "end_time": "2020-09-03T08:37:36.522972Z",
     "start_time": "2020-09-03T08:37:33.269Z"
    },
    "scrolled": true,
    "slideshow": {
     "slide_type": "-"
    }
   },
   "outputs": [],
   "source": [
    "sum(range(10**8))"
   ]
  },
  {
   "cell_type": "code",
   "execution_count": null,
   "metadata": {
    "ExecuteTime": {
     "end_time": "2020-09-03T08:37:36.524433Z",
     "start_time": "2020-09-03T08:37:33.270Z"
    },
    "scrolled": false
   },
   "outputs": [],
   "source": [
    "map(lambda x: x**2, range(10**7))"
   ]
  },
  {
   "cell_type": "markdown",
   "metadata": {
    "slideshow": {
     "slide_type": "-"
    }
   },
   "source": [
    "`map` does not return a `list` for the same reason"
   ]
  },
  {
   "cell_type": "code",
   "execution_count": null,
   "metadata": {
    "ExecuteTime": {
     "end_time": "2020-09-03T08:37:36.525650Z",
     "start_time": "2020-09-03T08:37:33.272Z"
    }
   },
   "outputs": [],
   "source": [
    "sum(map(lambda x: x**2, range(10**6)))"
   ]
  },
  {
   "cell_type": "markdown",
   "metadata": {
    "slideshow": {
     "slide_type": "subslide"
    }
   },
   "source": [
    "## Generator expression\n",
    "\n",
    "Namely generators defined through comprehensions.\n",
    "Just replace `[]` by `()` in the comprehension.\n",
    "\n",
    "A generator can be iterated on only **once**"
   ]
  },
  {
   "cell_type": "code",
   "execution_count": null,
   "metadata": {
    "ExecuteTime": {
     "end_time": "2020-09-03T08:37:36.526760Z",
     "start_time": "2020-09-03T08:37:33.274Z"
    }
   },
   "outputs": [],
   "source": [
    "from itertools import product\n",
    "\n",
    "gene = (i + j for i, j in product(range(3), range(3)))\n",
    "gene"
   ]
  },
  {
   "cell_type": "code",
   "execution_count": null,
   "metadata": {
    "ExecuteTime": {
     "end_time": "2020-09-03T08:37:36.527774Z",
     "start_time": "2020-09-03T08:37:33.275Z"
    }
   },
   "outputs": [],
   "source": [
    "print(list(gene))\n",
    "print(list(gene))"
   ]
  },
  {
   "cell_type": "markdown",
   "metadata": {
    "slideshow": {
     "slide_type": "subslide"
    }
   },
   "source": [
    "## `yield`\n",
    "\n",
    "Something very powerful"
   ]
  },
  {
   "cell_type": "code",
   "execution_count": null,
   "metadata": {
    "ExecuteTime": {
     "end_time": "2020-09-03T08:37:36.528838Z",
     "start_time": "2020-09-03T08:37:33.277Z"
    }
   },
   "outputs": [],
   "source": [
    "def startswith(words, letter):\n",
    "    for word in words:\n",
    "        if word.startswith(letter):\n",
    "            yield word"
   ]
  },
  {
   "cell_type": "code",
   "execution_count": null,
   "metadata": {
    "ExecuteTime": {
     "end_time": "2020-09-03T08:37:36.529951Z",
     "start_time": "2020-09-03T08:37:33.278Z"
    }
   },
   "outputs": [],
   "source": [
    "words = ['Python', \"is\", 'awesome', 'in', 'particular', 'generators', 'are', 'really', 'cool']\n",
    "list(startswith(words, letter='a'))"
   ]
  },
  {
   "cell_type": "markdown",
   "metadata": {
    "slideshow": {
     "slide_type": "subslide"
    }
   },
   "source": [
    "But also with a `for` loop"
   ]
  },
  {
   "cell_type": "code",
   "execution_count": null,
   "metadata": {
    "ExecuteTime": {
     "end_time": "2020-09-03T08:37:36.530981Z",
     "start_time": "2020-09-03T08:37:33.280Z"
    },
    "scrolled": true
   },
   "outputs": [],
   "source": [
    "for word in startswith(words, letter='a'):\n",
    "    print(word)"
   ]
  },
  {
   "cell_type": "markdown",
   "metadata": {
    "slideshow": {
     "slide_type": "slide"
    }
   },
   "source": [
    "# A glimpse at the ` collections` module\n"
   ]
  },
  {
   "cell_type": "code",
   "execution_count": null,
   "metadata": {
    "ExecuteTime": {
     "end_time": "2020-09-03T08:37:36.531915Z",
     "start_time": "2020-09-03T08:37:33.282Z"
    },
    "slideshow": {
     "slide_type": "subslide"
    }
   },
   "outputs": [],
   "source": [
    "texte = \"\"\"\n",
    "Bonjour,\n",
    "Python c'est super.\n",
    "Python ca a l'air quand même un peu compliqué.\n",
    "Mais bon, ca a l'air pratique.\n",
    "Peut-être que je pourrais m'en servir pour faire des trucs super.\n",
    "\"\"\"\n",
    "texte"
   ]
  },
  {
   "cell_type": "code",
   "execution_count": null,
   "metadata": {
    "ExecuteTime": {
     "end_time": "2020-09-03T08:37:36.532988Z",
     "start_time": "2020-09-03T08:37:33.284Z"
    },
    "scrolled": true
   },
   "outputs": [],
   "source": [
    "print(texte)"
   ]
  },
  {
   "cell_type": "code",
   "execution_count": null,
   "metadata": {
    "ExecuteTime": {
     "end_time": "2020-09-03T08:37:36.533828Z",
     "start_time": "2020-09-03T08:37:33.285Z"
    },
    "slideshow": {
     "slide_type": "subslide"
    }
   },
   "outputs": [],
   "source": [
    "# Some basic text preprocessing \n",
    "new_text = texte.strip()\\\n",
    "    .replace('\\n', ' ')\\\n",
    "    .replace(',', ' ')\\\n",
    "    .replace('.', ' ')\n",
    "\n",
    "print(new_text)\n",
    "print('-' * 8)\n",
    "\n",
    "words = new_text.split()\n",
    "print(words)"
   ]
  },
  {
   "cell_type": "markdown",
   "metadata": {
    "slideshow": {
     "slide_type": "subslide"
    }
   },
   "source": [
    "## Exercice \n",
    "\n",
    "Count the number of occurences of all the words in `words`. \n",
    "\n",
    "Output must be a dictionary containg ``word: count``"
   ]
  },
  {
   "cell_type": "code",
   "execution_count": null,
   "metadata": {
    "ExecuteTime": {
     "end_time": "2020-09-03T08:37:36.534751Z",
     "start_time": "2020-09-03T08:37:33.287Z"
    }
   },
   "outputs": [],
   "source": [
    "print(words)"
   ]
  },
  {
   "cell_type": "markdown",
   "metadata": {
    "slideshow": {
     "slide_type": "subslide"
    }
   },
   "source": [
    "### Solution 1: hand-made"
   ]
  },
  {
   "cell_type": "code",
   "execution_count": null,
   "metadata": {
    "ExecuteTime": {
     "end_time": "2020-09-03T08:37:36.535768Z",
     "start_time": "2020-09-03T08:37:33.289Z"
    },
    "slideshow": {
     "slide_type": "-"
    }
   },
   "outputs": [],
   "source": [
    "words_counts = {}\n",
    "for word in words:\n",
    "    if word in words_counts:\n",
    "        words_counts[word] += 1\n",
    "    else:\n",
    "        words_counts[word] = 1\n",
    "\n",
    "print(words_counts)"
   ]
  },
  {
   "cell_type": "markdown",
   "metadata": {
    "slideshow": {
     "slide_type": "subslide"
    }
   },
   "source": [
    "### Solution 2: using `defaultdict`"
   ]
  },
  {
   "cell_type": "code",
   "execution_count": null,
   "metadata": {
    "ExecuteTime": {
     "end_time": "2020-09-03T08:37:36.536864Z",
     "start_time": "2020-09-03T08:37:33.291Z"
    },
    "scrolled": true,
    "slideshow": {
     "slide_type": "-"
    }
   },
   "outputs": [],
   "source": [
    "from collections import defaultdict\n",
    "\n",
    "words_counts = defaultdict(int)\n",
    "for word in words:\n",
    "    words_counts[word] += 1\n",
    "\n",
    "print(words_counts)"
   ]
  },
  {
   "cell_type": "markdown",
   "metadata": {
    "slideshow": {
     "slide_type": "fragment"
    }
   },
   "source": [
    "- `defaultdict` can be extremely useful\n",
    "- A dict with a default value: here an `int` is created (defaults to 0) if key is not found\n",
    "- Allows to avoid a test"
   ]
  },
  {
   "cell_type": "markdown",
   "metadata": {
    "slideshow": {
     "slide_type": "subslide"
    }
   },
   "source": [
    "### About `defaultdict`\n",
    "\n",
    "- the argument must be a \"callable\" (something that can be called)\n",
    "- Beware: as soon as a key is searched, a default value is added to the `defaultdict`"
   ]
  },
  {
   "cell_type": "code",
   "execution_count": null,
   "metadata": {
    "ExecuteTime": {
     "end_time": "2020-09-03T08:37:36.537769Z",
     "start_time": "2020-09-03T08:37:33.293Z"
    }
   },
   "outputs": [],
   "source": [
    "addresses = defaultdict(lambda: 'unknown')\n",
    "addresses['huyen']\n",
    "addresses['stephane'] = '8 place Aurelie Nemours'\n",
    "print(addresses)"
   ]
  },
  {
   "cell_type": "code",
   "execution_count": null,
   "metadata": {
    "ExecuteTime": {
     "end_time": "2020-09-03T08:37:36.538870Z",
     "start_time": "2020-09-03T08:37:33.294Z"
    }
   },
   "outputs": [],
   "source": [
    "# Somewhat nasty...\n",
    "print('jean-francois' in addresses)\n",
    "print(addresses['jean-francois'])\n",
    "print('jean-francois' in addresses)"
   ]
  },
  {
   "cell_type": "markdown",
   "metadata": {
    "slideshow": {
     "slide_type": "subslide"
    }
   },
   "source": [
    "### Solution 3. Don't do it by hand ! Use `counter`"
   ]
  },
  {
   "cell_type": "code",
   "execution_count": null,
   "metadata": {
    "ExecuteTime": {
     "end_time": "2020-09-03T08:37:36.539868Z",
     "start_time": "2020-09-03T08:37:33.296Z"
    },
    "slideshow": {
     "slide_type": "-"
    }
   },
   "outputs": [],
   "source": [
    "from collections import Counter\n",
    "\n",
    "print(dict(Counter(words)))"
   ]
  },
  {
   "cell_type": "markdown",
   "metadata": {},
   "source": [
    "`Counter` counts the number of occurences of all objects in an iterable"
   ]
  },
  {
   "cell_type": "markdown",
   "metadata": {
    "slideshow": {
     "slide_type": "fragment"
    }
   },
   "source": [
    "**Question.** Which one do you prefer ?\n",
    "\n",
    "- The `Counter` one right ?"
   ]
  },
  {
   "cell_type": "markdown",
   "metadata": {
    "slideshow": {
     "slide_type": "subslide"
    }
   },
   "source": [
    "### Morality\n",
    "\n",
    "When you need to do something, check first if there is a tool to do it directly ! Otherwise, try to do it as simply as possible."
   ]
  },
  {
   "cell_type": "markdown",
   "metadata": {
    "slideshow": {
     "slide_type": "subslide"
    }
   },
   "source": [
    "## Exercice \n",
    "\n",
    "Compute the number of occurences AND the length of each word in `words`.\n",
    "\n",
    "Output must be a dictionary containing ``word: (count, length)``"
   ]
  },
  {
   "cell_type": "markdown",
   "metadata": {
    "slideshow": {
     "slide_type": "subslide"
    }
   },
   "source": [
    "### Solution"
   ]
  },
  {
   "cell_type": "code",
   "execution_count": null,
   "metadata": {
    "ExecuteTime": {
     "end_time": "2020-09-03T08:37:36.540832Z",
     "start_time": "2020-09-03T08:37:33.299Z"
    },
    "slideshow": {
     "slide_type": "-"
    }
   },
   "outputs": [],
   "source": [
    "from collections import Counter\n",
    "\n",
    "{word: (count, len(word)) for word, count in Counter(words).items()}"
   ]
  },
  {
   "cell_type": "markdown",
   "metadata": {
    "slideshow": {
     "slide_type": "subslide"
    }
   },
   "source": [
    "## The `namedtuple`\n",
    "\n",
    "There is also the `namedtuple`. It's a `tuple` but with named attributes"
   ]
  },
  {
   "cell_type": "code",
   "execution_count": null,
   "metadata": {
    "ExecuteTime": {
     "end_time": "2020-09-03T08:37:36.541801Z",
     "start_time": "2020-09-03T08:37:33.300Z"
    }
   },
   "outputs": [],
   "source": [
    "from collections import namedtuple\n",
    "\n",
    "Jedi = namedtuple('Jedi', ['firstname', 'lastname', 'age', 'color'])\n",
    "yoda = Jedi('Minch', 'Yoda', 900, 'green')\n",
    "yoda"
   ]
  },
  {
   "cell_type": "code",
   "execution_count": null,
   "metadata": {
    "ExecuteTime": {
     "end_time": "2020-09-03T08:37:36.542843Z",
     "start_time": "2020-09-03T08:37:33.302Z"
    }
   },
   "outputs": [],
   "source": [
    "yoda.firstname"
   ]
  },
  {
   "cell_type": "code",
   "execution_count": null,
   "metadata": {
    "ExecuteTime": {
     "end_time": "2020-09-03T08:37:36.543746Z",
     "start_time": "2020-09-03T08:37:33.303Z"
    }
   },
   "outputs": [],
   "source": [
    "yoda[1]"
   ]
  },
  {
   "cell_type": "markdown",
   "metadata": {
    "slideshow": {
     "slide_type": "fragment"
    }
   },
   "source": [
    "**Remark.** A better alternative since `Python 3.7` is dataclasses. We will talk about it later."
   ]
  },
  {
   "cell_type": "markdown",
   "metadata": {
    "slideshow": {
     "slide_type": "slide"
    }
   },
   "source": [
    "# Reading and writing files\n",
    "\n",
    "Next, we assume that you have a text file `miserables.txt` in the folder containing \n",
    "this notebook. "
   ]
  },
  {
   "cell_type": "code",
   "execution_count": null,
   "metadata": {},
   "outputs": [],
   "source": [
    "file = open('miserables.txt')"
   ]
  },
  {
   "cell_type": "code",
   "execution_count": null,
   "metadata": {},
   "outputs": [],
   "source": [
    "counter = Counter()\n",
    "\n",
    "with open('miserables.txt', encoding='utf8') as f:\n",
    "    for line in f:\n",
    "        line = line.strip().replace('\\n', ' ')\\\n",
    "            .replace(',', ' ')\\\n",
    "            .replace('.', ' ')\\\n",
    "            .replace('»', ' ')\\\n",
    "            .replace('-', ' ')\\\n",
    "            .replace('!', ' ')\\\n",
    "            .replace('(', ' ')\\\n",
    "            .replace(')', ' ')\\\n",
    "            .replace('?', ' ').split()\n",
    "        \n",
    "        counter.update(line)"
   ]
  },
  {
   "cell_type": "code",
   "execution_count": null,
   "metadata": {},
   "outputs": [],
   "source": [
    "counter.most_common(50)"
   ]
  },
  {
   "cell_type": "code",
   "execution_count": null,
   "metadata": {},
   "outputs": [],
   "source": [
    "file.close"
   ]
  },
  {
   "cell_type": "markdown",
   "metadata": {
    "slideshow": {
     "slide_type": "subslide"
    }
   },
   "source": [
    "## About `pickle`\n",
    "\n",
    "You can save your computation with `pickle`. \n",
    "\n",
    "`pickle` is a way of saving Python objects."
   ]
  },
  {
   "cell_type": "code",
   "execution_count": null,
   "metadata": {
    "ExecuteTime": {
     "end_time": "2020-09-03T08:37:36.550640Z",
     "start_time": "2020-09-03T08:37:33.314Z"
    }
   },
   "outputs": [],
   "source": [
    "import pickle as pkl\n",
    "\n",
    "# Let's save it\n",
    "with open('miserable_word_counts.pkl', 'wb') as f:\n",
    "    pkl.dump(counter, f)\n",
    "\n",
    "# And read it again\n",
    "with open('miserable_word_counts.pkl', 'rb') as f:\n",
    "    counter = pkl.load(f)"
   ]
  },
  {
   "cell_type": "markdown",
   "metadata": {
    "slideshow": {
     "slide_type": "slide"
    }
   },
   "source": [
    "# Defining functions\n",
    "\n",
    "You **must** use function to order and reuse code"
   ]
  },
  {
   "cell_type": "markdown",
   "metadata": {
    "slideshow": {
     "slide_type": "subslide"
    }
   },
   "source": [
    "## Function definition\n",
    "\n",
    "Function blocks must be indented as other control-flow blocks."
   ]
  },
  {
   "cell_type": "code",
   "execution_count": null,
   "metadata": {
    "ExecuteTime": {
     "end_time": "2020-09-03T08:37:36.552556Z",
     "start_time": "2020-09-03T08:37:33.317Z"
    }
   },
   "outputs": [],
   "source": [
    "def test():\n",
    "    return 'in test function'\n",
    "\n",
    "test()"
   ]
  },
  {
   "cell_type": "markdown",
   "metadata": {
    "slideshow": {
     "slide_type": "subslide"
    }
   },
   "source": [
    "## Return statement\n",
    "\n",
    "Functions can *optionally* return values.\n",
    "By default, functions return ``None``.\n",
    "\n",
    "The syntax to define a function:\n",
    "\n",
    "- the ``def`` keyword;\n",
    "- is followed by the function's **name**, then\n",
    "- the arguments of the function are given between parentheses followed by a colon\n",
    "- the function body;\n",
    "- and ``return object`` for optionally returning values."
   ]
  },
  {
   "cell_type": "code",
   "execution_count": null,
   "metadata": {
    "ExecuteTime": {
     "end_time": "2020-09-03T08:37:36.553432Z",
     "start_time": "2020-09-03T08:37:33.318Z"
    }
   },
   "outputs": [],
   "source": [
    "def f(x):\n",
    "    return x + 10\n",
    "f(20)"
   ]
  },
  {
   "cell_type": "markdown",
   "metadata": {
    "slideshow": {
     "slide_type": "subslide"
    }
   },
   "source": [
    "A function that returns several elements returns a `tuple`"
   ]
  },
  {
   "cell_type": "code",
   "execution_count": null,
   "metadata": {
    "ExecuteTime": {
     "end_time": "2020-09-03T08:37:36.554382Z",
     "start_time": "2020-09-03T08:37:33.320Z"
    }
   },
   "outputs": [],
   "source": [
    "def f(x):\n",
    "    return x + 1, x + 4\n",
    "\n",
    "f(5)"
   ]
  },
  {
   "cell_type": "code",
   "execution_count": null,
   "metadata": {
    "ExecuteTime": {
     "end_time": "2020-09-03T08:37:36.555347Z",
     "start_time": "2020-09-03T08:37:33.321Z"
    }
   },
   "outputs": [],
   "source": [
    "type(f(5))"
   ]
  },
  {
   "cell_type": "markdown",
   "metadata": {
    "slideshow": {
     "slide_type": "subslide"
    }
   },
   "source": [
    "## Parameters\n",
    "\n",
    "Mandatory parameters (positional arguments)\n"
   ]
  },
  {
   "cell_type": "code",
   "execution_count": null,
   "metadata": {
    "ExecuteTime": {
     "end_time": "2020-09-03T08:37:36.556384Z",
     "start_time": "2020-09-03T08:37:33.323Z"
    }
   },
   "outputs": [],
   "source": [
    "def double_it(x):\n",
    "    return x * 2\n",
    "\n",
    "double_it(2)"
   ]
  },
  {
   "cell_type": "code",
   "execution_count": null,
   "metadata": {
    "ExecuteTime": {
     "end_time": "2020-09-03T08:37:36.557634Z",
     "start_time": "2020-09-03T08:37:33.324Z"
    }
   },
   "outputs": [],
   "source": [
    "double_it()"
   ]
  },
  {
   "cell_type": "markdown",
   "metadata": {
    "slideshow": {
     "slide_type": "subslide"
    }
   },
   "source": [
    "Optimal parameters"
   ]
  },
  {
   "cell_type": "code",
   "execution_count": null,
   "metadata": {
    "ExecuteTime": {
     "end_time": "2020-09-03T08:37:36.558720Z",
     "start_time": "2020-09-03T08:37:33.326Z"
    },
    "slideshow": {
     "slide_type": "-"
    }
   },
   "outputs": [],
   "source": [
    "def double_it(x=2):\n",
    "    return x * 2\n",
    "\n",
    "double_it()"
   ]
  },
  {
   "cell_type": "code",
   "execution_count": null,
   "metadata": {
    "ExecuteTime": {
     "end_time": "2020-09-03T08:37:36.559713Z",
     "start_time": "2020-09-03T08:37:33.327Z"
    }
   },
   "outputs": [],
   "source": [
    "double_it(3)"
   ]
  },
  {
   "cell_type": "code",
   "execution_count": null,
   "metadata": {
    "ExecuteTime": {
     "end_time": "2020-09-03T08:37:36.560607Z",
     "start_time": "2020-09-03T08:37:33.329Z"
    },
    "slideshow": {
     "slide_type": "subslide"
    }
   },
   "outputs": [],
   "source": [
    "def f(x, y=2, z=10):\n",
    "    print(x, '+', y, '+', z, '=', x + y + z)"
   ]
  },
  {
   "cell_type": "code",
   "execution_count": null,
   "metadata": {
    "ExecuteTime": {
     "end_time": "2020-09-03T08:37:36.561703Z",
     "start_time": "2020-09-03T08:37:33.330Z"
    }
   },
   "outputs": [],
   "source": [
    "f(5)"
   ]
  },
  {
   "cell_type": "code",
   "execution_count": null,
   "metadata": {
    "ExecuteTime": {
     "end_time": "2020-09-03T08:37:36.562696Z",
     "start_time": "2020-09-03T08:37:33.331Z"
    }
   },
   "outputs": [],
   "source": [
    "f(5, -2)"
   ]
  },
  {
   "cell_type": "code",
   "execution_count": null,
   "metadata": {
    "ExecuteTime": {
     "end_time": "2020-09-03T08:37:36.563733Z",
     "start_time": "2020-09-03T08:37:33.332Z"
    }
   },
   "outputs": [],
   "source": [
    "f(5, -2, 8)"
   ]
  },
  {
   "cell_type": "code",
   "execution_count": null,
   "metadata": {
    "ExecuteTime": {
     "end_time": "2020-09-03T08:37:36.564646Z",
     "start_time": "2020-09-03T08:37:33.334Z"
    }
   },
   "outputs": [],
   "source": [
    "f(z=5, x=-2, y=8)"
   ]
  },
  {
   "cell_type": "markdown",
   "metadata": {
    "slideshow": {
     "slide_type": "subslide"
    }
   },
   "source": [
    "## Argument unpacking and keyword argument unpacking\n",
    "You can do stuff like this, using unpacking `*` notation"
   ]
  },
  {
   "cell_type": "code",
   "execution_count": null,
   "metadata": {
    "ExecuteTime": {
     "end_time": "2020-09-03T08:37:36.565743Z",
     "start_time": "2020-09-03T08:37:33.335Z"
    }
   },
   "outputs": [],
   "source": [
    "a, *b, c = 1, 2, 3, 4, 5\n",
    "a, b, c"
   ]
  },
  {
   "cell_type": "markdown",
   "metadata": {},
   "source": [
    "Back to function `f` you can unpack a `tuple` as positional arguments"
   ]
  },
  {
   "cell_type": "code",
   "execution_count": null,
   "metadata": {
    "ExecuteTime": {
     "end_time": "2020-09-03T08:37:36.566769Z",
     "start_time": "2020-09-03T08:37:33.337Z"
    },
    "scrolled": true,
    "slideshow": {
     "slide_type": "-"
    }
   },
   "outputs": [],
   "source": [
    "tt = (1, 2, 3)\n",
    "f(*tt)"
   ]
  },
  {
   "cell_type": "code",
   "execution_count": null,
   "metadata": {
    "ExecuteTime": {
     "end_time": "2020-09-03T08:37:36.567613Z",
     "start_time": "2020-09-03T08:37:33.338Z"
    }
   },
   "outputs": [],
   "source": [
    "dd = {'y': 10, 'z': -5}"
   ]
  },
  {
   "cell_type": "code",
   "execution_count": null,
   "metadata": {
    "ExecuteTime": {
     "end_time": "2020-09-03T08:37:36.568510Z",
     "start_time": "2020-09-03T08:37:33.339Z"
    }
   },
   "outputs": [],
   "source": [
    "f(3, **dd)"
   ]
  },
  {
   "cell_type": "code",
   "execution_count": null,
   "metadata": {
    "ExecuteTime": {
     "end_time": "2020-09-03T08:37:36.569464Z",
     "start_time": "2020-09-03T08:37:33.341Z"
    },
    "slideshow": {
     "slide_type": "subslide"
    }
   },
   "outputs": [],
   "source": [
    "def g(x, z, y, t=1, u=2):\n",
    "    print(x, '+', y, '+', z, '+', t, '+', \n",
    "          u, '=', x + y + z + t + u)"
   ]
  },
  {
   "cell_type": "code",
   "execution_count": null,
   "metadata": {
    "ExecuteTime": {
     "end_time": "2020-09-03T08:37:36.570346Z",
     "start_time": "2020-09-03T08:37:33.342Z"
    },
    "scrolled": true
   },
   "outputs": [],
   "source": [
    "tt = (1, -4, 2)\n",
    "dd = {'t': 10, 'u': -5}\n",
    "g(*tt, **dd)"
   ]
  },
  {
   "cell_type": "markdown",
   "metadata": {
    "collapsed": true,
    "slideshow": {
     "slide_type": "subslide"
    }
   },
   "source": [
    "## The prototype of all functions in `Python`"
   ]
  },
  {
   "cell_type": "code",
   "execution_count": null,
   "metadata": {
    "ExecuteTime": {
     "end_time": "2020-09-03T08:37:36.571268Z",
     "start_time": "2020-09-03T08:37:33.343Z"
    },
    "slideshow": {
     "slide_type": "-"
    }
   },
   "outputs": [],
   "source": [
    "def f(*args, **kwargs):\n",
    "    print('args=', args)\n",
    "    print('kwargs=', kwargs)\n",
    "\n",
    "f(1, 2, 'truc', lastname='gaiffas', firstname='stephane')"
   ]
  },
  {
   "cell_type": "markdown",
   "metadata": {},
   "source": [
    "- Uses `*` for **argument unpacking** and `**` for **keyword argument unpacking**\n",
    "- The names `args` and `kwargs` are a convention, not mandatory \n",
    "- (but you are fired if you name these arguments otherwise)"
   ]
  },
  {
   "cell_type": "code",
   "execution_count": null,
   "metadata": {
    "ExecuteTime": {
     "end_time": "2020-09-03T08:37:36.572151Z",
     "start_time": "2020-09-03T08:37:33.345Z"
    },
    "slideshow": {
     "slide_type": "fragment"
    }
   },
   "outputs": [],
   "source": [
    "# How to get fired\n",
    "def f(*aaa, **bbb):\n",
    "    print('args=', aaa)\n",
    "    print('kwargs=', bbb)\n",
    "f(1, 2, 'truc', lastname='gaiffas', firstname='stephane')    "
   ]
  },
  {
   "cell_type": "markdown",
   "metadata": {
    "slideshow": {
     "slide_type": "subslide"
    }
   },
   "source": [
    "**Remark**. A function is a regular object... you can add attributes on it !"
   ]
  },
  {
   "cell_type": "code",
   "execution_count": null,
   "metadata": {
    "ExecuteTime": {
     "end_time": "2020-09-03T08:37:36.573059Z",
     "start_time": "2020-09-03T08:37:33.346Z"
    }
   },
   "outputs": [],
   "source": [
    "f.truc = 4"
   ]
  },
  {
   "cell_type": "code",
   "execution_count": null,
   "metadata": {
    "ExecuteTime": {
     "end_time": "2020-09-03T08:37:36.574029Z",
     "start_time": "2020-09-03T08:37:33.348Z"
    },
    "scrolled": true
   },
   "outputs": [],
   "source": [
    "f(1, 3)"
   ]
  },
  {
   "cell_type": "code",
   "execution_count": null,
   "metadata": {
    "ExecuteTime": {
     "end_time": "2020-09-03T08:37:36.574938Z",
     "start_time": "2020-09-03T08:37:33.349Z"
    },
    "scrolled": false
   },
   "outputs": [],
   "source": [
    "f(3, -2, y='truc')"
   ]
  },
  {
   "cell_type": "markdown",
   "metadata": {
    "slideshow": {
     "slide_type": "slide"
    }
   },
   "source": [
    "# Object-oriented programming (OOP)\n",
    "\n",
    "Python supports object-oriented programming (OOP). The goals of OOP are:\n",
    "\n",
    "- to organize the code, and\n",
    "- to re-use code in similar contexts.\n",
    "\n",
    "Here is a small example: we create a `Student` class, which is an object\n",
    "gathering several custom functions (called *methods*) and variables \n",
    "(called *attributes*)."
   ]
  },
  {
   "cell_type": "code",
   "execution_count": null,
   "metadata": {
    "ExecuteTime": {
     "end_time": "2020-09-03T08:37:36.575891Z",
     "start_time": "2020-09-03T08:37:33.350Z"
    },
    "scrolled": false,
    "slideshow": {
     "slide_type": "subslide"
    }
   },
   "outputs": [],
   "source": [
    "class Student(object):\n",
    "\n",
    "    def __init__(self, name, birthyear, major='computer science'):\n",
    "        self.name = name\n",
    "        self.birthyear = birthyear\n",
    "        self.major = major\n",
    "\n",
    "    def __repr__(self):\n",
    "        return \"Student(name='{name}', birthyear={birthyear}, major='{major}')\"\\\n",
    "                .format(name=self.name, birthyear=self.birthyear, major=self.major)\n",
    "\n",
    "anna = Student('anna', 1987)\n",
    "anna"
   ]
  },
  {
   "cell_type": "markdown",
   "metadata": {},
   "source": [
    "The `__repr__` is what we call a 'magic method' in Python, that allows \n",
    "to display an object as a string easily. There is a very large number of such magic methods.\n",
    "There are used to implement **interfaces**"
   ]
  },
  {
   "cell_type": "markdown",
   "metadata": {
    "slideshow": {
     "slide_type": "subslide"
    }
   },
   "source": [
    "## Exercice \n",
    "Add a `age` method to the Student class that computes the age of the student. \n",
    "- You  can (and should) use the `datetime` module. \n",
    "- Since we only know about the birth year, let's assume that the day of the birth is January, 1st."
   ]
  },
  {
   "cell_type": "markdown",
   "metadata": {
    "ExecuteTime": {
     "end_time": "2019-11-21T09:56:11.495547Z",
     "start_time": "2019-11-21T09:56:11.492137Z"
    }
   },
   "source": [
    "### Correction"
   ]
  },
  {
   "cell_type": "code",
   "execution_count": null,
   "metadata": {
    "ExecuteTime": {
     "end_time": "2020-09-03T08:37:36.576883Z",
     "start_time": "2020-09-03T08:37:33.352Z"
    }
   },
   "outputs": [],
   "source": [
    "from datetime import datetime\n",
    "\n",
    "class Student(object):\n",
    "\n",
    "    def __init__(self, name, birthyear, major='computer science'):\n",
    "        self.name = name\n",
    "        self.birthyear = birthyear\n",
    "        self.major = major\n",
    "\n",
    "    def __repr__(self):\n",
    "        return \"Student(name='{name}', birthyear={birthyear}, major='{major}')\"\\\n",
    "                .format(name=self.name, birthyear=self.birthyear, major=self.major)\n",
    "\n",
    "    def age(self):\n",
    "        return datetime.now().year - self.birthyear\n",
    "        \n",
    "anna = Student('anna', 1987)\n",
    "anna.age()"
   ]
  },
  {
   "cell_type": "markdown",
   "metadata": {
    "slideshow": {
     "slide_type": "subslide"
    }
   },
   "source": [
    "## Properties\n",
    "\n",
    "We can make methods look like attributes using **properties**, as shown below"
   ]
  },
  {
   "cell_type": "code",
   "execution_count": null,
   "metadata": {
    "ExecuteTime": {
     "end_time": "2020-09-03T08:37:36.577835Z",
     "start_time": "2020-09-03T08:37:33.354Z"
    }
   },
   "outputs": [],
   "source": [
    "class Student(object):\n",
    "\n",
    "    def __init__(self, name, birthyear, major='computer science'):\n",
    "        self.name = name\n",
    "        self.birthyear = birthyear\n",
    "        self.major = major\n",
    "\n",
    "    def __repr__(self):\n",
    "        return \"Student(name='{name}', birthyear={birthyear}, major='{major}')\"\\\n",
    "                .format(name=self.name, birthyear=self.birthyear, major=self.major)\n",
    "\n",
    "    @property\n",
    "    def age(self):\n",
    "        return datetime.now().year - self.birthyear\n",
    "        \n",
    "anna = Student('anna', 1987)\n",
    "anna.age"
   ]
  },
  {
   "cell_type": "markdown",
   "metadata": {
    "slideshow": {
     "slide_type": "subslide"
    }
   },
   "source": [
    "## Inheritance \n",
    "\n",
    "A `MasterStudent` is a `Student` with a new extra mandatory `internship` attribute"
   ]
  },
  {
   "cell_type": "code",
   "execution_count": null,
   "metadata": {
    "ExecuteTime": {
     "end_time": "2020-09-03T08:37:36.578637Z",
     "start_time": "2020-09-03T08:37:33.356Z"
    }
   },
   "outputs": [],
   "source": [
    "class MasterStudent(Student):\n",
    "    \n",
    "    def __init__(self, name, age, internship, major='computer science'):\n",
    "        Student.__init__(self, name, age, major)\n",
    "        self.internship = internship\n",
    "\n",
    "    def __repr__(self):\n",
    "        return \"MasterStudent(name='{name}', internship='{internship}'\" \\\n",
    "               \", birthyear={birthyear}, major='{major}')\"\\\n",
    "                .format(name=self.name, internship=self.internship,\n",
    "                        birthyear=self.birthyear, major=self.major)\n",
    "    \n",
    "MasterStudent('djalil', 22, 'pwc')"
   ]
  },
  {
   "cell_type": "markdown",
   "metadata": {
    "ExecuteTime": {
     "end_time": "2019-11-21T09:58:34.108939Z",
     "start_time": "2019-11-21T09:58:34.103118Z"
    },
    "slideshow": {
     "slide_type": "subslide"
    }
   },
   "source": [
    "## Monkey patching\n",
    "\n",
    "- Classes in `Python`  are `objects` and actually `dict`s under the hood...\n",
    "- Therefore classes are objects that can be changed on the fly"
   ]
  },
  {
   "cell_type": "code",
   "execution_count": null,
   "metadata": {
    "ExecuteTime": {
     "end_time": "2020-09-03T08:37:36.579584Z",
     "start_time": "2020-09-03T08:37:33.357Z"
    }
   },
   "outputs": [],
   "source": [
    "class C(object):\n",
    "    \n",
    "    def __init__(self, name):\n",
    "        self.name = name\n",
    "\n",
    "    def monkey(self):\n",
    "        print(\"Old monkey %s\" % self.name)\n",
    "\n",
    "def monkey(self):\n",
    "    print(\"New monkey %s\" % self.name)\n",
    "\n",
    "c = C(\"Baloo\")\n",
    "c.monkey()\n",
    "\n",
    "C.monkey = monkey\n",
    "c.monkey()"
   ]
  },
  {
   "cell_type": "markdown",
   "metadata": {
    "slideshow": {
     "slide_type": "subslide"
    }
   },
   "source": [
    "## Data classes\n",
    "\n",
    "Since `Python 3.7` you can use a dataclass for this\n",
    "\n",
    "Does a lot of work for you (produces the `__repr__` among many other things for you)"
   ]
  },
  {
   "cell_type": "code",
   "execution_count": null,
   "metadata": {
    "ExecuteTime": {
     "end_time": "2020-09-03T08:37:36.580435Z",
     "start_time": "2020-09-03T08:37:33.359Z"
    }
   },
   "outputs": [],
   "source": [
    "from dataclasses import dataclass\n",
    "\n",
    "@dataclass\n",
    "class Student(object):\n",
    "    name: str\n",
    "    birthyear: int\n",
    "    major: str = 'computer science'\n",
    "\n",
    "    @property\n",
    "    def age(self):\n",
    "        return datetime.now().year - self.birthyear\n",
    "        \n",
    "anna = Student('anna', 1987)\n",
    "anna"
   ]
  },
  {
   "cell_type": "code",
   "execution_count": null,
   "metadata": {
    "ExecuteTime": {
     "end_time": "2020-09-03T08:37:36.581401Z",
     "start_time": "2020-09-03T08:37:33.362Z"
    }
   },
   "outputs": [],
   "source": [
    "print(anna.age)"
   ]
  },
  {
   "cell_type": "markdown",
   "metadata": {
    "collapsed": true,
    "slideshow": {
     "slide_type": "slide"
    }
   },
   "source": [
    "# Most common mistakes\n",
    "\n",
    "- Let us wrap this up with the most common mistakes with `Python`\n",
    "\n",
    "First, best way to learn and practice:\n",
    "\n",
    "- Start with the official tutorial https://docs.python.org/fr/3/tutorial/index.html\n",
    "\n",
    "- Look at https://python-3-for-scientists.readthedocs.io/en/latest/index.html\n",
    "\n",
    "- Continue with the documentation at https://docs.python.org/fr/3/index.html"
   ]
  },
  {
   "cell_type": "markdown",
   "metadata": {
    "slideshow": {
     "slide_type": "subslide"
    }
   },
   "source": [
    "## Using a mutable value as a default value"
   ]
  },
  {
   "cell_type": "code",
   "execution_count": null,
   "metadata": {
    "ExecuteTime": {
     "end_time": "2020-09-03T08:37:36.582355Z",
     "start_time": "2020-09-03T08:37:33.364Z"
    }
   },
   "outputs": [],
   "source": [
    "def foo(bar=[]):\n",
    "    bar.append('oops')\n",
    "    return bar\n",
    "\n",
    "print(foo())\n",
    "print(foo())\n",
    "print(foo())\n",
    "\n",
    "print('-' * 8)\n",
    "print(foo(['Ah ah']))\n",
    "print(foo([]))"
   ]
  },
  {
   "cell_type": "markdown",
   "metadata": {},
   "source": [
    "- The default value for a function argument is evaluated once, when the function is defined\n",
    "- `the` bar argument is initialized to its default (i.e., an empty list) only when foo() is first defined\n",
    "- successive calls to `foo()` (with no a `bar` argument specified) use the same list!"
   ]
  },
  {
   "cell_type": "markdown",
   "metadata": {
    "slideshow": {
     "slide_type": "subslide"
    }
   },
   "source": [
    "One should use instead"
   ]
  },
  {
   "cell_type": "code",
   "execution_count": null,
   "metadata": {
    "ExecuteTime": {
     "end_time": "2020-09-03T08:37:36.583349Z",
     "start_time": "2020-09-03T08:37:33.367Z"
    },
    "slideshow": {
     "slide_type": "-"
    }
   },
   "outputs": [],
   "source": [
    "def foo(bar=None):\n",
    "    if bar is None:\n",
    "        bar = []\n",
    "    bar.append('oops')\n",
    "    return bar\n",
    "\n",
    "print(foo())\n",
    "print(foo())\n",
    "print(foo())\n",
    "print(foo(['OK']))"
   ]
  },
  {
   "cell_type": "markdown",
   "metadata": {
    "slideshow": {
     "slide_type": "subslide"
    }
   },
   "source": [
    "No problem with immutable types"
   ]
  },
  {
   "cell_type": "code",
   "execution_count": null,
   "metadata": {
    "ExecuteTime": {
     "end_time": "2020-09-03T08:37:36.584245Z",
     "start_time": "2020-09-03T08:37:33.369Z"
    }
   },
   "outputs": [],
   "source": [
    "def foo(bar=()):\n",
    "    bar += ('oops',)\n",
    "    return bar\n",
    "\n",
    "print(foo())\n",
    "print(foo())\n",
    "print(foo())"
   ]
  },
  {
   "cell_type": "markdown",
   "metadata": {
    "slideshow": {
     "slide_type": "subslide"
    }
   },
   "source": [
    "## Class attributes VS object attributes"
   ]
  },
  {
   "cell_type": "code",
   "execution_count": null,
   "metadata": {
    "ExecuteTime": {
     "end_time": "2020-09-03T08:37:36.585161Z",
     "start_time": "2020-09-03T08:37:33.371Z"
    }
   },
   "outputs": [],
   "source": [
    "class A(object):\n",
    "    x = 1\n",
    "\n",
    "    def __init__(self):\n",
    "        self.y = 2\n",
    "\n",
    "class B(A):\n",
    "    def __init__(self):\n",
    "        super().__init__()\n",
    "\n",
    "class C(A):\n",
    "    def __init__(self):\n",
    "        super().__init__()\n",
    "\n",
    "a, b, c = A(), B(), C()"
   ]
  },
  {
   "cell_type": "code",
   "execution_count": null,
   "metadata": {
    "ExecuteTime": {
     "end_time": "2020-09-03T08:37:36.585984Z",
     "start_time": "2020-09-03T08:37:33.373Z"
    },
    "scrolled": true
   },
   "outputs": [],
   "source": [
    "print(a.x, b.x, c.x)\n",
    "print(a.y, b.y, c.y)"
   ]
  },
  {
   "cell_type": "code",
   "execution_count": null,
   "metadata": {
    "ExecuteTime": {
     "end_time": "2020-09-03T08:37:36.587007Z",
     "start_time": "2020-09-03T08:37:33.374Z"
    },
    "scrolled": true,
    "slideshow": {
     "slide_type": "subslide"
    }
   },
   "outputs": [],
   "source": [
    "a.y = 3\n",
    "print(a.y, b.y, c.y)"
   ]
  },
  {
   "cell_type": "code",
   "execution_count": null,
   "metadata": {
    "ExecuteTime": {
     "end_time": "2020-09-03T08:37:36.587896Z",
     "start_time": "2020-09-03T08:37:33.376Z"
    },
    "scrolled": true
   },
   "outputs": [],
   "source": [
    "a.x = 3  # Adds a new attribute named x in object a\n",
    "print(a.x, b.x, c.x)"
   ]
  },
  {
   "cell_type": "code",
   "execution_count": null,
   "metadata": {
    "ExecuteTime": {
     "end_time": "2020-09-03T08:37:36.588806Z",
     "start_time": "2020-09-03T08:37:33.378Z"
    },
    "scrolled": true
   },
   "outputs": [],
   "source": [
    "A.x = 3 # Changes the class attribute x of class A\n",
    "print(a.x, b.x, c.x)"
   ]
  },
  {
   "cell_type": "markdown",
   "metadata": {},
   "source": [
    "- Attribute `x` is not an **attribute** of `b` nor `c`\n",
    "- It is also not a **class attribute** of classes `B` and `C`\n",
    "- So, it is is looked up in the base class `A`, which contains a **class attribute** `x`"
   ]
  },
  {
   "cell_type": "markdown",
   "metadata": {
    "slideshow": {
     "slide_type": "subslide"
    }
   },
   "source": [
    "Classes and objects contain a hidden `dict` to store their attributes, and are accessed following a method resolution order (MRO)"
   ]
  },
  {
   "cell_type": "code",
   "execution_count": null,
   "metadata": {
    "ExecuteTime": {
     "end_time": "2020-09-03T08:37:36.589763Z",
     "start_time": "2020-09-03T08:37:33.381Z"
    },
    "slideshow": {
     "slide_type": "-"
    }
   },
   "outputs": [],
   "source": [
    "a.__dict__, b.__dict__, c.__dict__"
   ]
  },
  {
   "cell_type": "code",
   "execution_count": null,
   "metadata": {
    "ExecuteTime": {
     "end_time": "2020-09-03T08:37:36.590727Z",
     "start_time": "2020-09-03T08:37:33.383Z"
    }
   },
   "outputs": [],
   "source": [
    "A.__dict__, B.__dict__, C.__dict__"
   ]
  },
  {
   "cell_type": "markdown",
   "metadata": {},
   "source": [
    "This can lead to **nasty** errors when using class attributes: learn more about this"
   ]
  },
  {
   "cell_type": "markdown",
   "metadata": {
    "slideshow": {
     "slide_type": "subslide"
    }
   },
   "source": [
    "## Python scope rules"
   ]
  },
  {
   "cell_type": "code",
   "execution_count": null,
   "metadata": {
    "ExecuteTime": {
     "end_time": "2020-09-03T08:37:36.591604Z",
     "start_time": "2020-09-03T08:37:33.385Z"
    }
   },
   "outputs": [],
   "source": [
    "ints = [1]\n",
    "\n",
    "def foo1():\n",
    "    ints.append(2)\n",
    "    return ints\n",
    "\n",
    "def foo2():\n",
    "    ints += [2]\n",
    "    return ints"
   ]
  },
  {
   "cell_type": "code",
   "execution_count": null,
   "metadata": {
    "ExecuteTime": {
     "end_time": "2020-09-03T08:37:36.592550Z",
     "start_time": "2020-09-03T08:37:33.387Z"
    }
   },
   "outputs": [],
   "source": [
    "foo1()"
   ]
  },
  {
   "cell_type": "code",
   "execution_count": null,
   "metadata": {
    "ExecuteTime": {
     "end_time": "2020-09-03T08:37:36.593554Z",
     "start_time": "2020-09-03T08:37:33.389Z"
    },
    "scrolled": true,
    "slideshow": {
     "slide_type": "-"
    }
   },
   "outputs": [],
   "source": [
    "foo2()"
   ]
  },
  {
   "cell_type": "markdown",
   "metadata": {
    "slideshow": {
     "slide_type": "subslide"
    }
   },
   "source": [
    "- An assignment to a variable in a scope assumes that the variable is local to that scope \n",
    "- and shadows any similarly named variable in any outer scope\n",
    "\n",
    "```python\n",
    "ints += [2]\n",
    "```\n",
    "\n",
    "means\n",
    "```python\n",
    "ints = ints + [2]\n",
    "```\n",
    "\n",
    "which is an assigment: `ints` must be defined in the local scope, but it is not, while\n",
    "```python\n",
    "ints.append(2)\n",
    "```\n",
    "\n",
    "is not an assignemnt"
   ]
  },
  {
   "cell_type": "markdown",
   "metadata": {
    "slideshow": {
     "slide_type": "subslide"
    }
   },
   "source": [
    "## Modify a `list` while iterating over it"
   ]
  },
  {
   "cell_type": "code",
   "execution_count": null,
   "metadata": {
    "ExecuteTime": {
     "end_time": "2020-09-03T08:37:36.594411Z",
     "start_time": "2020-09-03T08:37:33.392Z"
    }
   },
   "outputs": [],
   "source": [
    "odd = lambda x: bool(x % 2)\n",
    "numbers = list(range(10))\n",
    "\n",
    "for i in range(len(numbers)):\n",
    "    if odd(numbers[i]):\n",
    "        del numbers[i]"
   ]
  },
  {
   "cell_type": "markdown",
   "metadata": {
    "slideshow": {
     "slide_type": "fragment"
    }
   },
   "source": [
    "Typically an example where one should use a list comprehension"
   ]
  },
  {
   "cell_type": "code",
   "execution_count": null,
   "metadata": {
    "ExecuteTime": {
     "end_time": "2020-09-03T08:37:36.595351Z",
     "start_time": "2020-09-03T08:37:33.394Z"
    }
   },
   "outputs": [],
   "source": [
    "[number for number in numbers if not odd(number)]"
   ]
  },
  {
   "cell_type": "markdown",
   "metadata": {
    "slideshow": {
     "slide_type": "subslide"
    }
   },
   "source": [
    "## No docstrings\n",
    "\n",
    "Accept to spend time to write clean docstrings (my favourite is the `numpydoc` style)"
   ]
  },
  {
   "cell_type": "code",
   "execution_count": null,
   "metadata": {
    "ExecuteTime": {
     "end_time": "2020-09-03T08:37:36.596344Z",
     "start_time": "2020-09-03T08:37:33.396Z"
    }
   },
   "outputs": [],
   "source": [
    "def create_student(name, age, address, major='computer science'):\n",
    "    \"\"\"Add a student in the database\n",
    "    \n",
    "    Parameters\n",
    "    ----------\n",
    "    name: `str`\n",
    "        Name of the student\n",
    "    \n",
    "    age: `int`\n",
    "        Age of the student\n",
    "    \n",
    "    address: `str`\n",
    "        Address of the student\n",
    "    \n",
    "    major: `str`, default='computer science'\n",
    "        The major chosen by the student\n",
    "    \n",
    "    Returns\n",
    "    -------\n",
    "    output: `Student`\n",
    "        A fresh student\n",
    "    \"\"\"\n",
    "    pass"
   ]
  },
  {
   "cell_type": "markdown",
   "metadata": {
    "slideshow": {
     "slide_type": "subslide"
    }
   },
   "source": [
    "## Not using available methods and/or the simplest solution"
   ]
  },
  {
   "cell_type": "code",
   "execution_count": null,
   "metadata": {
    "ExecuteTime": {
     "end_time": "2020-09-03T08:37:36.597229Z",
     "start_time": "2020-09-03T08:37:33.399Z"
    }
   },
   "outputs": [],
   "source": [
    "dd = {'stephane': 1234, 'gael': 4567, 'gontran': 891011}\n",
    "\n",
    "# Bad\n",
    "for key in dd.keys():\n",
    "    print(key, dd[key])\n",
    "\n",
    "print('-' * 8)\n",
    "\n",
    "# Good\n",
    "for key, value in dd.items():\n",
    "    print(key, value)"
   ]
  },
  {
   "cell_type": "code",
   "execution_count": null,
   "metadata": {
    "ExecuteTime": {
     "end_time": "2020-09-03T08:37:36.598328Z",
     "start_time": "2020-09-03T08:37:33.401Z"
    },
    "slideshow": {
     "slide_type": "subslide"
    }
   },
   "outputs": [],
   "source": [
    "colors = ['black', 'yellow', 'brown', 'red', 'pink']\n",
    "\n",
    "# Bad\n",
    "for i in range(len(colors)):\n",
    "    print(i, colors[i])\n",
    "\n",
    "print('-' * 8)\n",
    "\n",
    "# Good\n",
    "for i, color in enumerate(colors):\n",
    "    print(i, color)"
   ]
  },
  {
   "cell_type": "markdown",
   "metadata": {
    "slideshow": {
     "slide_type": "subslide"
    }
   },
   "source": [
    "## Not using the standard library \n",
    "\n",
    "While it's **always** better than a hand-made solution"
   ]
  },
  {
   "cell_type": "code",
   "execution_count": null,
   "metadata": {
    "ExecuteTime": {
     "end_time": "2020-09-03T08:37:36.599176Z",
     "start_time": "2020-09-03T08:37:33.403Z"
    }
   },
   "outputs": [],
   "source": [
    "list1 = [1, 2]\n",
    "list2 = [3, 4]\n",
    "list3 = [5, 6, 7]\n",
    "\n",
    "for a in list1:\n",
    "    for b in list2:\n",
    "        for c in list3:\n",
    "            print(a, b, c)"
   ]
  },
  {
   "cell_type": "code",
   "execution_count": null,
   "metadata": {
    "ExecuteTime": {
     "end_time": "2020-09-03T08:37:36.600064Z",
     "start_time": "2020-09-03T08:37:33.405Z"
    },
    "slideshow": {
     "slide_type": "subslide"
    }
   },
   "outputs": [],
   "source": [
    "from itertools import product\n",
    "\n",
    "for a, b, c in product(list1, list2, list3):\n",
    "    print(a, b, c)"
   ]
  }
 ],
 "metadata": {
  "celltoolbar": "Slideshow",
  "kernelspec": {
   "display_name": "Python 3",
   "language": "python",
   "name": "python3"
  },
  "language_info": {
   "codemirror_mode": {
    "name": "ipython",
    "version": 3
   },
   "file_extension": ".py",
   "mimetype": "text/x-python",
   "name": "python",
   "nbconvert_exporter": "python",
   "pygments_lexer": "ipython3",
   "version": "3.7.6"
  },
  "toc": {
   "base_numbering": 1,
   "nav_menu": {},
   "number_sections": true,
   "sideBar": true,
   "skip_h1_title": false,
   "title_cell": "Table of Contents",
   "title_sidebar": "Contents",
   "toc_cell": false,
   "toc_position": {
    "height": "calc(100% - 180px)",
    "left": "10px",
    "top": "150px",
    "width": "377.625px"
   },
   "toc_section_display": true,
   "toc_window_display": false
  }
 },
 "nbformat": 4,
 "nbformat_minor": 1
}
