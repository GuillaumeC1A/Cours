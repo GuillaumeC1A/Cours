{
 "cells": [
  {
   "cell_type": "markdown",
   "id": "4acdbf88",
   "metadata": {},
   "source": [
    "# Numerical analysis: TD 2 - Polynomial interpolation\n",
    "<h4 align=\"right\"> Author: <i> Hicham Janati </i></h4>"
   ]
  },
  {
   "cell_type": "markdown",
   "id": "5759bc7b",
   "metadata": {},
   "source": [
    "### Divided differences, Lagrange interpolation, Horner's method\n",
    "Consider a set of points $a \\leq x_0 < \\dots < x_n \\leq b$. The purpose of this problem is to compute the Lagrange polynomial of a function $f$ for the set of points $(x_k)_{0 \\leq k \\leq n}$ denoted by $L_n f$. \n",
    "\n",
    "To do so, we consider the Newton basis formed by the nodal polynomials:\n",
    "$$ w_k(X) = (X - x_0) \\dots (X - x_{k-1}) \\qquad \\forall k \\geq 1$$\n",
    "and $w_0 = 1$.\n",
    "\n",
    "1. Show that:\n",
    "$$ (\\forall 1\\leq k \\leq n)(\\exists a_k \\in \\mathbb{R}) \\quad L_k f - L_{k-1}f = a_k w_k $$\n",
    "\n",
    "and deduce the coefficients of $L_n f$ in the Newton basis.\n",
    "\n",
    "2. We denote the coefficient of $w_k$ by $f_{[x_0, \\dots, x_k]}$. What does $f_{[x_k]}$ correspond to ? \n",
    "\n",
    "3. Let $p_{k-1} = L_{x_0, \\dots, x_{k-1}} f$ and  $q_{k-1} = L_{x_1, \\dots, x_{k}} f$. \n",
    "Show that $r = p$ where:\n",
    "$$ r_k(x) = \\frac{(x - x_0)q_{k-1}(x) - (x-x_k)p_{k-1}(x)}{x_k - x_0} $$\n",
    "\n",
    "4. Deduce the divided differences formula:\n",
    "$$ f_{[x_0, \\dots, x_k]} = \\frac{f_{[x_1, \\dots, x_k]} - f_{[x_0, \\dots, x_{k-1}]}}{x_k - x_0}  $$\n",
    "\n",
    "5. Since the choice of the interpolation point $x_0$ is arbitrary, it follows that the formula holds for all $i$:\n",
    "$$  f_{[x_i, \\dots, x_k]} = \\frac{f_{[x_{i+1}, \\dots, x_k]} - f_{[x_i, \\dots, x_{k-1}]}}{x_k - x_i}  $$\n",
    "\n",
    "Starting from an array $x = (x_0, \\dots, x_{n-1})$ and $ y = (f(x_0), \\dots, f(x_{n-1}))$, consider the structure:\n",
    "\n",
    "$$F \\stackrel{def}{=} \\begin{pmatrix} f_{[x_0]} & & & & & \\\\ f_{[x_1]} & f_{[x_0, x_1]} & & & &  \\\\\n",
    "f_{[x_2]} & f_{[x_1, x_2]} & f_{[x_0, x_1, x_2]} & & & \\\\\n",
    "\\vdots & \\vdots & \\vdots & &  \\\\\n",
    "f_{[x_n]} & \\dots & & & f_{[x_0, \\dots, x_n]}\n",
    "\\end{pmatrix}\n",
    "$$\n",
    "Write $F_{ij}$ as a function of the sequence $f_{[x_i, \\dots, x_j]}$ and $(x_k)_k$ and deduce a relationship between $F_{ij}$, $F_{i, j-1}$, $F_{i-1, j-1}$ and $(x_k)_k$.\n",
    "\n",
    "6. Implement a function that computes the Newton coefficients. Make your function as vectorized as possible (use only one loop)."
   ]
  },
  {
   "cell_type": "code",
   "execution_count": null,
   "id": "76dac00c",
   "metadata": {},
   "outputs": [],
   "source": [
    "import numpy as np\n",
    "import matplotlib.pyplot as plt\n",
    "%matplotlib inline\n"
   ]
  },
  {
   "cell_type": "code",
   "execution_count": null,
   "id": "5d24d700",
   "metadata": {},
   "outputs": [],
   "source": [
    "def divided_differences_(x, y):\n",
    "\n",
    "    return f"
   ]
  },
  {
   "cell_type": "markdown",
   "id": "ace067ca",
   "metadata": {},
   "source": [
    "7. Horner's method consists in evaluating a polynomial given its coefficients using a smart update:\n",
    "$$ P(x) = a_0 + x(a_1 + x(a_2 + .... x a_n) $$\n",
    "\n",
    "Adapt this method for a polynomial written in the Newton basis"
   ]
  },
  {
   "cell_type": "markdown",
   "id": "0598dc40",
   "metadata": {},
   "source": [
    "8. Write a function that evaluates the Lagrangian polynomial and test it on the following example:"
   ]
  },
  {
   "cell_type": "code",
   "execution_count": null,
   "id": "3a65a25b",
   "metadata": {},
   "outputs": [],
   "source": [
    "def evaluate(grid_for_eval, newton_coefs, x):\n",
    "\n",
    "    return s"
   ]
  },
  {
   "cell_type": "code",
   "execution_count": null,
   "id": "eaed8e39",
   "metadata": {},
   "outputs": [],
   "source": [
    "n = 20\n",
    "x = np.linspace(-1., 1., n)\n",
    "f = lambda x: np.cos(x)\n",
    "\n",
    "y = f(x)\n",
    "grid = np.linspace(-1, 1., 100)\n",
    "f_grid = f(grid)\n",
    "\n",
    "newton_coefs = divided_differences_(x, y)\n",
    "        \n",
    "interpol = evaluate(grid, newton_coefs, x)\n",
    "\n",
    "plt.figure()\n",
    "plt.plot(grid, f_grid, lw=4, color='cornflowerblue', label=r'$f(x)$')\n",
    "plt.plot(grid, interpol, lw=2, color='indianred', label=r'$L_nf(x)$')\n",
    "plt.grid()\n",
    "plt.legend()\n",
    "plt.show()"
   ]
  },
  {
   "cell_type": "markdown",
   "id": "35b8609c",
   "metadata": {},
   "source": [
    "9. Try the same test with the function: $$ f_a(x) = \\frac{1}{1 + 25x^2} $$ \n"
   ]
  },
  {
   "cell_type": "markdown",
   "id": "6d6244f9",
   "metadata": {},
   "source": [
    "10. Play with the the parameters to try to improve the interpolation. How does it behave with larger n ?\n",
    "This is known as Runge's phenomenon."
   ]
  },
  {
   "cell_type": "code",
   "execution_count": null,
   "id": "1a51e067",
   "metadata": {},
   "outputs": [],
   "source": []
  },
  {
   "cell_type": "markdown",
   "id": "263e633f",
   "metadata": {},
   "source": [
    "11. Change the interpolation points to the Tchebychev sequence:\n",
    "$$ x_i = \\cos(\\frac{2i + 1}{2n} \\pi) $$\n",
    "How do you explain the result ?"
   ]
  },
  {
   "cell_type": "code",
   "execution_count": null,
   "id": "493466d8",
   "metadata": {},
   "outputs": [],
   "source": []
  },
  {
   "cell_type": "markdown",
   "id": "cc77d345",
   "metadata": {},
   "source": [
    "\n",
    "12. To explain this, let's evaluate the quality of our approximation. Consider $x = x_{n+1}$. Using the first question, provide a formula for $a_n$ as a function of $e(x) = f(x) - L_{n}, f(x)$ and $w_{n+1}(x)$."
   ]
  },
  {
   "cell_type": "markdown",
   "id": "8da28b23",
   "metadata": {},
   "source": [
    "13. Show that there exists $s$ such that:\n",
    "    $$e(t) = \\frac{f^{(n+1)} (s)}{n+1!} w_{n+1}(x) $$"
   ]
  },
  {
   "cell_type": "markdown",
   "id": "f9cd84cf",
   "metadata": {},
   "source": [
    "14. Compute the norm of $w_{n+1}(x)$ for both sequences $(x_k)_k$ for different sizes $n$. What do you observe ? "
   ]
  },
  {
   "cell_type": "code",
   "execution_count": null,
   "id": "dfb46620",
   "metadata": {},
   "outputs": [],
   "source": []
  }
 ],
 "metadata": {
  "kernelspec": {
   "display_name": "Python 3 (ipykernel)",
   "language": "python",
   "name": "python3"
  },
  "language_info": {
   "codemirror_mode": {
    "name": "ipython",
    "version": 3
   },
   "file_extension": ".py",
   "mimetype": "text/x-python",
   "name": "python",
   "nbconvert_exporter": "python",
   "pygments_lexer": "ipython3",
   "version": "3.9.1"
  }
 },
 "nbformat": 4,
 "nbformat_minor": 5
}
