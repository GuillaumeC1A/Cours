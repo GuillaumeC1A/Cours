{
 "cells": [
  {
   "cell_type": "markdown",
   "id": "39b884f3-9651-4ba5-8a35-864ded708163",
   "metadata": {},
   "source": [
    "# Travaux Pratique - Chaînes de Markov Cachées - SI221 - 5 Avril 2022"
   ]
  },
  {
   "cell_type": "code",
   "execution_count": 220,
   "id": "4a44f1a9-43ae-4e67-be69-5aaa397d8d07",
   "metadata": {},
   "outputs": [],
   "source": [
    "import numpy as np\n",
    "import matplotlib.pyplot as plt\n",
    "dic={'1' : ' ', '2' : 'a', '3' : 'b', '4': 'c', '5' : 'd', '6' : 'e', '7': 'f', '8' : 'g', '9' : 'h', '10': 'i', '11': 'j',\n",
    "'12' : 'k', '13' : 'l', '14': 'm', '15' : 'n', '16' : 'o', '17': 'p', '18' : 'q', '19' : 'r' , '20': 's', '21' : 't', '22'\n",
    ": 'u', '23': 'v', '24' : 'w', '25' : 'x' , '26': 'y', '27' : 'z', '28' : ' ' }"
   ]
  },
  {
   "cell_type": "markdown",
   "id": "06e949c3-6b78-49c8-a5d9-2c5495d3c3bc",
   "metadata": {},
   "source": [
    "<h4> <strong> Q1.2a Matrice de transitions </strong> </h4>\n",
    "La première ligne de la matrice correspond donc à l'ensemble des transitions de l'état 1 à l'état j. Comme l'état 1 correspond à l'espace précédant le mot, les probabilités aux coordonnées (1,j) correspondent simplement à la probabilité de **commencer** par la lettre en question. \n",
    "</br> La dernière colonne correspond réciproquement aux transitions de i à 28, c'est à dire d'une lettre quelconque à l'espace après la fin du mot. En d'autres termes, la probabilité de **terminer** par la lettre en question. \n",
    "</br> Pour les transitions les plus fréquentes en anglais avec bigramenglish :"
   ]
  },
  {
   "cell_type": "code",
   "execution_count": 284,
   "id": "88109ba8-019f-417c-96ac-5259b1978c7a",
   "metadata": {},
   "outputs": [
    {
     "data": {
      "text/plain": [
       "(28, 28)"
      ]
     },
     "execution_count": 284,
     "metadata": {},
     "output_type": "execute_result"
    }
   ],
   "source": [
    "#File opener and reader :\n",
    "bigram_eng = np.loadtxt('bigramenglish.txt')\n",
    "bigram_fr  = np.loadtxt('bigramfrancais.txt')\n",
    "np.shape(bigram_eng)"
   ]
  },
  {
   "cell_type": "code",
   "execution_count": 222,
   "id": "ce9bd9ce-ee21-4d68-acac-fa4187875a83",
   "metadata": {},
   "outputs": [
    {
     "name": "stdout",
     "output_type": "stream",
     "text": [
      "En anglais, les transitions les plus fréquentes sont les suivantes : \n",
      "\n",
      "Passage de l'état 0, lettre   vers l'état 21, lettre t avec une probabilité de 0.16452225.\n",
      "Passage de l'état 1, lettre a vers l'état 15, lettre n avec une probabilité de 0.22051689.\n",
      "Passage de l'état 2, lettre b vers l'état 6, lettre e avec une probabilité de 0.28275808.\n",
      "Passage de l'état 3, lettre c vers l'état 16, lettre o avec une probabilité de 0.16686338.\n",
      "Passage de l'état 4, lettre d vers l'état 28, lettre   avec une probabilité de 0.59884373.\n",
      "Passage de l'état 5, lettre e vers l'état 28, lettre   avec une probabilité de 0.36047379.\n",
      "Passage de l'état 6, lettre f vers l'état 28, lettre   avec une probabilité de 0.39653963.\n",
      "Passage de l'état 7, lettre g vers l'état 28, lettre   avec une probabilité de 0.31566736.\n",
      "Passage de l'état 8, lettre h vers l'état 6, lettre e avec une probabilité de 0.46971451.\n",
      "Passage de l'état 9, lettre i vers l'état 15, lettre n avec une probabilité de 0.24528243.\n",
      "Passage de l'état 10, lettre j vers l'état 16, lettre o avec une probabilité de 0.46979866.\n",
      "Passage de l'état 11, lettre k vers l'état 28, lettre   avec une probabilité de 0.37225637.\n",
      "Passage de l'état 12, lettre l vers l'état 6, lettre e avec une probabilité de 0.17086033.\n",
      "Passage de l'état 13, lettre m vers l'état 6, lettre e avec une probabilité de 0.26768727.\n",
      "Passage de l'état 14, lettre n vers l'état 28, lettre   avec une probabilité de 0.29421872.\n",
      "Passage de l'état 15, lettre o vers l'état 15, lettre n avec une probabilité de 0.16035077.\n",
      "Passage de l'état 16, lettre p vers l'état 6, lettre e avec une probabilité de 0.19473793.\n",
      "Passage de l'état 17, lettre q vers l'état 22, lettre u avec une probabilité de 0.96368715.\n",
      "Passage de l'état 18, lettre r vers l'état 6, lettre e avec une probabilité de 0.24477159.\n",
      "Passage de l'état 19, lettre s vers l'état 28, lettre   avec une probabilité de 0.43030156.\n",
      "Passage de l'état 20, lettre t vers l'état 9, lettre h avec une probabilité de 0.33937505.\n",
      "Passage de l'état 21, lettre u vers l'état 19, lettre r avec une probabilité de 0.15036937.\n",
      "Passage de l'état 22, lettre v vers l'état 6, lettre e avec une probabilité de 0.61843409.\n",
      "Passage de l'état 23, lettre w vers l'état 2, lettre a avec une probabilité de 0.20323878.\n",
      "Passage de l'état 24, lettre x vers l'état 21, lettre t avec une probabilité de 0.20061728.\n",
      "Passage de l'état 25, lettre y vers l'état 28, lettre   avec une probabilité de 0.77582944.\n",
      "Passage de l'état 26, lettre z vers l'état 6, lettre e avec une probabilité de 0.55662188.\n",
      "Passage de l'état 27, lettre   vers l'état 28, lettre   avec une probabilité de 1.0.\n"
     ]
    }
   ],
   "source": [
    "print('En anglais, les transitions les plus fréquentes sont les suivantes : \\n')\n",
    "for i in range(28): #On ne se préoccupe évidemment pas de ce qui suit l'état \"fin de mot\", donc on pourrait mettre range(27), mais je le laisse pour être sûr qu'il n'y a pas de problème dans la matrice\n",
    "    mostcommon = 0\n",
    "    letter = 0\n",
    "    for j in range(28):\n",
    "        b_ij = bigram_eng[i][j]\n",
    "        if b_ij>mostcommon:\n",
    "            mostcommon = b_ij\n",
    "            letter = j\n",
    "    print(\"Passage de l'état \"+str(i)+\", lettre \"+dic[str(i+1)]+\" vers l'état \"+str(letter+1)+', lettre '+dic[str(letter+1)]+' avec une probabilité de '+str(mostcommon)+'.')"
   ]
  },
  {
   "cell_type": "markdown",
   "id": "3d1de11c-b6d3-4de5-a455-3326c6dcbb47",
   "metadata": {},
   "source": [
    "Bien sûr, la phrase 'transition vers la lettre   avec une prob...' signifie que le plus probable avec la lettre donnée est la fin du mot."
   ]
  },
  {
   "cell_type": "code",
   "execution_count": 223,
   "id": "cd13d61c-2b7e-4650-a010-5060bf603b43",
   "metadata": {},
   "outputs": [],
   "source": [
    "def F(i, bigram=bigram_eng):\n",
    "    return np.cumsum(bigram[i])"
   ]
  },
  {
   "cell_type": "code",
   "execution_count": 224,
   "id": "e73b7f93-0921-4d59-8f71-279eaf7f61ca",
   "metadata": {},
   "outputs": [
    {
     "data": {
      "image/png": "[encoded data removed]",
      "text/plain": [
       "<Figure size 432x288 with 1 Axes>"
      ]
     },
     "metadata": {
      "needs_background": "light"
     },
     "output_type": "display_data"
    }
   ],
   "source": [
    "absc = np.linspace(1,28,28)\n",
    "ordoA = F(1)\n",
    "\n",
    "plt.close('all')\n",
    "plt.plot(absc, ordoA, label='Fonction de répartition des transitions cumulées de la lettre A')\n",
    "plt.legend()\n",
    "plt.show()"
   ]
  },
  {
   "cell_type": "code",
   "execution_count": 225,
   "id": "b223765e-502f-4189-8da3-acd72dbd67b6",
   "metadata": {},
   "outputs": [
    {
     "data": {
      "image/png": "[encoded data removed]",
      "text/plain": [
       "<Figure size 432x288 with 1 Axes>"
      ]
     },
     "metadata": {
      "needs_background": "light"
     },
     "output_type": "display_data"
    }
   ],
   "source": [
    "absc = np.linspace(1,28,28)\n",
    "ordoA = F(2)\n",
    "\n",
    "plt.close('all')\n",
    "plt.plot(absc, ordoA, label='Fonction de répartition des transitions cumulées de la lettre B')\n",
    "plt.legend()\n",
    "plt.show()"
   ]
  },
  {
   "cell_type": "markdown",
   "id": "5a482676-c939-46d1-b04e-6ed0ba417b42",
   "metadata": {},
   "source": [
    "A partir de la fonction de répartition, on peut remonter à la densité (ici donc discrète, ce sont des diracs, cette fonction de répartition est trompeuse : en réalité ce sont des créneaux, les lignes sont horizontales et verticales, jamais obliques, puisque la densité est discrète, on ne fait qu'ajouter ponctuellement des poids). \n",
    "</br> Pour ce faire, on peut faire F(ligne, t) - F(ligne, t-1) ce qui permet d'obtenir P(ligne, t).\n",
    "</br> On peut aussi l'utiliser différemment :<strong> cette fonction de répartition a assigné bijectivement des plages de valeurs disjointes à des états directement proportionnellement à leur fréquence. En d'autres termes, on peut tirer un nombre aléatoire entre 0 et un, prendre l'inverse de la fonction de répartition et on obtient ainsi un état quelconque issu de A en fonction de sa probabilité. </strong>C'est ce que je code juste en-dessous : on parcourt nos plages dans l'ordre croissant, et on tombe sur la bonne lorsque l'on dépasse notre nombre aléatoire pour la première fois. Alors on return pour mettre fin à la fonction. "
   ]
  },
  {
   "cell_type": "code",
   "execution_count": 226,
   "id": "1d531486-b937-4ae3-bbf8-c25379810e16",
   "metadata": {},
   "outputs": [],
   "source": [
    "def etat_suivant(etat, bigram = bigram_eng): #Attention à ne pas oublier le return i+1 à la fin, a correspond à 2 et non pas à 1 à cause de l'indexation commençant par l'espace précédant le mot. \n",
    "    rep = F(etat, bigram = bigram)\n",
    "    nb = np.random.random() #Nombre aléatoire entre 0 et 1\n",
    "    for i in range(1,np.shape(bigram)[1]): #On veut toujours générer un mot, sans stagner en \n",
    "        if nb<=rep[i]:\n",
    "            return i+1 #Inversion effective de la fonction de répartition (la cdf en anglais). On retourne l'état correspondant à la plage (les plages disjointes sont les [rep[i], rep[i+1]]"
   ]
  },
  {
   "cell_type": "code",
   "execution_count": 227,
   "id": "5eee9a01-d9e8-4d71-930a-9b846e3195fe",
   "metadata": {},
   "outputs": [
    {
     "name": "stdout",
     "output_type": "stream",
     "text": [
      "20\n"
     ]
    }
   ],
   "source": [
    "print(etat_suivant(1)) #En essayant plein de fois notre fonction, on tombe très souvent sur 15 et 10, et si on regarde dans la matrice de transition (ou dans notre code plus haut), \n",
    "                       #On tombe sur les fréquences les plus hautes pour les transitions de 1 à 15 et 1 à 10. (AN et AI)"
   ]
  },
  {
   "cell_type": "code",
   "execution_count": 228,
   "id": "0b154501-22e0-48e4-b96d-6e1c5a8793a0",
   "metadata": {},
   "outputs": [],
   "source": [
    "def generate_state_seq(bigram = bigram_eng):\n",
    "    F_list = [1]\n",
    "    while((F_list[-1] != 28)):\n",
    "        #print(display_seq(F_list)) #Enlever le premier commentaire pour voir les chaînes se construire\n",
    "        F_list.append(etat_suivant(F_list[-1]-1, bigram=bigram))\n",
    "    return F_list"
   ]
  },
  {
   "cell_type": "code",
   "execution_count": 229,
   "id": "4b579d9d-2385-4b8f-8de9-59b467bbf19e",
   "metadata": {},
   "outputs": [],
   "source": [
    "def display_seq(chain):\n",
    "    return [dic[str(x)] for x in chain]"
   ]
  },
  {
   "cell_type": "code",
   "execution_count": 230,
   "id": "335c325b-98a1-483b-87e0-4b533a962323",
   "metadata": {},
   "outputs": [],
   "source": [
    "def ezRd(A):\n",
    "    str = ''\n",
    "    for ch in A:\n",
    "        str += ch\n",
    "    return str #Pour transformer des tableaux de caractères en mots lisibles, en chaînes de caractères."
   ]
  },
  {
   "cell_type": "code",
   "execution_count": 231,
   "id": "a4ae6d55-8828-488f-8fc1-06acd1e14b33",
   "metadata": {},
   "outputs": [
    {
     "name": "stdout",
     "output_type": "stream",
     "text": [
      "[' s ', ' ancour ', ' henofimirs ']\n"
     ]
    }
   ],
   "source": [
    "seqList = [ezRd(display_seq(generate_state_seq())),ezRd(display_seq(generate_state_seq())),ezRd(display_seq(generate_state_seq()))] #Je laisse le dernier exemple en format brut pour voir le début et la fin.\n",
    "print(seqList)"
   ]
  },
  {
   "cell_type": "markdown",
   "id": "5beb6b9e-c5d5-42d2-a602-d2be55a610bc",
   "metadata": {},
   "source": [
    "On génère ainsi des chaînes de cractères un peu décousues, qui parfois se finissent abruptement, selon les lois de probabilités de chacun des caractères, données par bigram_eng. Ces lois sont imparfaites, donc les mots également.\n",
    "</br> Il se trouve qu'on est quand même tombés sur le mot <strong> by </strong> qui existe en anglais, mais habituellement ici les mots générés ne sont pas vraiment satisfaisants, comme bomy.</br></br>\n",
    "On peut quand même constater une alternance (sur plusieurs échantillons testés à la main, ou voir dans les phrases en bas) voyelle-consonne qu'on note habituellement dans le langage anglais : les générations de lettres font quand même un peu de sens, avec des transitions entre lettres qui sont aussi probables qu'elles sont fréquentes dans le langage, donc on n'est en général pas choqués des mots que l'on génère."
   ]
  },
  {
   "cell_type": "code",
   "execution_count": 232,
   "id": "2d532afb-a500-4ff7-82a7-0636cb59d9e9",
   "metadata": {},
   "outputs": [],
   "source": [
    "#Ajoutons le caractère . à notre dictionnaire :\n",
    "dic['29'] = '.'"
   ]
  },
  {
   "cell_type": "code",
   "execution_count": 233,
   "id": "85e0ce36-8775-4140-bba0-2b7f5858af3a",
   "metadata": {},
   "outputs": [
    {
     "data": {
      "text/plain": [
       "{'1': ' ',\n",
       " '2': 'a',\n",
       " '3': 'b',\n",
       " '4': 'c',\n",
       " '5': 'd',\n",
       " '6': 'e',\n",
       " '7': 'f',\n",
       " '8': 'g',\n",
       " '9': 'h',\n",
       " '10': 'i',\n",
       " '11': 'j',\n",
       " '12': 'k',\n",
       " '13': 'l',\n",
       " '14': 'm',\n",
       " '15': 'n',\n",
       " '16': 'o',\n",
       " '17': 'p',\n",
       " '18': 'q',\n",
       " '19': 'r',\n",
       " '20': 's',\n",
       " '21': 't',\n",
       " '22': 'u',\n",
       " '23': 'v',\n",
       " '24': 'w',\n",
       " '25': 'x',\n",
       " '26': 'y',\n",
       " '27': 'z',\n",
       " '28': ' ',\n",
       " '29': '.'}"
      ]
     },
     "execution_count": 233,
     "metadata": {},
     "output_type": "execute_result"
    }
   ],
   "source": [
    "dic #Je ne vais pas faire de fonction à part entière pour modifier un dictionnaire quand cela prend une instruction \"à l'air libre\" pour être fait. Pour la matrice, c'est différent."
   ]
  },
  {
   "cell_type": "code",
   "execution_count": 234,
   "id": "f572a17d-fa44-458c-bf1e-c99645c310f4",
   "metadata": {},
   "outputs": [
    {
     "name": "stdout",
     "output_type": "stream",
     "text": [
      "(28, 28)\n",
      "[0.0000000e+00 1.1268720e-01 4.3608943e-02 4.5454545e-02 3.2904451e-02\n",
      " 2.2094495e-02 4.1763341e-02 1.5555790e-02 6.4437882e-02 6.8920059e-02\n",
      " 3.6384729e-03 4.2185193e-03 2.3465514e-02 3.9759544e-02 2.2832736e-02\n",
      " 7.0343809e-02 3.1058848e-02 1.4237503e-03 2.5680236e-02 6.6916262e-02\n",
      " 1.6452225e-01 1.0388104e-02 7.0660198e-03 7.0502004e-02 1.0546298e-04\n",
      " 1.0599030e-02 5.2731491e-05 0.0000000e+00]\n"
     ]
    }
   ],
   "source": [
    "print(np.shape(bigram_eng))\n",
    "print(bigram_eng[0]) #Avant"
   ]
  },
  {
   "cell_type": "code",
   "execution_count": 235,
   "id": "34c33e31-f7b6-4efb-a6bc-2761206a729a",
   "metadata": {},
   "outputs": [],
   "source": [
    "#Nous avons bien actualisé notre dictionnaire. Maintenant, passons à l'actualisation de notre matrice de transition, originalement tirée de bigramenglish :\n",
    "def modifie_mat(A):          #J'aurais pu hard coder 28,28 mais ça ne me prenait pas plus longtemps de le faire pour le cas général (d'autres alphabets typiquement)\n",
    "    lin,col = np.shape(A)\n",
    "    B = np.zeros((lin,col+1)) #Col + 1 afin d'inclure le nouvel état 29. En revanche, comme cet état est réellement final,  il n'a pas besoin de ligne. \n",
    "    \n",
    "    #Recopiage des valeurs inchangées pour les états non finaux \n",
    "    for i in range(lin):\n",
    "        for j in range(col):\n",
    "            B[i][j] = A[i][j]\n",
    "    \n",
    "    #Modification de la ligne de l'état final de mot \n",
    "    B[lin-1][0] = 0.9  #90% de chances de revenir au début d'un mot\n",
    "    B[lin-1][-1] = 0.1 #10% de chances de finir la phrase. \n",
    "    B[lin-1][-2] = 0   #0% de chance de rester dans cet état (on n'est plus dans la situation précédente de mots isolés)\n",
    "    return B\n"
   ]
  },
  {
   "cell_type": "code",
   "execution_count": 285,
   "id": "aa0234a1-7f17-4903-b647-044af6a54f62",
   "metadata": {},
   "outputs": [],
   "source": [
    "bigram_eng2 = modifie_mat(bigram_eng)\n",
    "bigram_fr2  = modifie_mat(bigram_fr)"
   ]
  },
  {
   "cell_type": "code",
   "execution_count": 237,
   "id": "9815c52a-cbd7-41a7-a70d-24141c785018",
   "metadata": {},
   "outputs": [
    {
     "name": "stdout",
     "output_type": "stream",
     "text": [
      "(28, 29)\n",
      "[0.0000000e+00 1.1268720e-01 4.3608943e-02 4.5454545e-02 3.2904451e-02\n",
      " 2.2094495e-02 4.1763341e-02 1.5555790e-02 6.4437882e-02 6.8920059e-02\n",
      " 3.6384729e-03 4.2185193e-03 2.3465514e-02 3.9759544e-02 2.2832736e-02\n",
      " 7.0343809e-02 3.1058848e-02 1.4237503e-03 2.5680236e-02 6.6916262e-02\n",
      " 1.6452225e-01 1.0388104e-02 7.0660198e-03 7.0502004e-02 1.0546298e-04\n",
      " 1.0599030e-02 5.2731491e-05 0.0000000e+00 0.0000000e+00]\n"
     ]
    }
   ],
   "source": [
    "print(np.shape(bigram_eng2))\n",
    "print(bigram_eng2[0][:]) #Après"
   ]
  },
  {
   "cell_type": "code",
   "execution_count": 238,
   "id": "43029f2f-0055-4d1f-b44c-379b8dad703c",
   "metadata": {},
   "outputs": [
    {
     "name": "stdout",
     "output_type": "stream",
     "text": [
      "[0.0000000e+00 4.5607163e-02 3.1710502e-03 1.8653236e-02 7.8063794e-02\n",
      " 2.7979855e-02 9.6064167e-03 7.1814960e-03 1.6787913e-03 1.6041783e-02\n",
      " 2.7979855e-04 9.3266182e-04 3.0777840e-02 2.6207797e-02 8.6737549e-02\n",
      " 2.1451222e-03 1.0818877e-02 3.0777840e-03 1.2562955e-01 7.2094758e-02\n",
      " 2.3316545e-02 4.6633091e-04 1.6601380e-02 8.8602873e-03 8.3939564e-03\n",
      " 1.5109121e-02 9.3266182e-05 3.6047379e-01 0.0000000e+00]\n"
     ]
    }
   ],
   "source": [
    "print(bigram_eng2[5][:])"
   ]
  },
  {
   "cell_type": "code",
   "execution_count": 239,
   "id": "1db30797-0a34-4a1a-930b-9a93d38b790c",
   "metadata": {},
   "outputs": [
    {
     "name": "stdout",
     "output_type": "stream",
     "text": [
      "[0.9 0.  0.  0.  0.  0.  0.  0.  0.  0.  0.  0.  0.  0.  0.  0.  0.  0.\n",
      " 0.  0.  0.  0.  0.  0.  0.  0.  0.  0.  0.1]\n"
     ]
    }
   ],
   "source": [
    "print(bigram_eng2[27][:])"
   ]
  },
  {
   "cell_type": "markdown",
   "id": "05f45ab8-14db-40da-8327-9fab95fb2cb1",
   "metadata": {},
   "source": [
    "Le nouveau dictionnaire correspond bien aux attentes de la question : la probabilité de transition vers l'état '.' est bien de 0.1 depuis l'état final de mot."
   ]
  },
  {
   "cell_type": "code",
   "execution_count": 240,
   "id": "8b909764-cf75-403a-9d3e-7af9522b66cd",
   "metadata": {},
   "outputs": [],
   "source": [
    "def generate_sentence(bigram = bigram_eng2):\n",
    "    #Générer la phrase à partir de mots tant qu'on n'a pas atteint un point\n",
    "    sen = [generate_state_seq(bigram = bigram)]\n",
    "    #print(sen) #Enlever le premier commentaire ici et dans le while pour voir l'évolution de la séquence de mots\n",
    "    while etat_suivant(sen[-1][-1]-1, bigram=bigram) != 29:\n",
    "        \n",
    "        #On aurait pu simplement choisir à la fin de chaque mot de passer à une fin de phrase avec proba 0.1, mais c'est trop simple.\n",
    "        #La méthode plus générale que j'ai choisie permettra de calculer à partir d'un état donné si on s'arrête ou pas en fonction du bigram.\n",
    "        #Dans notre cas, sen[-1][-1] est toujours égal à 28, c'est la délimitation finale d'un mot. \n",
    "        #Mais on pourrait imaginer d'autres façons de coder avec des finaux différents, comme 'final de nom commun', ou 'final de verbe'.\n",
    "        #Ils ne correspondraient pas à la même chance de finir la phrase et cela se verrait dans leur ligne du bigram.\n",
    "        \n",
    "        sen.append(generate_state_seq(bigram = bigram))\n",
    "        #print(sen)\n",
    "        \n",
    "    #Un peu de cuisine pour former une phrase dans une seule chaîne\n",
    "    res = ''\n",
    "    for x in sen:\n",
    "        res+=ezRd(display_seq(x))\n",
    "    return res+'.'"
   ]
  },
  {
   "cell_type": "code",
   "execution_count": 241,
   "id": "f309139c-02fd-4897-9f40-ea91e8e9a851",
   "metadata": {},
   "outputs": [
    {
     "name": "stdout",
     "output_type": "stream",
     "text": [
      " sthwholingu  f  rs  thind  s  anks  s  whesue  re  tcod  ar  mot  t  is  wio  teauawhe  rmuptiesthe .\n"
     ]
    }
   ],
   "source": [
    "sen1 = generate_sentence(bigram_eng2)\n",
    "print(sen1)"
   ]
  },
  {
   "cell_type": "markdown",
   "id": "bc8e9669-2ecb-4a35-b590-0866cafa6426",
   "metadata": {},
   "source": [
    "On génère donc des mots (qui ne sont pas très bien générés de base) qui se suivent, de manière indépendante, donc on ne construit pas vraiment une phrase mais plutôt une suite de lettres probables à la suite jusqu'à rencontrer un point. Voici quelques exemples:"
   ]
  },
  {
   "cell_type": "code",
   "execution_count": 242,
   "id": "16e5b467-e433-4756-858c-ec0386cd80a0",
   "metadata": {},
   "outputs": [
    {
     "name": "stdout",
     "output_type": "stream",
     "text": [
      " ithendathts  hed  aitand  umfifived  he .\n"
     ]
    }
   ],
   "source": [
    "sen1 = generate_sentence(bigram_eng2)\n",
    "print(sen1)"
   ]
  },
  {
   "cell_type": "code",
   "execution_count": 243,
   "id": "7418bb3e-ea63-4958-a33b-b45ffe9790c8",
   "metadata": {},
   "outputs": [
    {
     "name": "stdout",
     "output_type": "stream",
     "text": [
      " r .\n"
     ]
    }
   ],
   "source": [
    "sen1 = generate_sentence(bigram_eng2)\n",
    "print(sen1)"
   ]
  },
  {
   "cell_type": "code",
   "execution_count": 244,
   "id": "71dca2ec-a444-4cba-81d7-b481fd8feed7",
   "metadata": {},
   "outputs": [
    {
     "name": "stdout",
     "output_type": "stream",
     "text": [
      " thicumangotond  herisselece  t  turas .\n"
     ]
    }
   ],
   "source": [
    "sen1 = generate_sentence(bigram_eng2)\n",
    "print(sen1)"
   ]
  },
  {
   "cell_type": "markdown",
   "id": "aeab27dd-03a5-49ea-a8e8-59505fdbfd6b",
   "metadata": {},
   "source": [
    "Plus d'exemples dans une liste :"
   ]
  },
  {
   "cell_type": "code",
   "execution_count": 245,
   "id": "7794716f-9b90-45a9-9cec-8f822e9fa821",
   "metadata": {},
   "outputs": [
    {
     "name": "stdout",
     "output_type": "stream",
     "text": [
      "[' dibe  tef  wovin  pe  t .', ' t  mione  g  te  ng  lise  oafro  n  s  me  arer  tris  inthele  f  heme  ithend  ta  scheas  she  es  uashentambofin  ourmarienex  aks .', ' thatsus  buscosulalen  heeredint  hevicupr  ath  is .', ' blerse .', ' f  thetasatrso  tabiapu  ohirsha  ls .', ' ucomacrk .', ' f  canow  lifor .', ' heenggaives  thatos  s  mones  wis  the  athe  s  if  thed  h  abuborerant  thanculd  orof  mois  ge  ss .', ' erite  wapupon  s  bliresemaind  cakerond  ions  owato  astyowakesenthadebonghe  les  isurel  ored  s  m .', ' fonfat  n  shin  avas  t  whesof  arer  threnthaner  id  tatr .']\n"
     ]
    }
   ],
   "source": [
    "sentences = [generate_sentence(bigram_eng2) for i in range(10)]\n",
    "print(sentences)"
   ]
  },
  {
   "cell_type": "markdown",
   "id": "d88f93ad-30c3-420f-99e3-a116a91b0fb5",
   "metadata": {},
   "source": [
    "# Vraisemblance - Une fonction auxiliaire et une fonction générale"
   ]
  },
  {
   "cell_type": "code",
   "execution_count": null,
   "id": "077d09c7-4e3a-4590-88eb-0e7bc88ce487",
   "metadata": {},
   "outputs": [],
   "source": [
    "def get_key(val, dic=dic):\n",
    "    for key, value in dic.items():\n",
    "         if val == value:\n",
    "            return key\n",
    "    return \"Pas de clé\""
   ]
  },
  {
   "cell_type": "code",
   "execution_count": 280,
   "id": "f8c825cf-4816-4a8d-96c9-d3d5dc8a59bd",
   "metadata": {},
   "outputs": [],
   "source": [
    "def calc_vraisemblance(sen = 'to be or not to be', bigram = bigram_eng2, dic = dic):\n",
    "     #Pour calculer la vraisemblance et traiter comme il faut les espaces, je vais considérer que les espaces entre mots sont toujours des 'fins de mot', et que le point délimite toujours\n",
    "     #la fin de phrase (ce qui est correct, mais me permet d'éviter de modifier la string pour la traiter autrement). Je vais également traiter à part le début de la phrase :\n",
    "    \n",
    "     #Pour ce faire, je vais itérer sur les caractères grâce à l'excellent for c in 'sentence', ainsi qu'à l'accès aux clés du dictionnaire par valeur :\n",
    "    \n",
    "    score = 1\n",
    "    cur = 0\n",
    "    pre = 1 #etat precedent\n",
    "    puis = 0 #Puissance de 10 du score pour contourner le problème de la vraisemblance trop faible. (qui est tellement faible de toute façon, on cherche une aiguille dans une botte de foin avec cette vraisemblance)\n",
    "    for c in sen:\n",
    "        cur = int(get_key(c.lower())) #On enleve les majuscules qui ne seraient pas prises en compte par le dictionnaire. Les tirets et autres caractères spéciaux / accents ne le seraient pas non plus.\n",
    "        if c == ' ':\n",
    "            cur = 27\n",
    "        score *= bigram[pre-1][cur-1]\n",
    "        while score <= 1:\n",
    "            print(score)\n",
    "            score *=10\n",
    "            puis -=1\n",
    "        pre = cur #On change l'état précédent pour le nouveau puisqu'on avance\n",
    "    return score, puis"
   ]
  },
  {
   "cell_type": "code",
   "execution_count": 283,
   "id": "e03597ad-9a74-454d-b119-7fa27143571e",
   "metadata": {},
   "outputs": [
    {
     "name": "stdout",
     "output_type": "stream",
     "text": [
      "0.16452225\n",
      "0.1462043180066625\n",
      "0.00022894506977674199\n",
      "0.00228945069776742\n",
      "0.0228945069776742\n",
      "0.228945069776742\n",
      "0.0043943391590948785\n",
      "0.04394339159094879\n",
      "0.4394339159094879\n",
      "0.00011588648645066886\n",
      "0.0011588648645066886\n",
      "0.011588648645066885\n",
      "0.11588648645066885\n",
      "0.0022243087650530616\n",
      "0.022243087650530617\n",
      "0.22243087650530619\n",
      "0.25670460521646693\n",
      "4.9987266319065916e-05\n",
      "0.0004998726631906591\n",
      "0.0049987266319065915\n",
      "0.049987266319065915\n",
      "0.49987266319065915\n",
      "0.00959448491536334\n",
      "0.0959448491536334\n",
      "0.9594484915363339\n",
      "0.5071130653759296\n",
      "0.23664217701167228\n",
      "2.9744610652706557e-05\n",
      "0.0002974461065270656\n",
      "0.002974461065270656\n",
      "0.02974461065270656\n",
      "0.2974461065270656\n",
      "0.005709138331333371\n",
      "0.057091383313333716\n",
      "0.5709138331333372\n",
      "0.5073482013151965\n",
      "0.0007944694858185997\n",
      "0.007944694858185997\n",
      "0.07944694858185997\n",
      "0.7944694858185997\n",
      "0.015248934496135217\n",
      "0.15248934496135216\n",
      "0.43117594401729614\n"
     ]
    },
    {
     "data": {
      "text/plain": [
       "(4.3117594401729615, -43)"
      ]
     },
     "execution_count": 283,
     "metadata": {},
     "output_type": "execute_result"
    }
   ],
   "source": [
    "calc_vraisemblance()"
   ]
  },
  {
   "cell_type": "markdown",
   "id": "98a8b3a9-76ed-40cf-aa5f-c163c9076eae",
   "metadata": {},
   "source": [
    "La vraisemblance par rapport au dictionnaire anglais de 'to be or not to be' est de $4.3 * 10^{-43}$. Comparons avec la vraisemblance de la même phrase par rapport au dictionnaire français, puis on prendra ensuite l'équivalent français dont on étudiera la vraisemblance par rapport aux deux dictionnaires :"
   ]
  },
  {
   "cell_type": "code",
   "execution_count": 286,
   "id": "58b6a346-9be0-4b88-b658-2e23df0f0bdd",
   "metadata": {},
   "outputs": [
    {
     "name": "stdout",
     "output_type": "stream",
     "text": [
      "0.013679891\n",
      "0.13679891\n",
      "0.0543018567362496\n",
      "0.543018567362496\n",
      "0.0014832520129411106\n",
      "0.014832520129411107\n",
      "0.14832520129411106\n",
      "0.032961155513524236\n",
      "0.3296115551352424\n",
      "0.06810156089663398\n",
      "0.6810156089663398\n",
      "0.007604864530484234\n",
      "0.07604864530484234\n",
      "0.7604864530484234\n",
      "0.12001971225451101\n",
      "0.00033422364549574206\n",
      "0.003342236454957421\n",
      "0.03342236454957421\n",
      "0.33422364549574207\n",
      "0.07427192047855681\n",
      "0.7427192047855681\n",
      "0.8450206053335274\n",
      "0.13849013125089993\n",
      "0.0004228706277651047\n",
      "0.004228706277651047\n",
      "0.04228706277651047\n",
      "0.42287062776510465\n",
      "0.09397124967475519\n",
      "0.9397124967475519\n",
      "0.3730156429729519\n",
      "0.0010188900279883247\n",
      "0.010188900279883248\n",
      "0.10188900279883248\n",
      "0.022642000395542768\n",
      "0.22642000395542766\n",
      "0.046780992496637114\n",
      "0.46780992496637114\n"
     ]
    },
    {
     "data": {
      "text/plain": [
       "(4.6780992496637115, -37)"
      ]
     },
     "execution_count": 286,
     "metadata": {},
     "output_type": "execute_result"
    }
   ],
   "source": [
    "calc_vraisemblance(bigram = bigram_fr2)"
   ]
  },
  {
   "cell_type": "markdown",
   "id": "b6eeecbe-6db7-4275-aaf6-488f9ff41b04",
   "metadata": {},
   "source": [
    "Il semble donc que la phrase soit plus vraisemblable en français qu'en anglais. Ce n'est pas étonnant, be est assez bizarre pour un mot anglais, alors que beaucoup de mots français commencent par be. To n'est pas si invraisemblable en français, ni or. Mais il faut quand même noter au vu des résultats plus bas que la vraisemblance de cette phrase est très basse. Voyons maintenant avec l'équivalent français :"
   ]
  },
  {
   "cell_type": "code",
   "execution_count": 287,
   "id": "c6fad1d4-714c-4897-86bc-570dfd5edc6d",
   "metadata": {},
   "outputs": [
    {
     "name": "stdout",
     "output_type": "stream",
     "text": [
      "0.022094495\n",
      "0.22094494999999997\n",
      "0.0515167286919775\n",
      "0.515167286919775\n",
      "0.1567038944356293\n",
      "0.38356661400201136\n",
      "0.0003577379363063534\n",
      "0.0035773793630635344\n",
      "0.03577379363063535\n",
      "0.3577379363063535\n",
      "0.006866371150677193\n",
      "0.06866371150677193\n",
      "0.6866371150677193\n",
      "0.7935142419393549\n",
      "0.0003468611438150913\n",
      "0.003468611438150913\n",
      "0.034686114381509134\n",
      "0.34686114381509137\n",
      "0.006657603540104443\n",
      "0.06657603540104443\n",
      "0.6657603540104442\n",
      "0.5773968449921602\n",
      "0.0005385159923126459\n",
      "0.005385159923126459\n",
      "0.05385159923126459\n",
      "0.5385159923126459\n",
      "0.010336199487178017\n",
      "0.10336199487178017\n",
      "0.12919357344956778\n",
      "0.12326398634443883\n",
      "2.293155498789225e-05\n",
      "0.0002293155498789225\n",
      "0.002293155498789225\n",
      "0.02293155498789225\n",
      "0.2293155498789225\n",
      "0.02976171660701758\n",
      "0.2976171660701758\n",
      "0.09052936814552572\n",
      "0.9052936814552571\n"
     ]
    },
    {
     "data": {
      "text/plain": [
       "(2.215901738267568, -39)"
      ]
     },
     "execution_count": 287,
     "metadata": {},
     "output_type": "execute_result"
    }
   ],
   "source": [
    "calc_vraisemblance(sen = 'etre ou ne pas etre')"
   ]
  },
  {
   "cell_type": "code",
   "execution_count": 288,
   "id": "5c732c09-8f53-4c15-889e-94b5f1adb3fd",
   "metadata": {},
   "outputs": [
    {
     "name": "stdout",
     "output_type": "stream",
     "text": [
      "0.067422318\n",
      "0.6742231799999999\n",
      "0.30868956351800036\n",
      "0.46185613895096506\n",
      "0.0015654969664784689\n",
      "0.01565496966478469\n",
      "0.1565496966478469\n",
      "0.34788821129411096\n",
      "0.7316960543484445\n",
      "0.0024545322183001502\n",
      "0.024545322183001504\n",
      "0.24545322183001506\n",
      "0.05454515986121841\n",
      "0.5454515986121842\n",
      "0.6337854668365125\n",
      "0.0070774480837481266\n",
      "0.07077448083748127\n",
      "0.7077448083748127\n",
      "0.15727662251052546\n",
      "0.2975801563793243\n",
      "0.2438348828184111\n",
      "0.0004913054168901096\n",
      "0.004913054168901096\n",
      "0.04913054168901096\n",
      "0.4913054168901096\n",
      "0.10917898043934564\n",
      "0.049987026279876515\n",
      "0.4998702627987651\n",
      "0.7478974893790973\n"
     ]
    },
    {
     "data": {
      "text/plain": [
       "(2.270142760326171, -29)"
      ]
     },
     "execution_count": 288,
     "metadata": {},
     "output_type": "execute_result"
    }
   ],
   "source": [
    "calc_vraisemblance(sen = 'etre ou ne pas etre', bigram = bigram_fr2)"
   ]
  },
  {
   "cell_type": "markdown",
   "id": "69651bcc-b006-4190-ab54-2ad7cae4d128",
   "metadata": {},
   "source": [
    "On constate pour 'etre ou ne pas etre' que la vraisemblance en anglais est très largement plus faible (10**-39) que la vraisemblance en français (10**-29) d'un facteur vraiment significatif cette fois. Là où tout à l'heure, on expliquait simplement que la vraisemblance n'était pas absurde de chaque côté, ici on a une autre conclusion à tirer :\n",
    "le langage français semble très facilement identifiable (en tout cas pour ces mots) : les petits mots 'ou ne pas' ne sont absolument pas vraisemblables en anglais, et cela se voit à la chute de score sur le premier appel à la fonction. Alors qu'en français la chute est bien moins significative."
   ]
  },
  {
   "cell_type": "markdown",
   "id": "64177d43-b168-4c68-8a00-7b7c25171de3",
   "metadata": {},
   "source": [
    "CAPITAN Guillaume 19/04 -"
   ]
  }
 ],
 "metadata": {
  "kernelspec": {
   "display_name": "Python 3 (ipykernel)",
   "language": "python",
   "name": "python3"
  },
  "language_info": {
   "codemirror_mode": {
    "name": "ipython",
    "version": 3
   },
   "file_extension": ".py",
   "mimetype": "text/x-python",
   "name": "python",
   "nbconvert_exporter": "python",
   "pygments_lexer": "ipython3",
   "version": "3.10.3"
  }
 },
 "nbformat": 4,
 "nbformat_minor": 5
}
