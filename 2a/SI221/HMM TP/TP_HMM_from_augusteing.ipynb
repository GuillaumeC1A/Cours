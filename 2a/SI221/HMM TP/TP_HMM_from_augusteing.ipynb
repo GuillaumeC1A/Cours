{
 "cells": [
  {
   "cell_type": "markdown",
   "id": "b7a0b56f-42cb-4927-bc33-757be0e44427",
   "metadata": {},
   "source": [
    "### TP SI221 HMM et chaînes de Markov\n",
    "\n",
    "#### Partie 1"
   ]
  },
  {
   "cell_type": "code",
   "execution_count": 235,
   "id": "a4a37965-8f11-489a-9475-773c513cbddd",
   "metadata": {},
   "outputs": [],
   "source": [
    "import numpy as np"
   ]
  },
  {
   "cell_type": "markdown",
   "id": "99ed401b-22e3-4cec-b96d-ddbc962d6183",
   "metadata": {},
   "source": [
    "I.2.a)\n",
    "- La première ligne de la matrice de transition correspond aux probabilités de la lettre de départ, ie le terme (1,j) de la matrice correspond à la probabilité que le mot commence par la lettre indexée par j\n",
    "\n",
    "- La dernière colonne correspond à la probabilité de finir le mot lorsqu'on est situé sur la lettre correspondant à la ligne considérée, ie le terme (i,28) correspond à la probabilité de finir le mot lorsque la lettre considérée est la lettre indexée par i.\n",
    "\n",
    "- "
   ]
  },
  {
   "cell_type": "code",
   "execution_count": 236,
   "id": "9384f473-5047-46b5-9afe-b4a03d58ba1f",
   "metadata": {},
   "outputs": [],
   "source": [
    "filename_bigramen = 'bigramenglish.txt'\n",
    "bigen = np.loadtxt(filename_bigramen)\n",
    "dic={'1' : ' ', '2' : 'a', '3' : 'b', '4': 'c', '5' : 'd', '6' : 'e', '7': 'f', '8' : 'g', '9' : 'h', '10': 'i', '11': 'j',\n",
    "'12' : 'k', '13' : 'l', '14': 'm', '15' : 'n', '16' : 'o', '17': 'p', '18' : 'q', '19' : 'r' , '20': 's', '21' : 't', '22'\n",
    ": 'u', '23': 'v', '24' : 'w', '25' : 'x' , '26': 'y', '27' : 'z', '28' : ' ','29' : str('.') }\n"
   ]
  },
  {
   "cell_type": "code",
   "execution_count": 237,
   "id": "23e8922b-b3ac-450c-ac2b-03c56561aa79",
   "metadata": {},
   "outputs": [
    {
     "name": "stdout",
     "output_type": "stream",
     "text": [
      "<class 'numpy.ndarray'>\n"
     ]
    },
    {
     "data": {
      "text/plain": [
       "(28, 28)"
      ]
     },
     "execution_count": 237,
     "metadata": {},
     "output_type": "execute_result"
    }
   ],
   "source": [
    "print(type(bigen))\n",
    "\n",
    "np.shape(bigen)"
   ]
  },
  {
   "cell_type": "code",
   "execution_count": 238,
   "id": "d7f316e3-76ed-4d81-b0f7-05499f2f7c9c",
   "metadata": {},
   "outputs": [
    {
     "name": "stdout",
     "output_type": "stream",
     "text": [
      "la transition la plus fréquente depuis la lettre  None est \n",
      "s\n",
      "la transition la plus fréquente depuis la lettre    est \n",
      "m\n",
      "la transition la plus fréquente depuis la lettre  a est \n",
      "d\n",
      "la transition la plus fréquente depuis la lettre  b est \n",
      "n\n",
      "la transition la plus fréquente depuis la lettre  c est \n",
      "z\n",
      "la transition la plus fréquente depuis la lettre  d est \n",
      "z\n",
      "la transition la plus fréquente depuis la lettre  e est \n",
      "z\n",
      "la transition la plus fréquente depuis la lettre  f est \n",
      "z\n",
      "la transition la plus fréquente depuis la lettre  g est \n",
      "d\n",
      "la transition la plus fréquente depuis la lettre  h est \n",
      "m\n",
      "la transition la plus fréquente depuis la lettre  i est \n",
      "n\n",
      "la transition la plus fréquente depuis la lettre  j est \n",
      "z\n",
      "la transition la plus fréquente depuis la lettre  k est \n",
      "d\n",
      "la transition la plus fréquente depuis la lettre  l est \n",
      "d\n",
      "la transition la plus fréquente depuis la lettre  m est \n",
      "z\n",
      "la transition la plus fréquente depuis la lettre  n est \n",
      "m\n",
      "la transition la plus fréquente depuis la lettre  o est \n",
      "d\n",
      "la transition la plus fréquente depuis la lettre  p est \n",
      "t\n",
      "la transition la plus fréquente depuis la lettre  q est \n",
      "d\n",
      "la transition la plus fréquente depuis la lettre  r est \n",
      "z\n",
      "la transition la plus fréquente depuis la lettre  s est \n",
      "g\n",
      "la transition la plus fréquente depuis la lettre  t est \n",
      "q\n",
      "la transition la plus fréquente depuis la lettre  u est \n",
      "d\n",
      "la transition la plus fréquente depuis la lettre  v est \n",
      " \n",
      "la transition la plus fréquente depuis la lettre  w est \n",
      "s\n",
      "la transition la plus fréquente depuis la lettre  x est \n",
      "z\n",
      "la transition la plus fréquente depuis la lettre  y est \n",
      "d\n",
      "la transition la plus fréquente depuis la lettre  z est \n",
      "z\n"
     ]
    }
   ],
   "source": [
    "for i in range (len(bigen)):\n",
    "    print (\"la transition la plus fréquente depuis la lettre \", dic.get(str(i)), \"est \")\n",
    "    print(dic.get(str(np.argmax(bigen[i]))))"
   ]
  },
  {
   "cell_type": "markdown",
   "id": "5c49ec9a-7e67-4679-8294-83486df36d40",
   "metadata": {},
   "source": [
    "I.2.b)"
   ]
  },
  {
   "cell_type": "code",
   "execution_count": 239,
   "id": "84de5c8a-4050-4edd-8399-2be3b32ebb8d",
   "metadata": {},
   "outputs": [],
   "source": [
    "def etat_suivant(state, bigram):\n",
    "    probs = bigram[state]\n",
    "    v = np.random.random(); # random value to choose the next state\n",
    "    i = 0 # iterator\n",
    "    fr = probs[0] # repartition function\n",
    "    while v > fr:\n",
    "        i +=1\n",
    "        fr = fr + probs[i]\n",
    "    return i+1 # matrix indices start at 0 so add +1"
   ]
  },
  {
   "cell_type": "code",
   "execution_count": 240,
   "id": "f0aabe7d-6d73-4ecf-9f63-7a6a204f80ac",
   "metadata": {},
   "outputs": [
    {
     "data": {
      "image/png": "[encoded data removed]",
      "text/plain": [
       "<Figure size 432x288 with 1 Axes>"
      ]
     },
     "metadata": {
      "needs_background": "light"
     },
     "output_type": "display_data"
    }
   ],
   "source": [
    "import matplotlib.pyplot as plt\n",
    "# let's have a look at the repartition function of line 8 ( letter g)\n",
    "rf = [bigen[8][0]] \n",
    "for j in range (1, len(bigen)):\n",
    "    rf.append(bigen[8][j] + rf[j-1])\n",
    "x = np.arange(1, 29)\n",
    "plt.plot(x, rf)\n",
    "plt.show()\n",
    "    "
   ]
  },
  {
   "cell_type": "code",
   "execution_count": 241,
   "id": "c2784497-b4d1-4ee5-b19c-be65ce85e137",
   "metadata": {},
   "outputs": [],
   "source": [
    "def generate_state_seq (bigram):\n",
    "    s = 1 #  current state \n",
    "    coded_w = [1]\n",
    "    while s <28:\n",
    "        s = etat_suivant(s, bigram)\n",
    "        coded_w.append(s)\n",
    "    return coded_w\n",
    "\n",
    "def display_seq(coded_w):\n",
    "    word = ''\n",
    "    for i in range (len(coded_w)):\n",
    "        #print(coded_w[i])\n",
    "        letter = str(dic.get(str(coded_w[i])))\n",
    "        #print(letter)\n",
    "        word += letter\n",
    "    return word\n",
    "    "
   ]
  },
  {
   "cell_type": "code",
   "execution_count": 242,
   "id": "19d06dc0-bb4f-469a-85de-730136359aa7",
   "metadata": {},
   "outputs": [
    {
     "data": {
      "text/plain": [
       "'defg  '"
      ]
     },
     "execution_count": 242,
     "metadata": {},
     "output_type": "execute_result"
    }
   ],
   "source": [
    "display_seq([5,6,7,8,1,28])"
   ]
  },
  {
   "cell_type": "code",
   "execution_count": 243,
   "id": "23d7466f-d870-4f77-a975-b1fa3e6e89c2",
   "metadata": {},
   "outputs": [
    {
     "name": "stdout",
     "output_type": "stream",
     "text": [
      " suiauieouiuioiueue \n",
      "  \n",
      " lore \n",
      " beaeueeoopueele \n",
      " dnuiopuiefhetr \n",
      " shnueerhc \n",
      " l \n",
      " yvoliole \n",
      " nborhgaoeooref \n",
      " s \n"
     ]
    }
   ],
   "source": [
    "for i in range  (10):\n",
    "    print(display_seq(generate_state_seq(bigen)))"
   ]
  },
  {
   "cell_type": "markdown",
   "id": "27c18105-5bbf-4e83-a9b8-88467056ffcb",
   "metadata": {},
   "source": [
    "I.2.c Générer des phrases"
   ]
  },
  {
   "cell_type": "code",
   "execution_count": 244,
   "id": "02b4b8d4-25ca-43fb-9b4c-4df49d4cff3f",
   "metadata": {},
   "outputs": [
    {
     "name": "stdout",
     "output_type": "stream",
     "text": [
      "[0. 0. 0. 0. 0. 0. 0. 0. 0. 0. 0. 0. 0. 0. 0. 0. 0. 0. 0. 0. 0. 0. 0. 0.\n",
      " 0. 0. 0. 1.]\n"
     ]
    }
   ],
   "source": [
    "print( bigen[-1])"
   ]
  },
  {
   "cell_type": "code",
   "execution_count": 245,
   "id": "c30fda3b-d0fd-4a4a-8d8d-d166fd2d4b6f",
   "metadata": {},
   "outputs": [],
   "source": [
    "def modifie_mat_dic(bigram):\n",
    "    bigr = bigram.copy().tolist()\n",
    "    for i in range(27):\n",
    "        bigr[i].append(0)\n",
    "        bigr[i]= np.array(bigr[i])\n",
    "    bigr[-1][-1] = 0.9\n",
    "    bigr[-1].append(0.1)\n",
    "    bigr[-1]= np.array(bigr[-1])\n",
    "    bigr.append([0]*28)\n",
    "    bigr[-1].append(1)\n",
    "    bigr[-1] = np.array(bigr[-1])\n",
    "        #print(type(bigr[-1]))\n",
    "    return np.array(bigr, dtype=object)"
   ]
  },
  {
   "cell_type": "code",
   "execution_count": 246,
   "id": "5beaa033-e558-47dc-a05b-30348a5e07dc",
   "metadata": {
    "tags": []
   },
   "outputs": [
    {
     "data": {
      "text/plain": [
       "array([[0.0, 0.1126872, 0.043608943, 0.045454545, 0.032904451,\n",
       "        0.022094495, 0.041763341, 0.01555579, 0.064437882, 0.068920059,\n",
       "        0.0036384729, 0.0042185193, 0.023465514, 0.039759544,\n",
       "        0.022832736, 0.070343809, 0.031058848, 0.0014237503, 0.025680236,\n",
       "        0.066916262, 0.16452225, 0.010388104, 0.0070660198, 0.070502004,\n",
       "        0.00010546298, 0.01059903, 5.2731491e-05, 0.0, 0.0],\n",
       "       [0.0, 1.4701126e-05, 0.022933757, 0.033959601, 0.038075917,\n",
       "        0.00014701126, 0.006174473, 0.024697892, 0.00088206757,\n",
       "        0.037046838, 0.00088206757, 0.011907912, 0.081150216,\n",
       "        0.035870748, 0.22051689, 0.00014701126, 0.018082385,\n",
       "        1.4701126e-05, 0.094822263, 0.095410308, 0.13348623, 0.011760901,\n",
       "        0.033371556, 0.0098497545, 0.00058804504, 0.01984652,\n",
       "        0.00088206757, 0.067478169, 0.0],\n",
       "       [0.0, 0.07187426, 0.00078982703, 7.8982703e-05, 0.00078982703,\n",
       "        0.28275808, 7.8982703e-05, 7.8982703e-05, 7.8982703e-05,\n",
       "        0.070294605, 0.0078982703, 7.8982703e-05, 0.12084354,\n",
       "        0.0023694811, 7.8982703e-05, 0.12637232, 7.8982703e-05,\n",
       "        7.8982703e-05, 0.047389622, 0.015006714, 0.010267751, 0.12716215,\n",
       "        0.0015796541, 7.8982703e-05, 7.8982703e-05, 0.10662665,\n",
       "        7.8982703e-05, 0.0071084433, 0.0],\n",
       "       [0.0, 0.13674657, 4.0698384e-05, 0.017500305, 0.0012209515,\n",
       "        0.13674657, 4.0698384e-05, 4.0698384e-05, 0.16279354,\n",
       "        0.073257092, 4.0698384e-05, 0.069594237, 0.03703553,\n",
       "        4.0698384e-05, 4.0698384e-05, 0.16686338, 4.0698384e-05,\n",
       "        0.0012209515, 0.052500916, 0.00081396769, 0.087094542,\n",
       "        0.031337756, 4.0698384e-05, 4.0698384e-05, 4.0698384e-05,\n",
       "        0.00529079, 4.0698384e-05, 0.019535224, 0.0],\n",
       "       [0.0, 0.036241263, 2.8762907e-05, 2.8762907e-05, 0.0071907268,\n",
       "        0.13691144, 0.00086288722, 0.003739178, 0.00086288722, 0.0900279,\n",
       "        0.00028762907, 0.00028762907, 0.0097793885, 0.0051773233,\n",
       "        0.0028762907, 0.034803118, 2.8762907e-05, 2.8762907e-05,\n",
       "        0.018983519, 0.020134035, 2.8762907e-05, 0.020421664,\n",
       "        0.0028762907, 0.00086288722, 2.8762907e-05, 0.0086288722,\n",
       "        2.8762907e-05, 0.59884373, 0.0],\n",
       "       [0.0, 0.045607163, 0.0031710502, 0.018653236, 0.078063794,\n",
       "        0.027979855, 0.0096064167, 0.007181496, 0.0016787913,\n",
       "        0.016041783, 0.00027979855, 0.00093266182, 0.03077784,\n",
       "        0.026207797, 0.086737549, 0.0021451222, 0.010818877, 0.003077784,\n",
       "        0.12562955, 0.072094758, 0.023316545, 0.00046633091, 0.01660138,\n",
       "        0.0088602873, 0.0083939564, 0.015109121, 9.3266182e-05,\n",
       "        0.36047379, 0.0],\n",
       "       [0.0, 0.066869301, 4.6761749e-05, 4.6761749e-05, 4.6761749e-05,\n",
       "        0.074351181, 0.033668459, 4.6761749e-05, 4.6761749e-05,\n",
       "        0.077624503, 4.6761749e-05, 4.6761749e-05, 0.017301847,\n",
       "        4.6761749e-05, 4.6761749e-05, 0.15852233, 4.6761749e-05,\n",
       "        4.6761749e-05, 0.090250175, 0.00187047, 0.046294131, 0.032733224,\n",
       "        4.6761749e-05, 4.6761749e-05, 4.6761749e-05, 0.0032733224,\n",
       "        4.6761749e-05, 0.39653963, 0.0],\n",
       "       [0.0, 0.065942117, 0.00061057516, 6.1057516e-05, 0.0024423006,\n",
       "        0.12822078, 6.1057516e-05, 0.012211503, 0.13554769, 0.062889242,\n",
       "        6.1057516e-05, 6.1057516e-05, 0.028086457, 0.0012211503,\n",
       "        0.023201856, 0.068384418, 0.00061057516, 6.1057516e-05,\n",
       "        0.097081451, 0.026254732, 0.0061057516, 0.021370131,\n",
       "        6.1057516e-05, 0.00061057516, 6.1057516e-05, 0.0030528758,\n",
       "        6.1057516e-05, 0.31566736, 0.0],\n",
       "       [0.0, 0.14197531, 0.00077160494, 1.9290123e-05, 1.9290123e-05,\n",
       "        0.46971451, 0.0005787037, 1.9290123e-05, 0.00038580247,\n",
       "        0.1402392, 1.9290123e-05, 1.9290123e-05, 0.0015432099,\n",
       "        0.0028935185, 0.0038580247, 0.07503858, 1.9290123e-05,\n",
       "        1.9290123e-05, 0.011188272, 0.0017361111, 0.024498457,\n",
       "        0.019097222, 1.9290123e-05, 0.0011574074, 1.9290123e-05,\n",
       "        0.0021219136, 1.9290123e-05, 0.10300926, 0.0],\n",
       "       [0.0, 0.020688358, 0.010500909, 0.076954423, 0.038085386,\n",
       "        0.033696947, 0.023666228, 0.034010407, 1.5672999e-05,\n",
       "        0.00031345997, 1.5672999e-05, 0.0034480597, 0.054855495,\n",
       "        0.035734437, 0.24528243, 0.064572754, 0.0061124694,\n",
       "        0.00031345997, 0.041063256, 0.12757821, 0.11754749,\n",
       "        0.00094037991, 0.032599837, 1.5672999e-05, 0.0010971099,\n",
       "        1.5672999e-05, 0.0062691994, 0.024606608, 0.0],\n",
       "       [0.0, 0.047938639, 0.00095877277, 0.00095877277, 0.00095877277,\n",
       "        0.16299137, 0.00095877277, 0.00095877277, 0.00095877277,\n",
       "        0.00095877277, 0.00095877277, 0.00095877277, 0.00095877277,\n",
       "        0.00095877277, 0.00095877277, 0.46979866, 0.00095877277,\n",
       "        0.00095877277, 0.00095877277, 0.00095877277, 0.00095877277,\n",
       "        0.29721956, 0.00095877277, 0.00095877277, 0.00095877277,\n",
       "        0.00095877277, 0.00095877277, 0.00095877277, 0.0],\n",
       "       [0.0, 0.0052677788, 0.00017559263, 0.00017559263, 0.00017559263,\n",
       "        0.30728709, 0.0035118525, 0.00017559263, 0.0017559263,\n",
       "        0.12115891, 0.00017559263, 0.00017559263, 0.017559263,\n",
       "        0.00017559263, 0.10184372, 0.0052677788, 0.00017559263,\n",
       "        0.00017559263, 0.00017559263, 0.050921861, 0.00017559263,\n",
       "        0.0017559263, 0.00017559263, 0.00017559263, 0.00017559263,\n",
       "        0.0087796313, 0.00017559263, 0.37225637, 0.0],\n",
       "       [0.0, 0.072924514, 0.00060268193, 0.00030134097, 0.076540606,\n",
       "        0.17086033, 0.014765707, 0.0009040229, 3.0134097e-05, 0.13741148,\n",
       "        3.0134097e-05, 0.0033147506, 0.12897393, 0.0054241374,\n",
       "        0.0018080458, 0.064486967, 0.0024107277, 3.0134097e-05,\n",
       "        0.0018080458, 0.020792527, 0.015971071, 0.020792527, 0.015368389,\n",
       "        0.0021093868, 3.0134097e-05, 0.088895585, 3.0134097e-05,\n",
       "        0.15338255, 0.0],\n",
       "       [0.0, 0.18229282, 0.015043582, 4.424583e-05, 4.424583e-05,\n",
       "        0.26768727, 0.0022122915, 4.424583e-05, 4.424583e-05,\n",
       "        0.094686076, 4.424583e-05, 4.424583e-05, 0.0013273749,\n",
       "        0.018583249, 0.0013273749, 0.10486262, 0.052210079, 4.424583e-05,\n",
       "        0.011503916, 0.030087164, 0.0008849166, 0.033626831,\n",
       "        4.424583e-05, 4.424583e-05, 4.424583e-05, 0.025220123,\n",
       "        4.424583e-05, 0.15795761, 0.0],\n",
       "       [0.0, 0.025854592, 0.00032727332, 0.036000065, 0.15807301,\n",
       "        0.08672743, 0.0068727398, 0.1030911, 0.00065454664, 0.033054606,\n",
       "        0.0019636399, 0.0094909263, 0.0070363764, 0.00081818331,\n",
       "        0.0072000131, 0.052854642, 0.00016363666, 0.00032727332,\n",
       "        0.00032727332, 0.049909182, 0.10047291, 0.0052363732,\n",
       "        0.0049090998, 0.00016363666, 0.00081818331, 0.013418206,\n",
       "        1.6363666e-05, 0.29421872, 0.0],\n",
       "       [0.0, 0.0073598497, 0.010335108, 0.014406514, 0.01659881,\n",
       "        0.0037582211, 0.1280927, 0.0082994049, 0.0037582211,\n",
       "        0.0056373317, 0.00015659255, 0.0057939242, 0.034920138,\n",
       "        0.065455684, 0.16035077, 0.027247103, 0.01597244, 0.00015659255,\n",
       "        0.11540871, 0.026150955, 0.046664579, 0.1155653, 0.019260883,\n",
       "        0.03382399, 0.0020357031, 0.0095521453, 0.00015659255,\n",
       "        0.12308174, 0.0],\n",
       "       [0.0, 0.12499137, 0.00069056004, 6.9056004e-05, 6.9056004e-05,\n",
       "        0.19473793, 6.9056004e-05, 6.9056004e-05, 0.022788481,\n",
       "        0.041433603, 6.9056004e-05, 6.9056004e-05, 0.084248325,\n",
       "        0.0027622402, 6.9056004e-05, 0.11187073, 0.059388164,\n",
       "        6.9056004e-05, 0.18921345, 0.020026241, 0.035909122, 0.043505283,\n",
       "        6.9056004e-05, 0.00069056004, 6.9056004e-05, 0.0027622402,\n",
       "        6.9056004e-05, 0.064222084, 0.0],\n",
       "       [0.0, 0.001396648, 0.001396648, 0.001396648, 0.001396648,\n",
       "        0.001396648, 0.001396648, 0.001396648, 0.001396648, 0.001396648,\n",
       "        0.001396648, 0.001396648, 0.001396648, 0.001396648, 0.001396648,\n",
       "        0.001396648, 0.001396648, 0.001396648, 0.001396648, 0.001396648,\n",
       "        0.001396648, 0.96368715, 0.001396648, 0.001396648, 0.001396648,\n",
       "        0.001396648, 0.001396648, 0.001396648, 0.0],\n",
       "       [0.0, 0.080811621, 0.00077890719, 0.014020329, 0.019862133,\n",
       "        0.24477159, 0.0021419948, 0.010515247, 0.0025314484, 0.095026678,\n",
       "        1.947268e-05, 0.013436149, 0.0099310667, 0.015772871,\n",
       "        0.025119757, 0.092105776, 0.0021419948, 1.947268e-05,\n",
       "        0.012657242, 0.049460607, 0.037387545, 0.01460451, 0.0062312575,\n",
       "        0.0021419948, 1.947268e-05, 0.037582272, 1.947268e-05,\n",
       "        0.21088912, 0.0],\n",
       "       [0.0, 0.040555876, 0.0031626142, 0.014324782, 0.00055810838,\n",
       "        0.11459825, 0.0027905419, 0.00093018064, 0.036277045,\n",
       "        0.034416684, 1.8603613e-05, 0.0039067587, 0.0089297342,\n",
       "        0.0074414451, 0.0027905419, 0.055438766, 0.022138299,\n",
       "        0.00018603613, 0.00055810838, 0.044462635, 0.1354343,\n",
       "        0.032742359, 0.0011162168, 0.0031626142, 1.8603613e-05,\n",
       "        0.0037207226, 1.8603613e-05, 0.43030156, 0.0],\n",
       "       [0.0, 0.035948616, 1.2569446e-05, 0.0037708339, 0.00012569446,\n",
       "        0.084466678, 0.00050277785, 1.2569446e-05, 0.33937505,\n",
       "        0.089494457, 1.2569446e-05, 1.2569446e-05, 0.013072224,\n",
       "        0.0010055557, 0.0015083335, 0.088865985, 0.00012569446,\n",
       "        1.2569446e-05, 0.03041806, 0.020613892, 0.019482642, 0.01860278,\n",
       "        1.2569446e-05, 0.0090500013, 1.2569446e-05, 0.020739586,\n",
       "        1.2569446e-05, 0.22273059, 0.0],\n",
       "       [0.0, 0.021856013, 0.021418892, 0.05289155, 0.019233291,\n",
       "        0.031909778, 0.0091795253, 0.044586266, 4.3712025e-05,\n",
       "        0.026227215, 4.3712025e-05, 0.00043712025, 0.094855095,\n",
       "        0.036280981, 0.11933383, 0.0021856013, 0.049394588,\n",
       "        4.3712025e-05, 0.15036937, 0.13201032, 0.14599816, 4.3712025e-05,\n",
       "        4.3712025e-05, 4.3712025e-05, 0.0026227215, 0.00043712025,\n",
       "        4.3712025e-05, 0.038466582, 0.0],\n",
       "       [0.0, 0.077304262, 9.9108028e-05, 9.9108028e-05, 9.9108028e-05,\n",
       "        0.61843409, 9.9108028e-05, 9.9108028e-05, 9.9108028e-05,\n",
       "        0.24182359, 9.9108028e-05, 9.9108028e-05, 9.9108028e-05,\n",
       "        9.9108028e-05, 9.9108028e-05, 0.054509415, 9.9108028e-05,\n",
       "        9.9108028e-05, 0.00099108028, 9.9108028e-05, 9.9108028e-05,\n",
       "        0.0039643211, 9.9108028e-05, 9.9108028e-05, 9.9108028e-05,\n",
       "        0.00099108028, 9.9108028e-05, 9.9108028e-05, 0.0],\n",
       "       [0.0, 0.20323878, 5.4341919e-05, 5.4341919e-05, 0.0021736768,\n",
       "        0.13802848, 0.0021736768, 5.4341919e-05, 0.18150201, 0.16791653,\n",
       "        5.4341919e-05, 0.0032605152, 0.0043473535, 5.4341919e-05,\n",
       "        0.026084121, 0.12879035, 5.4341919e-05, 5.4341919e-05,\n",
       "        0.014672318, 0.023910445, 0.00054341919, 5.4341919e-05,\n",
       "        5.4341919e-05, 5.4341919e-05, 5.4341919e-05, 0.00054341919,\n",
       "        5.4341919e-05, 0.10216281, 0.0],\n",
       "       [0.0, 0.10030864, 0.00077160494, 0.12345679, 0.00077160494,\n",
       "        0.084876543, 0.00077160494, 0.00077160494, 0.046296296,\n",
       "        0.10030864, 0.00077160494, 0.00077160494, 0.00077160494,\n",
       "        0.00077160494, 0.00077160494, 0.00077160494, 0.13117284,\n",
       "        0.00077160494, 0.00077160494, 0.00077160494, 0.20061728,\n",
       "        0.030864198, 0.038580247, 0.00077160494, 0.0077160494,\n",
       "        0.00077160494, 0.00077160494, 0.12345679, 0.0],\n",
       "       [0.0, 0.0037845339, 6.3075565e-05, 6.3075565e-05, 6.3075565e-05,\n",
       "        0.048568185, 6.3075565e-05, 6.3075565e-05, 6.3075565e-05,\n",
       "        0.011984357, 6.3075565e-05, 6.3075565e-05, 0.008830579,\n",
       "        0.0094613347, 0.0018922669, 0.093351835, 0.0018922669,\n",
       "        6.3075565e-05, 0.0012615113, 0.033430049, 0.0056768008,\n",
       "        6.3075565e-05, 6.3075565e-05, 0.0031537782, 6.3075565e-05,\n",
       "        6.3075565e-05, 6.3075565e-05, 0.77582944, 0.0],\n",
       "       [0.0, 0.30710173, 0.0019193858, 0.0019193858, 0.0019193858,\n",
       "        0.55662188, 0.0019193858, 0.0019193858, 0.0019193858,\n",
       "        0.038387716, 0.0019193858, 0.0019193858, 0.019193858,\n",
       "        0.0019193858, 0.0019193858, 0.0019193858, 0.0019193858,\n",
       "        0.0019193858, 0.0019193858, 0.0019193858, 0.0019193858,\n",
       "        0.0019193858, 0.019193858, 0.0019193858, 0.0019193858,\n",
       "        0.0019193858, 0.019193858, 0.0019193858, 0.0],\n",
       "       [0.0, 0.0, 0.0, 0.0, 0.0, 0.0, 0.0, 0.0, 0.0, 0.0, 0.0, 0.0, 0.0,\n",
       "        0.0, 0.0, 0.0, 0.0, 0.0, 0.0, 0.0, 0.0, 0.0, 0.0, 0.0, 0.0, 0.0,\n",
       "        0.0, 0.9, 0.1],\n",
       "       [0, 0, 0, 0, 0, 0, 0, 0, 0, 0, 0, 0, 0, 0, 0, 0, 0, 0, 0, 0, 0, 0,\n",
       "        0, 0, 0, 0, 0, 0, 1]], dtype=object)"
      ]
     },
     "execution_count": 246,
     "metadata": {},
     "output_type": "execute_result"
    }
   ],
   "source": [
    "modifie_mat_dic(bigen)"
   ]
  },
  {
   "cell_type": "code",
   "execution_count": 247,
   "id": "50c058f5-f308-431d-bfcb-9e3cb8584129",
   "metadata": {},
   "outputs": [],
   "source": [
    "def generate_sentences(bigram):\n",
    "    ans = display_seq(generate_state_seq(bigram))\n",
    "    v = np.random.random()\n",
    "    while v<0.9:\n",
    "        ans+= display_seq(generate_state_seq(bigram))\n",
    "        v = np.random.random()\n",
    "    ans+= '.'\n",
    "    \n",
    "    return ans\n",
    "    "
   ]
  },
  {
   "cell_type": "code",
   "execution_count": 248,
   "id": "fb0fad70-d406-4e96-a93c-735fe7bbc9f3",
   "metadata": {},
   "outputs": [
    {
     "name": "stdout",
     "output_type": "stream",
     "text": [
      " nfhoueeoueioaeueaeoe  laoroohtrotr  nn  c  ble  tc  rauiolalo  ttmoiuoue  wpueoiet  tlaayauer  tmiaear  ge  nd  ttr  gaiorioersr  leiortg  ts  ne  m  me  dr  yaelor  vhloaeorhc  nnuelaaye  tnrue  vaoayae  ntsaie    s  gaaooue  letgttmdd    siue    m  fae  fe  nnotree  valioeihtce  ueor  lauiue  wvhnnue  m  tnnmo  s  g  yeueeeuiuie .\n",
      " m .\n",
      " iueeioaerfr  ttttceeuieooeer  s  iuelee  ttshnl  nn  vere    s  md  s  s  raeolaalye  gr  s  mear  nnmgaiayeaueouefr    ts  nuiuioe  c  kiueteopueueouel .\n",
      " nnvor  nraioetr  leaiue  tr  vnnueoe  tn .\n",
      " l  stsorpueoreeue  nnue  drc  shor  raaueueoaie  nnfhlaliopuoioor    rhcioaye  nshnr  nnfooe  nnue  tttcsye  ttrerm  lshswayaoiooayetc  ndsyaer  puealase  ue .\n",
      " letgiuie  tnve  n  rtsauor    shdm  lauiueleioo .\n",
      " s  le    n  nnuiueopuele .\n",
      " puiorioiue  kl  n  sao  nfhlor  s  tgieeoee .\n",
      " nue  yayeoiueolouettdsw  shorr  r  m  tss  nueleoopue  nraatnrttfroe  l .\n",
      " te  s  nwue  seao  nngior  lpuioeoeaue  ngee  vaiarhliae  siuale .\n"
     ]
    }
   ],
   "source": [
    "for i in range(10):\n",
    "    print(generate_sentences(bigen))"
   ]
  },
  {
   "cell_type": "markdown",
   "id": "6cf54d57-758b-43cd-a9c0-53de4f9f51e7",
   "metadata": {},
   "source": [
    "I.3 Reconnaissance de la langue"
   ]
  },
  {
   "cell_type": "code",
   "execution_count": 249,
   "id": "6b9e08fa-e4ab-46b8-8114-3fe515da1114",
   "metadata": {},
   "outputs": [],
   "source": [
    "filename_bigramfr = 'bigramfrancais.txt'\n",
    "bigfr = np.loadtxt(filename_bigramfr)"
   ]
  },
  {
   "cell_type": "code",
   "execution_count": 250,
   "id": "7cbf2d65-c616-48c0-b8cd-f3d54a68c3bd",
   "metadata": {},
   "outputs": [],
   "source": [
    "bigfrp = modifie_mat_dic(bigfr) # bigramfrancais modifié pour faire des phrases"
   ]
  },
  {
   "cell_type": "code",
   "execution_count": 251,
   "id": "fcaeb4a5-9634-4430-a60f-5681cabf419a",
   "metadata": {},
   "outputs": [
    {
     "name": "stdout",
     "output_type": "stream",
     "text": [
      "gfedcba\n"
     ]
    }
   ],
   "source": [
    "a = 'abcdefg'[::-1]\n",
    "print(a)\n"
   ]
  },
  {
   "cell_type": "code",
   "execution_count": 252,
   "id": "366d309f-5ea1-4733-828c-86bfff8b60f1",
   "metadata": {},
   "outputs": [],
   "source": [
    "\n",
    "revdic = { v: k for k, v in dic.items()}\n",
    "def calc_vraisemblance(bigram, texte):\n",
    "    big = modifie_mat_dic(bigram)\n",
    "    ans = [1]\n",
    "    t=1\n",
    "    for x in range (len(texte)):\n",
    "        #print(texte[x])\n",
    "        #print(int(revdic.get(texte[x])))\n",
    "        t_1 = int(revdic.get(texte[x]))-1\n",
    "        #print(type(int(revdic.get(texte[x]))))\n",
    "        ans.append(big[t][t_1])\n",
    "        t= t_1\n",
    "    return np.prod(np.array(ans, dtype = float))"
   ]
  },
  {
   "cell_type": "code",
   "execution_count": 253,
   "id": "9369fba9-c98f-4f91-9df1-5ffdf103de40",
   "metadata": {},
   "outputs": [
    {
     "data": {
      "text/plain": [
       "2"
      ]
     },
     "execution_count": 253,
     "metadata": {},
     "output_type": "execute_result"
    }
   ],
   "source": [
    "int(revdic.get('a'))"
   ]
  },
  {
   "cell_type": "code",
   "execution_count": 254,
   "id": "59cfb6a3-d31a-4a45-82d5-495d6d02b538",
   "metadata": {},
   "outputs": [
    {
     "data": {
      "text/plain": [
       "0.0"
      ]
     },
     "execution_count": 254,
     "metadata": {},
     "output_type": "execute_result"
    }
   ],
   "source": [
    "calc_vraisemblance(bigfr,'etre ou ne pas etre.')"
   ]
  },
  {
   "cell_type": "code",
   "execution_count": 255,
   "id": "a9ead97f-6a1d-4aff-bd73-a86d8adfe24c",
   "metadata": {},
   "outputs": [
    {
     "data": {
      "text/plain": [
       "0.0"
      ]
     },
     "execution_count": 255,
     "metadata": {},
     "output_type": "execute_result"
    }
   ],
   "source": [
    "calc_vraisemblance(bigen,'etre ou ne pas etre.')"
   ]
  },
  {
   "cell_type": "code",
   "execution_count": 256,
   "id": "04aee738-cce1-4074-ad8f-6833476859ed",
   "metadata": {},
   "outputs": [
    {
     "data": {
      "text/plain": [
       "0.0"
      ]
     },
     "execution_count": 256,
     "metadata": {},
     "output_type": "execute_result"
    }
   ],
   "source": [
    "calc_vraisemblance(bigen,'to be or not to be')"
   ]
  },
  {
   "cell_type": "code",
   "execution_count": 257,
   "id": "ccb90ef0-201b-43f5-b010-5752233b5bab",
   "metadata": {},
   "outputs": [
    {
     "data": {
      "text/plain": [
       "0.0"
      ]
     },
     "execution_count": 257,
     "metadata": {},
     "output_type": "execute_result"
    }
   ],
   "source": [
    "calc_vraisemblance(bigfr,'to be or not to be')"
   ]
  },
  {
   "cell_type": "markdown",
   "id": "bab2acf1-e6ba-4a9f-a6a4-9486f0dd5ba8",
   "metadata": {},
   "source": [
    "II.2 Génération de séquences d'observations"
   ]
  },
  {
   "cell_type": "code",
   "execution_count": 263,
   "id": "fcb3bdf5-f300-4420-9653-493155644125",
   "metadata": {},
   "outputs": [
    {
     "data": {
      "text/plain": [
       "array([[ 1.0000000e+00, -0.0000000e+00, -0.0000000e+00, -0.0000000e+00,\n",
       "         1.0000000e+00],\n",
       "       [-0.0000000e+00,  3.4782609e-04,  4.0909091e-04,  4.0909091e-04,\n",
       "        -0.0000000e+00],\n",
       "       [-0.0000000e+00,  3.4782609e-04,  4.0909091e-04,  1.8038262e-02,\n",
       "        -0.0000000e+00],\n",
       "       [-0.0000000e+00,  7.7916952e-02,  4.0909091e-04,  1.2903758e-01,\n",
       "        -0.0000000e+00],\n",
       "       [-0.0000000e+00,  1.1896372e-02,  1.6746933e-02,  4.0909091e-04,\n",
       "        -0.0000000e+00],\n",
       "       [-0.0000000e+00,  3.4782609e-04,  4.0909091e-04,  4.0909091e-04,\n",
       "        -0.0000000e+00],\n",
       "       [-0.0000000e+00,  3.4782609e-04,  2.6054922e-03,  3.1078398e-05,\n",
       "        -0.0000000e+00],\n",
       "       [-0.0000000e+00,  3.4782609e-04,  4.0909091e-04,  4.0909091e-04,\n",
       "        -0.0000000e+00],\n",
       "       [-0.0000000e+00,  3.4782609e-04,  2.4107545e-02,  4.0909091e-04,\n",
       "        -0.0000000e+00],\n",
       "       [-0.0000000e+00,  3.4782609e-04,  4.0909091e-04,  4.0909091e-04,\n",
       "        -0.0000000e+00],\n",
       "       [-0.0000000e+00,  1.7877316e-02,  4.0909091e-04,  1.6315633e-01,\n",
       "        -0.0000000e+00],\n",
       "       [-0.0000000e+00,  3.4782609e-04,  3.1731207e-01,  4.0909091e-04,\n",
       "        -0.0000000e+00],\n",
       "       [-0.0000000e+00,  3.4782609e-04,  4.0909091e-04,  4.0909091e-04,\n",
       "        -0.0000000e+00],\n",
       "       [-0.0000000e+00,  2.1504546e-01,  4.0909091e-04,  4.9490466e-02,\n",
       "        -0.0000000e+00],\n",
       "       [-0.0000000e+00,  3.4782609e-04,  4.0909091e-04,  4.0909091e-04,\n",
       "        -0.0000000e+00],\n",
       "       [-0.0000000e+00,  3.4782609e-04,  4.0909091e-04,  4.0909091e-04,\n",
       "        -0.0000000e+00],\n",
       "       [-0.0000000e+00,  3.4782609e-04,  4.0909091e-04,  1.8908304e-02,\n",
       "        -0.0000000e+00],\n",
       "       [-0.0000000e+00,  3.4782609e-04,  4.5435942e-01,  4.0909091e-04,\n",
       "        -0.0000000e+00],\n",
       "       [-0.0000000e+00,  3.4782609e-04,  4.0909091e-04,  4.0909091e-04,\n",
       "        -0.0000000e+00],\n",
       "       [-0.0000000e+00,  3.4782609e-04,  4.0909091e-04,  2.3186957e-03,\n",
       "        -0.0000000e+00],\n",
       "       [-0.0000000e+00,  3.4782609e-04,  4.0909091e-04,  4.0909091e-04,\n",
       "        -0.0000000e+00],\n",
       "       [-0.0000000e+00,  3.4782609e-04,  4.0909091e-04,  4.0909091e-04,\n",
       "        -0.0000000e+00],\n",
       "       [-0.0000000e+00,  5.6649310e-01,  4.0909091e-04,  5.0176822e-01,\n",
       "        -0.0000000e+00],\n",
       "       [-0.0000000e+00,  2.2412240e-02,  7.0209210e-03,  4.0909091e-04,\n",
       "        -0.0000000e+00],\n",
       "       [-0.0000000e+00,  3.4782609e-04,  4.0909091e-04,  4.0909091e-04,\n",
       "        -0.0000000e+00],\n",
       "       [-0.0000000e+00,  6.2768415e-03,  4.0909091e-04,  4.0909091e-04,\n",
       "        -0.0000000e+00],\n",
       "       [-0.0000000e+00,  3.4782609e-04,  7.1674893e-02,  1.0825069e-01,\n",
       "        -0.0000000e+00],\n",
       "       [-0.0000000e+00,  3.4782609e-04,  8.9949981e-02,  4.0909091e-04,\n",
       "        -0.0000000e+00],\n",
       "       [-0.0000000e+00,  3.4782609e-04,  4.0909091e-04,  4.0909091e-04,\n",
       "        -0.0000000e+00],\n",
       "       [-0.0000000e+00,  7.4028155e-02,  4.0909091e-04,  4.0909091e-04,\n",
       "        -0.0000000e+00],\n",
       "       [-0.0000000e+00,  3.4782609e-04,  4.0909091e-04,  4.0909091e-04,\n",
       "        -0.0000000e+00],\n",
       "       [-0.0000000e+00,  3.4782609e-04,  6.6009896e-03,  4.0909091e-04,\n",
       "        -0.0000000e+00]])"
      ]
     },
     "execution_count": 263,
     "metadata": {},
     "output_type": "execute_result"
    }
   ],
   "source": [
    "A0 = np.loadtxt('data_txt_compact\\data_txt_compact\\A0.txt')\n",
    "B0 = np.loadtxt('data_txt_compact\\data_txt_compact\\B0.txt')\n",
    "B0\n",
    "#vect_p0 = np.loadtxt('data_txt_compact\\data_txt_compact\\vect_p0.txt')"
   ]
  }
 ],
 "metadata": {
  "kernelspec": {
   "display_name": "Python 3 (ipykernel)",
   "language": "python",
   "name": "python3"
  },
  "language_info": {
   "codemirror_mode": {
    "name": "ipython",
    "version": 3
   },
   "file_extension": ".py",
   "mimetype": "text/x-python",
   "name": "python",
   "nbconvert_exporter": "python",
   "pygments_lexer": "ipython3",
   "version": "3.10.3"
  }
 },
 "nbformat": 4,
 "nbformat_minor": 5
}
