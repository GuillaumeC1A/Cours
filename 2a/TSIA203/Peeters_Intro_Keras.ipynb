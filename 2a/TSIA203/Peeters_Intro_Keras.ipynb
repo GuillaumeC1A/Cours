{
 "cells": [
  {
   "cell_type": "markdown",
   "metadata": {
    "id": "1Kb0XhRPjdus"
   },
   "source": [
    "# Introduction to keras\n",
    "\n",
    "<img src=\"https://keras.io/img/logo.png\" width=300>\n",
    "\n",
    "- Author: geoffroy.peeters@telecom-paris.fr\n",
    "- Date: 2022/05/30\n",
    "\n",
    "Keras is an open-source software library that provides a Python interface for artificial neural networks. \n",
    "Keras acts as an interface for the TensorFlow library.\n",
    "Up until version 2.3, Keras supported multiple backends, including TensorFlow and Theano. \n",
    "As of version 2.4, only TensorFlow is supported. \n",
    "Designed to enable fast experimentation with deep neural networks, it focuses on being user-friendly, modular, and extensible. \n",
    "Its primary author and maintainer is François Chollet from the ENSTA Paris school, now a Google engineer.\n",
    "\n",
    "**See also:**\n",
    "- man documentation on https://keras.io/\n",
    "- [keras cheet sheat](https://res.cloudinary.com/dyd911kmh/image/upload/v1653829364/Marketing/Blog/Keras_Cheat_Sheet.pdf)\n",
    "\n",
    "Recommended book: \"Deep Learning with Python\" by François Chollet\n",
    "\n",
    "<img src=\"https://images-eu.ssl-images-amazon.com/images/I/71PRvtkPAZL._AC_UL232_SR232,232_.jpg\" width=200>\n",
    "\n",
    "\n"
   ]
  },
  {
   "cell_type": "markdown",
   "metadata": {
    "id": "1iHW7qrimzT1"
   },
   "source": [
    "# Typical Keras Dataflow\n",
    "\n",
    "\n",
    "<img src=\"https://docs.google.com/uc?export=download&id=1LBIcg-PV62PlBDS77zwGZVxJaCSfSXW_\" width=300>\n"
   ]
  },
  {
   "cell_type": "markdown",
   "metadata": {
    "id": "iaC9qDivjnnh"
   },
   "source": [
    "# Keras import"
   ]
  },
  {
   "cell_type": "code",
   "execution_count": 1,
   "metadata": {
    "colab": {
     "base_uri": "https://localhost:8080/"
    },
    "id": "8nWcpiO0ZCv-",
    "outputId": "0329b190-3f68-4268-8057-db3d0cfdb51d"
   },
   "outputs": [
    {
     "name": "stdout",
     "output_type": "stream",
     "text": [
      "2.8.0\n"
     ]
    }
   ],
   "source": [
    "from tensorflow import keras\n",
    "print(keras.__version__)"
   ]
  },
  {
   "cell_type": "markdown",
   "metadata": {
    "id": "TzignnQTKWrk"
   },
   "source": [
    "Check GPU accessibility"
   ]
  },
  {
   "cell_type": "code",
   "execution_count": 2,
   "metadata": {
    "colab": {
     "base_uri": "https://localhost:8080/"
    },
    "id": "lmYZKZIHKagR",
    "outputId": "33dcc747-d842-4d44-c06e-c88329495719"
   },
   "outputs": [
    {
     "name": "stdout",
     "output_type": "stream",
     "text": [
      "Wed Jun 15 07:32:46 2022       \n",
      "+-----------------------------------------------------------------------------+\n",
      "| NVIDIA-SMI 460.32.03    Driver Version: 460.32.03    CUDA Version: 11.2     |\n",
      "|-------------------------------+----------------------+----------------------+\n",
      "| GPU  Name        Persistence-M| Bus-Id        Disp.A | Volatile Uncorr. ECC |\n",
      "| Fan  Temp  Perf  Pwr:Usage/Cap|         Memory-Usage | GPU-Util  Compute M. |\n",
      "|                               |                      |               MIG M. |\n",
      "|===============================+======================+======================|\n",
      "|   0  Tesla T4            Off  | 00000000:00:04.0 Off |                    0 |\n",
      "| N/A   67C    P8    11W /  70W |      0MiB / 15109MiB |      0%      Default |\n",
      "|                               |                      |                  N/A |\n",
      "+-------------------------------+----------------------+----------------------+\n",
      "                                                                               \n",
      "+-----------------------------------------------------------------------------+\n",
      "| Processes:                                                                  |\n",
      "|  GPU   GI   CI        PID   Type   Process name                  GPU Memory |\n",
      "|        ID   ID                                                   Usage      |\n",
      "|=============================================================================|\n",
      "|  No running processes found                                                 |\n",
      "+-----------------------------------------------------------------------------+\n"
     ]
    }
   ],
   "source": [
    "!nvidia-smi"
   ]
  },
  {
   "cell_type": "markdown",
   "metadata": {
    "id": "OZ_1CksubnVc"
   },
   "source": [
    "# Exemple 1: Dummy data classification"
   ]
  },
  {
   "cell_type": "markdown",
   "metadata": {
    "id": "GYjUZPKgrBzH"
   },
   "source": [
    "## Data loading\n",
    "\n",
    "For this first application, we will create some dummy data (i.e. artifical data just created to test machine learning models)."
   ]
  },
  {
   "cell_type": "code",
   "execution_count": 3,
   "metadata": {
    "id": "xTfh41RbbrvS"
   },
   "outputs": [],
   "source": [
    "from sklearn import datasets\n",
    "data, labels = datasets.make_classification(n_samples=1000, \n",
    "                                            n_features=5, \n",
    "                                            n_informative=5, \n",
    "                                            n_redundant=0, \n",
    "                                            n_classes=3, \n",
    "                                            n_clusters_per_class=1, \n",
    "                                            class_sep=1.5) "
   ]
  },
  {
   "cell_type": "markdown",
   "metadata": {
    "id": "g0FjRAFTkABH"
   },
   "source": [
    "We can display the first two dimensions of the data with the associated labels represented as colors."
   ]
  },
  {
   "cell_type": "code",
   "execution_count": 4,
   "metadata": {
    "colab": {
     "base_uri": "https://localhost:8080/",
     "height": 265
    },
    "id": "VmccItcxcNUK",
    "outputId": "b45a0051-930f-478e-e2a0-ad04de016833"
   },
   "outputs": [
    {
     "data": {
      "image/png": "[encoded data removed]",
      "text/plain": [
       "<Figure size 432x288 with 1 Axes>"
      ]
     },
     "metadata": {
      "needs_background": "light"
     },
     "output_type": "display_data"
    }
   ],
   "source": [
    "import matplotlib.pyplot as plt\n",
    "color_l = ['red', 'blue', 'green', 'pink', 'yellow']\n",
    "colors = [color_l[label] for label in labels]\n",
    "plt.scatter(data[:,0], data[:,1], color=colors);"
   ]
  },
  {
   "cell_type": "markdown",
   "metadata": {
    "id": "3574FTbCrEAe"
   },
   "source": [
    "## Data preparation"
   ]
  },
  {
   "cell_type": "markdown",
   "metadata": {
    "id": "kRrRxYU5kHLc"
   },
   "source": [
    "As for all machine-learning models, we split the data into a training part and a test part."
   ]
  },
  {
   "cell_type": "code",
   "execution_count": 5,
   "metadata": {
    "colab": {
     "base_uri": "https://localhost:8080/"
    },
    "id": "YWCMlTT2cyT2",
    "outputId": "acc4a621-e9e6-46a2-b2ee-0b5ce4ccb13a"
   },
   "outputs": [
    {
     "name": "stdout",
     "output_type": "stream",
     "text": [
      "x_train: (900, 5)\n",
      "x_test: (100, 5)\n"
     ]
    }
   ],
   "source": [
    "from sklearn import model_selection\n",
    "\n",
    "x_train, x_test, y_train, y_test = model_selection.train_test_split(data, labels, test_size = 0.1)\n",
    "\n",
    "print(f'x_train: {x_train.shape}')\n",
    "print(f'x_test: {x_test.shape}')\n"
   ]
  },
  {
   "cell_type": "markdown",
   "metadata": {
    "id": "LZEztyVvkRta"
   },
   "source": [
    "We deal with a multi-class classification problem. The output of our network will therefore have $C$ different neurons. We need to map the ground-truth classes to the same format."
   ]
  },
  {
   "cell_type": "code",
   "execution_count": 6,
   "metadata": {
    "colab": {
     "base_uri": "https://localhost:8080/"
    },
    "id": "VBZwTYtljvph",
    "outputId": "ff578b43-85fa-4a1f-ba78-4b3ee2e22395"
   },
   "outputs": [
    {
     "name": "stdout",
     "output_type": "stream",
     "text": [
      "y_train_oh: (900, 3)\n",
      "y_test_oh: (100, 3)\n"
     ]
    }
   ],
   "source": [
    "from tensorflow.keras.utils import to_categorical \n",
    "\n",
    "y_train_oh = to_categorical(y_train)\n",
    "y_test_oh = to_categorical(y_test)\n",
    "\n",
    "print(f'y_train_oh: {y_train_oh.shape}')\n",
    "print(f'y_test_oh: {y_test_oh.shape}')"
   ]
  },
  {
   "cell_type": "markdown",
   "metadata": {
    "id": "tsRyMBTIqXVz"
   },
   "source": [
    "## Model definition"
   ]
  },
  {
   "cell_type": "markdown",
   "metadata": {
    "id": "t9PdWoTBkgnl"
   },
   "source": [
    "We now create the flow-chart/ architecture of our Deep-Neural-Network.\n",
    "\n",
    "<img src=\"https://docs.google.com/uc?export=download&id=1TJBr-trS67gx7oHbpO77tV2F35Vm9D77\" width=300>\n",
    "\n",
    "We can do this using the **Sequential API**.\n",
    "\n"
   ]
  },
  {
   "cell_type": "code",
   "execution_count": 7,
   "metadata": {
    "id": "8WwcxUuEebfY"
   },
   "outputs": [],
   "source": [
    "from tensorflow.keras.models import Sequential\n",
    "from tensorflow.keras.layers import Dense, Activation, Dropout\n",
    "\n",
    "n_in = 5\n",
    "n_h = 32\n",
    "n_out = 3\n",
    "\n",
    "model = Sequential()\n",
    "model.add(Dense(n_h, input_dim=n_in))\n",
    "model.add(Activation('ReLU'))\n",
    "#model.add(Dropout(rate = 0.5))\n",
    "model.add(Dense(n_out))\n",
    "model.add(Activation('softmax'))"
   ]
  },
  {
   "cell_type": "code",
   "execution_count": 8,
   "metadata": {
    "id": "MZtKyd8sl24j"
   },
   "outputs": [],
   "source": [
    "model = Sequential([\n",
    "                    Dense(n_h, input_dim=n_in), \n",
    "                    Activation('ReLU'),\n",
    "                    Dropout(rate = 0.5),\n",
    "                    Dense(3), \n",
    "                    Activation('softmax'),\n",
    "                    ])"
   ]
  },
  {
   "cell_type": "markdown",
   "metadata": {
    "id": "cNuxNPGxnHMx"
   },
   "source": [
    "We can do the same using the **Functional API**."
   ]
  },
  {
   "cell_type": "code",
   "execution_count": 9,
   "metadata": {
    "id": "SGgC0S7znIpu"
   },
   "outputs": [],
   "source": [
    "from tensorflow.keras.models import Model\n",
    "\n",
    "X = keras.Input(shape=(x_train.shape[1],))\n",
    "Z = Dense(n_h)(X)\n",
    "Z = Activation('ReLU')(Z)\n",
    "Z = Dropout(rate = 0.5)(Z)\n",
    "Z = Dense(3)(Z)\n",
    "Y = Activation('softmax')(Z)\n",
    "model = Model(inputs=X, outputs=Y)"
   ]
  },
  {
   "cell_type": "markdown",
   "metadata": {
    "id": "SNYssH-_l9FK"
   },
   "source": [
    "We can display a summary of the flow-chart/ architecture of our Deep-Neural-Network."
   ]
  },
  {
   "cell_type": "code",
   "execution_count": 10,
   "metadata": {
    "colab": {
     "base_uri": "https://localhost:8080/"
    },
    "id": "xDrzshZUl2rw",
    "outputId": "ffddd014-e7be-48e7-b6f6-a3c01dd4b0c9"
   },
   "outputs": [
    {
     "name": "stdout",
     "output_type": "stream",
     "text": [
      "Model: \"model\"\n",
      "_________________________________________________________________\n",
      " Layer (type)                Output Shape              Param #   \n",
      "=================================================================\n",
      " input_1 (InputLayer)        [(None, 5)]               0         \n",
      "                                                                 \n",
      " dense_4 (Dense)             (None, 32)                192       \n",
      "                                                                 \n",
      " activation_4 (Activation)   (None, 32)                0         \n",
      "                                                                 \n",
      " dropout_1 (Dropout)         (None, 32)                0         \n",
      "                                                                 \n",
      " dense_5 (Dense)             (None, 3)                 99        \n",
      "                                                                 \n",
      " activation_5 (Activation)   (None, 3)                 0         \n",
      "                                                                 \n",
      "=================================================================\n",
      "Total params: 291\n",
      "Trainable params: 291\n",
      "Non-trainable params: 0\n",
      "_________________________________________________________________\n"
     ]
    }
   ],
   "source": [
    "model.summary()"
   ]
  },
  {
   "cell_type": "markdown",
   "metadata": {
    "id": "-5ZRyh-7ktGC"
   },
   "source": [
    "## Model compilation\n",
    "\n",
    "To compile it, we need to define at least\n",
    "- a loss to be minimized during training \n",
    "- an optimizer, which indicates how the loss will be minimized (example: using the simple Steepest Gradient Descent --- SGD ---)"
   ]
  },
  {
   "cell_type": "code",
   "execution_count": 11,
   "metadata": {
    "colab": {
     "base_uri": "https://localhost:8080/"
    },
    "id": "xqyCdBUMlOzY",
    "outputId": "61d67185-b21b-446e-f62a-cfa88a934d62"
   },
   "outputs": [
    {
     "name": "stdout",
     "output_type": "stream",
     "text": [
      "Epoch 1/500\n",
      "29/29 - 3s - loss: 1.3243 - acc: 0.4200 - val_loss: 0.7528 - val_acc: 0.8400 - 3s/epoch - 92ms/step\n",
      "Epoch 2/500\n",
      "29/29 - 0s - loss: 0.9158 - acc: 0.5867 - val_loss: 0.5493 - val_acc: 0.9200 - 92ms/epoch - 3ms/step\n",
      "Epoch 3/500\n",
      "29/29 - 0s - loss: 0.6976 - acc: 0.6922 - val_loss: 0.4519 - val_acc: 0.9300 - 100ms/epoch - 3ms/step\n",
      "Epoch 4/500\n",
      "29/29 - 0s - loss: 0.6360 - acc: 0.7433 - val_loss: 0.3890 - val_acc: 0.9400 - 77ms/epoch - 3ms/step\n",
      "Epoch 5/500\n",
      "29/29 - 0s - loss: 0.5947 - acc: 0.7544 - val_loss: 0.3502 - val_acc: 0.9400 - 93ms/epoch - 3ms/step\n",
      "Epoch 6/500\n",
      "29/29 - 0s - loss: 0.5401 - acc: 0.7867 - val_loss: 0.3178 - val_acc: 0.9500 - 87ms/epoch - 3ms/step\n",
      "Epoch 7/500\n",
      "29/29 - 0s - loss: 0.4893 - acc: 0.8211 - val_loss: 0.2926 - val_acc: 0.9500 - 77ms/epoch - 3ms/step\n",
      "Epoch 8/500\n",
      "29/29 - 0s - loss: 0.4888 - acc: 0.8211 - val_loss: 0.2733 - val_acc: 0.9500 - 76ms/epoch - 3ms/step\n",
      "Epoch 9/500\n",
      "29/29 - 0s - loss: 0.4509 - acc: 0.8378 - val_loss: 0.2583 - val_acc: 0.9500 - 82ms/epoch - 3ms/step\n",
      "Epoch 10/500\n",
      "29/29 - 0s - loss: 0.4221 - acc: 0.8622 - val_loss: 0.2446 - val_acc: 0.9600 - 102ms/epoch - 4ms/step\n",
      "Epoch 11/500\n",
      "29/29 - 0s - loss: 0.4003 - acc: 0.8689 - val_loss: 0.2327 - val_acc: 0.9400 - 80ms/epoch - 3ms/step\n",
      "Epoch 12/500\n",
      "29/29 - 0s - loss: 0.3968 - acc: 0.8722 - val_loss: 0.2223 - val_acc: 0.9500 - 85ms/epoch - 3ms/step\n",
      "Epoch 13/500\n",
      "29/29 - 0s - loss: 0.4012 - acc: 0.8511 - val_loss: 0.2136 - val_acc: 0.9500 - 82ms/epoch - 3ms/step\n",
      "Epoch 14/500\n",
      "29/29 - 0s - loss: 0.3760 - acc: 0.8678 - val_loss: 0.2050 - val_acc: 0.9500 - 94ms/epoch - 3ms/step\n",
      "Epoch 15/500\n",
      "29/29 - 0s - loss: 0.3754 - acc: 0.8722 - val_loss: 0.1979 - val_acc: 0.9500 - 79ms/epoch - 3ms/step\n",
      "Epoch 16/500\n",
      "29/29 - 0s - loss: 0.3722 - acc: 0.8856 - val_loss: 0.1906 - val_acc: 0.9600 - 102ms/epoch - 4ms/step\n",
      "Epoch 17/500\n",
      "29/29 - 0s - loss: 0.3375 - acc: 0.8922 - val_loss: 0.1827 - val_acc: 0.9600 - 79ms/epoch - 3ms/step\n",
      "Epoch 18/500\n",
      "29/29 - 0s - loss: 0.3486 - acc: 0.8844 - val_loss: 0.1771 - val_acc: 0.9600 - 77ms/epoch - 3ms/step\n",
      "Epoch 19/500\n",
      "29/29 - 0s - loss: 0.3525 - acc: 0.8767 - val_loss: 0.1736 - val_acc: 0.9600 - 76ms/epoch - 3ms/step\n",
      "Epoch 20/500\n",
      "29/29 - 0s - loss: 0.3114 - acc: 0.9067 - val_loss: 0.1681 - val_acc: 0.9600 - 76ms/epoch - 3ms/step\n",
      "Epoch 21/500\n",
      "29/29 - 0s - loss: 0.3298 - acc: 0.8922 - val_loss: 0.1649 - val_acc: 0.9600 - 82ms/epoch - 3ms/step\n",
      "Epoch 22/500\n",
      "29/29 - 0s - loss: 0.3086 - acc: 0.8933 - val_loss: 0.1592 - val_acc: 0.9600 - 91ms/epoch - 3ms/step\n",
      "Epoch 23/500\n",
      "29/29 - 0s - loss: 0.3261 - acc: 0.8911 - val_loss: 0.1568 - val_acc: 0.9600 - 83ms/epoch - 3ms/step\n",
      "Epoch 24/500\n",
      "29/29 - 0s - loss: 0.3147 - acc: 0.9033 - val_loss: 0.1543 - val_acc: 0.9600 - 78ms/epoch - 3ms/step\n",
      "Epoch 25/500\n",
      "29/29 - 0s - loss: 0.2874 - acc: 0.9144 - val_loss: 0.1500 - val_acc: 0.9600 - 95ms/epoch - 3ms/step\n",
      "Epoch 26/500\n",
      "29/29 - 0s - loss: 0.3073 - acc: 0.9067 - val_loss: 0.1477 - val_acc: 0.9600 - 77ms/epoch - 3ms/step\n",
      "Epoch 27/500\n",
      "29/29 - 0s - loss: 0.2971 - acc: 0.9133 - val_loss: 0.1453 - val_acc: 0.9600 - 78ms/epoch - 3ms/step\n",
      "Epoch 28/500\n",
      "29/29 - 0s - loss: 0.3052 - acc: 0.8933 - val_loss: 0.1431 - val_acc: 0.9600 - 89ms/epoch - 3ms/step\n",
      "Epoch 29/500\n",
      "29/29 - 0s - loss: 0.3019 - acc: 0.9056 - val_loss: 0.1412 - val_acc: 0.9700 - 80ms/epoch - 3ms/step\n",
      "Epoch 30/500\n",
      "29/29 - 0s - loss: 0.2828 - acc: 0.9100 - val_loss: 0.1385 - val_acc: 0.9600 - 95ms/epoch - 3ms/step\n",
      "Epoch 31/500\n",
      "29/29 - 0s - loss: 0.2993 - acc: 0.9011 - val_loss: 0.1365 - val_acc: 0.9600 - 73ms/epoch - 3ms/step\n",
      "Epoch 32/500\n",
      "29/29 - 0s - loss: 0.2795 - acc: 0.9189 - val_loss: 0.1339 - val_acc: 0.9600 - 89ms/epoch - 3ms/step\n",
      "Epoch 33/500\n",
      "29/29 - 0s - loss: 0.2761 - acc: 0.9133 - val_loss: 0.1321 - val_acc: 0.9600 - 85ms/epoch - 3ms/step\n",
      "Epoch 34/500\n",
      "29/29 - 0s - loss: 0.2708 - acc: 0.9178 - val_loss: 0.1315 - val_acc: 0.9600 - 93ms/epoch - 3ms/step\n",
      "Epoch 35/500\n",
      "29/29 - 0s - loss: 0.2632 - acc: 0.9278 - val_loss: 0.1290 - val_acc: 0.9600 - 77ms/epoch - 3ms/step\n",
      "Epoch 36/500\n",
      "29/29 - 0s - loss: 0.2873 - acc: 0.9122 - val_loss: 0.1276 - val_acc: 0.9600 - 81ms/epoch - 3ms/step\n",
      "Epoch 37/500\n",
      "29/29 - 0s - loss: 0.2621 - acc: 0.9267 - val_loss: 0.1293 - val_acc: 0.9700 - 82ms/epoch - 3ms/step\n",
      "Epoch 38/500\n",
      "29/29 - 0s - loss: 0.2375 - acc: 0.9333 - val_loss: 0.1253 - val_acc: 0.9700 - 94ms/epoch - 3ms/step\n",
      "Epoch 39/500\n",
      "29/29 - 0s - loss: 0.2542 - acc: 0.9289 - val_loss: 0.1234 - val_acc: 0.9700 - 77ms/epoch - 3ms/step\n",
      "Epoch 40/500\n",
      "29/29 - 0s - loss: 0.2434 - acc: 0.9267 - val_loss: 0.1227 - val_acc: 0.9700 - 95ms/epoch - 3ms/step\n",
      "Epoch 41/500\n",
      "29/29 - 0s - loss: 0.2512 - acc: 0.9411 - val_loss: 0.1213 - val_acc: 0.9700 - 78ms/epoch - 3ms/step\n",
      "Epoch 42/500\n",
      "29/29 - 0s - loss: 0.2477 - acc: 0.9333 - val_loss: 0.1203 - val_acc: 0.9600 - 76ms/epoch - 3ms/step\n",
      "Epoch 43/500\n",
      "29/29 - 0s - loss: 0.2582 - acc: 0.9244 - val_loss: 0.1193 - val_acc: 0.9600 - 82ms/epoch - 3ms/step\n",
      "Epoch 44/500\n",
      "29/29 - 0s - loss: 0.2653 - acc: 0.9133 - val_loss: 0.1177 - val_acc: 0.9600 - 108ms/epoch - 4ms/step\n",
      "Epoch 45/500\n",
      "29/29 - 0s - loss: 0.2645 - acc: 0.9256 - val_loss: 0.1172 - val_acc: 0.9600 - 83ms/epoch - 3ms/step\n",
      "Epoch 46/500\n",
      "29/29 - 0s - loss: 0.2491 - acc: 0.9311 - val_loss: 0.1163 - val_acc: 0.9700 - 90ms/epoch - 3ms/step\n",
      "Epoch 47/500\n",
      "29/29 - 0s - loss: 0.2437 - acc: 0.9333 - val_loss: 0.1161 - val_acc: 0.9700 - 83ms/epoch - 3ms/step\n",
      "Epoch 48/500\n",
      "29/29 - 0s - loss: 0.2344 - acc: 0.9467 - val_loss: 0.1139 - val_acc: 0.9700 - 80ms/epoch - 3ms/step\n",
      "Epoch 49/500\n",
      "29/29 - 0s - loss: 0.2525 - acc: 0.9300 - val_loss: 0.1138 - val_acc: 0.9700 - 77ms/epoch - 3ms/step\n",
      "Epoch 50/500\n",
      "29/29 - 0s - loss: 0.2277 - acc: 0.9367 - val_loss: 0.1124 - val_acc: 0.9700 - 82ms/epoch - 3ms/step\n",
      "Epoch 51/500\n",
      "29/29 - 0s - loss: 0.2515 - acc: 0.9400 - val_loss: 0.1114 - val_acc: 0.9700 - 77ms/epoch - 3ms/step\n",
      "Epoch 52/500\n",
      "29/29 - 0s - loss: 0.2390 - acc: 0.9322 - val_loss: 0.1111 - val_acc: 0.9700 - 77ms/epoch - 3ms/step\n",
      "Epoch 53/500\n",
      "29/29 - 0s - loss: 0.2309 - acc: 0.9367 - val_loss: 0.1104 - val_acc: 0.9700 - 81ms/epoch - 3ms/step\n",
      "Epoch 54/500\n",
      "29/29 - 0s - loss: 0.2136 - acc: 0.9400 - val_loss: 0.1087 - val_acc: 0.9700 - 92ms/epoch - 3ms/step\n",
      "Epoch 55/500\n",
      "29/29 - 0s - loss: 0.2433 - acc: 0.9322 - val_loss: 0.1081 - val_acc: 0.9700 - 84ms/epoch - 3ms/step\n",
      "Epoch 56/500\n",
      "29/29 - 0s - loss: 0.2199 - acc: 0.9322 - val_loss: 0.1073 - val_acc: 0.9700 - 86ms/epoch - 3ms/step\n",
      "Epoch 57/500\n",
      "29/29 - 0s - loss: 0.2293 - acc: 0.9378 - val_loss: 0.1074 - val_acc: 0.9700 - 77ms/epoch - 3ms/step\n",
      "Epoch 58/500\n",
      "29/29 - 0s - loss: 0.2295 - acc: 0.9322 - val_loss: 0.1059 - val_acc: 0.9700 - 76ms/epoch - 3ms/step\n",
      "Epoch 59/500\n",
      "29/29 - 0s - loss: 0.2371 - acc: 0.9344 - val_loss: 0.1057 - val_acc: 0.9700 - 81ms/epoch - 3ms/step\n",
      "Epoch 60/500\n",
      "29/29 - 0s - loss: 0.2358 - acc: 0.9278 - val_loss: 0.1062 - val_acc: 0.9700 - 91ms/epoch - 3ms/step\n",
      "Epoch 61/500\n",
      "29/29 - 0s - loss: 0.2371 - acc: 0.9411 - val_loss: 0.1055 - val_acc: 0.9700 - 78ms/epoch - 3ms/step\n",
      "Epoch 62/500\n",
      "29/29 - 0s - loss: 0.2208 - acc: 0.9367 - val_loss: 0.1056 - val_acc: 0.9700 - 91ms/epoch - 3ms/step\n",
      "Epoch 63/500\n",
      "29/29 - 0s - loss: 0.2332 - acc: 0.9456 - val_loss: 0.1043 - val_acc: 0.9700 - 77ms/epoch - 3ms/step\n",
      "Epoch 64/500\n",
      "29/29 - 0s - loss: 0.2378 - acc: 0.9311 - val_loss: 0.1048 - val_acc: 0.9700 - 77ms/epoch - 3ms/step\n",
      "Epoch 65/500\n",
      "29/29 - 0s - loss: 0.2291 - acc: 0.9356 - val_loss: 0.1048 - val_acc: 0.9700 - 78ms/epoch - 3ms/step\n",
      "Epoch 66/500\n",
      "29/29 - 0s - loss: 0.2189 - acc: 0.9422 - val_loss: 0.1041 - val_acc: 0.9700 - 83ms/epoch - 3ms/step\n",
      "Epoch 67/500\n",
      "29/29 - 0s - loss: 0.2147 - acc: 0.9422 - val_loss: 0.1032 - val_acc: 0.9700 - 85ms/epoch - 3ms/step\n",
      "Epoch 68/500\n",
      "29/29 - 0s - loss: 0.2117 - acc: 0.9433 - val_loss: 0.1023 - val_acc: 0.9700 - 80ms/epoch - 3ms/step\n",
      "Epoch 69/500\n",
      "29/29 - 0s - loss: 0.2316 - acc: 0.9378 - val_loss: 0.1007 - val_acc: 0.9700 - 84ms/epoch - 3ms/step\n",
      "Epoch 70/500\n",
      "29/29 - 0s - loss: 0.2214 - acc: 0.9522 - val_loss: 0.1006 - val_acc: 0.9700 - 79ms/epoch - 3ms/step\n",
      "Epoch 71/500\n",
      "29/29 - 0s - loss: 0.2002 - acc: 0.9467 - val_loss: 0.0994 - val_acc: 0.9700 - 79ms/epoch - 3ms/step\n",
      "Epoch 72/500\n",
      "29/29 - 0s - loss: 0.2137 - acc: 0.9456 - val_loss: 0.1006 - val_acc: 0.9700 - 90ms/epoch - 3ms/step\n",
      "Epoch 73/500\n",
      "29/29 - 0s - loss: 0.2058 - acc: 0.9500 - val_loss: 0.1002 - val_acc: 0.9700 - 94ms/epoch - 3ms/step\n",
      "Epoch 74/500\n",
      "29/29 - 0s - loss: 0.2057 - acc: 0.9400 - val_loss: 0.1014 - val_acc: 0.9700 - 93ms/epoch - 3ms/step\n",
      "Epoch 75/500\n",
      "29/29 - 0s - loss: 0.2172 - acc: 0.9444 - val_loss: 0.1015 - val_acc: 0.9700 - 76ms/epoch - 3ms/step\n",
      "Epoch 76/500\n",
      "29/29 - 0s - loss: 0.2089 - acc: 0.9411 - val_loss: 0.0995 - val_acc: 0.9700 - 82ms/epoch - 3ms/step\n",
      "Epoch 77/500\n",
      "29/29 - 0s - loss: 0.2115 - acc: 0.9411 - val_loss: 0.0985 - val_acc: 0.9700 - 74ms/epoch - 3ms/step\n",
      "Epoch 78/500\n",
      "29/29 - 0s - loss: 0.2138 - acc: 0.9522 - val_loss: 0.0984 - val_acc: 0.9700 - 83ms/epoch - 3ms/step\n",
      "Epoch 79/500\n",
      "29/29 - 0s - loss: 0.2125 - acc: 0.9489 - val_loss: 0.0987 - val_acc: 0.9700 - 80ms/epoch - 3ms/step\n",
      "Epoch 80/500\n",
      "29/29 - 0s - loss: 0.2017 - acc: 0.9544 - val_loss: 0.0975 - val_acc: 0.9700 - 91ms/epoch - 3ms/step\n",
      "Epoch 81/500\n",
      "29/29 - 0s - loss: 0.2084 - acc: 0.9444 - val_loss: 0.0974 - val_acc: 0.9700 - 97ms/epoch - 3ms/step\n",
      "Epoch 82/500\n",
      "29/29 - 0s - loss: 0.2017 - acc: 0.9456 - val_loss: 0.0970 - val_acc: 0.9700 - 83ms/epoch - 3ms/step\n",
      "Epoch 83/500\n",
      "29/29 - 0s - loss: 0.1957 - acc: 0.9533 - val_loss: 0.0978 - val_acc: 0.9700 - 78ms/epoch - 3ms/step\n",
      "Epoch 84/500\n",
      "29/29 - 0s - loss: 0.2064 - acc: 0.9533 - val_loss: 0.0979 - val_acc: 0.9700 - 83ms/epoch - 3ms/step\n",
      "Epoch 85/500\n",
      "29/29 - 0s - loss: 0.2108 - acc: 0.9456 - val_loss: 0.0974 - val_acc: 0.9700 - 78ms/epoch - 3ms/step\n",
      "Epoch 86/500\n",
      "29/29 - 0s - loss: 0.1944 - acc: 0.9544 - val_loss: 0.0973 - val_acc: 0.9700 - 92ms/epoch - 3ms/step\n",
      "Epoch 87/500\n",
      "29/29 - 0s - loss: 0.2068 - acc: 0.9500 - val_loss: 0.0967 - val_acc: 0.9700 - 80ms/epoch - 3ms/step\n",
      "Epoch 88/500\n",
      "29/29 - 0s - loss: 0.2140 - acc: 0.9467 - val_loss: 0.0976 - val_acc: 0.9700 - 86ms/epoch - 3ms/step\n",
      "Epoch 89/500\n",
      "29/29 - 0s - loss: 0.1958 - acc: 0.9511 - val_loss: 0.0969 - val_acc: 0.9700 - 98ms/epoch - 3ms/step\n",
      "Epoch 90/500\n",
      "29/29 - 0s - loss: 0.1908 - acc: 0.9589 - val_loss: 0.0972 - val_acc: 0.9700 - 93ms/epoch - 3ms/step\n",
      "Epoch 91/500\n",
      "29/29 - 0s - loss: 0.2156 - acc: 0.9467 - val_loss: 0.0957 - val_acc: 0.9700 - 88ms/epoch - 3ms/step\n",
      "Epoch 92/500\n",
      "29/29 - 0s - loss: 0.2016 - acc: 0.9444 - val_loss: 0.0957 - val_acc: 0.9700 - 93ms/epoch - 3ms/step\n",
      "Epoch 93/500\n",
      "29/29 - 0s - loss: 0.2046 - acc: 0.9511 - val_loss: 0.0948 - val_acc: 0.9700 - 82ms/epoch - 3ms/step\n",
      "Epoch 94/500\n",
      "29/29 - 0s - loss: 0.2089 - acc: 0.9511 - val_loss: 0.0942 - val_acc: 0.9700 - 81ms/epoch - 3ms/step\n",
      "Epoch 95/500\n",
      "29/29 - 0s - loss: 0.1948 - acc: 0.9478 - val_loss: 0.0948 - val_acc: 0.9700 - 77ms/epoch - 3ms/step\n",
      "Epoch 96/500\n",
      "29/29 - 0s - loss: 0.1850 - acc: 0.9467 - val_loss: 0.0947 - val_acc: 0.9700 - 90ms/epoch - 3ms/step\n",
      "Epoch 97/500\n",
      "29/29 - 0s - loss: 0.2118 - acc: 0.9456 - val_loss: 0.0948 - val_acc: 0.9700 - 96ms/epoch - 3ms/step\n",
      "Epoch 98/500\n",
      "29/29 - 0s - loss: 0.1899 - acc: 0.9489 - val_loss: 0.0944 - val_acc: 0.9700 - 79ms/epoch - 3ms/step\n",
      "Epoch 99/500\n",
      "29/29 - 0s - loss: 0.1914 - acc: 0.9500 - val_loss: 0.0932 - val_acc: 0.9700 - 97ms/epoch - 3ms/step\n",
      "Epoch 100/500\n",
      "29/29 - 0s - loss: 0.2169 - acc: 0.9400 - val_loss: 0.0927 - val_acc: 0.9700 - 98ms/epoch - 3ms/step\n",
      "Epoch 101/500\n",
      "29/29 - 0s - loss: 0.2237 - acc: 0.9478 - val_loss: 0.0925 - val_acc: 0.9700 - 80ms/epoch - 3ms/step\n",
      "Epoch 102/500\n",
      "29/29 - 0s - loss: 0.2102 - acc: 0.9411 - val_loss: 0.0932 - val_acc: 0.9700 - 77ms/epoch - 3ms/step\n",
      "Epoch 103/500\n",
      "29/29 - 0s - loss: 0.1858 - acc: 0.9578 - val_loss: 0.0934 - val_acc: 0.9700 - 93ms/epoch - 3ms/step\n",
      "Epoch 104/500\n",
      "29/29 - 0s - loss: 0.2052 - acc: 0.9511 - val_loss: 0.0931 - val_acc: 0.9700 - 82ms/epoch - 3ms/step\n",
      "Epoch 105/500\n",
      "29/29 - 0s - loss: 0.1904 - acc: 0.9544 - val_loss: 0.0934 - val_acc: 0.9700 - 81ms/epoch - 3ms/step\n",
      "Epoch 106/500\n",
      "29/29 - 0s - loss: 0.2027 - acc: 0.9500 - val_loss: 0.0928 - val_acc: 0.9700 - 85ms/epoch - 3ms/step\n",
      "Epoch 107/500\n",
      "29/29 - 0s - loss: 0.1943 - acc: 0.9522 - val_loss: 0.0938 - val_acc: 0.9700 - 91ms/epoch - 3ms/step\n",
      "Epoch 108/500\n",
      "29/29 - 0s - loss: 0.1837 - acc: 0.9511 - val_loss: 0.0922 - val_acc: 0.9700 - 77ms/epoch - 3ms/step\n",
      "Epoch 109/500\n",
      "29/29 - 0s - loss: 0.1983 - acc: 0.9522 - val_loss: 0.0910 - val_acc: 0.9700 - 91ms/epoch - 3ms/step\n",
      "Epoch 110/500\n",
      "29/29 - 0s - loss: 0.1915 - acc: 0.9500 - val_loss: 0.0912 - val_acc: 0.9700 - 78ms/epoch - 3ms/step\n",
      "Epoch 111/500\n",
      "29/29 - 0s - loss: 0.2181 - acc: 0.9467 - val_loss: 0.0917 - val_acc: 0.9700 - 85ms/epoch - 3ms/step\n",
      "Epoch 112/500\n",
      "29/29 - 0s - loss: 0.1947 - acc: 0.9556 - val_loss: 0.0911 - val_acc: 0.9700 - 87ms/epoch - 3ms/step\n",
      "Epoch 113/500\n",
      "29/29 - 0s - loss: 0.1961 - acc: 0.9478 - val_loss: 0.0923 - val_acc: 0.9700 - 77ms/epoch - 3ms/step\n",
      "Epoch 114/500\n",
      "29/29 - 0s - loss: 0.1971 - acc: 0.9544 - val_loss: 0.0915 - val_acc: 0.9700 - 84ms/epoch - 3ms/step\n",
      "Epoch 115/500\n",
      "29/29 - 0s - loss: 0.1979 - acc: 0.9433 - val_loss: 0.0918 - val_acc: 0.9700 - 81ms/epoch - 3ms/step\n",
      "Epoch 116/500\n",
      "29/29 - 0s - loss: 0.1784 - acc: 0.9544 - val_loss: 0.0918 - val_acc: 0.9700 - 79ms/epoch - 3ms/step\n",
      "Epoch 117/500\n",
      "29/29 - 0s - loss: 0.1988 - acc: 0.9500 - val_loss: 0.0927 - val_acc: 0.9700 - 84ms/epoch - 3ms/step\n",
      "Epoch 118/500\n",
      "29/29 - 0s - loss: 0.2107 - acc: 0.9544 - val_loss: 0.0904 - val_acc: 0.9700 - 81ms/epoch - 3ms/step\n",
      "Epoch 119/500\n",
      "29/29 - 0s - loss: 0.1993 - acc: 0.9544 - val_loss: 0.0902 - val_acc: 0.9700 - 80ms/epoch - 3ms/step\n",
      "Epoch 120/500\n",
      "29/29 - 0s - loss: 0.1964 - acc: 0.9578 - val_loss: 0.0902 - val_acc: 0.9700 - 92ms/epoch - 3ms/step\n",
      "Epoch 121/500\n",
      "29/29 - 0s - loss: 0.1989 - acc: 0.9522 - val_loss: 0.0908 - val_acc: 0.9700 - 78ms/epoch - 3ms/step\n",
      "Epoch 122/500\n",
      "29/29 - 0s - loss: 0.1991 - acc: 0.9578 - val_loss: 0.0905 - val_acc: 0.9700 - 80ms/epoch - 3ms/step\n",
      "Epoch 123/500\n",
      "29/29 - 0s - loss: 0.1731 - acc: 0.9556 - val_loss: 0.0899 - val_acc: 0.9700 - 89ms/epoch - 3ms/step\n",
      "Epoch 124/500\n",
      "29/29 - 0s - loss: 0.1883 - acc: 0.9522 - val_loss: 0.0913 - val_acc: 0.9700 - 75ms/epoch - 3ms/step\n",
      "Epoch 125/500\n",
      "29/29 - 0s - loss: 0.2010 - acc: 0.9500 - val_loss: 0.0908 - val_acc: 0.9700 - 81ms/epoch - 3ms/step\n",
      "Epoch 126/500\n",
      "29/29 - 0s - loss: 0.1805 - acc: 0.9644 - val_loss: 0.0904 - val_acc: 0.9700 - 77ms/epoch - 3ms/step\n",
      "Epoch 127/500\n",
      "29/29 - 0s - loss: 0.1971 - acc: 0.9522 - val_loss: 0.0931 - val_acc: 0.9700 - 74ms/epoch - 3ms/step\n",
      "Epoch 128/500\n",
      "29/29 - 0s - loss: 0.1832 - acc: 0.9567 - val_loss: 0.0913 - val_acc: 0.9700 - 80ms/epoch - 3ms/step\n",
      "Epoch 129/500\n",
      "29/29 - 0s - loss: 0.1951 - acc: 0.9600 - val_loss: 0.0903 - val_acc: 0.9700 - 76ms/epoch - 3ms/step\n",
      "Epoch 130/500\n",
      "29/29 - 0s - loss: 0.1899 - acc: 0.9544 - val_loss: 0.0910 - val_acc: 0.9700 - 76ms/epoch - 3ms/step\n",
      "Epoch 131/500\n",
      "29/29 - 0s - loss: 0.2028 - acc: 0.9578 - val_loss: 0.0926 - val_acc: 0.9700 - 79ms/epoch - 3ms/step\n",
      "Epoch 132/500\n",
      "29/29 - 0s - loss: 0.2146 - acc: 0.9411 - val_loss: 0.0915 - val_acc: 0.9700 - 79ms/epoch - 3ms/step\n",
      "Epoch 133/500\n",
      "29/29 - 0s - loss: 0.1959 - acc: 0.9589 - val_loss: 0.0903 - val_acc: 0.9700 - 83ms/epoch - 3ms/step\n",
      "Epoch 134/500\n",
      "29/29 - 0s - loss: 0.1826 - acc: 0.9533 - val_loss: 0.0901 - val_acc: 0.9700 - 92ms/epoch - 3ms/step\n",
      "Epoch 135/500\n",
      "29/29 - 0s - loss: 0.1688 - acc: 0.9544 - val_loss: 0.0900 - val_acc: 0.9700 - 191ms/epoch - 7ms/step\n",
      "Epoch 136/500\n",
      "29/29 - 0s - loss: 0.1836 - acc: 0.9533 - val_loss: 0.0900 - val_acc: 0.9700 - 214ms/epoch - 7ms/step\n",
      "Epoch 137/500\n",
      "29/29 - 0s - loss: 0.2115 - acc: 0.9533 - val_loss: 0.0912 - val_acc: 0.9700 - 143ms/epoch - 5ms/step\n",
      "Epoch 138/500\n",
      "29/29 - 0s - loss: 0.1812 - acc: 0.9556 - val_loss: 0.0903 - val_acc: 0.9700 - 93ms/epoch - 3ms/step\n",
      "Epoch 139/500\n",
      "29/29 - 0s - loss: 0.1751 - acc: 0.9533 - val_loss: 0.0898 - val_acc: 0.9700 - 83ms/epoch - 3ms/step\n",
      "Epoch 140/500\n",
      "29/29 - 0s - loss: 0.1717 - acc: 0.9622 - val_loss: 0.0897 - val_acc: 0.9700 - 103ms/epoch - 4ms/step\n",
      "Epoch 141/500\n",
      "29/29 - 0s - loss: 0.1841 - acc: 0.9556 - val_loss: 0.0909 - val_acc: 0.9700 - 77ms/epoch - 3ms/step\n",
      "Epoch 142/500\n",
      "29/29 - 0s - loss: 0.1709 - acc: 0.9656 - val_loss: 0.0901 - val_acc: 0.9700 - 79ms/epoch - 3ms/step\n",
      "Epoch 143/500\n",
      "29/29 - 0s - loss: 0.1779 - acc: 0.9611 - val_loss: 0.0909 - val_acc: 0.9700 - 277ms/epoch - 10ms/step\n",
      "Epoch 144/500\n",
      "29/29 - 0s - loss: 0.1884 - acc: 0.9444 - val_loss: 0.0897 - val_acc: 0.9700 - 228ms/epoch - 8ms/step\n",
      "Epoch 145/500\n",
      "29/29 - 0s - loss: 0.1880 - acc: 0.9600 - val_loss: 0.0890 - val_acc: 0.9700 - 77ms/epoch - 3ms/step\n",
      "Epoch 146/500\n",
      "29/29 - 0s - loss: 0.1790 - acc: 0.9556 - val_loss: 0.0887 - val_acc: 0.9700 - 81ms/epoch - 3ms/step\n",
      "Epoch 147/500\n",
      "29/29 - 0s - loss: 0.1776 - acc: 0.9600 - val_loss: 0.0888 - val_acc: 0.9700 - 75ms/epoch - 3ms/step\n",
      "Epoch 148/500\n",
      "29/29 - 0s - loss: 0.1588 - acc: 0.9556 - val_loss: 0.0880 - val_acc: 0.9700 - 75ms/epoch - 3ms/step\n",
      "Epoch 149/500\n",
      "29/29 - 0s - loss: 0.1914 - acc: 0.9500 - val_loss: 0.0878 - val_acc: 0.9700 - 91ms/epoch - 3ms/step\n",
      "Epoch 150/500\n",
      "29/29 - 0s - loss: 0.1789 - acc: 0.9556 - val_loss: 0.0887 - val_acc: 0.9700 - 118ms/epoch - 4ms/step\n",
      "Epoch 151/500\n",
      "29/29 - 0s - loss: 0.1819 - acc: 0.9589 - val_loss: 0.0890 - val_acc: 0.9700 - 233ms/epoch - 8ms/step\n",
      "Epoch 152/500\n",
      "29/29 - 0s - loss: 0.1824 - acc: 0.9622 - val_loss: 0.0870 - val_acc: 0.9700 - 179ms/epoch - 6ms/step\n",
      "Epoch 153/500\n",
      "29/29 - 0s - loss: 0.1856 - acc: 0.9600 - val_loss: 0.0883 - val_acc: 0.9700 - 79ms/epoch - 3ms/step\n",
      "Epoch 154/500\n",
      "29/29 - 0s - loss: 0.1785 - acc: 0.9556 - val_loss: 0.0875 - val_acc: 0.9700 - 100ms/epoch - 3ms/step\n",
      "Epoch 155/500\n",
      "29/29 - 0s - loss: 0.1849 - acc: 0.9589 - val_loss: 0.0881 - val_acc: 0.9700 - 90ms/epoch - 3ms/step\n",
      "Epoch 156/500\n",
      "29/29 - 0s - loss: 0.2011 - acc: 0.9556 - val_loss: 0.0880 - val_acc: 0.9700 - 84ms/epoch - 3ms/step\n",
      "Epoch 157/500\n",
      "29/29 - 0s - loss: 0.1912 - acc: 0.9567 - val_loss: 0.0879 - val_acc: 0.9700 - 77ms/epoch - 3ms/step\n",
      "Epoch 158/500\n",
      "29/29 - 0s - loss: 0.1734 - acc: 0.9611 - val_loss: 0.0871 - val_acc: 0.9700 - 78ms/epoch - 3ms/step\n",
      "Epoch 159/500\n",
      "29/29 - 0s - loss: 0.1901 - acc: 0.9556 - val_loss: 0.0872 - val_acc: 0.9700 - 87ms/epoch - 3ms/step\n",
      "Epoch 160/500\n",
      "29/29 - 0s - loss: 0.1855 - acc: 0.9644 - val_loss: 0.0866 - val_acc: 0.9700 - 80ms/epoch - 3ms/step\n",
      "Epoch 161/500\n",
      "29/29 - 0s - loss: 0.1783 - acc: 0.9600 - val_loss: 0.0866 - val_acc: 0.9700 - 79ms/epoch - 3ms/step\n",
      "Epoch 162/500\n",
      "29/29 - 0s - loss: 0.1863 - acc: 0.9567 - val_loss: 0.0881 - val_acc: 0.9700 - 91ms/epoch - 3ms/step\n",
      "Epoch 163/500\n",
      "29/29 - 0s - loss: 0.1679 - acc: 0.9589 - val_loss: 0.0878 - val_acc: 0.9700 - 89ms/epoch - 3ms/step\n",
      "Epoch 164/500\n",
      "29/29 - 0s - loss: 0.1909 - acc: 0.9589 - val_loss: 0.0879 - val_acc: 0.9700 - 82ms/epoch - 3ms/step\n",
      "Epoch 165/500\n",
      "29/29 - 0s - loss: 0.1805 - acc: 0.9533 - val_loss: 0.0880 - val_acc: 0.9700 - 92ms/epoch - 3ms/step\n",
      "Epoch 166/500\n",
      "29/29 - 0s - loss: 0.1699 - acc: 0.9589 - val_loss: 0.0879 - val_acc: 0.9700 - 82ms/epoch - 3ms/step\n",
      "Epoch 167/500\n",
      "29/29 - 0s - loss: 0.1670 - acc: 0.9600 - val_loss: 0.0872 - val_acc: 0.9700 - 80ms/epoch - 3ms/step\n",
      "Epoch 168/500\n",
      "29/29 - 0s - loss: 0.1799 - acc: 0.9556 - val_loss: 0.0871 - val_acc: 0.9700 - 78ms/epoch - 3ms/step\n",
      "Epoch 169/500\n",
      "29/29 - 0s - loss: 0.1737 - acc: 0.9556 - val_loss: 0.0872 - val_acc: 0.9700 - 81ms/epoch - 3ms/step\n",
      "Epoch 170/500\n",
      "29/29 - 0s - loss: 0.2030 - acc: 0.9567 - val_loss: 0.0866 - val_acc: 0.9700 - 86ms/epoch - 3ms/step\n",
      "Epoch 171/500\n",
      "29/29 - 0s - loss: 0.1634 - acc: 0.9600 - val_loss: 0.0883 - val_acc: 0.9700 - 81ms/epoch - 3ms/step\n",
      "Epoch 172/500\n",
      "29/29 - 0s - loss: 0.1867 - acc: 0.9622 - val_loss: 0.0871 - val_acc: 0.9700 - 77ms/epoch - 3ms/step\n",
      "Epoch 173/500\n",
      "29/29 - 0s - loss: 0.1615 - acc: 0.9611 - val_loss: 0.0871 - val_acc: 0.9700 - 79ms/epoch - 3ms/step\n",
      "Epoch 174/500\n",
      "29/29 - 0s - loss: 0.1718 - acc: 0.9622 - val_loss: 0.0865 - val_acc: 0.9600 - 75ms/epoch - 3ms/step\n",
      "Epoch 175/500\n",
      "29/29 - 0s - loss: 0.1822 - acc: 0.9478 - val_loss: 0.0861 - val_acc: 0.9700 - 78ms/epoch - 3ms/step\n",
      "Epoch 176/500\n",
      "29/29 - 0s - loss: 0.1727 - acc: 0.9556 - val_loss: 0.0866 - val_acc: 0.9700 - 81ms/epoch - 3ms/step\n",
      "Epoch 177/500\n",
      "29/29 - 0s - loss: 0.1746 - acc: 0.9556 - val_loss: 0.0868 - val_acc: 0.9700 - 81ms/epoch - 3ms/step\n",
      "Epoch 178/500\n",
      "29/29 - 0s - loss: 0.1672 - acc: 0.9633 - val_loss: 0.0857 - val_acc: 0.9700 - 76ms/epoch - 3ms/step\n",
      "Epoch 179/500\n",
      "29/29 - 0s - loss: 0.1730 - acc: 0.9544 - val_loss: 0.0864 - val_acc: 0.9700 - 75ms/epoch - 3ms/step\n",
      "Epoch 180/500\n",
      "29/29 - 0s - loss: 0.1746 - acc: 0.9578 - val_loss: 0.0868 - val_acc: 0.9700 - 82ms/epoch - 3ms/step\n",
      "Epoch 181/500\n",
      "29/29 - 0s - loss: 0.1647 - acc: 0.9622 - val_loss: 0.0865 - val_acc: 0.9700 - 82ms/epoch - 3ms/step\n",
      "Epoch 182/500\n",
      "29/29 - 0s - loss: 0.1690 - acc: 0.9700 - val_loss: 0.0857 - val_acc: 0.9700 - 87ms/epoch - 3ms/step\n",
      "Epoch 183/500\n",
      "29/29 - 0s - loss: 0.1797 - acc: 0.9589 - val_loss: 0.0855 - val_acc: 0.9700 - 82ms/epoch - 3ms/step\n",
      "Epoch 184/500\n",
      "29/29 - 0s - loss: 0.1943 - acc: 0.9511 - val_loss: 0.0850 - val_acc: 0.9700 - 79ms/epoch - 3ms/step\n",
      "Epoch 185/500\n",
      "29/29 - 0s - loss: 0.1737 - acc: 0.9600 - val_loss: 0.0851 - val_acc: 0.9700 - 83ms/epoch - 3ms/step\n",
      "Epoch 186/500\n",
      "29/29 - 0s - loss: 0.1830 - acc: 0.9544 - val_loss: 0.0859 - val_acc: 0.9700 - 81ms/epoch - 3ms/step\n",
      "Epoch 187/500\n",
      "29/29 - 0s - loss: 0.1766 - acc: 0.9578 - val_loss: 0.0845 - val_acc: 0.9700 - 83ms/epoch - 3ms/step\n",
      "Epoch 188/500\n",
      "29/29 - 0s - loss: 0.1749 - acc: 0.9644 - val_loss: 0.0853 - val_acc: 0.9700 - 82ms/epoch - 3ms/step\n",
      "Epoch 189/500\n",
      "29/29 - 0s - loss: 0.1740 - acc: 0.9611 - val_loss: 0.0856 - val_acc: 0.9700 - 79ms/epoch - 3ms/step\n",
      "Epoch 190/500\n",
      "29/29 - 0s - loss: 0.1817 - acc: 0.9533 - val_loss: 0.0853 - val_acc: 0.9700 - 97ms/epoch - 3ms/step\n",
      "Epoch 191/500\n",
      "29/29 - 0s - loss: 0.1880 - acc: 0.9533 - val_loss: 0.0847 - val_acc: 0.9700 - 81ms/epoch - 3ms/step\n",
      "Epoch 192/500\n",
      "29/29 - 0s - loss: 0.1560 - acc: 0.9633 - val_loss: 0.0851 - val_acc: 0.9700 - 91ms/epoch - 3ms/step\n",
      "Epoch 193/500\n",
      "29/29 - 0s - loss: 0.1510 - acc: 0.9656 - val_loss: 0.0830 - val_acc: 0.9700 - 89ms/epoch - 3ms/step\n",
      "Epoch 194/500\n",
      "29/29 - 0s - loss: 0.1841 - acc: 0.9533 - val_loss: 0.0824 - val_acc: 0.9700 - 94ms/epoch - 3ms/step\n",
      "Epoch 195/500\n",
      "29/29 - 0s - loss: 0.1764 - acc: 0.9567 - val_loss: 0.0837 - val_acc: 0.9700 - 78ms/epoch - 3ms/step\n",
      "Epoch 196/500\n",
      "29/29 - 0s - loss: 0.1834 - acc: 0.9656 - val_loss: 0.0837 - val_acc: 0.9700 - 92ms/epoch - 3ms/step\n",
      "Epoch 197/500\n",
      "29/29 - 0s - loss: 0.1720 - acc: 0.9644 - val_loss: 0.0837 - val_acc: 0.9700 - 76ms/epoch - 3ms/step\n",
      "Epoch 198/500\n",
      "29/29 - 0s - loss: 0.1701 - acc: 0.9578 - val_loss: 0.0838 - val_acc: 0.9700 - 77ms/epoch - 3ms/step\n",
      "Epoch 199/500\n",
      "29/29 - 0s - loss: 0.1814 - acc: 0.9622 - val_loss: 0.0840 - val_acc: 0.9700 - 77ms/epoch - 3ms/step\n",
      "Epoch 200/500\n",
      "29/29 - 0s - loss: 0.1666 - acc: 0.9567 - val_loss: 0.0844 - val_acc: 0.9700 - 76ms/epoch - 3ms/step\n",
      "Epoch 201/500\n",
      "29/29 - 0s - loss: 0.1817 - acc: 0.9600 - val_loss: 0.0848 - val_acc: 0.9700 - 99ms/epoch - 3ms/step\n",
      "Epoch 202/500\n",
      "29/29 - 0s - loss: 0.1855 - acc: 0.9533 - val_loss: 0.0847 - val_acc: 0.9700 - 93ms/epoch - 3ms/step\n",
      "Epoch 203/500\n",
      "29/29 - 0s - loss: 0.1650 - acc: 0.9633 - val_loss: 0.0844 - val_acc: 0.9700 - 86ms/epoch - 3ms/step\n",
      "Epoch 204/500\n",
      "29/29 - 0s - loss: 0.1560 - acc: 0.9689 - val_loss: 0.0846 - val_acc: 0.9700 - 86ms/epoch - 3ms/step\n",
      "Epoch 205/500\n",
      "29/29 - 0s - loss: 0.1737 - acc: 0.9611 - val_loss: 0.0847 - val_acc: 0.9700 - 84ms/epoch - 3ms/step\n",
      "Epoch 206/500\n",
      "29/29 - 0s - loss: 0.1694 - acc: 0.9644 - val_loss: 0.0838 - val_acc: 0.9700 - 92ms/epoch - 3ms/step\n",
      "Epoch 207/500\n",
      "29/29 - 0s - loss: 0.1682 - acc: 0.9656 - val_loss: 0.0833 - val_acc: 0.9700 - 94ms/epoch - 3ms/step\n",
      "Epoch 208/500\n",
      "29/29 - 0s - loss: 0.1889 - acc: 0.9600 - val_loss: 0.0863 - val_acc: 0.9700 - 81ms/epoch - 3ms/step\n",
      "Epoch 209/500\n",
      "29/29 - 0s - loss: 0.1508 - acc: 0.9689 - val_loss: 0.0849 - val_acc: 0.9700 - 107ms/epoch - 4ms/step\n",
      "Epoch 210/500\n",
      "29/29 - 0s - loss: 0.1636 - acc: 0.9711 - val_loss: 0.0853 - val_acc: 0.9700 - 79ms/epoch - 3ms/step\n",
      "Epoch 211/500\n",
      "29/29 - 0s - loss: 0.1576 - acc: 0.9633 - val_loss: 0.0845 - val_acc: 0.9700 - 255ms/epoch - 9ms/step\n",
      "Epoch 212/500\n",
      "29/29 - 0s - loss: 0.1867 - acc: 0.9600 - val_loss: 0.0831 - val_acc: 0.9700 - 146ms/epoch - 5ms/step\n",
      "Epoch 213/500\n",
      "29/29 - 0s - loss: 0.1645 - acc: 0.9644 - val_loss: 0.0828 - val_acc: 0.9700 - 101ms/epoch - 3ms/step\n",
      "Epoch 214/500\n",
      "29/29 - 0s - loss: 0.1623 - acc: 0.9556 - val_loss: 0.0835 - val_acc: 0.9700 - 80ms/epoch - 3ms/step\n",
      "Epoch 215/500\n",
      "29/29 - 0s - loss: 0.1694 - acc: 0.9656 - val_loss: 0.0830 - val_acc: 0.9700 - 93ms/epoch - 3ms/step\n",
      "Epoch 216/500\n",
      "29/29 - 0s - loss: 0.1826 - acc: 0.9656 - val_loss: 0.0821 - val_acc: 0.9700 - 77ms/epoch - 3ms/step\n",
      "Epoch 217/500\n",
      "29/29 - 0s - loss: 0.1632 - acc: 0.9578 - val_loss: 0.0825 - val_acc: 0.9700 - 77ms/epoch - 3ms/step\n",
      "Epoch 218/500\n",
      "29/29 - 0s - loss: 0.1661 - acc: 0.9633 - val_loss: 0.0819 - val_acc: 0.9700 - 206ms/epoch - 7ms/step\n",
      "Epoch 219/500\n",
      "29/29 - 0s - loss: 0.1650 - acc: 0.9600 - val_loss: 0.0814 - val_acc: 0.9700 - 175ms/epoch - 6ms/step\n",
      "Epoch 220/500\n",
      "29/29 - 0s - loss: 0.1672 - acc: 0.9633 - val_loss: 0.0810 - val_acc: 0.9700 - 84ms/epoch - 3ms/step\n",
      "Epoch 221/500\n",
      "29/29 - 0s - loss: 0.1805 - acc: 0.9622 - val_loss: 0.0810 - val_acc: 0.9700 - 77ms/epoch - 3ms/step\n",
      "Epoch 222/500\n",
      "29/29 - 0s - loss: 0.1503 - acc: 0.9656 - val_loss: 0.0821 - val_acc: 0.9700 - 99ms/epoch - 3ms/step\n",
      "Epoch 223/500\n",
      "29/29 - 0s - loss: 0.1583 - acc: 0.9644 - val_loss: 0.0826 - val_acc: 0.9700 - 92ms/epoch - 3ms/step\n",
      "Epoch 224/500\n",
      "29/29 - 0s - loss: 0.1751 - acc: 0.9589 - val_loss: 0.0817 - val_acc: 0.9700 - 91ms/epoch - 3ms/step\n",
      "Epoch 225/500\n",
      "29/29 - 0s - loss: 0.1761 - acc: 0.9633 - val_loss: 0.0828 - val_acc: 0.9700 - 82ms/epoch - 3ms/step\n",
      "Epoch 226/500\n",
      "29/29 - 0s - loss: 0.1522 - acc: 0.9622 - val_loss: 0.0829 - val_acc: 0.9700 - 227ms/epoch - 8ms/step\n",
      "Epoch 227/500\n",
      "29/29 - 0s - loss: 0.1846 - acc: 0.9567 - val_loss: 0.0837 - val_acc: 0.9700 - 146ms/epoch - 5ms/step\n",
      "Epoch 228/500\n",
      "29/29 - 0s - loss: 0.1633 - acc: 0.9633 - val_loss: 0.0833 - val_acc: 0.9700 - 79ms/epoch - 3ms/step\n",
      "Epoch 229/500\n",
      "29/29 - 0s - loss: 0.1853 - acc: 0.9667 - val_loss: 0.0833 - val_acc: 0.9700 - 77ms/epoch - 3ms/step\n",
      "Epoch 230/500\n",
      "29/29 - 0s - loss: 0.1775 - acc: 0.9600 - val_loss: 0.0829 - val_acc: 0.9700 - 94ms/epoch - 3ms/step\n",
      "Epoch 231/500\n",
      "29/29 - 0s - loss: 0.1736 - acc: 0.9578 - val_loss: 0.0841 - val_acc: 0.9700 - 77ms/epoch - 3ms/step\n",
      "Epoch 232/500\n",
      "29/29 - 0s - loss: 0.1555 - acc: 0.9656 - val_loss: 0.0837 - val_acc: 0.9700 - 77ms/epoch - 3ms/step\n",
      "Epoch 233/500\n",
      "29/29 - 0s - loss: 0.1694 - acc: 0.9611 - val_loss: 0.0835 - val_acc: 0.9700 - 79ms/epoch - 3ms/step\n",
      "Epoch 234/500\n",
      "29/29 - 0s - loss: 0.1485 - acc: 0.9633 - val_loss: 0.0839 - val_acc: 0.9700 - 77ms/epoch - 3ms/step\n",
      "Epoch 235/500\n",
      "29/29 - 0s - loss: 0.1625 - acc: 0.9667 - val_loss: 0.0833 - val_acc: 0.9700 - 74ms/epoch - 3ms/step\n",
      "Epoch 236/500\n",
      "29/29 - 0s - loss: 0.1606 - acc: 0.9633 - val_loss: 0.0828 - val_acc: 0.9700 - 88ms/epoch - 3ms/step\n",
      "Epoch 237/500\n",
      "29/29 - 0s - loss: 0.1507 - acc: 0.9600 - val_loss: 0.0836 - val_acc: 0.9700 - 80ms/epoch - 3ms/step\n",
      "Epoch 238/500\n",
      "29/29 - 0s - loss: 0.1791 - acc: 0.9611 - val_loss: 0.0832 - val_acc: 0.9700 - 78ms/epoch - 3ms/step\n",
      "Epoch 239/500\n",
      "29/29 - 0s - loss: 0.1819 - acc: 0.9622 - val_loss: 0.0830 - val_acc: 0.9700 - 93ms/epoch - 3ms/step\n",
      "Epoch 240/500\n",
      "29/29 - 0s - loss: 0.1794 - acc: 0.9633 - val_loss: 0.0835 - val_acc: 0.9700 - 95ms/epoch - 3ms/step\n",
      "Epoch 241/500\n",
      "29/29 - 0s - loss: 0.1704 - acc: 0.9656 - val_loss: 0.0830 - val_acc: 0.9700 - 78ms/epoch - 3ms/step\n",
      "Epoch 242/500\n",
      "29/29 - 0s - loss: 0.1725 - acc: 0.9611 - val_loss: 0.0820 - val_acc: 0.9700 - 89ms/epoch - 3ms/step\n",
      "Epoch 243/500\n",
      "29/29 - 0s - loss: 0.1450 - acc: 0.9678 - val_loss: 0.0828 - val_acc: 0.9700 - 92ms/epoch - 3ms/step\n",
      "Epoch 244/500\n",
      "29/29 - 0s - loss: 0.1716 - acc: 0.9533 - val_loss: 0.0830 - val_acc: 0.9700 - 83ms/epoch - 3ms/step\n",
      "Epoch 245/500\n",
      "29/29 - 0s - loss: 0.1577 - acc: 0.9678 - val_loss: 0.0841 - val_acc: 0.9700 - 80ms/epoch - 3ms/step\n",
      "Epoch 246/500\n",
      "29/29 - 0s - loss: 0.1677 - acc: 0.9644 - val_loss: 0.0837 - val_acc: 0.9700 - 84ms/epoch - 3ms/step\n",
      "Epoch 247/500\n",
      "29/29 - 0s - loss: 0.1769 - acc: 0.9622 - val_loss: 0.0826 - val_acc: 0.9700 - 95ms/epoch - 3ms/step\n",
      "Epoch 248/500\n",
      "29/29 - 0s - loss: 0.1583 - acc: 0.9644 - val_loss: 0.0831 - val_acc: 0.9700 - 81ms/epoch - 3ms/step\n",
      "Epoch 249/500\n",
      "29/29 - 0s - loss: 0.1613 - acc: 0.9656 - val_loss: 0.0823 - val_acc: 0.9700 - 102ms/epoch - 4ms/step\n",
      "Epoch 250/500\n",
      "29/29 - 0s - loss: 0.1810 - acc: 0.9544 - val_loss: 0.0822 - val_acc: 0.9700 - 94ms/epoch - 3ms/step\n",
      "Epoch 251/500\n",
      "29/29 - 0s - loss: 0.1701 - acc: 0.9667 - val_loss: 0.0810 - val_acc: 0.9700 - 80ms/epoch - 3ms/step\n",
      "Epoch 252/500\n",
      "29/29 - 0s - loss: 0.1687 - acc: 0.9622 - val_loss: 0.0830 - val_acc: 0.9700 - 80ms/epoch - 3ms/step\n",
      "Epoch 253/500\n",
      "29/29 - 0s - loss: 0.1940 - acc: 0.9611 - val_loss: 0.0834 - val_acc: 0.9700 - 100ms/epoch - 3ms/step\n",
      "Epoch 254/500\n",
      "29/29 - 0s - loss: 0.1594 - acc: 0.9722 - val_loss: 0.0831 - val_acc: 0.9700 - 79ms/epoch - 3ms/step\n",
      "Epoch 255/500\n",
      "29/29 - 0s - loss: 0.1790 - acc: 0.9633 - val_loss: 0.0829 - val_acc: 0.9700 - 91ms/epoch - 3ms/step\n",
      "Epoch 256/500\n",
      "29/29 - 0s - loss: 0.1434 - acc: 0.9689 - val_loss: 0.0831 - val_acc: 0.9700 - 80ms/epoch - 3ms/step\n",
      "Epoch 257/500\n",
      "29/29 - 0s - loss: 0.1636 - acc: 0.9711 - val_loss: 0.0827 - val_acc: 0.9700 - 92ms/epoch - 3ms/step\n",
      "Epoch 258/500\n",
      "29/29 - 0s - loss: 0.1588 - acc: 0.9678 - val_loss: 0.0821 - val_acc: 0.9700 - 75ms/epoch - 3ms/step\n",
      "Epoch 259/500\n",
      "29/29 - 0s - loss: 0.1681 - acc: 0.9589 - val_loss: 0.0830 - val_acc: 0.9700 - 80ms/epoch - 3ms/step\n",
      "Epoch 260/500\n",
      "29/29 - 0s - loss: 0.1550 - acc: 0.9622 - val_loss: 0.0819 - val_acc: 0.9700 - 78ms/epoch - 3ms/step\n",
      "Epoch 261/500\n",
      "29/29 - 0s - loss: 0.1522 - acc: 0.9644 - val_loss: 0.0821 - val_acc: 0.9700 - 80ms/epoch - 3ms/step\n",
      "Epoch 262/500\n",
      "29/29 - 0s - loss: 0.1748 - acc: 0.9589 - val_loss: 0.0816 - val_acc: 0.9700 - 90ms/epoch - 3ms/step\n",
      "Epoch 263/500\n",
      "29/29 - 0s - loss: 0.1798 - acc: 0.9611 - val_loss: 0.0811 - val_acc: 0.9700 - 94ms/epoch - 3ms/step\n",
      "Epoch 264/500\n",
      "29/29 - 0s - loss: 0.1556 - acc: 0.9622 - val_loss: 0.0805 - val_acc: 0.9700 - 91ms/epoch - 3ms/step\n",
      "Epoch 265/500\n",
      "29/29 - 0s - loss: 0.1854 - acc: 0.9589 - val_loss: 0.0803 - val_acc: 0.9700 - 79ms/epoch - 3ms/step\n",
      "Epoch 266/500\n",
      "29/29 - 0s - loss: 0.1710 - acc: 0.9556 - val_loss: 0.0801 - val_acc: 0.9700 - 77ms/epoch - 3ms/step\n",
      "Epoch 267/500\n",
      "29/29 - 0s - loss: 0.1640 - acc: 0.9622 - val_loss: 0.0812 - val_acc: 0.9700 - 125ms/epoch - 4ms/step\n",
      "Epoch 268/500\n",
      "29/29 - 0s - loss: 0.1778 - acc: 0.9600 - val_loss: 0.0811 - val_acc: 0.9700 - 78ms/epoch - 3ms/step\n",
      "Epoch 269/500\n",
      "29/29 - 0s - loss: 0.1691 - acc: 0.9656 - val_loss: 0.0812 - val_acc: 0.9700 - 79ms/epoch - 3ms/step\n",
      "Epoch 270/500\n",
      "29/29 - 0s - loss: 0.1557 - acc: 0.9644 - val_loss: 0.0816 - val_acc: 0.9700 - 90ms/epoch - 3ms/step\n",
      "Epoch 271/500\n",
      "29/29 - 0s - loss: 0.1766 - acc: 0.9622 - val_loss: 0.0805 - val_acc: 0.9700 - 91ms/epoch - 3ms/step\n",
      "Epoch 272/500\n",
      "29/29 - 0s - loss: 0.1330 - acc: 0.9678 - val_loss: 0.0805 - val_acc: 0.9700 - 87ms/epoch - 3ms/step\n",
      "Epoch 273/500\n",
      "29/29 - 0s - loss: 0.1817 - acc: 0.9644 - val_loss: 0.0819 - val_acc: 0.9700 - 79ms/epoch - 3ms/step\n",
      "Epoch 274/500\n",
      "29/29 - 0s - loss: 0.1760 - acc: 0.9611 - val_loss: 0.0818 - val_acc: 0.9700 - 80ms/epoch - 3ms/step\n",
      "Epoch 275/500\n",
      "29/29 - 0s - loss: 0.1823 - acc: 0.9611 - val_loss: 0.0815 - val_acc: 0.9700 - 87ms/epoch - 3ms/step\n",
      "Epoch 276/500\n",
      "29/29 - 0s - loss: 0.1446 - acc: 0.9667 - val_loss: 0.0808 - val_acc: 0.9700 - 76ms/epoch - 3ms/step\n",
      "Epoch 277/500\n",
      "29/29 - 0s - loss: 0.1475 - acc: 0.9711 - val_loss: 0.0815 - val_acc: 0.9700 - 77ms/epoch - 3ms/step\n",
      "Epoch 278/500\n",
      "29/29 - 0s - loss: 0.1655 - acc: 0.9644 - val_loss: 0.0809 - val_acc: 0.9700 - 83ms/epoch - 3ms/step\n",
      "Epoch 279/500\n",
      "29/29 - 0s - loss: 0.1661 - acc: 0.9611 - val_loss: 0.0812 - val_acc: 0.9700 - 107ms/epoch - 4ms/step\n",
      "Epoch 280/500\n",
      "29/29 - 0s - loss: 0.1635 - acc: 0.9611 - val_loss: 0.0805 - val_acc: 0.9700 - 94ms/epoch - 3ms/step\n",
      "Epoch 281/500\n",
      "29/29 - 0s - loss: 0.1785 - acc: 0.9656 - val_loss: 0.0809 - val_acc: 0.9700 - 82ms/epoch - 3ms/step\n",
      "Epoch 282/500\n",
      "29/29 - 0s - loss: 0.1715 - acc: 0.9711 - val_loss: 0.0821 - val_acc: 0.9700 - 76ms/epoch - 3ms/step\n",
      "Epoch 283/500\n",
      "29/29 - 0s - loss: 0.1616 - acc: 0.9711 - val_loss: 0.0817 - val_acc: 0.9700 - 96ms/epoch - 3ms/step\n",
      "Epoch 284/500\n",
      "29/29 - 0s - loss: 0.1471 - acc: 0.9678 - val_loss: 0.0821 - val_acc: 0.9700 - 78ms/epoch - 3ms/step\n",
      "Epoch 285/500\n",
      "29/29 - 0s - loss: 0.1542 - acc: 0.9667 - val_loss: 0.0818 - val_acc: 0.9700 - 82ms/epoch - 3ms/step\n",
      "Epoch 286/500\n",
      "29/29 - 0s - loss: 0.1691 - acc: 0.9578 - val_loss: 0.0810 - val_acc: 0.9700 - 87ms/epoch - 3ms/step\n",
      "Epoch 287/500\n",
      "29/29 - 0s - loss: 0.1791 - acc: 0.9656 - val_loss: 0.0815 - val_acc: 0.9700 - 78ms/epoch - 3ms/step\n",
      "Epoch 288/500\n",
      "29/29 - 0s - loss: 0.1673 - acc: 0.9689 - val_loss: 0.0827 - val_acc: 0.9700 - 77ms/epoch - 3ms/step\n",
      "Epoch 289/500\n",
      "29/29 - 0s - loss: 0.1645 - acc: 0.9600 - val_loss: 0.0823 - val_acc: 0.9700 - 85ms/epoch - 3ms/step\n",
      "Epoch 290/500\n",
      "29/29 - 0s - loss: 0.1754 - acc: 0.9644 - val_loss: 0.0814 - val_acc: 0.9700 - 76ms/epoch - 3ms/step\n",
      "Epoch 291/500\n",
      "29/29 - 0s - loss: 0.1566 - acc: 0.9711 - val_loss: 0.0810 - val_acc: 0.9700 - 79ms/epoch - 3ms/step\n",
      "Epoch 292/500\n",
      "29/29 - 0s - loss: 0.1815 - acc: 0.9578 - val_loss: 0.0809 - val_acc: 0.9700 - 90ms/epoch - 3ms/step\n",
      "Epoch 293/500\n",
      "29/29 - 0s - loss: 0.1687 - acc: 0.9700 - val_loss: 0.0819 - val_acc: 0.9700 - 89ms/epoch - 3ms/step\n",
      "Epoch 294/500\n",
      "29/29 - 0s - loss: 0.1676 - acc: 0.9656 - val_loss: 0.0815 - val_acc: 0.9700 - 78ms/epoch - 3ms/step\n",
      "Epoch 295/500\n",
      "29/29 - 0s - loss: 0.1852 - acc: 0.9622 - val_loss: 0.0815 - val_acc: 0.9700 - 88ms/epoch - 3ms/step\n",
      "Epoch 296/500\n",
      "29/29 - 0s - loss: 0.1735 - acc: 0.9633 - val_loss: 0.0822 - val_acc: 0.9700 - 82ms/epoch - 3ms/step\n",
      "Epoch 297/500\n",
      "29/29 - 0s - loss: 0.1546 - acc: 0.9644 - val_loss: 0.0817 - val_acc: 0.9700 - 85ms/epoch - 3ms/step\n",
      "Epoch 298/500\n",
      "29/29 - 0s - loss: 0.1599 - acc: 0.9611 - val_loss: 0.0813 - val_acc: 0.9700 - 91ms/epoch - 3ms/step\n",
      "Epoch 299/500\n",
      "29/29 - 0s - loss: 0.1678 - acc: 0.9622 - val_loss: 0.0801 - val_acc: 0.9700 - 78ms/epoch - 3ms/step\n",
      "Epoch 300/500\n",
      "29/29 - 0s - loss: 0.1591 - acc: 0.9689 - val_loss: 0.0802 - val_acc: 0.9700 - 101ms/epoch - 3ms/step\n",
      "Epoch 301/500\n",
      "29/29 - 0s - loss: 0.1622 - acc: 0.9600 - val_loss: 0.0803 - val_acc: 0.9700 - 90ms/epoch - 3ms/step\n",
      "Epoch 302/500\n",
      "29/29 - 0s - loss: 0.1759 - acc: 0.9556 - val_loss: 0.0802 - val_acc: 0.9700 - 92ms/epoch - 3ms/step\n",
      "Epoch 303/500\n",
      "29/29 - 0s - loss: 0.1643 - acc: 0.9644 - val_loss: 0.0805 - val_acc: 0.9700 - 112ms/epoch - 4ms/step\n",
      "Epoch 304/500\n",
      "29/29 - 0s - loss: 0.1562 - acc: 0.9633 - val_loss: 0.0804 - val_acc: 0.9700 - 114ms/epoch - 4ms/step\n",
      "Epoch 305/500\n",
      "29/29 - 0s - loss: 0.1578 - acc: 0.9633 - val_loss: 0.0802 - val_acc: 0.9700 - 121ms/epoch - 4ms/step\n",
      "Epoch 306/500\n",
      "29/29 - 0s - loss: 0.1576 - acc: 0.9600 - val_loss: 0.0822 - val_acc: 0.9700 - 140ms/epoch - 5ms/step\n",
      "Epoch 307/500\n",
      "29/29 - 0s - loss: 0.1668 - acc: 0.9578 - val_loss: 0.0823 - val_acc: 0.9700 - 134ms/epoch - 5ms/step\n",
      "Epoch 308/500\n",
      "29/29 - 0s - loss: 0.1527 - acc: 0.9622 - val_loss: 0.0814 - val_acc: 0.9700 - 132ms/epoch - 5ms/step\n",
      "Epoch 309/500\n",
      "29/29 - 0s - loss: 0.1490 - acc: 0.9656 - val_loss: 0.0817 - val_acc: 0.9700 - 127ms/epoch - 4ms/step\n",
      "Epoch 310/500\n",
      "29/29 - 0s - loss: 0.1698 - acc: 0.9700 - val_loss: 0.0814 - val_acc: 0.9700 - 121ms/epoch - 4ms/step\n",
      "Epoch 311/500\n",
      "29/29 - 0s - loss: 0.1572 - acc: 0.9656 - val_loss: 0.0813 - val_acc: 0.9700 - 123ms/epoch - 4ms/step\n",
      "Epoch 312/500\n",
      "29/29 - 0s - loss: 0.1551 - acc: 0.9633 - val_loss: 0.0818 - val_acc: 0.9700 - 120ms/epoch - 4ms/step\n",
      "Epoch 313/500\n",
      "29/29 - 0s - loss: 0.1354 - acc: 0.9722 - val_loss: 0.0823 - val_acc: 0.9700 - 120ms/epoch - 4ms/step\n",
      "Epoch 314/500\n",
      "29/29 - 0s - loss: 0.1504 - acc: 0.9622 - val_loss: 0.0815 - val_acc: 0.9700 - 116ms/epoch - 4ms/step\n",
      "Epoch 315/500\n",
      "29/29 - 0s - loss: 0.1667 - acc: 0.9644 - val_loss: 0.0808 - val_acc: 0.9700 - 130ms/epoch - 4ms/step\n",
      "Epoch 316/500\n",
      "29/29 - 0s - loss: 0.1516 - acc: 0.9667 - val_loss: 0.0801 - val_acc: 0.9700 - 108ms/epoch - 4ms/step\n",
      "Epoch 317/500\n",
      "29/29 - 0s - loss: 0.1666 - acc: 0.9644 - val_loss: 0.0802 - val_acc: 0.9700 - 98ms/epoch - 3ms/step\n",
      "Epoch 318/500\n",
      "29/29 - 0s - loss: 0.1887 - acc: 0.9611 - val_loss: 0.0800 - val_acc: 0.9700 - 78ms/epoch - 3ms/step\n",
      "Epoch 319/500\n",
      "29/29 - 0s - loss: 0.1546 - acc: 0.9689 - val_loss: 0.0797 - val_acc: 0.9700 - 81ms/epoch - 3ms/step\n",
      "Epoch 320/500\n",
      "29/29 - 0s - loss: 0.1494 - acc: 0.9644 - val_loss: 0.0798 - val_acc: 0.9700 - 78ms/epoch - 3ms/step\n",
      "Epoch 321/500\n",
      "29/29 - 0s - loss: 0.1563 - acc: 0.9700 - val_loss: 0.0791 - val_acc: 0.9700 - 77ms/epoch - 3ms/step\n",
      "Epoch 322/500\n",
      "29/29 - 0s - loss: 0.1604 - acc: 0.9600 - val_loss: 0.0791 - val_acc: 0.9700 - 86ms/epoch - 3ms/step\n",
      "Epoch 323/500\n",
      "29/29 - 0s - loss: 0.1557 - acc: 0.9633 - val_loss: 0.0791 - val_acc: 0.9700 - 85ms/epoch - 3ms/step\n",
      "Epoch 324/500\n",
      "29/29 - 0s - loss: 0.1626 - acc: 0.9633 - val_loss: 0.0790 - val_acc: 0.9700 - 77ms/epoch - 3ms/step\n",
      "Epoch 325/500\n",
      "29/29 - 0s - loss: 0.1539 - acc: 0.9656 - val_loss: 0.0811 - val_acc: 0.9700 - 73ms/epoch - 3ms/step\n",
      "Epoch 326/500\n",
      "29/29 - 0s - loss: 0.1535 - acc: 0.9633 - val_loss: 0.0811 - val_acc: 0.9700 - 92ms/epoch - 3ms/step\n",
      "Epoch 327/500\n",
      "29/29 - 0s - loss: 0.1481 - acc: 0.9678 - val_loss: 0.0797 - val_acc: 0.9700 - 76ms/epoch - 3ms/step\n",
      "Epoch 328/500\n",
      "29/29 - 0s - loss: 0.1691 - acc: 0.9600 - val_loss: 0.0788 - val_acc: 0.9700 - 76ms/epoch - 3ms/step\n",
      "Epoch 329/500\n",
      "29/29 - 0s - loss: 0.1597 - acc: 0.9656 - val_loss: 0.0793 - val_acc: 0.9700 - 73ms/epoch - 3ms/step\n",
      "Epoch 330/500\n",
      "29/29 - 0s - loss: 0.1733 - acc: 0.9622 - val_loss: 0.0794 - val_acc: 0.9700 - 78ms/epoch - 3ms/step\n",
      "Epoch 331/500\n",
      "29/29 - 0s - loss: 0.1455 - acc: 0.9689 - val_loss: 0.0795 - val_acc: 0.9700 - 95ms/epoch - 3ms/step\n",
      "Epoch 332/500\n",
      "29/29 - 0s - loss: 0.1463 - acc: 0.9689 - val_loss: 0.0786 - val_acc: 0.9700 - 75ms/epoch - 3ms/step\n",
      "Epoch 333/500\n",
      "29/29 - 0s - loss: 0.1665 - acc: 0.9644 - val_loss: 0.0790 - val_acc: 0.9700 - 90ms/epoch - 3ms/step\n",
      "Epoch 334/500\n",
      "29/29 - 0s - loss: 0.1532 - acc: 0.9678 - val_loss: 0.0802 - val_acc: 0.9700 - 84ms/epoch - 3ms/step\n",
      "Epoch 335/500\n",
      "29/29 - 0s - loss: 0.1928 - acc: 0.9589 - val_loss: 0.0797 - val_acc: 0.9700 - 91ms/epoch - 3ms/step\n",
      "Epoch 336/500\n",
      "29/29 - 0s - loss: 0.1639 - acc: 0.9656 - val_loss: 0.0795 - val_acc: 0.9700 - 93ms/epoch - 3ms/step\n",
      "Epoch 337/500\n",
      "29/29 - 0s - loss: 0.1636 - acc: 0.9667 - val_loss: 0.0811 - val_acc: 0.9700 - 100ms/epoch - 3ms/step\n",
      "Epoch 338/500\n",
      "29/29 - 0s - loss: 0.1755 - acc: 0.9633 - val_loss: 0.0817 - val_acc: 0.9700 - 75ms/epoch - 3ms/step\n",
      "Epoch 339/500\n",
      "29/29 - 0s - loss: 0.1595 - acc: 0.9667 - val_loss: 0.0810 - val_acc: 0.9700 - 88ms/epoch - 3ms/step\n",
      "Epoch 340/500\n",
      "29/29 - 0s - loss: 0.1629 - acc: 0.9644 - val_loss: 0.0800 - val_acc: 0.9700 - 93ms/epoch - 3ms/step\n",
      "Epoch 341/500\n",
      "29/29 - 0s - loss: 0.1557 - acc: 0.9689 - val_loss: 0.0813 - val_acc: 0.9700 - 88ms/epoch - 3ms/step\n",
      "Epoch 342/500\n",
      "29/29 - 0s - loss: 0.1602 - acc: 0.9667 - val_loss: 0.0806 - val_acc: 0.9700 - 94ms/epoch - 3ms/step\n",
      "Epoch 343/500\n",
      "29/29 - 0s - loss: 0.1573 - acc: 0.9644 - val_loss: 0.0791 - val_acc: 0.9700 - 90ms/epoch - 3ms/step\n",
      "Epoch 344/500\n",
      "29/29 - 0s - loss: 0.1539 - acc: 0.9622 - val_loss: 0.0792 - val_acc: 0.9700 - 80ms/epoch - 3ms/step\n",
      "Epoch 345/500\n",
      "29/29 - 0s - loss: 0.1347 - acc: 0.9756 - val_loss: 0.0787 - val_acc: 0.9800 - 89ms/epoch - 3ms/step\n",
      "Epoch 346/500\n",
      "29/29 - 0s - loss: 0.1503 - acc: 0.9689 - val_loss: 0.0791 - val_acc: 0.9700 - 76ms/epoch - 3ms/step\n",
      "Epoch 347/500\n",
      "29/29 - 0s - loss: 0.1536 - acc: 0.9644 - val_loss: 0.0790 - val_acc: 0.9700 - 79ms/epoch - 3ms/step\n",
      "Epoch 348/500\n",
      "29/29 - 0s - loss: 0.1677 - acc: 0.9622 - val_loss: 0.0795 - val_acc: 0.9700 - 83ms/epoch - 3ms/step\n",
      "Epoch 349/500\n",
      "29/29 - 0s - loss: 0.1688 - acc: 0.9633 - val_loss: 0.0792 - val_acc: 0.9800 - 79ms/epoch - 3ms/step\n",
      "Epoch 350/500\n",
      "29/29 - 0s - loss: 0.1587 - acc: 0.9600 - val_loss: 0.0794 - val_acc: 0.9800 - 77ms/epoch - 3ms/step\n",
      "Epoch 351/500\n",
      "29/29 - 0s - loss: 0.1446 - acc: 0.9644 - val_loss: 0.0797 - val_acc: 0.9700 - 77ms/epoch - 3ms/step\n",
      "Epoch 352/500\n",
      "29/29 - 0s - loss: 0.1750 - acc: 0.9611 - val_loss: 0.0801 - val_acc: 0.9700 - 82ms/epoch - 3ms/step\n",
      "Epoch 353/500\n",
      "29/29 - 0s - loss: 0.1638 - acc: 0.9622 - val_loss: 0.0797 - val_acc: 0.9800 - 82ms/epoch - 3ms/step\n",
      "Epoch 354/500\n",
      "29/29 - 0s - loss: 0.1755 - acc: 0.9611 - val_loss: 0.0801 - val_acc: 0.9700 - 74ms/epoch - 3ms/step\n",
      "Epoch 355/500\n",
      "29/29 - 0s - loss: 0.1671 - acc: 0.9600 - val_loss: 0.0794 - val_acc: 0.9700 - 84ms/epoch - 3ms/step\n",
      "Epoch 356/500\n",
      "29/29 - 0s - loss: 0.1673 - acc: 0.9633 - val_loss: 0.0789 - val_acc: 0.9800 - 78ms/epoch - 3ms/step\n",
      "Epoch 357/500\n",
      "29/29 - 0s - loss: 0.1731 - acc: 0.9656 - val_loss: 0.0784 - val_acc: 0.9800 - 82ms/epoch - 3ms/step\n",
      "Epoch 358/500\n",
      "29/29 - 0s - loss: 0.1620 - acc: 0.9656 - val_loss: 0.0787 - val_acc: 0.9700 - 79ms/epoch - 3ms/step\n",
      "Epoch 359/500\n",
      "29/29 - 0s - loss: 0.1380 - acc: 0.9722 - val_loss: 0.0780 - val_acc: 0.9800 - 90ms/epoch - 3ms/step\n",
      "Epoch 360/500\n",
      "29/29 - 0s - loss: 0.1585 - acc: 0.9644 - val_loss: 0.0784 - val_acc: 0.9800 - 103ms/epoch - 4ms/step\n",
      "Epoch 361/500\n",
      "29/29 - 0s - loss: 0.1644 - acc: 0.9656 - val_loss: 0.0782 - val_acc: 0.9800 - 76ms/epoch - 3ms/step\n",
      "Epoch 362/500\n",
      "29/29 - 0s - loss: 0.1684 - acc: 0.9633 - val_loss: 0.0782 - val_acc: 0.9700 - 76ms/epoch - 3ms/step\n",
      "Epoch 363/500\n",
      "29/29 - 0s - loss: 0.1359 - acc: 0.9678 - val_loss: 0.0782 - val_acc: 0.9700 - 79ms/epoch - 3ms/step\n",
      "Epoch 364/500\n",
      "29/29 - 0s - loss: 0.1615 - acc: 0.9611 - val_loss: 0.0785 - val_acc: 0.9800 - 75ms/epoch - 3ms/step\n",
      "Epoch 365/500\n",
      "29/29 - 0s - loss: 0.1632 - acc: 0.9678 - val_loss: 0.0783 - val_acc: 0.9800 - 77ms/epoch - 3ms/step\n",
      "Epoch 366/500\n",
      "29/29 - 0s - loss: 0.1529 - acc: 0.9678 - val_loss: 0.0780 - val_acc: 0.9700 - 95ms/epoch - 3ms/step\n",
      "Epoch 367/500\n",
      "29/29 - 0s - loss: 0.1561 - acc: 0.9633 - val_loss: 0.0780 - val_acc: 0.9700 - 76ms/epoch - 3ms/step\n",
      "Epoch 368/500\n",
      "29/29 - 0s - loss: 0.1752 - acc: 0.9644 - val_loss: 0.0782 - val_acc: 0.9700 - 78ms/epoch - 3ms/step\n",
      "Epoch 369/500\n",
      "29/29 - 0s - loss: 0.1799 - acc: 0.9600 - val_loss: 0.0780 - val_acc: 0.9700 - 81ms/epoch - 3ms/step\n",
      "Epoch 370/500\n",
      "29/29 - 0s - loss: 0.1604 - acc: 0.9678 - val_loss: 0.0794 - val_acc: 0.9700 - 91ms/epoch - 3ms/step\n",
      "Epoch 371/500\n",
      "29/29 - 0s - loss: 0.1611 - acc: 0.9667 - val_loss: 0.0792 - val_acc: 0.9700 - 76ms/epoch - 3ms/step\n",
      "Epoch 372/500\n",
      "29/29 - 0s - loss: 0.1863 - acc: 0.9644 - val_loss: 0.0792 - val_acc: 0.9700 - 87ms/epoch - 3ms/step\n",
      "Epoch 373/500\n",
      "29/29 - 0s - loss: 0.1660 - acc: 0.9700 - val_loss: 0.0784 - val_acc: 0.9800 - 82ms/epoch - 3ms/step\n",
      "Epoch 374/500\n",
      "29/29 - 0s - loss: 0.1731 - acc: 0.9711 - val_loss: 0.0788 - val_acc: 0.9700 - 77ms/epoch - 3ms/step\n",
      "Epoch 375/500\n",
      "29/29 - 0s - loss: 0.1476 - acc: 0.9722 - val_loss: 0.0797 - val_acc: 0.9700 - 93ms/epoch - 3ms/step\n",
      "Epoch 376/500\n",
      "29/29 - 0s - loss: 0.1552 - acc: 0.9733 - val_loss: 0.0792 - val_acc: 0.9700 - 84ms/epoch - 3ms/step\n",
      "Epoch 377/500\n",
      "29/29 - 0s - loss: 0.1620 - acc: 0.9633 - val_loss: 0.0783 - val_acc: 0.9700 - 81ms/epoch - 3ms/step\n",
      "Epoch 378/500\n",
      "29/29 - 0s - loss: 0.1667 - acc: 0.9600 - val_loss: 0.0793 - val_acc: 0.9700 - 91ms/epoch - 3ms/step\n",
      "Epoch 379/500\n",
      "29/29 - 0s - loss: 0.1584 - acc: 0.9656 - val_loss: 0.0778 - val_acc: 0.9700 - 78ms/epoch - 3ms/step\n",
      "Epoch 380/500\n",
      "29/29 - 0s - loss: 0.1499 - acc: 0.9633 - val_loss: 0.0775 - val_acc: 0.9700 - 82ms/epoch - 3ms/step\n",
      "Epoch 381/500\n",
      "29/29 - 0s - loss: 0.1677 - acc: 0.9667 - val_loss: 0.0770 - val_acc: 0.9700 - 88ms/epoch - 3ms/step\n",
      "Epoch 382/500\n",
      "29/29 - 0s - loss: 0.1606 - acc: 0.9644 - val_loss: 0.0772 - val_acc: 0.9700 - 73ms/epoch - 3ms/step\n",
      "Epoch 383/500\n",
      "29/29 - 0s - loss: 0.1435 - acc: 0.9711 - val_loss: 0.0782 - val_acc: 0.9700 - 98ms/epoch - 3ms/step\n",
      "Epoch 384/500\n",
      "29/29 - 0s - loss: 0.1754 - acc: 0.9633 - val_loss: 0.0791 - val_acc: 0.9700 - 74ms/epoch - 3ms/step\n",
      "Epoch 385/500\n",
      "29/29 - 0s - loss: 0.1821 - acc: 0.9611 - val_loss: 0.0786 - val_acc: 0.9700 - 73ms/epoch - 3ms/step\n",
      "Epoch 386/500\n",
      "29/29 - 0s - loss: 0.1740 - acc: 0.9589 - val_loss: 0.0786 - val_acc: 0.9700 - 81ms/epoch - 3ms/step\n",
      "Epoch 387/500\n",
      "29/29 - 0s - loss: 0.1611 - acc: 0.9656 - val_loss: 0.0783 - val_acc: 0.9700 - 82ms/epoch - 3ms/step\n",
      "Epoch 388/500\n",
      "29/29 - 0s - loss: 0.1523 - acc: 0.9667 - val_loss: 0.0787 - val_acc: 0.9700 - 75ms/epoch - 3ms/step\n",
      "Epoch 389/500\n",
      "29/29 - 0s - loss: 0.1496 - acc: 0.9667 - val_loss: 0.0786 - val_acc: 0.9700 - 92ms/epoch - 3ms/step\n",
      "Epoch 390/500\n",
      "29/29 - 0s - loss: 0.1668 - acc: 0.9667 - val_loss: 0.0791 - val_acc: 0.9700 - 75ms/epoch - 3ms/step\n",
      "Epoch 391/500\n",
      "29/29 - 0s - loss: 0.1581 - acc: 0.9689 - val_loss: 0.0790 - val_acc: 0.9700 - 88ms/epoch - 3ms/step\n",
      "Epoch 392/500\n",
      "29/29 - 0s - loss: 0.1571 - acc: 0.9711 - val_loss: 0.0783 - val_acc: 0.9700 - 79ms/epoch - 3ms/step\n",
      "Epoch 393/500\n",
      "29/29 - 0s - loss: 0.1584 - acc: 0.9667 - val_loss: 0.0786 - val_acc: 0.9700 - 80ms/epoch - 3ms/step\n",
      "Epoch 394/500\n",
      "29/29 - 0s - loss: 0.1607 - acc: 0.9644 - val_loss: 0.0795 - val_acc: 0.9700 - 76ms/epoch - 3ms/step\n",
      "Epoch 395/500\n",
      "29/29 - 0s - loss: 0.1762 - acc: 0.9667 - val_loss: 0.0797 - val_acc: 0.9700 - 100ms/epoch - 3ms/step\n",
      "Epoch 396/500\n",
      "29/29 - 0s - loss: 0.1529 - acc: 0.9611 - val_loss: 0.0793 - val_acc: 0.9700 - 73ms/epoch - 3ms/step\n",
      "Epoch 397/500\n",
      "29/29 - 0s - loss: 0.1636 - acc: 0.9667 - val_loss: 0.0789 - val_acc: 0.9700 - 89ms/epoch - 3ms/step\n",
      "Epoch 398/500\n",
      "29/29 - 0s - loss: 0.1515 - acc: 0.9600 - val_loss: 0.0808 - val_acc: 0.9700 - 99ms/epoch - 3ms/step\n",
      "Epoch 399/500\n",
      "29/29 - 0s - loss: 0.1622 - acc: 0.9622 - val_loss: 0.0807 - val_acc: 0.9700 - 76ms/epoch - 3ms/step\n",
      "Epoch 400/500\n",
      "29/29 - 0s - loss: 0.1543 - acc: 0.9711 - val_loss: 0.0806 - val_acc: 0.9700 - 78ms/epoch - 3ms/step\n",
      "Epoch 401/500\n",
      "29/29 - 0s - loss: 0.1642 - acc: 0.9656 - val_loss: 0.0798 - val_acc: 0.9700 - 74ms/epoch - 3ms/step\n",
      "Epoch 402/500\n",
      "29/29 - 0s - loss: 0.1643 - acc: 0.9644 - val_loss: 0.0796 - val_acc: 0.9700 - 76ms/epoch - 3ms/step\n",
      "Epoch 403/500\n",
      "29/29 - 0s - loss: 0.1594 - acc: 0.9722 - val_loss: 0.0794 - val_acc: 0.9700 - 94ms/epoch - 3ms/step\n",
      "Epoch 404/500\n",
      "29/29 - 0s - loss: 0.1762 - acc: 0.9622 - val_loss: 0.0793 - val_acc: 0.9700 - 75ms/epoch - 3ms/step\n",
      "Epoch 405/500\n",
      "29/29 - 0s - loss: 0.1711 - acc: 0.9622 - val_loss: 0.0793 - val_acc: 0.9700 - 89ms/epoch - 3ms/step\n",
      "Epoch 406/500\n",
      "29/29 - 0s - loss: 0.1531 - acc: 0.9667 - val_loss: 0.0795 - val_acc: 0.9700 - 89ms/epoch - 3ms/step\n",
      "Epoch 407/500\n",
      "29/29 - 0s - loss: 0.1550 - acc: 0.9711 - val_loss: 0.0797 - val_acc: 0.9700 - 77ms/epoch - 3ms/step\n",
      "Epoch 408/500\n",
      "29/29 - 0s - loss: 0.1360 - acc: 0.9678 - val_loss: 0.0796 - val_acc: 0.9700 - 79ms/epoch - 3ms/step\n",
      "Epoch 409/500\n",
      "29/29 - 0s - loss: 0.1559 - acc: 0.9633 - val_loss: 0.0816 - val_acc: 0.9700 - 88ms/epoch - 3ms/step\n",
      "Epoch 410/500\n",
      "29/29 - 0s - loss: 0.1636 - acc: 0.9622 - val_loss: 0.0808 - val_acc: 0.9700 - 77ms/epoch - 3ms/step\n",
      "Epoch 411/500\n",
      "29/29 - 0s - loss: 0.1584 - acc: 0.9667 - val_loss: 0.0801 - val_acc: 0.9700 - 99ms/epoch - 3ms/step\n",
      "Epoch 412/500\n",
      "29/29 - 0s - loss: 0.1752 - acc: 0.9711 - val_loss: 0.0799 - val_acc: 0.9700 - 97ms/epoch - 3ms/step\n",
      "Epoch 413/500\n",
      "29/29 - 0s - loss: 0.1735 - acc: 0.9656 - val_loss: 0.0796 - val_acc: 0.9700 - 84ms/epoch - 3ms/step\n",
      "Epoch 414/500\n",
      "29/29 - 0s - loss: 0.1618 - acc: 0.9656 - val_loss: 0.0790 - val_acc: 0.9800 - 94ms/epoch - 3ms/step\n",
      "Epoch 415/500\n",
      "29/29 - 0s - loss: 0.1431 - acc: 0.9689 - val_loss: 0.0778 - val_acc: 0.9800 - 81ms/epoch - 3ms/step\n",
      "Epoch 416/500\n",
      "29/29 - 0s - loss: 0.1609 - acc: 0.9700 - val_loss: 0.0774 - val_acc: 0.9800 - 78ms/epoch - 3ms/step\n",
      "Epoch 417/500\n",
      "29/29 - 0s - loss: 0.1494 - acc: 0.9711 - val_loss: 0.0773 - val_acc: 0.9800 - 78ms/epoch - 3ms/step\n",
      "Epoch 418/500\n",
      "29/29 - 0s - loss: 0.1704 - acc: 0.9600 - val_loss: 0.0777 - val_acc: 0.9800 - 84ms/epoch - 3ms/step\n",
      "Epoch 419/500\n",
      "29/29 - 0s - loss: 0.1449 - acc: 0.9711 - val_loss: 0.0782 - val_acc: 0.9800 - 90ms/epoch - 3ms/step\n",
      "Epoch 420/500\n",
      "29/29 - 0s - loss: 0.1554 - acc: 0.9722 - val_loss: 0.0781 - val_acc: 0.9800 - 75ms/epoch - 3ms/step\n",
      "Epoch 421/500\n",
      "29/29 - 0s - loss: 0.1474 - acc: 0.9667 - val_loss: 0.0773 - val_acc: 0.9800 - 86ms/epoch - 3ms/step\n",
      "Epoch 422/500\n",
      "29/29 - 0s - loss: 0.1420 - acc: 0.9678 - val_loss: 0.0784 - val_acc: 0.9800 - 93ms/epoch - 3ms/step\n",
      "Epoch 423/500\n",
      "29/29 - 0s - loss: 0.1634 - acc: 0.9711 - val_loss: 0.0764 - val_acc: 0.9800 - 87ms/epoch - 3ms/step\n",
      "Epoch 424/500\n",
      "29/29 - 0s - loss: 0.1639 - acc: 0.9656 - val_loss: 0.0775 - val_acc: 0.9700 - 74ms/epoch - 3ms/step\n",
      "Epoch 425/500\n",
      "29/29 - 0s - loss: 0.1490 - acc: 0.9689 - val_loss: 0.0772 - val_acc: 0.9800 - 79ms/epoch - 3ms/step\n",
      "Epoch 426/500\n",
      "29/29 - 0s - loss: 0.1767 - acc: 0.9622 - val_loss: 0.0765 - val_acc: 0.9800 - 80ms/epoch - 3ms/step\n",
      "Epoch 427/500\n",
      "29/29 - 0s - loss: 0.1580 - acc: 0.9700 - val_loss: 0.0765 - val_acc: 0.9800 - 91ms/epoch - 3ms/step\n",
      "Epoch 428/500\n",
      "29/29 - 0s - loss: 0.1413 - acc: 0.9622 - val_loss: 0.0773 - val_acc: 0.9700 - 93ms/epoch - 3ms/step\n",
      "Epoch 429/500\n",
      "29/29 - 0s - loss: 0.1491 - acc: 0.9689 - val_loss: 0.0771 - val_acc: 0.9800 - 94ms/epoch - 3ms/step\n",
      "Epoch 430/500\n",
      "29/29 - 0s - loss: 0.1694 - acc: 0.9644 - val_loss: 0.0770 - val_acc: 0.9800 - 75ms/epoch - 3ms/step\n",
      "Epoch 431/500\n",
      "29/29 - 0s - loss: 0.1593 - acc: 0.9700 - val_loss: 0.0783 - val_acc: 0.9800 - 83ms/epoch - 3ms/step\n",
      "Epoch 432/500\n",
      "29/29 - 0s - loss: 0.1771 - acc: 0.9656 - val_loss: 0.0773 - val_acc: 0.9800 - 77ms/epoch - 3ms/step\n",
      "Epoch 433/500\n",
      "29/29 - 0s - loss: 0.1740 - acc: 0.9700 - val_loss: 0.0774 - val_acc: 0.9800 - 92ms/epoch - 3ms/step\n",
      "Epoch 434/500\n",
      "29/29 - 0s - loss: 0.1485 - acc: 0.9611 - val_loss: 0.0768 - val_acc: 0.9800 - 77ms/epoch - 3ms/step\n",
      "Epoch 435/500\n",
      "29/29 - 0s - loss: 0.1580 - acc: 0.9678 - val_loss: 0.0766 - val_acc: 0.9800 - 89ms/epoch - 3ms/step\n",
      "Epoch 436/500\n",
      "29/29 - 0s - loss: 0.1515 - acc: 0.9667 - val_loss: 0.0774 - val_acc: 0.9800 - 86ms/epoch - 3ms/step\n",
      "Epoch 437/500\n",
      "29/29 - 0s - loss: 0.1396 - acc: 0.9678 - val_loss: 0.0778 - val_acc: 0.9700 - 80ms/epoch - 3ms/step\n",
      "Epoch 438/500\n",
      "29/29 - 0s - loss: 0.1619 - acc: 0.9589 - val_loss: 0.0780 - val_acc: 0.9700 - 74ms/epoch - 3ms/step\n",
      "Epoch 439/500\n",
      "29/29 - 0s - loss: 0.1811 - acc: 0.9633 - val_loss: 0.0770 - val_acc: 0.9800 - 82ms/epoch - 3ms/step\n",
      "Epoch 440/500\n",
      "29/29 - 0s - loss: 0.1648 - acc: 0.9700 - val_loss: 0.0765 - val_acc: 0.9800 - 88ms/epoch - 3ms/step\n",
      "Epoch 441/500\n",
      "29/29 - 0s - loss: 0.1456 - acc: 0.9756 - val_loss: 0.0780 - val_acc: 0.9700 - 81ms/epoch - 3ms/step\n",
      "Epoch 442/500\n",
      "29/29 - 0s - loss: 0.1610 - acc: 0.9633 - val_loss: 0.0776 - val_acc: 0.9700 - 76ms/epoch - 3ms/step\n",
      "Epoch 443/500\n",
      "29/29 - 0s - loss: 0.1527 - acc: 0.9678 - val_loss: 0.0780 - val_acc: 0.9700 - 78ms/epoch - 3ms/step\n",
      "Epoch 444/500\n",
      "29/29 - 0s - loss: 0.1517 - acc: 0.9644 - val_loss: 0.0776 - val_acc: 0.9700 - 82ms/epoch - 3ms/step\n",
      "Epoch 445/500\n",
      "29/29 - 0s - loss: 0.1525 - acc: 0.9667 - val_loss: 0.0764 - val_acc: 0.9800 - 80ms/epoch - 3ms/step\n",
      "Epoch 446/500\n",
      "29/29 - 0s - loss: 0.1473 - acc: 0.9644 - val_loss: 0.0762 - val_acc: 0.9800 - 78ms/epoch - 3ms/step\n",
      "Epoch 447/500\n",
      "29/29 - 0s - loss: 0.1746 - acc: 0.9544 - val_loss: 0.0779 - val_acc: 0.9700 - 94ms/epoch - 3ms/step\n",
      "Epoch 448/500\n",
      "29/29 - 0s - loss: 0.1478 - acc: 0.9700 - val_loss: 0.0775 - val_acc: 0.9800 - 79ms/epoch - 3ms/step\n",
      "Epoch 449/500\n",
      "29/29 - 0s - loss: 0.1565 - acc: 0.9722 - val_loss: 0.0775 - val_acc: 0.9800 - 92ms/epoch - 3ms/step\n",
      "Epoch 450/500\n",
      "29/29 - 0s - loss: 0.1695 - acc: 0.9611 - val_loss: 0.0768 - val_acc: 0.9800 - 74ms/epoch - 3ms/step\n",
      "Epoch 451/500\n",
      "29/29 - 0s - loss: 0.1586 - acc: 0.9589 - val_loss: 0.0775 - val_acc: 0.9800 - 78ms/epoch - 3ms/step\n",
      "Epoch 452/500\n",
      "29/29 - 0s - loss: 0.1627 - acc: 0.9611 - val_loss: 0.0774 - val_acc: 0.9800 - 83ms/epoch - 3ms/step\n",
      "Epoch 453/500\n",
      "29/29 - 0s - loss: 0.1520 - acc: 0.9667 - val_loss: 0.0764 - val_acc: 0.9800 - 84ms/epoch - 3ms/step\n",
      "Epoch 454/500\n",
      "29/29 - 0s - loss: 0.1426 - acc: 0.9644 - val_loss: 0.0751 - val_acc: 0.9800 - 81ms/epoch - 3ms/step\n",
      "Epoch 455/500\n",
      "29/29 - 0s - loss: 0.1484 - acc: 0.9733 - val_loss: 0.0751 - val_acc: 0.9800 - 82ms/epoch - 3ms/step\n",
      "Epoch 456/500\n",
      "29/29 - 0s - loss: 0.1566 - acc: 0.9656 - val_loss: 0.0754 - val_acc: 0.9800 - 81ms/epoch - 3ms/step\n",
      "Epoch 457/500\n",
      "29/29 - 0s - loss: 0.1527 - acc: 0.9644 - val_loss: 0.0747 - val_acc: 0.9800 - 80ms/epoch - 3ms/step\n",
      "Epoch 458/500\n",
      "29/29 - 0s - loss: 0.1483 - acc: 0.9667 - val_loss: 0.0748 - val_acc: 0.9800 - 75ms/epoch - 3ms/step\n",
      "Epoch 459/500\n",
      "29/29 - 0s - loss: 0.1596 - acc: 0.9611 - val_loss: 0.0750 - val_acc: 0.9800 - 82ms/epoch - 3ms/step\n",
      "Epoch 460/500\n",
      "29/29 - 0s - loss: 0.1689 - acc: 0.9622 - val_loss: 0.0752 - val_acc: 0.9800 - 77ms/epoch - 3ms/step\n",
      "Epoch 461/500\n",
      "29/29 - 0s - loss: 0.1439 - acc: 0.9644 - val_loss: 0.0759 - val_acc: 0.9800 - 76ms/epoch - 3ms/step\n",
      "Epoch 462/500\n",
      "29/29 - 0s - loss: 0.1543 - acc: 0.9733 - val_loss: 0.0752 - val_acc: 0.9800 - 79ms/epoch - 3ms/step\n",
      "Epoch 463/500\n",
      "29/29 - 0s - loss: 0.1619 - acc: 0.9711 - val_loss: 0.0763 - val_acc: 0.9800 - 90ms/epoch - 3ms/step\n",
      "Epoch 464/500\n",
      "29/29 - 0s - loss: 0.1504 - acc: 0.9633 - val_loss: 0.0768 - val_acc: 0.9800 - 85ms/epoch - 3ms/step\n",
      "Epoch 465/500\n",
      "29/29 - 0s - loss: 0.1660 - acc: 0.9678 - val_loss: 0.0763 - val_acc: 0.9800 - 82ms/epoch - 3ms/step\n",
      "Epoch 466/500\n",
      "29/29 - 0s - loss: 0.1463 - acc: 0.9633 - val_loss: 0.0758 - val_acc: 0.9800 - 77ms/epoch - 3ms/step\n",
      "Epoch 467/500\n",
      "29/29 - 0s - loss: 0.1688 - acc: 0.9656 - val_loss: 0.0756 - val_acc: 0.9800 - 81ms/epoch - 3ms/step\n",
      "Epoch 468/500\n",
      "29/29 - 0s - loss: 0.1604 - acc: 0.9667 - val_loss: 0.0759 - val_acc: 0.9800 - 93ms/epoch - 3ms/step\n",
      "Epoch 469/500\n",
      "29/29 - 0s - loss: 0.1726 - acc: 0.9633 - val_loss: 0.0756 - val_acc: 0.9800 - 78ms/epoch - 3ms/step\n",
      "Epoch 470/500\n",
      "29/29 - 0s - loss: 0.1515 - acc: 0.9667 - val_loss: 0.0767 - val_acc: 0.9800 - 103ms/epoch - 4ms/step\n",
      "Epoch 471/500\n",
      "29/29 - 0s - loss: 0.1781 - acc: 0.9678 - val_loss: 0.0766 - val_acc: 0.9800 - 77ms/epoch - 3ms/step\n",
      "Epoch 472/500\n",
      "29/29 - 0s - loss: 0.1597 - acc: 0.9633 - val_loss: 0.0765 - val_acc: 0.9800 - 87ms/epoch - 3ms/step\n",
      "Epoch 473/500\n",
      "29/29 - 0s - loss: 0.1576 - acc: 0.9667 - val_loss: 0.0763 - val_acc: 0.9800 - 80ms/epoch - 3ms/step\n",
      "Epoch 474/500\n",
      "29/29 - 0s - loss: 0.1606 - acc: 0.9656 - val_loss: 0.0767 - val_acc: 0.9800 - 77ms/epoch - 3ms/step\n",
      "Epoch 475/500\n",
      "29/29 - 0s - loss: 0.1529 - acc: 0.9700 - val_loss: 0.0767 - val_acc: 0.9800 - 101ms/epoch - 3ms/step\n",
      "Epoch 476/500\n",
      "29/29 - 0s - loss: 0.1612 - acc: 0.9689 - val_loss: 0.0766 - val_acc: 0.9800 - 77ms/epoch - 3ms/step\n",
      "Epoch 477/500\n",
      "29/29 - 0s - loss: 0.1679 - acc: 0.9644 - val_loss: 0.0767 - val_acc: 0.9800 - 90ms/epoch - 3ms/step\n",
      "Epoch 478/500\n",
      "29/29 - 0s - loss: 0.1376 - acc: 0.9689 - val_loss: 0.0768 - val_acc: 0.9800 - 91ms/epoch - 3ms/step\n",
      "Epoch 479/500\n",
      "29/29 - 0s - loss: 0.1358 - acc: 0.9744 - val_loss: 0.0774 - val_acc: 0.9700 - 98ms/epoch - 3ms/step\n",
      "Epoch 480/500\n",
      "29/29 - 0s - loss: 0.1575 - acc: 0.9633 - val_loss: 0.0763 - val_acc: 0.9800 - 84ms/epoch - 3ms/step\n",
      "Epoch 481/500\n",
      "29/29 - 0s - loss: 0.1660 - acc: 0.9656 - val_loss: 0.0762 - val_acc: 0.9800 - 88ms/epoch - 3ms/step\n",
      "Epoch 482/500\n",
      "29/29 - 0s - loss: 0.1727 - acc: 0.9678 - val_loss: 0.0765 - val_acc: 0.9800 - 89ms/epoch - 3ms/step\n",
      "Epoch 483/500\n",
      "29/29 - 0s - loss: 0.1681 - acc: 0.9667 - val_loss: 0.0763 - val_acc: 0.9800 - 101ms/epoch - 3ms/step\n",
      "Epoch 484/500\n",
      "29/29 - 0s - loss: 0.1695 - acc: 0.9644 - val_loss: 0.0769 - val_acc: 0.9800 - 75ms/epoch - 3ms/step\n",
      "Epoch 485/500\n",
      "29/29 - 0s - loss: 0.1529 - acc: 0.9667 - val_loss: 0.0769 - val_acc: 0.9800 - 97ms/epoch - 3ms/step\n",
      "Epoch 486/500\n",
      "29/29 - 0s - loss: 0.1688 - acc: 0.9644 - val_loss: 0.0773 - val_acc: 0.9800 - 76ms/epoch - 3ms/step\n",
      "Epoch 487/500\n",
      "29/29 - 0s - loss: 0.1499 - acc: 0.9622 - val_loss: 0.0771 - val_acc: 0.9800 - 79ms/epoch - 3ms/step\n",
      "Epoch 488/500\n",
      "29/29 - 0s - loss: 0.1581 - acc: 0.9656 - val_loss: 0.0775 - val_acc: 0.9800 - 91ms/epoch - 3ms/step\n",
      "Epoch 489/500\n",
      "29/29 - 0s - loss: 0.1769 - acc: 0.9656 - val_loss: 0.0778 - val_acc: 0.9800 - 77ms/epoch - 3ms/step\n",
      "Epoch 490/500\n",
      "29/29 - 0s - loss: 0.1693 - acc: 0.9633 - val_loss: 0.0774 - val_acc: 0.9800 - 82ms/epoch - 3ms/step\n",
      "Epoch 491/500\n",
      "29/29 - 0s - loss: 0.1380 - acc: 0.9733 - val_loss: 0.0783 - val_acc: 0.9800 - 77ms/epoch - 3ms/step\n",
      "Epoch 492/500\n",
      "29/29 - 0s - loss: 0.1336 - acc: 0.9678 - val_loss: 0.0780 - val_acc: 0.9800 - 78ms/epoch - 3ms/step\n",
      "Epoch 493/500\n",
      "29/29 - 0s - loss: 0.1546 - acc: 0.9633 - val_loss: 0.0781 - val_acc: 0.9800 - 82ms/epoch - 3ms/step\n",
      "Epoch 494/500\n",
      "29/29 - 0s - loss: 0.1540 - acc: 0.9700 - val_loss: 0.0771 - val_acc: 0.9800 - 75ms/epoch - 3ms/step\n",
      "Epoch 495/500\n",
      "29/29 - 0s - loss: 0.1585 - acc: 0.9622 - val_loss: 0.0775 - val_acc: 0.9800 - 91ms/epoch - 3ms/step\n",
      "Epoch 496/500\n",
      "29/29 - 0s - loss: 0.1345 - acc: 0.9656 - val_loss: 0.0773 - val_acc: 0.9800 - 94ms/epoch - 3ms/step\n",
      "Epoch 497/500\n",
      "29/29 - 0s - loss: 0.1605 - acc: 0.9656 - val_loss: 0.0771 - val_acc: 0.9800 - 110ms/epoch - 4ms/step\n",
      "Epoch 498/500\n",
      "29/29 - 0s - loss: 0.1474 - acc: 0.9678 - val_loss: 0.0771 - val_acc: 0.9800 - 99ms/epoch - 3ms/step\n",
      "Epoch 499/500\n",
      "29/29 - 0s - loss: 0.1513 - acc: 0.9656 - val_loss: 0.0777 - val_acc: 0.9700 - 98ms/epoch - 3ms/step\n",
      "Epoch 500/500\n",
      "29/29 - 0s - loss: 0.1544 - acc: 0.9644 - val_loss: 0.0773 - val_acc: 0.9700 - 99ms/epoch - 3ms/step\n"
     ]
    }
   ],
   "source": [
    "model.compile(optimizer='sgd', loss='categorical_crossentropy', metrics='acc')\n",
    "history = model.fit(x=x_train, y=y_train_oh, validation_data=(x_test, y_test_oh), epochs=500, batch_size=32, verbose=2)"
   ]
  },
  {
   "cell_type": "code",
   "execution_count": 12,
   "metadata": {
    "id": "lUB2OqTGkqvu"
   },
   "outputs": [],
   "source": [
    "opt = keras.optimizers.SGD(learning_rate=0.01, decay=10e-6)\n",
    "opt = keras.optimizers.Adam(learning_rate=0.01)\n",
    "\n",
    "model.compile(optimizer=opt, loss='categorical_crossentropy', metrics='acc')"
   ]
  },
  {
   "cell_type": "markdown",
   "metadata": {
    "id": "T3NZEJ7ek_J0"
   },
   "source": [
    "## Model fitting (training)\n",
    "\n",
    "To train (.fit) the model, we need to define training-data (x and y), optional validation-data, the number of epochs, the size of a mini-batch and opional callback (such as Early-Stopping)\n",
    "\n",
    "<img src=\"https://docs.google.com/uc?export=download&id=1LFbfyj43FJIzrq_QC11qoBB9xOXNQ4yz\" width=300>\n"
   ]
  },
  {
   "cell_type": "code",
   "execution_count": 13,
   "metadata": {
    "id": "gHXlgrxkfFgI"
   },
   "outputs": [],
   "source": [
    "from keras.callbacks import EarlyStopping\n",
    "early_stopping = EarlyStopping(monitor='val_loss', patience=5)\n",
    "\n",
    "history = model.fit(x=x_train, y=y_train_oh, \n",
    "                    validation_data=(x_test, y_test_oh), \n",
    "                    epochs=100, \n",
    "                    batch_size=32, \n",
    "                    shuffle=True,\n",
    "                    callbacks=[early_stopping],\n",
    "                    verbose=0)"
   ]
  },
  {
   "cell_type": "markdown",
   "metadata": {
    "id": "KAxKH74HlR-j"
   },
   "source": [
    "The output variable ``history`` contains the values of the loss over epochs. We can display it to check that the training was good."
   ]
  },
  {
   "cell_type": "code",
   "execution_count": 14,
   "metadata": {
    "colab": {
     "base_uri": "https://localhost:8080/",
     "height": 407
    },
    "id": "iwhrlR_JgtFs",
    "outputId": "c3549224-837c-483f-c984-4561e8da016f"
   },
   "outputs": [
    {
     "data": {
      "text/plain": [
       "Text(0.5, 1.0, 'Accuracy')"
      ]
     },
     "execution_count": 14,
     "metadata": {},
     "output_type": "execute_result"
    },
    {
     "data": {
      "image/png": "[encoded data removed]",
      "text/plain": [
       "<Figure size 1008x432 with 2 Axes>"
      ]
     },
     "metadata": {
      "needs_background": "light"
     },
     "output_type": "display_data"
    }
   ],
   "source": [
    "plt.figure(figsize=(14,6))\n",
    "plt.subplot(1,2,1)\n",
    "plt.plot(history.history['loss'], label='train');\n",
    "plt.plot(history.history['val_loss'], label='valid');\n",
    "plt.grid(True);\n",
    "plt.legend();\n",
    "plt.title('Loss')\n",
    "\n",
    "\n",
    "plt.subplot(1,2,2)\n",
    "plt.plot(history.history['acc'], label='train');\n",
    "plt.plot(history.history['val_acc'], label='valid');\n",
    "plt.grid(True);\n",
    "plt.legend();\n",
    "plt.title('Accuracy')"
   ]
  },
  {
   "cell_type": "markdown",
   "metadata": {
    "id": "ZDJ-stzhi0wV"
   },
   "source": [
    "## Model testing"
   ]
  },
  {
   "cell_type": "code",
   "execution_count": 15,
   "metadata": {
    "colab": {
     "base_uri": "https://localhost:8080/"
    },
    "id": "5LzzSlmshxPC",
    "outputId": "8e0839dc-869d-45e7-ff4b-44ebdb28ccbe"
   },
   "outputs": [
    {
     "name": "stdout",
     "output_type": "stream",
     "text": [
      "[[35  0  0]\n",
      " [ 0 34  1]\n",
      " [ 1  1 28]]\n"
     ]
    }
   ],
   "source": [
    "from sklearn.metrics import confusion_matrix\n",
    "\n",
    "hat_y_test_oh = model.predict(x_test)\n",
    "\n",
    "matrix = confusion_matrix(y_test_oh.argmax(axis=1), hat_y_test_oh.argmax(axis=1))\n",
    "print (matrix)"
   ]
  },
  {
   "cell_type": "code",
   "execution_count": 16,
   "metadata": {
    "colab": {
     "base_uri": "https://localhost:8080/",
     "height": 607
    },
    "id": "VFA1KRbzimFy",
    "outputId": "502f5858-a33e-4653-91ee-b9231ac80910"
   },
   "outputs": [
    {
     "ename": "ValueError",
     "evalue": "ignored",
     "output_type": "error",
     "traceback": [
      "\u001b[0;31m---------------------------------------------------------------------------\u001b[0m",
      "\u001b[0;31mValueError\u001b[0m                                Traceback (most recent call last)",
      "\u001b[0;32m<ipython-input-16-20c7bb6b7e54>\u001b[0m in \u001b[0;36m<module>\u001b[0;34m()\u001b[0m\n\u001b[0;32m----> 1\u001b[0;31m \u001b[0mscore\u001b[0m \u001b[0;34m=\u001b[0m \u001b[0mmodel\u001b[0m\u001b[0;34m.\u001b[0m\u001b[0mevaluate\u001b[0m\u001b[0;34m(\u001b[0m \u001b[0my_test_oh\u001b[0m\u001b[0;34m,\u001b[0m \u001b[0mhat_y_test_oh\u001b[0m \u001b[0;34m)\u001b[0m\u001b[0;34m\u001b[0m\u001b[0;34m\u001b[0m\u001b[0m\n\u001b[0m\u001b[1;32m      2\u001b[0m \u001b[0;34m\u001b[0m\u001b[0m\n\u001b[1;32m      3\u001b[0m \u001b[0mprint\u001b[0m\u001b[0;34m(\u001b[0m\u001b[0mscore\u001b[0m\u001b[0;34m)\u001b[0m\u001b[0;34m\u001b[0m\u001b[0;34m\u001b[0m\u001b[0m\n",
      "\u001b[0;32m/usr/local/lib/python3.7/dist-packages/keras/utils/traceback_utils.py\u001b[0m in \u001b[0;36merror_handler\u001b[0;34m(*args, **kwargs)\u001b[0m\n\u001b[1;32m     65\u001b[0m     \u001b[0;32mexcept\u001b[0m \u001b[0mException\u001b[0m \u001b[0;32mas\u001b[0m \u001b[0me\u001b[0m\u001b[0;34m:\u001b[0m  \u001b[0;31m# pylint: disable=broad-except\u001b[0m\u001b[0;34m\u001b[0m\u001b[0;34m\u001b[0m\u001b[0m\n\u001b[1;32m     66\u001b[0m       \u001b[0mfiltered_tb\u001b[0m \u001b[0;34m=\u001b[0m \u001b[0m_process_traceback_frames\u001b[0m\u001b[0;34m(\u001b[0m\u001b[0me\u001b[0m\u001b[0;34m.\u001b[0m\u001b[0m__traceback__\u001b[0m\u001b[0;34m)\u001b[0m\u001b[0;34m\u001b[0m\u001b[0;34m\u001b[0m\u001b[0m\n\u001b[0;32m---> 67\u001b[0;31m       \u001b[0;32mraise\u001b[0m \u001b[0me\u001b[0m\u001b[0;34m.\u001b[0m\u001b[0mwith_traceback\u001b[0m\u001b[0;34m(\u001b[0m\u001b[0mfiltered_tb\u001b[0m\u001b[0;34m)\u001b[0m \u001b[0;32mfrom\u001b[0m \u001b[0;32mNone\u001b[0m\u001b[0;34m\u001b[0m\u001b[0;34m\u001b[0m\u001b[0m\n\u001b[0m\u001b[1;32m     68\u001b[0m     \u001b[0;32mfinally\u001b[0m\u001b[0;34m:\u001b[0m\u001b[0;34m\u001b[0m\u001b[0;34m\u001b[0m\u001b[0m\n\u001b[1;32m     69\u001b[0m       \u001b[0;32mdel\u001b[0m \u001b[0mfiltered_tb\u001b[0m\u001b[0;34m\u001b[0m\u001b[0;34m\u001b[0m\u001b[0m\n",
      "\u001b[0;32m/usr/local/lib/python3.7/dist-packages/tensorflow/python/framework/func_graph.py\u001b[0m in \u001b[0;36mautograph_handler\u001b[0;34m(*args, **kwargs)\u001b[0m\n\u001b[1;32m   1145\u001b[0m           \u001b[0;32mexcept\u001b[0m \u001b[0mException\u001b[0m \u001b[0;32mas\u001b[0m \u001b[0me\u001b[0m\u001b[0;34m:\u001b[0m  \u001b[0;31m# pylint:disable=broad-except\u001b[0m\u001b[0;34m\u001b[0m\u001b[0;34m\u001b[0m\u001b[0m\n\u001b[1;32m   1146\u001b[0m             \u001b[0;32mif\u001b[0m \u001b[0mhasattr\u001b[0m\u001b[0;34m(\u001b[0m\u001b[0me\u001b[0m\u001b[0;34m,\u001b[0m \u001b[0;34m\"ag_error_metadata\"\u001b[0m\u001b[0;34m)\u001b[0m\u001b[0;34m:\u001b[0m\u001b[0;34m\u001b[0m\u001b[0;34m\u001b[0m\u001b[0m\n\u001b[0;32m-> 1147\u001b[0;31m               \u001b[0;32mraise\u001b[0m \u001b[0me\u001b[0m\u001b[0;34m.\u001b[0m\u001b[0mag_error_metadata\u001b[0m\u001b[0;34m.\u001b[0m\u001b[0mto_exception\u001b[0m\u001b[0;34m(\u001b[0m\u001b[0me\u001b[0m\u001b[0;34m)\u001b[0m\u001b[0;34m\u001b[0m\u001b[0;34m\u001b[0m\u001b[0m\n\u001b[0m\u001b[1;32m   1148\u001b[0m             \u001b[0;32melse\u001b[0m\u001b[0;34m:\u001b[0m\u001b[0;34m\u001b[0m\u001b[0;34m\u001b[0m\u001b[0m\n\u001b[1;32m   1149\u001b[0m               \u001b[0;32mraise\u001b[0m\u001b[0;34m\u001b[0m\u001b[0;34m\u001b[0m\u001b[0m\n",
      "\u001b[0;31mValueError\u001b[0m: in user code:\n\n    File \"/usr/local/lib/python3.7/dist-packages/keras/engine/training.py\", line 1525, in test_function  *\n        return step_function(self, iterator)\n    File \"/usr/local/lib/python3.7/dist-packages/keras/engine/training.py\", line 1514, in step_function  **\n        outputs = model.distribute_strategy.run(run_step, args=(data,))\n    File \"/usr/local/lib/python3.7/dist-packages/keras/engine/training.py\", line 1507, in run_step  **\n        outputs = model.test_step(data)\n    File \"/usr/local/lib/python3.7/dist-packages/keras/engine/training.py\", line 1471, in test_step\n        y_pred = self(x, training=False)\n    File \"/usr/local/lib/python3.7/dist-packages/keras/utils/traceback_utils.py\", line 67, in error_handler\n        raise e.with_traceback(filtered_tb) from None\n    File \"/usr/local/lib/python3.7/dist-packages/keras/engine/input_spec.py\", line 264, in assert_input_compatibility\n        raise ValueError(f'Input {input_index} of layer \"{layer_name}\" is '\n\n    ValueError: Input 0 of layer \"model\" is incompatible with the layer: expected shape=(None, 5), found shape=(None, 3)\n"
     ]
    }
   ],
   "source": [
    "score = model.evaluate( y_test_oh, hat_y_test_oh )\n",
    "\n",
    "print(score)"
   ]
  },
  {
   "cell_type": "markdown",
   "metadata": {
    "id": "s6VHhQVci3Vj"
   },
   "source": [
    "## Save the trained model"
   ]
  },
  {
   "cell_type": "code",
   "execution_count": 17,
   "metadata": {
    "id": "itgmrwTZi7VD"
   },
   "outputs": [],
   "source": [
    "model.save('trained_model.h5')\n",
    "model.save_weights('my_model_weights.h5')\n",
    "del(model)"
   ]
  },
  {
   "cell_type": "code",
   "execution_count": 18,
   "metadata": {
    "id": "T_c0RmGfjHTJ"
   },
   "outputs": [],
   "source": [
    "from tensorflow.keras.models import load_model\n",
    "model = load_model('trained_model.h5')\n",
    "model.load_weights('my_model_weights.h5', by_name=True)"
   ]
  },
  {
   "cell_type": "code",
   "execution_count": 19,
   "metadata": {
    "colab": {
     "base_uri": "https://localhost:8080/"
    },
    "id": "j_pXEetzoBE0",
    "outputId": "6c891b7e-bea2-45a3-e619-18e2b05ca877"
   },
   "outputs": [
    {
     "data": {
      "text/plain": [
       "{'_activity_regularizer': None,\n",
       " '_auto_track_sub_layers': True,\n",
       " '_autocast': True,\n",
       " '_batch_input_shape': (None, 5),\n",
       " '_build_input_shape': None,\n",
       " '_callable_losses': [],\n",
       " '_compute_dtype_object': tf.float32,\n",
       " '_default_training_arg': None,\n",
       " '_dtype_policy': <Policy \"float32\">,\n",
       " '_dynamic': False,\n",
       " '_expects_mask_arg': True,\n",
       " '_expects_training_arg': True,\n",
       " '_inbound_nodes_value': [<keras.engine.node.Node at 0x7ff83a186250>],\n",
       " '_init_batch_size': None,\n",
       " '_init_dtype': 'float32',\n",
       " '_init_input_shape': None,\n",
       " '_init_ragged': False,\n",
       " '_init_sparse': False,\n",
       " '_init_type_spec': None,\n",
       " '_initial_weights': None,\n",
       " '_input_spec': None,\n",
       " '_instrumented_keras_api': True,\n",
       " '_instrumented_keras_layer_class': True,\n",
       " '_instrumented_keras_model_class': False,\n",
       " '_losses': [],\n",
       " '_metrics': [],\n",
       " '_metrics_lock': <unlocked _thread.lock object at 0x7ff83a193480>,\n",
       " '_name': 'input_1',\n",
       " '_non_trainable_weights': [],\n",
       " '_obj_reference_counts_dict': ObjectIdentityDictionary({<_ObjectIdentityWrapper wrapping 'float32'>: 1, <_ObjectIdentityWrapper wrapping False>: 2, <_ObjectIdentityWrapper wrapping True>: 3, <_ObjectIdentityWrapper wrapping (None, 5)>: 1, <_ObjectIdentityWrapper wrapping TensorSpec(shape=(None, 5), dtype=tf.float32, name='input_1')>: 1}),\n",
       " '_outbound_nodes_value': [<keras.engine.node.Node at 0x7ff83a17df10>],\n",
       " '_outer_name_scope': '',\n",
       " '_preserve_input_structure_in_config': False,\n",
       " '_saved_model_arg_spec': None,\n",
       " '_saved_model_inputs_spec': None,\n",
       " '_self_setattr_tracking': True,\n",
       " '_self_tracked_trackables': [],\n",
       " '_stateful': False,\n",
       " '_supports_masking': True,\n",
       " '_thread_local': <_thread._local at 0x7ff839fc07d0>,\n",
       " '_trainable': True,\n",
       " '_trainable_weights': [],\n",
       " '_type_spec': TensorSpec(shape=(None, 5), dtype=tf.float32, name='input_1'),\n",
       " '_updates': [],\n",
       " 'batch_size': None,\n",
       " 'built': True,\n",
       " 'is_placeholder': True,\n",
       " 'ragged': False,\n",
       " 'sparse': False}"
      ]
     },
     "execution_count": 19,
     "metadata": {},
     "output_type": "execute_result"
    }
   ],
   "source": [
    "model.layers[0].__dict__"
   ]
  },
  {
   "cell_type": "markdown",
   "metadata": {
    "id": "Aja1y-ibbkD0"
   },
   "source": [
    "# Exemple 2: Image classification"
   ]
  },
  {
   "cell_type": "markdown",
   "metadata": {
    "id": "nzVXyUGvrJDp"
   },
   "source": [
    "## Data loading"
   ]
  },
  {
   "cell_type": "code",
   "execution_count": 20,
   "metadata": {
    "colab": {
     "base_uri": "https://localhost:8080/"
    },
    "id": "R_DKtJ2EZPkA",
    "outputId": "d6d25bf9-25ed-4834-edb0-f7321a4b7f65"
   },
   "outputs": [
    {
     "name": "stdout",
     "output_type": "stream",
     "text": [
      "Downloading data from https://storage.googleapis.com/tensorflow/tf-keras-datasets/mnist.npz\n",
      "11493376/11490434 [==============================] - 0s 0us/step\n",
      "11501568/11490434 [==============================] - 0s 0us/step\n",
      "(60000, 28, 28)\n",
      "(60000,)\n"
     ]
    }
   ],
   "source": [
    "from tensorflow.keras.datasets import mnist\n",
    "(x_train, y_train), (x_test, y_test) = mnist.load_data()\n",
    "print(x_train.shape)\n",
    "print(y_train.shape)"
   ]
  },
  {
   "cell_type": "markdown",
   "metadata": {
    "id": "qmHyk1ndrLO3"
   },
   "source": [
    "## Data preparation"
   ]
  },
  {
   "cell_type": "code",
   "execution_count": 21,
   "metadata": {
    "id": "JpqMyBh-ZhyN"
   },
   "outputs": [],
   "source": [
    "import numpy as np\n",
    "x_train = np.reshape(x_train, (x_train.shape[0], x_train.shape[1], x_train.shape[2], 1), order='C')\n",
    "x_train = x_train.astype('float32')\n",
    "x_train /= 255\n",
    "\n",
    "x_test = np.reshape(x_test, (x_test.shape[0], x_test.shape[1], x_test.shape[2], 1), order='C')\n",
    "x_test = x_test.astype('float32')\n",
    "x_test /= 255\n"
   ]
  },
  {
   "cell_type": "code",
   "execution_count": 22,
   "metadata": {
    "colab": {
     "base_uri": "https://localhost:8080/"
    },
    "id": "IDd2DNEoadhF",
    "outputId": "1bb99fa3-779c-476a-c960-e44dc3f8943d"
   },
   "outputs": [
    {
     "name": "stdout",
     "output_type": "stream",
     "text": [
      "[5 0 4]\n",
      "[[0. 0. 0. 0. 0. 1. 0. 0. 0. 0.]\n",
      " [1. 0. 0. 0. 0. 0. 0. 0. 0. 0.]\n",
      " [0. 0. 0. 0. 1. 0. 0. 0. 0. 0.]]\n"
     ]
    }
   ],
   "source": [
    "from tensorflow.keras.utils import to_categorical\n",
    "y_train_oh = to_categorical(y_train)\n",
    "y_test_oh = to_categorical(y_test)\n",
    "\n",
    "print(y_train[:3])\n",
    "print(y_train_oh[:3])"
   ]
  },
  {
   "cell_type": "markdown",
   "metadata": {
    "id": "YR_yJz5vrO_z"
   },
   "source": [
    "## Model definition\n",
    "\n",
    "<img src=\"https://docs.google.com/uc?export=download&id=1vm6lxmUnk1jlTSxvKqc6fpvkKKvxXt0g\" width=700>\n"
   ]
  },
  {
   "cell_type": "code",
   "execution_count": 23,
   "metadata": {
    "id": "BVInpuyJa8n-"
   },
   "outputs": [],
   "source": [
    "from tensorflow.keras.models import Sequential\n",
    "from tensorflow.keras.layers import Dense, Activation, Conv2D, MaxPooling2D, Flatten\n",
    "\n",
    "n_h1 = 6\n",
    "n_h2 = 6\n",
    "n_out = 10\n",
    "\n",
    "m, w, h, c = x_train.shape\n",
    "model = Sequential() \n",
    "model.add(Conv2D(filters=n_h1, kernel_size=(5,5), input_shape=(w,h,c), padding='valid', data_format='channels_last'))\n",
    "model.add(Activation('ReLU')) \n",
    "model.add(MaxPooling2D(pool_size=2))\n",
    "model.add(Conv2D(filters=n_h2, kernel_size=(5,5), padding='valid'))\n",
    "model.add(Activation('ReLU')) \n",
    "model.add(MaxPooling2D(pool_size=2))\n",
    "model.add(Flatten())\n",
    "model.add(Dense(n_out))\n",
    "model.add(Activation('softmax'))"
   ]
  },
  {
   "cell_type": "code",
   "execution_count": 24,
   "metadata": {
    "colab": {
     "base_uri": "https://localhost:8080/"
    },
    "id": "D7oJHWSRbbW_",
    "outputId": "049bf296-b9fe-43d2-9939-d0eaf57f3536"
   },
   "outputs": [
    {
     "name": "stdout",
     "output_type": "stream",
     "text": [
      "Model: \"sequential_2\"\n",
      "_________________________________________________________________\n",
      " Layer (type)                Output Shape              Param #   \n",
      "=================================================================\n",
      " conv2d (Conv2D)             (None, 24, 24, 6)         156       \n",
      "                                                                 \n",
      " activation_6 (Activation)   (None, 24, 24, 6)         0         \n",
      "                                                                 \n",
      " max_pooling2d (MaxPooling2D  (None, 12, 12, 6)        0         \n",
      " )                                                               \n",
      "                                                                 \n",
      " conv2d_1 (Conv2D)           (None, 8, 8, 6)           906       \n",
      "                                                                 \n",
      " activation_7 (Activation)   (None, 8, 8, 6)           0         \n",
      "                                                                 \n",
      " max_pooling2d_1 (MaxPooling  (None, 4, 4, 6)          0         \n",
      " 2D)                                                             \n",
      "                                                                 \n",
      " flatten (Flatten)           (None, 96)                0         \n",
      "                                                                 \n",
      " dense_6 (Dense)             (None, 10)                970       \n",
      "                                                                 \n",
      " activation_8 (Activation)   (None, 10)                0         \n",
      "                                                                 \n",
      "=================================================================\n",
      "Total params: 2,032\n",
      "Trainable params: 2,032\n",
      "Non-trainable params: 0\n",
      "_________________________________________________________________\n"
     ]
    }
   ],
   "source": [
    "model.summary()"
   ]
  },
  {
   "cell_type": "markdown",
   "metadata": {
    "id": "XFxd8U_VrUpf"
   },
   "source": [
    "## Model compilation"
   ]
  },
  {
   "cell_type": "code",
   "execution_count": 25,
   "metadata": {
    "id": "Iv9N7GMxrT0N"
   },
   "outputs": [],
   "source": [
    "opt = keras.optimizers.Adam(learning_rate=0.01)\n",
    "model.compile(optimizer=opt, loss='categorical_crossentropy', metrics='acc')\n"
   ]
  },
  {
   "cell_type": "markdown",
   "metadata": {
    "id": "ql9IhIlMrXaA"
   },
   "source": [
    "## Model fitting (training)"
   ]
  },
  {
   "cell_type": "code",
   "execution_count": null,
   "metadata": {
    "colab": {
     "base_uri": "https://localhost:8080/"
    },
    "id": "Y848i_652eLh",
    "outputId": "77c66981-d310-4949-d755-f99242ca33df"
   },
   "outputs": [
    {
     "name": "stdout",
     "output_type": "stream",
     "text": [
      "Epoch 1/100\n",
      "1875/1875 - 14s - loss: 0.1667 - acc: 0.9477 - val_loss: 0.1003 - val_acc: 0.9700 - 14s/epoch - 7ms/step\n",
      "Epoch 2/100\n",
      "1875/1875 - 5s - loss: 0.1014 - acc: 0.9685 - val_loss: 0.0999 - val_acc: 0.9696 - 5s/epoch - 2ms/step\n",
      "Epoch 3/100\n",
      "1875/1875 - 5s - loss: 0.0970 - acc: 0.9707 - val_loss: 0.1076 - val_acc: 0.9669 - 5s/epoch - 3ms/step\n",
      "Epoch 4/100\n",
      "1875/1875 - 5s - loss: 0.0967 - acc: 0.9708 - val_loss: 0.0938 - val_acc: 0.9718 - 5s/epoch - 2ms/step\n",
      "Epoch 5/100\n",
      "1875/1875 - 5s - loss: 0.0944 - acc: 0.9722 - val_loss: 0.0863 - val_acc: 0.9723 - 5s/epoch - 2ms/step\n",
      "Epoch 6/100\n",
      "1875/1875 - 5s - loss: 0.0939 - acc: 0.9718 - val_loss: 0.0851 - val_acc: 0.9741 - 5s/epoch - 2ms/step\n",
      "Epoch 7/100\n",
      "1875/1875 - 5s - loss: 0.0944 - acc: 0.9722 - val_loss: 0.0900 - val_acc: 0.9731 - 5s/epoch - 2ms/step\n",
      "Epoch 8/100\n",
      "1875/1875 - 5s - loss: 0.0891 - acc: 0.9736 - val_loss: 0.0865 - val_acc: 0.9764 - 5s/epoch - 3ms/step\n",
      "Epoch 9/100\n",
      "1875/1875 - 5s - loss: 0.0915 - acc: 0.9722 - val_loss: 0.0892 - val_acc: 0.9771 - 5s/epoch - 2ms/step\n",
      "Epoch 10/100\n",
      "1875/1875 - 5s - loss: 0.0920 - acc: 0.9723 - val_loss: 0.0996 - val_acc: 0.9728 - 5s/epoch - 2ms/step\n",
      "Epoch 11/100\n",
      "1875/1875 - 5s - loss: 0.0902 - acc: 0.9733 - val_loss: 0.0956 - val_acc: 0.9700 - 5s/epoch - 2ms/step\n",
      "Epoch 12/100\n",
      "1875/1875 - 5s - loss: 0.0904 - acc: 0.9732 - val_loss: 0.1049 - val_acc: 0.9682 - 5s/epoch - 2ms/step\n",
      "Epoch 13/100\n",
      "1875/1875 - 5s - loss: 0.0904 - acc: 0.9729 - val_loss: 0.0842 - val_acc: 0.9765 - 5s/epoch - 3ms/step\n",
      "Epoch 14/100\n",
      "1875/1875 - 5s - loss: 0.0909 - acc: 0.9731 - val_loss: 0.0921 - val_acc: 0.9736 - 5s/epoch - 3ms/step\n",
      "Epoch 15/100\n",
      "1875/1875 - 5s - loss: 0.0889 - acc: 0.9743 - val_loss: 0.0887 - val_acc: 0.9753 - 5s/epoch - 3ms/step\n",
      "Epoch 16/100\n",
      "1875/1875 - 5s - loss: 0.0912 - acc: 0.9731 - val_loss: 0.0875 - val_acc: 0.9744 - 5s/epoch - 3ms/step\n",
      "Epoch 17/100\n",
      "1875/1875 - 5s - loss: 0.0865 - acc: 0.9744 - val_loss: 0.0913 - val_acc: 0.9761 - 5s/epoch - 2ms/step\n",
      "Epoch 18/100\n"
     ]
    }
   ],
   "source": [
    "history = model.fit(x=x_train, y=y_train_oh, \n",
    "                    validation_data=(x_test, y_test_oh), \n",
    "                    epochs=100, \n",
    "                    batch_size=32, \n",
    "                    shuffle=True,\n",
    "                    verbose=2)"
   ]
  },
  {
   "cell_type": "markdown",
   "metadata": {
    "id": "Kq26AwIx6RFE"
   },
   "source": [
    "# Exemple 3: Auto-Encoder"
   ]
  },
  {
   "cell_type": "markdown",
   "metadata": {
    "id": "IVO9CtsqyTLi"
   },
   "source": [
    "## Data loading"
   ]
  },
  {
   "cell_type": "code",
   "execution_count": null,
   "metadata": {
    "id": "2c66W8EbyOVt"
   },
   "outputs": [],
   "source": [
    "from tensorflow.keras.datasets import mnist\n",
    "(x_train, y_train), (x_test, y_test) = mnist.load_data()"
   ]
  },
  {
   "cell_type": "markdown",
   "metadata": {
    "id": "FsATBdx_zG6p"
   },
   "source": [
    "## Data preparation"
   ]
  },
  {
   "cell_type": "code",
   "execution_count": null,
   "metadata": {
    "id": "9gFJyPXh6O9p"
   },
   "outputs": [],
   "source": [
    "import numpy as np\n",
    "x_train = x_train.astype('float32') / 255.\n",
    "x_test = x_test.astype('float32') / 255.\n",
    "\n",
    "x_train = np.reshape(x_train, (len(x_train), 28, 28, 1))\n",
    "x_test = np.reshape(x_test, (len(x_test), 28, 28, 1))"
   ]
  },
  {
   "cell_type": "code",
   "execution_count": null,
   "metadata": {
    "colab": {
     "base_uri": "https://localhost:8080/",
     "height": 258
    },
    "id": "BRDA3MgqzH69",
    "outputId": "1e9c0cdb-1403-4db9-c127-ceb6efa44319"
   },
   "outputs": [
    {
     "data": {
      "image/png": "[encoded data removed]",
      "text/plain": [
       "<Figure size 432x288 with 4 Axes>"
      ]
     },
     "metadata": {
      "needs_background": "light"
     },
     "output_type": "display_data"
    }
   ],
   "source": [
    "noise_factor = 0.8\n",
    "x_train_noisy = x_train + noise_factor * np.random.normal(loc=0.0, scale=1.0, size=x_train.shape)\n",
    "x_test_noisy = x_test + noise_factor * np.random.normal(loc=0.0, scale=1.0, size=x_test.shape)\n",
    "\n",
    "x_train_noisy = np.clip(x_train_noisy, 0., 1.)\n",
    "x_test_noisy = np.clip(x_test_noisy, 0., 1.)\n",
    "\n",
    "idx = 10\n",
    "plt.subplot(1,2,1); plt.imshow(x_train[idx].reshape(28,28)); plt.colorbar();\n",
    "plt.subplot(1,2,2); plt.imshow(x_train_noisy[idx].reshape(28,28)); plt.colorbar();"
   ]
  },
  {
   "cell_type": "markdown",
   "metadata": {
    "id": "y_x4jI0dzMfZ"
   },
   "source": [
    "## Model definition\n",
    "\n"
   ]
  },
  {
   "cell_type": "code",
   "execution_count": null,
   "metadata": {
    "colab": {
     "base_uri": "https://localhost:8080/"
    },
    "id": "s5PdEzinzM6d",
    "outputId": "04a99d51-4a27-4929-a935-2958fa0197d3"
   },
   "outputs": [
    {
     "name": "stdout",
     "output_type": "stream",
     "text": [
      "Model: \"model_19\"\n",
      "_________________________________________________________________\n",
      " Layer (type)                Output Shape              Param #   \n",
      "=================================================================\n",
      " input_22 (InputLayer)       [(None, 28, 28, 1)]       0         \n",
      "                                                                 \n",
      " conv2d_85 (Conv2D)          (None, 28, 28, 16)        160       \n",
      "                                                                 \n",
      " max_pooling2d_48 (MaxPoolin  (None, 14, 14, 16)       0         \n",
      " g2D)                                                            \n",
      "                                                                 \n",
      " conv2d_86 (Conv2D)          (None, 14, 14, 8)         1160      \n",
      "                                                                 \n",
      " max_pooling2d_49 (MaxPoolin  (None, 7, 7, 8)          0         \n",
      " g2D)                                                            \n",
      "                                                                 \n",
      " conv2d_87 (Conv2D)          (None, 7, 7, 8)           584       \n",
      "                                                                 \n",
      " max_pooling2d_50 (MaxPoolin  (None, 4, 4, 8)          0         \n",
      " g2D)                                                            \n",
      "                                                                 \n",
      " conv2d_88 (Conv2D)          (None, 4, 4, 8)           584       \n",
      "                                                                 \n",
      " up_sampling2d_30 (UpSamplin  (None, 8, 8, 8)          0         \n",
      " g2D)                                                            \n",
      "                                                                 \n",
      " conv2d_89 (Conv2D)          (None, 8, 8, 8)           584       \n",
      "                                                                 \n",
      " up_sampling2d_31 (UpSamplin  (None, 16, 16, 8)        0         \n",
      " g2D)                                                            \n",
      "                                                                 \n",
      " conv2d_90 (Conv2D)          (None, 14, 14, 16)        1168      \n",
      "                                                                 \n",
      " up_sampling2d_32 (UpSamplin  (None, 28, 28, 16)       0         \n",
      " g2D)                                                            \n",
      "                                                                 \n",
      " conv2d_91 (Conv2D)          (None, 28, 28, 1)         145       \n",
      "                                                                 \n",
      "=================================================================\n",
      "Total params: 4,385\n",
      "Trainable params: 4,385\n",
      "Non-trainable params: 0\n",
      "_________________________________________________________________\n"
     ]
    }
   ],
   "source": [
    "import tensorflow.keras as keras\n",
    "from tensorflow.keras import layers\n",
    "\n",
    "input_img = keras.Input(shape=(28, 28, 1))\n",
    "\n",
    "x = layers.Conv2D(filters=16, kernel_size=(3,3), strides=(1,1), activation='ReLU', padding='same')(input_img)\n",
    "x = layers.MaxPooling2D(pool_size=(2,2), strides=(2,2), padding='same')(x)\n",
    "\n",
    "x = layers.Conv2D(filters=8, kernel_size=(3,3), strides=(1,1), activation='ReLU', padding='same')(x)\n",
    "x = layers.MaxPooling2D(pool_size=(2,2), strides=(2,2), padding='same')(x)\n",
    "\n",
    "x = layers.Conv2D(filters=8, kernel_size=(3,3), strides=(1,1), activation='ReLU', padding='same')(x)\n",
    "x = layers.MaxPooling2D(pool_size=(2,2), strides=(2,2), padding='same')(x)\n",
    "\n",
    "# --- dimension of encoded is (4, 4, 8), i.e. 128-dimensional\n",
    "encoded = x\n",
    "\n",
    "x = layers.Conv2D(filters=8, kernel_size=(3,3), strides=(1,1), activation='ReLU', padding='same')(encoded)\n",
    "x = layers.UpSampling2D((2,2))(x)\n",
    "\n",
    "x = layers.Conv2D(filters=8, kernel_size=(3,3), strides=(1,1), activation='ReLU', padding='same')(x)\n",
    "x = layers.UpSampling2D((2,2))(x)\n",
    "\n",
    "x = layers.Conv2D(filters=16, kernel_size=(3,3), strides=(1,1), activation='ReLU', padding='valid')(x)\n",
    "x = layers.UpSampling2D((2,2))(x)\n",
    "\n",
    "x = layers.Conv2D(filters=1, kernel_size=(3,3), strides=(1,1), activation='sigmoid', padding='same')(x)\n",
    "decoded = x\n",
    "\n",
    "model_autoencoder = keras.Model(input_img, decoded)\n",
    "model_autoencoder.summary()"
   ]
  },
  {
   "cell_type": "markdown",
   "metadata": {
    "id": "CQl_IGzI2joj"
   },
   "source": [
    "## Model compilation"
   ]
  },
  {
   "cell_type": "code",
   "execution_count": null,
   "metadata": {
    "id": "KoTaAyot2kX7"
   },
   "outputs": [],
   "source": [
    "model_autoencoder.compile(optimizer='adam', loss='binary_crossentropy')"
   ]
  },
  {
   "cell_type": "markdown",
   "metadata": {
    "id": "O3cNmm7m2uVf"
   },
   "source": [
    "## Model fitting (training)"
   ]
  },
  {
   "cell_type": "code",
   "execution_count": null,
   "metadata": {
    "colab": {
     "base_uri": "https://localhost:8080/"
    },
    "id": "i3fs6jaU2u8j",
    "outputId": "87a42062-2349-45c3-da9b-f8d3cd8ae171"
   },
   "outputs": [
    {
     "name": "stdout",
     "output_type": "stream",
     "text": [
      "Epoch 1/10\n",
      "469/469 [==============================] - 4s 6ms/step - loss: 0.2767 - val_loss: 0.2142\n",
      "Epoch 2/10\n",
      "469/469 [==============================] - 3s 6ms/step - loss: 0.2051 - val_loss: 0.1950\n",
      "Epoch 3/10\n",
      "469/469 [==============================] - 3s 6ms/step - loss: 0.1917 - val_loss: 0.1863\n",
      "Epoch 4/10\n",
      "469/469 [==============================] - 3s 6ms/step - loss: 0.1848 - val_loss: 0.1805\n",
      "Epoch 5/10\n",
      "469/469 [==============================] - 3s 6ms/step - loss: 0.1803 - val_loss: 0.1772\n",
      "Epoch 6/10\n",
      "469/469 [==============================] - 3s 6ms/step - loss: 0.1770 - val_loss: 0.1746\n",
      "Epoch 7/10\n",
      "469/469 [==============================] - 3s 6ms/step - loss: 0.1747 - val_loss: 0.1721\n",
      "Epoch 8/10\n",
      "469/469 [==============================] - 3s 6ms/step - loss: 0.1727 - val_loss: 0.1706\n",
      "Epoch 9/10\n",
      "469/469 [==============================] - 3s 6ms/step - loss: 0.1711 - val_loss: 0.1696\n",
      "Epoch 10/10\n",
      "469/469 [==============================] - 3s 6ms/step - loss: 0.1697 - val_loss: 0.1682\n"
     ]
    },
    {
     "data": {
      "text/plain": [
       "<keras.callbacks.History at 0x7fbb424cfed0>"
      ]
     },
     "execution_count": 73,
     "metadata": {},
     "output_type": "execute_result"
    }
   ],
   "source": [
    "model_autoencoder.fit(x_train_noisy, x_train, validation_data=(x_test_noisy, x_test), epochs=10, batch_size=128, shuffle=True)"
   ]
  },
  {
   "cell_type": "markdown",
   "metadata": {
    "id": "WGBA44EY3MnW"
   },
   "source": [
    "## Model testing"
   ]
  },
  {
   "cell_type": "code",
   "execution_count": null,
   "metadata": {
    "colab": {
     "base_uri": "https://localhost:8080/",
     "height": 248
    },
    "id": "1u9odz6d3NjD",
    "outputId": "1db5d7c1-6d3a-457a-82bd-119b35d3423f"
   },
   "outputs": [
    {
     "data": {
      "image/png": "[encoded data removed]",
      "text/plain": [
       "<Figure size 1440x288 with 20 Axes>"
      ]
     },
     "metadata": {
      "needs_background": "light"
     },
     "output_type": "display_data"
    }
   ],
   "source": [
    "import matplotlib.pyplot as plt\n",
    "\n",
    "decoded_imgs = model_autoencoder.predict(x_test_noisy)\n",
    "\n",
    "n = 10\n",
    "plt.figure(figsize=(20,4))\n",
    "for i in range(1, n+1):\n",
    "    ax = plt.subplot(2, n, i)\n",
    "    plt.imshow(x_test_noisy[i].reshape(28,28))\n",
    "    plt.gray()\n",
    "    ax.get_xaxis().set_visible(False)\n",
    "    ax.get_yaxis().set_visible(False)\n",
    "\n",
    "    ax = plt.subplot(2, n, i+n)\n",
    "    plt.imshow(decoded_imgs[i].reshape(28,28))\n",
    "    plt.gray()\n",
    "    ax.get_xaxis().set_visible(False)\n",
    "    ax.get_yaxis().set_visible(False)"
   ]
  },
  {
   "cell_type": "markdown",
   "metadata": {
    "id": "wRNDK6506VUn"
   },
   "source": [
    "# Exemple 4: Recurrent Neural Networks"
   ]
  },
  {
   "cell_type": "markdown",
   "metadata": {
    "id": "Tzack1AD6Obm"
   },
   "source": [
    "# Advanced: Fit generator\n",
    "\n",
    "https://stanford.edu/~shervine/blog/keras-how-to-generate-data-on-the-fly"
   ]
  },
  {
   "cell_type": "code",
   "execution_count": null,
   "metadata": {
    "id": "We6dhxB84VLi"
   },
   "outputs": [],
   "source": []
  }
 ],
 "metadata": {
  "accelerator": "GPU",
  "colab": {
   "collapsed_sections": [],
   "name": "Peeters_Intro_Keras.ipynb",
   "provenance": [],
   "toc_visible": true
  },
  "kernelspec": {
   "display_name": "Python 3 (ipykernel)",
   "language": "python",
   "name": "python3"
  },
  "language_info": {
   "codemirror_mode": {
    "name": "ipython",
    "version": 3
   },
   "file_extension": ".py",
   "mimetype": "text/x-python",
   "name": "python",
   "nbconvert_exporter": "python",
   "pygments_lexer": "ipython3",
   "version": "3.10.3"
  }
 },
 "nbformat": 4,
 "nbformat_minor": 4
}
