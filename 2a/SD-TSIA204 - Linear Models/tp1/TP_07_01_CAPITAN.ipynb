{
 "cells": [
  {
   "cell_type": "markdown",
   "id": "29bb70ba",
   "metadata": {},
   "source": [
    "npy -> {import numpy as np\n",
    "       {np.load\n",
    "       \n",
    "npz -> {import scipy.sparse as sp\n",
    "       {sp.load_npz\n",
    "\n",
    "Remark : problem in load_data.\n",
    "         add : n_test = X_test.shape[0]\n",
    "         modify in X.test hstack : replace n by n_test"
   ]
  },
  {
   "cell_type": "code",
   "execution_count": null,
   "id": "af2dbda1",
   "metadata": {},
   "outputs": [],
   "source": []
  },
  {
   "cell_type": "markdown",
   "id": "f4e24aac",
   "metadata": {},
   "source": [
    "TP 07/01/2022 : SD-TSIA 211 - Optimization for machine learning - NLP"
   ]
  },
  {
   "cell_type": "code",
   "execution_count": 48,
   "id": "89fcff80",
   "metadata": {},
   "outputs": [],
   "source": [
    "import numpy as np\n",
    "import scipy.sparse as sp\n",
    "from scipy.linalg import norm, solve\n",
    "from scipy.optimize import check_grad\n",
    "import matplotlib.pyplot as plt\n",
    "import time\n",
    "\n",
    "def load_data(file_name_matrix='tfidf_matrix_97MB.npz', file_name_feature_names='feature_names_97MB.npy',\n",
    "\t      file_name_labels='train_labels.npy', samples_in_train_set=10000,\n",
    "\t      samples_in_test_set=137562):\n",
    "\t# Recuperation des donnees\n",
    "\tTF_IDF_matrix = sp.load_npz(file_name_matrix)\n",
    "\tTF_IDF_feature_names = np.load(file_name_feature_names)\n",
    "\ttrain_labels = np.load(file_name_labels, allow_pickle=True)\n",
    "\ttrain_labels_numeric = ((train_labels == 'Oui') + 0)\n",
    "\n",
    "\tX = TF_IDF_matrix[:samples_in_train_set].toarray()\n",
    "\ty = train_labels_numeric[:samples_in_train_set] * 2 - 1\n",
    "\n",
    "\tX_test = TF_IDF_matrix[samples_in_train_set:samples_in_train_set+samples_in_test_set].toarray()\n",
    "\ty_test = train_labels_numeric[samples_in_train_set:samples_in_train_set+samples_in_test_set] * 2 - 1\n",
    "\n",
    "\n",
    "\t# Standardisation des données\n",
    "\tstd_X = np.maximum(np.std(X, axis=0), 1e-7)\n",
    "\tX = X / std_X\n",
    "\tX_test = X_test / std_X\n",
    "\n",
    "\tn = X.shape[0]\n",
    "\tn_test = X_test.shape[0]\n",
    "\tm = X.shape[1]\n",
    "\n",
    "\t# Ajout d'une colonne de uns\n",
    "\teX = np.hstack((np.ones((n,1)), X))\n",
    "\teX_test = np.hstack((np.ones((n_test,1)), X_test))\n",
    "\n",
    "\treturn eX, y, eX_test, y_test"
   ]
  },
  {
   "cell_type": "markdown",
   "id": "9d094550",
   "metadata": {},
   "source": [
    "Q3.1/ See proof on paper"
   ]
  },
  {
   "cell_type": "markdown",
   "id": "b5bfd63c",
   "metadata": {},
   "source": [
    "Q3.2/ Code"
   ]
  },
  {
   "cell_type": "code",
   "execution_count": 50,
   "id": "bb9935d9",
   "metadata": {},
   "outputs": [
    {
     "ename": "ValueError",
     "evalue": "all the input array dimensions for the concatenation axis must match exactly, but along dimension 1, the array at index 0 has size 1 and the array at index 1 has size 576",
     "output_type": "error",
     "traceback": [
      "\u001b[1;31m---------------------------------------------------------------------------\u001b[0m",
      "\u001b[1;31mValueError\u001b[0m                                Traceback (most recent call last)",
      "\u001b[1;32mC:\\Users\\GUILLA~1\\AppData\\Local\\Temp/ipykernel_18236/293863988.py\u001b[0m in \u001b[0;36m<module>\u001b[1;34m\u001b[0m\n\u001b[0;32m     22\u001b[0m \u001b[1;33m\u001b[0m\u001b[0m\n\u001b[0;32m     23\u001b[0m \u001b[0mw_test\u001b[0m \u001b[1;33m=\u001b[0m \u001b[0mnp\u001b[0m\u001b[1;33m.\u001b[0m\u001b[0mones\u001b[0m\u001b[1;33m(\u001b[0m\u001b[1;33m(\u001b[0m\u001b[0mn\u001b[0m\u001b[1;33m,\u001b[0m\u001b[1;36m1\u001b[0m\u001b[1;33m)\u001b[0m\u001b[1;33m)\u001b[0m\u001b[1;33m\u001b[0m\u001b[1;33m\u001b[0m\u001b[0m\n\u001b[1;32m---> 24\u001b[1;33m \u001b[0mgrad_f1\u001b[0m\u001b[1;33m(\u001b[0m\u001b[1;36m0\u001b[0m\u001b[1;33m,\u001b[0m\u001b[0mw_test\u001b[0m\u001b[1;33m)\u001b[0m\u001b[1;33m\u001b[0m\u001b[1;33m\u001b[0m\u001b[0m\n\u001b[0m",
      "\u001b[1;32mC:\\Users\\GUILLA~1\\AppData\\Local\\Temp/ipykernel_18236/293863988.py\u001b[0m in \u001b[0;36mgrad_f1\u001b[1;34m(w0, w)\u001b[0m\n\u001b[0;32m     19\u001b[0m         \u001b[0mtmp_up\u001b[0m \u001b[1;33m-=\u001b[0m \u001b[0mnp\u001b[0m\u001b[1;33m.\u001b[0m\u001b[0marray\u001b[0m\u001b[1;33m(\u001b[0m\u001b[1;33m[\u001b[0m\u001b[0my_test\u001b[0m\u001b[1;33m[\u001b[0m\u001b[0mi\u001b[0m\u001b[1;33m]\u001b[0m\u001b[1;33m*\u001b[0m\u001b[0mexpp\u001b[0m\u001b[1;33m]\u001b[0m\u001b[1;33m)\u001b[0m\u001b[1;33m\u001b[0m\u001b[1;33m\u001b[0m\u001b[0m\n\u001b[0;32m     20\u001b[0m         \u001b[1;31m#Pour que tout se passe bien, xi doit être un nparray. Idem w\u001b[0m\u001b[1;33m\u001b[0m\u001b[1;33m\u001b[0m\u001b[1;33m\u001b[0m\u001b[0m\n\u001b[1;32m---> 21\u001b[1;33m     \u001b[1;32mreturn\u001b[0m \u001b[0mnp\u001b[0m\u001b[1;33m.\u001b[0m\u001b[0mconcatenate\u001b[0m\u001b[1;33m(\u001b[0m\u001b[1;33m(\u001b[0m\u001b[0mtmp_up\u001b[0m\u001b[1;33m,\u001b[0m \u001b[0mtmp_down\u001b[0m\u001b[1;33m)\u001b[0m\u001b[1;33m,\u001b[0m \u001b[0maxis\u001b[0m\u001b[1;33m=\u001b[0m\u001b[1;36m0\u001b[0m\u001b[1;33m)\u001b[0m\u001b[1;33m\u001b[0m\u001b[1;33m\u001b[0m\u001b[0m\n\u001b[0m\u001b[0;32m     22\u001b[0m \u001b[1;33m\u001b[0m\u001b[0m\n\u001b[0;32m     23\u001b[0m \u001b[0mw_test\u001b[0m \u001b[1;33m=\u001b[0m \u001b[0mnp\u001b[0m\u001b[1;33m.\u001b[0m\u001b[0mones\u001b[0m\u001b[1;33m(\u001b[0m\u001b[1;33m(\u001b[0m\u001b[0mn\u001b[0m\u001b[1;33m,\u001b[0m\u001b[1;36m1\u001b[0m\u001b[1;33m)\u001b[0m\u001b[1;33m)\u001b[0m\u001b[1;33m\u001b[0m\u001b[1;33m\u001b[0m\u001b[0m\n",
      "\u001b[1;32m<__array_function__ internals>\u001b[0m in \u001b[0;36mconcatenate\u001b[1;34m(*args, **kwargs)\u001b[0m\n",
      "\u001b[1;31mValueError\u001b[0m: all the input array dimensions for the concatenation axis must match exactly, but along dimension 1, the array at index 0 has size 1 and the array at index 1 has size 576"
     ]
    }
   ],
   "source": [
    "#Data load\n",
    "eX,y,eX_test,y_test = load_data()\n",
    "n = np.size(eX_test[1])\n",
    "rho = 1/n\n",
    "\n",
    "#A function computing the value of f1 :\n",
    "def f1(w0,w):\n",
    "    res = 0\n",
    "    for i in range(n):\n",
    "        res+=m.log(1+m.exp(-y_test[i]*(np.dot(eX_test[i],w)+w0)))\n",
    "    return res/n + rho*np.dot(w,w)/2\n",
    "\n",
    "def grad_f1(w0,w):\n",
    "    tmp_down = np.ones((1,n))/n\n",
    "    tmp_up = np.zeros((1,1))\n",
    "    for i in range(n):\n",
    "        expp = m.exp(-y_test[i]*(np.dot(eX_test[i],w)+w0))\n",
    "        tmp_down += eX_test[i]*(-y_test[i]/(1+expp)*(expp))\n",
    "        tmp_up -= np.array([y_test[i]*expp])\n",
    "        #Pour que tout se passe bien, xi doit être un nparray. Idem w\n",
    "    return np.concatenate((tmp_up, tmp_down), axis=0)\n",
    "\n",
    "w_test = np.ones((n,1))\n",
    "grad_f1(0,w_test)"
   ]
  },
  {
   "cell_type": "code",
   "execution_count": null,
   "id": "4daa09ae",
   "metadata": {},
   "outputs": [],
   "source": []
  },
  {
   "cell_type": "code",
   "execution_count": null,
   "id": "b2da41a7",
   "metadata": {},
   "outputs": [],
   "source": []
  },
  {
   "cell_type": "code",
   "execution_count": 34,
   "id": "79d1fb1c",
   "metadata": {},
   "outputs": [
    {
     "data": {
      "text/plain": [
       "array([[0.33333333],\n",
       "       [0.33333333],\n",
       "       [0.33333333]])"
      ]
     },
     "execution_count": 34,
     "metadata": {},
     "output_type": "execute_result"
    }
   ],
   "source": [
    "#a = np.array([[1],[2]],[[1],[2]])\n",
    "#b = np.array([[3],[4]],[[0],[0]])\n",
    "p=3\n",
    "c = np.ones((1,p))/p\n",
    "c = c.reshape(p,1)\n",
    "c"
   ]
  },
  {
   "cell_type": "code",
   "execution_count": null,
   "id": "cf384183",
   "metadata": {},
   "outputs": [],
   "source": []
  }
 ],
 "metadata": {
  "kernelspec": {
   "display_name": "Python 3 (ipykernel)",
   "language": "python",
   "name": "python3"
  },
  "language_info": {
   "codemirror_mode": {
    "name": "ipython",
    "version": 3
   },
   "file_extension": ".py",
   "mimetype": "text/x-python",
   "name": "python",
   "nbconvert_exporter": "python",
   "pygments_lexer": "ipython3",
   "version": "3.9.5"
  }
 },
 "nbformat": 4,
 "nbformat_minor": 5
}
