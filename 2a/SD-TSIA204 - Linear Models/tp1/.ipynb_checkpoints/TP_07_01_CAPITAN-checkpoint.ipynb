{
 "cells": [
  {
   "cell_type": "markdown",
   "id": "38e46da4",
   "metadata": {},
   "source": [
    "npy -> {import numpy as np\n",
    "       {np.load\n",
    "       \n",
    "npz -> {import scipy.sparse as sp\n",
    "       {sp.load_npz\n",
    "\n",
    "Remark : problem in load_data.\n",
    "         add : n_test = X_test.shape[0]\n",
    "         modify in X.test hstack : replace n by n_test"
   ]
  },
  {
   "cell_type": "code",
   "execution_count": null,
   "id": "999a5d4a",
   "metadata": {},
   "outputs": [],
   "source": []
  },
  {
   "cell_type": "markdown",
   "id": "daea1b9d",
   "metadata": {},
   "source": [
    "TP 07/01/2022 : SD-TSIA 211 - Optimization for machine learning - NLP"
   ]
  },
  {
   "cell_type": "code",
   "execution_count": 36,
   "id": "27011609",
   "metadata": {},
   "outputs": [],
   "source": [
    "import numpy as np\n",
    "import scipy.sparse as sp\n",
    "from scipy.linalg import norm, solve\n",
    "from scipy.optimize import check_grad\n",
    "import matplotlib.pyplot as plt\n",
    "import time\n",
    "\n",
    "def load_data(file_name_matrix='tfidf_matrix_97MB.npz', file_name_feature_names='feature_names_97MB.npy',\n",
    "\t      file_name_labels='train_labels.npy', samples_in_train_set=10000,\n",
    "\t      samples_in_test_set=137562):\n",
    "\t# Recuperation des donnees\n",
    "\tTF_IDF_matrix = sp.load_npz(file_name_matrix)\n",
    "\tTF_IDF_feature_names = np.load(file_name_feature_names)\n",
    "\ttrain_labels = np.load(file_name_labels, allow_pickle=True)\n",
    "\ttrain_labels_numeric = ((train_labels == 'Oui') + 0)\n",
    "\n",
    "\tX = TF_IDF_matrix[:samples_in_train_set].toarray()\n",
    "\ty = train_labels_numeric[:samples_in_train_set] * 2 - 1\n",
    "\n",
    "\tX_test = TF_IDF_matrix[samples_in_train_set:samples_in_train_set+samples_in_test_set].toarray()\n",
    "\ty_test = train_labels_numeric[samples_in_train_set:samples_in_train_set+samples_in_test_set] * 2 - 1\n",
    "\n",
    "\n",
    "\t# Standardisation des données\n",
    "\tstd_X = np.maximum(np.std(X, axis=0), 1e-7)\n",
    "\tX = X / std_X\n",
    "\tX_test = X_test / std_X\n",
    "\n",
    "\tn = X.shape[0]\n",
    "\tn_test = X_test.shape[0]\n",
    "\tm = X.shape[1]\n",
    "\n",
    "\t# Ajout d'une colonne de uns\n",
    "\teX = np.hstack((np.ones((n,1)), X))\n",
    "\teX_test = np.hstack((np.ones((n_test,1)), X_test))\n",
    "\n",
    "\treturn eX, y, eX_test, y_test"
   ]
  },
  {
   "cell_type": "markdown",
   "id": "437e2d01",
   "metadata": {},
   "source": [
    "Q3.1/ See proof on paper"
   ]
  },
  {
   "cell_type": "markdown",
   "id": "615e97d1",
   "metadata": {},
   "source": [
    "Q3.2/ Code"
   ]
  },
  {
   "cell_type": "code",
   "execution_count": 35,
   "id": "3841a602",
   "metadata": {},
   "outputs": [],
   "source": [
    "#Fake & empty data to start with\n",
    "n = np.size(y_test)\n",
    "rho = 1/n\n",
    "\n",
    "#A function computing the value of f1 :\n",
    "def f1(w0,w):\n",
    "    res = 0\n",
    "    for i in range(n):\n",
    "        res+=m.log(1+m.exp(-y_test[i]*(np.dot(eX_test[i],w)+w0)))\n",
    "    return res/n + rho*np.dot(w,w)/2\n",
    "\n",
    "def grad_f1(wo,w):\n",
    "    tmp_down = np.ones((1,n))/n\n",
    "    tmp_up = 0\n",
    "    for i in range(n):\n",
    "        expp = m.exp(-y[i]*(np.dot(xi,w)+w0))\n",
    "        tmp_down += xi*(-y[i]/(1+expp)*(expp))\n",
    "        tmp_up -= y[i]*expp\n",
    "        #Pour que tout se passe bien, xi doit être un nparray. Idem w\n",
    "    return np.concatenate((tmp_up, tmp_down), axis=0)\n",
    "\n",
    "w_test = np.ones((n,1))\n",
    "grad_f1(0,w_test)"
   ]
  },
  {
   "cell_type": "code",
   "execution_count": null,
   "id": "2368daaf",
   "metadata": {},
   "outputs": [],
   "source": []
  },
  {
   "cell_type": "code",
   "execution_count": null,
   "id": "41d5303c",
   "metadata": {},
   "outputs": [],
   "source": []
  },
  {
   "cell_type": "code",
   "execution_count": 34,
   "id": "6c070eb6",
   "metadata": {},
   "outputs": [
    {
     "data": {
      "text/plain": [
       "array([[0.33333333],\n",
       "       [0.33333333],\n",
       "       [0.33333333]])"
      ]
     },
     "execution_count": 34,
     "metadata": {},
     "output_type": "execute_result"
    }
   ],
   "source": [
    "#a = np.array([[1],[2]],[[1],[2]])\n",
    "#b = np.array([[3],[4]],[[0],[0]])\n",
    "p=3\n",
    "c = np.ones((1,p))/p\n",
    "c = c.reshape(p,1)\n",
    "c"
   ]
  },
  {
   "cell_type": "code",
   "execution_count": null,
   "id": "dc00c84a",
   "metadata": {},
   "outputs": [],
   "source": []
  }
 ],
 "metadata": {
  "kernelspec": {
   "display_name": "Python 3 (ipykernel)",
   "language": "python",
   "name": "python3"
  },
  "language_info": {
   "codemirror_mode": {
    "name": "ipython",
    "version": 3
   },
   "file_extension": ".py",
   "mimetype": "text/x-python",
   "name": "python",
   "nbconvert_exporter": "python",
   "pygments_lexer": "ipython3",
   "version": "3.9.5"
  }
 },
 "nbformat": 4,
 "nbformat_minor": 5
}
