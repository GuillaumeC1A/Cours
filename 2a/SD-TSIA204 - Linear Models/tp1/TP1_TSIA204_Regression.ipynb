{
 "cells": [
  {
   "cell_type": "markdown",
   "id": "c1b71b13-c34d-4188-8db6-ca6a9c3e69b3",
   "metadata": {},
   "source": [
    "<h2>Data loading and visualization</h2>\n",
    "<h3>Q1 and Q2</h3>"
   ]
  },
  {
   "cell_type": "code",
   "execution_count": 39,
   "id": "75bcf057-7949-4ddd-83ad-34c4170f5b0c",
   "metadata": {},
   "outputs": [
    {
     "name": "stdout",
     "output_type": "stream",
     "text": [
      "   year     gnp  invest     cpi  interest\n",
      "0  1968   873.4   133.3   82.54      5.16\n",
      "1  1969   944.0   149.3   86.79      5.87\n",
      "2  1970   992.7   144.2   91.45      5.95\n",
      "3  1971  1077.6   166.4   96.01      4.88\n",
      "4  1972  1185.9   195.0  100.00      4.50\n"
     ]
    },
    {
     "data": {
      "text/html": [
       "<div>\n",
       "<style scoped>\n",
       "    .dataframe tbody tr th:only-of-type {\n",
       "        vertical-align: middle;\n",
       "    }\n",
       "\n",
       "    .dataframe tbody tr th {\n",
       "        vertical-align: top;\n",
       "    }\n",
       "\n",
       "    .dataframe thead th {\n",
       "        text-align: right;\n",
       "    }\n",
       "</style>\n",
       "<table border=\"1\" class=\"dataframe\">\n",
       "  <thead>\n",
       "    <tr style=\"text-align: right;\">\n",
       "      <th></th>\n",
       "      <th>year</th>\n",
       "      <th>gnp</th>\n",
       "      <th>invest</th>\n",
       "      <th>cpi</th>\n",
       "      <th>interest</th>\n",
       "    </tr>\n",
       "  </thead>\n",
       "  <tbody>\n",
       "    <tr>\n",
       "      <th>0</th>\n",
       "      <td>1968</td>\n",
       "      <td>6.772394</td>\n",
       "      <td>4.892602</td>\n",
       "      <td>82.54</td>\n",
       "      <td>5.16</td>\n",
       "    </tr>\n",
       "    <tr>\n",
       "      <th>1</th>\n",
       "      <td>1969</td>\n",
       "      <td>6.850126</td>\n",
       "      <td>5.005958</td>\n",
       "      <td>86.79</td>\n",
       "      <td>5.87</td>\n",
       "    </tr>\n",
       "    <tr>\n",
       "      <th>2</th>\n",
       "      <td>1970</td>\n",
       "      <td>6.900429</td>\n",
       "      <td>4.971201</td>\n",
       "      <td>91.45</td>\n",
       "      <td>5.95</td>\n",
       "    </tr>\n",
       "    <tr>\n",
       "      <th>3</th>\n",
       "      <td>1971</td>\n",
       "      <td>6.982492</td>\n",
       "      <td>5.114395</td>\n",
       "      <td>96.01</td>\n",
       "      <td>4.88</td>\n",
       "    </tr>\n",
       "    <tr>\n",
       "      <th>4</th>\n",
       "      <td>1972</td>\n",
       "      <td>7.078257</td>\n",
       "      <td>5.273000</td>\n",
       "      <td>100.00</td>\n",
       "      <td>4.50</td>\n",
       "    </tr>\n",
       "  </tbody>\n",
       "</table>\n",
       "</div>"
      ],
      "text/plain": [
       "   year       gnp    invest     cpi  interest\n",
       "0  1968  6.772394  4.892602   82.54      5.16\n",
       "1  1969  6.850126  5.005958   86.79      5.87\n",
       "2  1970  6.900429  4.971201   91.45      5.95\n",
       "3  1971  6.982492  5.114395   96.01      4.88\n",
       "4  1972  7.078257  5.273000  100.00      4.50"
      ]
     },
     "execution_count": 39,
     "metadata": {},
     "output_type": "execute_result"
    },
    {
     "data": {
      "image/png": "[encoded data removed]",
      "text/plain": [
       "<Figure size 432x288 with 1 Axes>"
      ]
     },
     "metadata": {
      "needs_background": "light"
     },
     "output_type": "display_data"
    },
    {
     "data": {
      "image/png": "[encoded data removed]",
      "text/plain": [
       "<Figure size 432x288 with 1 Axes>"
      ]
     },
     "metadata": {
      "needs_background": "light"
     },
     "output_type": "display_data"
    }
   ],
   "source": [
    "import pandas as pd\n",
    "import matplotlib.pyplot as plt\n",
    "import numpy as np\n",
    "data = pd.read_csv(\"Desktop/SD-TSIA204 - Linear Models/tp1/invest.txt\",sep=' ')\n",
    "#read_csv already creates a dataFrame, which is the table we wanted\n",
    "#data.info()\n",
    "#data.describe()\n",
    "#print(data)\n",
    "#Here are just a few ways to present the raw data file.\n",
    "#We want to take a look at the first 5 entries :\n",
    "data5 = data.head(5)\n",
    "#data5.describe()\n",
    "print(data5)\n",
    "#And it's perfect !\n",
    "data.plot(x='gnp',y='invest')\n",
    "\n",
    "#We use the log-version of the data as mentionned in the NOTE :\n",
    "data['gnp'], data['invest'] = np.log(data['gnp']), np.log(data['invest'])\n",
    "data.plot(x='gnp',y='invest')\n",
    "data.head()"
   ]
  },
  {
   "cell_type": "markdown",
   "id": "8626cf27-879f-4292-bfca-b1d0cb72deaa",
   "metadata": {
    "tags": []
   },
   "source": [
    "<h2>Linear regression</h2>\n",
    "<h3>Q3<h/3>"
   ]
  },
  {
   "cell_type": "code",
   "execution_count": null,
   "id": "1b567290-3159-4f00-a76a-bfe2053183ac",
   "metadata": {},
   "outputs": [],
   "source": [
    "implement stuff\n",
    "B0 B1 VB0 VB1 interval and see \n"
   ]
  },
  {
   "cell_type": "code",
   "execution_count": 20,
   "id": "df060a0f-5ffa-4bc8-b8e2-bb6409e62c9e",
   "metadata": {},
   "outputs": [
    {
     "ename": "NameError",
     "evalue": "name 'gnp' is not defined",
     "output_type": "error",
     "traceback": [
      "\u001b[1;31m---------------------------------------------------------------------------\u001b[0m",
      "\u001b[1;31mNameError\u001b[0m                                 Traceback (most recent call last)",
      "\u001b[1;32mC:\\Users\\GUILLA~1\\AppData\\Local\\Temp/ipykernel_12656/3266317919.py\u001b[0m in \u001b[0;36m<module>\u001b[1;34m\u001b[0m\n\u001b[0;32m      1\u001b[0m \u001b[1;32mimport\u001b[0m \u001b[0mmatplotlib\u001b[0m\u001b[1;33m.\u001b[0m\u001b[0mpyplot\u001b[0m \u001b[1;32mas\u001b[0m \u001b[0mplt\u001b[0m\u001b[1;33m\u001b[0m\u001b[1;33m\u001b[0m\u001b[0m\n\u001b[0;32m      2\u001b[0m \u001b[1;31m#We want to show in a plot column Investment wrt GNP;\u001b[0m\u001b[1;33m\u001b[0m\u001b[1;33m\u001b[0m\u001b[1;33m\u001b[0m\u001b[0m\n\u001b[1;32m----> 3\u001b[1;33m \u001b[0mdata\u001b[0m\u001b[1;33m.\u001b[0m\u001b[0mplot\u001b[0m\u001b[1;33m(\u001b[0m\u001b[0mx\u001b[0m\u001b[1;33m=\u001b[0m\u001b[0mgnp\u001b[0m\u001b[1;33m,\u001b[0m\u001b[0my\u001b[0m\u001b[1;33m=\u001b[0m\u001b[0minvest\u001b[0m\u001b[1;33m,\u001b[0m\u001b[0mkind\u001b[0m\u001b[1;33m=\u001b[0m\u001b[1;34m'line'\u001b[0m\u001b[1;33m)\u001b[0m\u001b[1;33m\u001b[0m\u001b[1;33m\u001b[0m\u001b[0m\n\u001b[0m",
      "\u001b[1;31mNameError\u001b[0m: name 'gnp' is not defined"
     ]
    }
   ],
   "source": [
    "#We want to show in a plot column Investment wrt GNP;\n",
    "#Note for self : don't forget to specify the separator through \"sep\" above. \n",
    "#Take N's code for matplotlib version of plot\n",
    "plt.close('all')\n",
    "#Things happen \n",
    "plt.title('Log-Investment Data')\n",
    "plt.xlabel('log-GNP')\n",
    "plt.ylabel('log-Investment')\n",
    "plt.show()"
   ]
  },
  {
   "cell_type": "code",
   "execution_count": null,
   "id": "7f056e8b-1d70-4aa3-b6e7-ed0d34d3cff2",
   "metadata": {},
   "outputs": [],
   "source": [
    "n = len(X)\n",
    "X_mean, Y_mean = np.mean(X),np.mean(Y)\n",
    "X_var = np.sum((X - X_mean)**2)\n",
    "\n",
    "#Coefficients\n",
    "b1 = np.sum(X - "
   ]
  },
  {
   "cell_type": "code",
   "execution_count": null,
   "id": "97431747-5dc5-47d9-b976-14054c271dd6",
   "metadata": {},
   "outputs": [],
   "source": [
    "def t_p_value(t_stat, deg):\n",
    "    #compute the p-value if _stat follows Student of degree deg\n",
    "    return 2 * (stat.t.cdf(abs(t_stat),deg)) * 2"
   ]
  }
 ],
 "metadata": {
  "kernelspec": {
   "display_name": "Python 3 (ipykernel)",
   "language": "python",
   "name": "python3"
  },
  "language_info": {
   "codemirror_mode": {
    "name": "ipython",
    "version": 3
   },
   "file_extension": ".py",
   "mimetype": "text/x-python",
   "name": "python",
   "nbconvert_exporter": "python",
   "pygments_lexer": "ipython3",
   "version": "3.9.5"
  }
 },
 "nbformat": 4,
 "nbformat_minor": 5
}
