{
  "cells": [
    {
      "cell_type": "markdown",
      "id": "549291e1",
      "metadata": {
        "id": "549291e1"
      },
      "source": [
        "# SD-TSIA211 Report\n",
        "# Mootez Baccari & Mohammed El-Asri"
      ]
    },
    {
      "cell_type": "markdown",
      "id": "9194a511",
      "metadata": {
        "id": "9194a511"
      },
      "source": [
        "## Imports"
      ]
    },
    {
      "cell_type": "code",
      "execution_count": 2,
      "id": "1905005c",
      "metadata": {
        "id": "1905005c"
      },
      "outputs": [],
      "source": [
        "import numpy as np\n",
        "import scipy.sparse as sp\n",
        "from scipy.linalg import norm, solve\n",
        "from scipy.optimize import check_grad\n",
        "import matplotlib.pyplot as plt\n",
        "import time"
      ]
    },
    {
      "cell_type": "markdown",
      "id": "d86c9d79",
      "metadata": {
        "id": "d86c9d79"
      },
      "source": [
        "## Loading the dataset"
      ]
    },
    {
      "cell_type": "code",
      "execution_count": 3,
      "id": "fdf64df9",
      "metadata": {
        "id": "fdf64df9"
      },
      "outputs": [],
      "source": [
        "def load_data(file_name_matrix='tfidf_matrix_97MB.npz', file_name_feature_names='feature_names_97MB.npy',\n",
        "      file_name_labels='train_labels.npy', samples_in_train_set=10000,\n",
        "      samples_in_test_set=10000):\n",
        "    # Recuperation des donnees\n",
        "    TF_IDF_matrix = sp.load_npz(file_name_matrix)\n",
        "    TF_IDF_feature_names = np.load(file_name_feature_names)\n",
        "    train_labels = np.load(file_name_labels, allow_pickle=True)\n",
        "    train_labels_numeric = ((train_labels == 'Oui') + 0)\n",
        "\n",
        "    X = TF_IDF_matrix[:samples_in_train_set].toarray()\n",
        "    y = train_labels_numeric[:samples_in_train_set] * 2 - 1\n",
        "\n",
        "    X_test = TF_IDF_matrix[samples_in_train_set:samples_in_train_set+samples_in_test_set].toarray()\n",
        "    y_test = train_labels_numeric[samples_in_train_set:samples_in_train_set+samples_in_test_set] * 2 - 1\n",
        "\n",
        "\n",
        "    # Standardisation des données\n",
        "    std_X = np.maximum(np.std(X, axis=0), 1e-7)\n",
        "    X = X / std_X\n",
        "    X_test = X_test / std_X\n",
        "\n",
        "    n = X.shape[0]\n",
        "    m = X.shape[1]\n",
        "\n",
        "    # Ajout d'une colonne de uns\n",
        "    eX = np.hstack((np.ones((n,1)), X))\n",
        "    eX_test = np.hstack((np.ones((n,1)), X_test))\n",
        "\n",
        "    return eX, y, eX_test, y_test"
      ]
    },
    {
      "cell_type": "code",
      "source": [
        "from google.colab import drive\n",
        "drive.mount('/content/drive')"
      ],
      "metadata": {
        "colab": {
          "base_uri": "https://localhost:8080/"
        },
        "id": "eXdJn561zU8C",
        "outputId": "86e8b5c8-8a3a-4080-a0fe-4f216169fbe4"
      },
      "id": "eXdJn561zU8C",
      "execution_count": 4,
      "outputs": [
        {
          "output_type": "stream",
          "name": "stdout",
          "text": [
            "Mounted at /content/drive\n"
          ]
        }
      ]
    },
    {
      "cell_type": "code",
      "execution_count": 6,
      "id": "a7901abb",
      "metadata": {
        "id": "a7901abb"
      },
      "outputs": [],
      "source": [
        "#Test du data load\n",
        "a,b,c,d = load_data()"
      ]
    },
    {
      "cell_type": "markdown",
      "source": [
        "## Question 3.1\n"
      ],
      "metadata": {
        "id": "soJEqinY9byq"
      },
      "id": "soJEqinY9byq"
    },
    {
      "cell_type": "markdown",
      "source": [
        "\n",
        "we have  $f_1(w_0,w) = \\frac{1}{n} * \\sum_{i=1}^{n} log(1+exp(-y_i (x_i^Tw+w_0)))+\\frac{\\rho}{2}||w||_2^2 $ <br>\n",
        "* Let us denote $g_i(w,w_0)=log(1+exp(-y_i (x_i^Tw+w_0)))$<br>\n",
        "we can then write : <br>\n",
        "$∇f(w,w_0)=\\sum_{i=1}^{n} \\nabla g_i(w,w_0) +\\frac{\\rho}{2} ∇||w||_2^2$ <br>\n",
        "* We have :<br>\n",
        " $ \n",
        "  \\nabla_{w_0} g_i(w,w_0)=\\dfrac{-y_iexp(-y_i (x_i^Tw+w_0))}{1+exp(-y_i (x_i^Tw+w_0))} $ <br><br>\n",
        "$ \\nabla_{w} g_i(w,w_0)=\\dfrac{-y_iexp(-y_i (x_i^Tw+w_0))}{1+exp(-y_i (x_i^Tw+w_0))} x_i $<br>\n",
        "<br> $\\nabla_{w_0}||w||_2^2=0$<br>\n",
        "<br>$\\nabla_{w}||w||_2^2=2w\n",
        "$\n",
        "\n",
        "* In the end, we get: <br>\n",
        "$ \\nabla_{w_0} f_1(w,w_0)= \\dfrac{1}{n}*\\sum_{i=1}^{n}\\dfrac{-y_iexp(-y_i (x_i^Tw+w_0))}{1+exp(-y_i (x_i^Tw+w_0))} $<br><br>\n",
        "$ \\nabla_{w} f_1(w,w_0)= \\dfrac{1}{n}*\\sum_{i=1}^{n}\\dfrac{-y_iexp(-y_i (x_i^Tw+w_0))}{1+exp(-y_i (x_i^Tw+w_0))}*x_i + \\rho w$ <br>\n",
        "\n",
        "* Let us now compute the hessian matrix $∇^2f(w,w_0)$ :<br>\n",
        "we can write :<br> \n",
        "$∇^2f(w,w_0)=\\sum_{i=1}^{n} \\nabla^2 g_i(w,w_0) +\\frac{\\rho}{2} ∇^2||w||_2^2$<br><br>\n",
        "* we have:<br>\n",
        "$ \\nabla_{w_0,w_0}^2 g_i(w,w_0)=\\dfrac{-y_i^2exp(-y_i (x_i^Tw+w_0))}{(1+exp(-y_i (x_i^Tw+w_0))^2} $<br>\n",
        "$ \\nabla_{w,w_0}^2 g_i(w,w_0)=\\dfrac{-y_i^2exp(-y_i (x_i^Tw+w_0))}{(1+exp(-y_i (x_i^Tw+w_0))^2}x_i $<br>\n",
        "$ \\nabla_{w,w}^2 g_i(w,w_0)=\\dfrac{-y_i^2exp(-y_i (x_i^Tw+w_0))}{(1+exp(-y_i (x_i^Tw+w_0))^2}x_ix_i^T $<br>\n",
        "$\\nabla_{w_0,w_0}^2||w||_2^2=0$\n",
        "<br> $\\nabla_{w,w_0}^2||w||_2^2=0$\n",
        "<br>$\\nabla_{w,w}^2||w||_2^2=2$\n",
        "*In the end, we get : <br>\n",
        "$ \\nabla_{w_0,w_0}^2 f_1(w,w_0)=\\dfrac{1}{n}*\\sum_{i=1}^{n} \\dfrac{y_i^2exp(-y_i (x_i^Tw+w_0))}{(1+exp(-y_i (x_i^Tw+w_0))^2} \\in \\mathbb{R} $ <br>\n",
        "$ \\nabla_{w,w_0}^2 f_1(w,w_0)= \\dfrac{1}{n}*\\sum_{i=1}^{n}\\dfrac{y_i^2exp(-y_i (x_i^Tw+w_0))}{(1+exp(-y_i (x_i^Tw+w_0))^2}x_i \\in \\mathbb{R^p} $ <br>\n",
        "$ \\nabla_{w,w}^2 f_1(w,w_0)= \\dfrac{1}{n}*\\sum_{i=1}^{n}\\dfrac{y_i^2exp(-y_i (x_i^Tw+w_0))}{(1+exp(-y_i (x_i^Tw+w_0))^2}x_ix_i^T + ρ \\in \\mathbb{R^{pxp}} $"
      ],
      "metadata": {
        "id": "qLbHfILBeOww"
      },
      "id": "qLbHfILBeOww"
    },
    {
      "cell_type": "code",
      "source": [
        "# Data loaded and problem variables variables\n",
        "X,Y,d,f=load_data()\n",
        "W0 = np.zeros(X.shape[1])\n",
        "W_e = np.ones(X.shape[1])\n",
        "n,p = X.shape\n",
        "rho = 1/n\n",
        "eps= 10e-10\n",
        "max = 10e5\n",
        "n,p"
      ],
      "metadata": {
        "colab": {
          "base_uri": "https://localhost:8080/"
        },
        "id": "Dx1iQVFVcpC3",
        "outputId": "fc691831-97d3-495b-9a13-0246f3c165af"
      },
      "id": "Dx1iQVFVcpC3",
      "execution_count": 27,
      "outputs": [
        {
          "output_type": "execute_result",
          "data": {
            "text/plain": [
              "(10000, 576)"
            ]
          },
          "metadata": {},
          "execution_count": 27
        }
      ]
    },
    {
      "cell_type": "markdown",
      "source": [
        "We nees to calculate the $exponential$ term including the $matrix$ $W$ first , which is a $vector$ of shape $(n,1)$ . This will help us in further computations . <br>\n",
        "\n",
        "$expo(W)_i = exp(-y_i (x_i^Tw+w_0)) \\forall  i \\in [1,10^5] $"
      ],
      "metadata": {
        "id": "blId9KpUi4-p"
      },
      "id": "blId9KpUi4-p"
    },
    {
      "cell_type": "code",
      "source": [
        "# Calculating the exponential term seems useful\n",
        "def expo(W):\n",
        "  return np.exp(np.multiply(-Y, np.dot(X, W)))"
      ],
      "metadata": {
        "id": "bSue5ktqb_TV"
      },
      "id": "bSue5ktqb_TV",
      "execution_count": 11,
      "outputs": []
    },
    {
      "cell_type": "code",
      "source": [
        "expo(W0).shape"
      ],
      "metadata": {
        "colab": {
          "base_uri": "https://localhost:8080/"
        },
        "id": "gB_sA5MsjAtb",
        "outputId": "5b991a56-5490-4e62-abcb-1797e42d743e"
      },
      "id": "gB_sA5MsjAtb",
      "execution_count": 28,
      "outputs": [
        {
          "output_type": "execute_result",
          "data": {
            "text/plain": [
              "(10000,)"
            ]
          },
          "metadata": {},
          "execution_count": 28
        }
      ]
    },
    {
      "cell_type": "markdown",
      "source": [
        "Exponential terms might be sometimes so large to be considered as $\\infty$ or too small to be considered as $NaN$s . So I had the idea to define a bounded exponetial term. "
      ],
      "metadata": {
        "id": "vC2SlimKcdmP"
      },
      "id": "vC2SlimKcdmP"
    },
    {
      "cell_type": "code",
      "source": [
        "# A expliquer \n",
        "def expo_borne(W):\n",
        "  r= np.exp(np.multiply(-Y, np.dot(X, W)))\n",
        "  r[np.isnan(r)] = eps\n",
        "  for i in range(r.shape[0]):\n",
        "     if r[i] == np.inf: r[i] = 100000\n",
        "  return r\n",
        "\n"
      ],
      "metadata": {
        "id": "0PukAQb3kbTf"
      },
      "id": "0PukAQb3kbTf",
      "execution_count": 133,
      "outputs": []
    },
    {
      "cell_type": "markdown",
      "source": [
        "The function $f_1 $ is defines as :<br>   $f_1(w_0,w) = \\frac{1}{n} * \\sum_{i=1}^{n} log(1+exp(-y_i (x_i^Tw+w_0)))+\\frac{\\rho}{2}||w||_2^2 $ <br>"
      ],
      "metadata": {
        "id": "qcCBeF7OljZx"
      },
      "id": "qcCBeF7OljZx"
    },
    {
      "cell_type": "code",
      "source": [
        "def f1(W):\n",
        "    s = np.sum(np.log(1+expo(W))) + 0.5*(np.linalg.norm(W)**2) \n",
        "    return (1/n)* s"
      ],
      "metadata": {
        "id": "n7GUcnAeiUmP"
      },
      "id": "n7GUcnAeiUmP",
      "execution_count": 13,
      "outputs": []
    },
    {
      "cell_type": "code",
      "source": [
        "def grad1(W):\n",
        "  s = -(1/n)*np.dot(X.T, np.multiply(Y, np.divide(expo(W), 1 + expo(W))))\n",
        "  return s + rho*W"
      ],
      "metadata": {
        "id": "r7spvLpce6Rp"
      },
      "id": "r7spvLpce6Rp",
      "execution_count": 12,
      "outputs": []
    },
    {
      "cell_type": "markdown",
      "source": [
        "We compute **check_grad** to test our computations, this gives us the estimated error. In out case , $err = 1,8*10^{-7}$ . WHich means that our computation is reliable."
      ],
      "metadata": {
        "id": "iv3yXc_ak9w5"
      },
      "id": "iv3yXc_ak9w5"
    },
    {
      "cell_type": "code",
      "source": [
        "check_grad(f1, grad1, W0)"
      ],
      "metadata": {
        "id": "jpE-Dsthfimv",
        "colab": {
          "base_uri": "https://localhost:8080/"
        },
        "outputId": "5d4e6a06-59dc-4e56-be0e-6c04db1a8c3a"
      },
      "id": "jpE-Dsthfimv",
      "execution_count": 14,
      "outputs": [
        {
          "output_type": "execute_result",
          "data": {
            "text/plain": [
              "1.7954080372667034e-07"
            ]
          },
          "metadata": {},
          "execution_count": 14
        }
      ]
    },
    {
      "cell_type": "code",
      "source": [
        "def hessian1(W):\n",
        "  d = np.diag(np.multiply(Y**2,np.divide(expo(W), (1 + expo(W))**2)))\n",
        "  h = np.dot(X.T , np.dot(d,X))\n",
        "  hess = (1/n)* h + rho * np.identity(p)\n",
        "  return hess"
      ],
      "metadata": {
        "id": "C7QJIn9-mmvr"
      },
      "id": "C7QJIn9-mmvr",
      "execution_count": 20,
      "outputs": []
    },
    {
      "cell_type": "markdown",
      "source": [
        "###Question 3.3 \n",
        "**Newton's method** : $f$ is continuously differentiable and the Hessian matrix of $f$ is positive definite. Then the sequence we generate by Newton's method is :   <br>\n",
        "$ x_{k+1} = x_k - (\\nabla ^2 f(x_k))^{-1}.\\nabla f(x_k) $ \n",
        "\n",
        "Then we code this method : "
      ],
      "metadata": {
        "id": "wX5HVfZ3r5a5"
      },
      "id": "wX5HVfZ3r5a5"
    },
    {
      "cell_type": "code",
      "source": [
        "def newton(w,eps):\n",
        "  grads=[]\n",
        "  while norm(grad1(w)) >= eps :\n",
        "    step = np.linalg.inv(hessian1(w))\n",
        "    w = w - np.dot(step,grad1(w))\n",
        "    grads.append(norm(grad1(w)))\n",
        "  plt.plot(grads)\n",
        "  plt.yscale(\"log\")\n",
        "  return norm(w) , norm(grad1(w)) , len(grads)"
      ],
      "metadata": {
        "id": "poudmQ_StoBO"
      },
      "id": "poudmQ_StoBO",
      "execution_count": 23,
      "outputs": []
    },
    {
      "cell_type": "code",
      "source": [
        "newton(W0,10e-10)"
      ],
      "metadata": {
        "colab": {
          "base_uri": "https://localhost:8080/",
          "height": 283
        },
        "id": "qIV__4tcgOdR",
        "outputId": "5cdb16cd-992d-4899-d9b2-a9f52b087e2a"
      },
      "id": "qIV__4tcgOdR",
      "execution_count": 24,
      "outputs": [
        {
          "output_type": "execute_result",
          "data": {
            "text/plain": [
              "(1.4509584202168069, 3.1255927048223997e-15, 5)"
            ]
          },
          "metadata": {},
          "execution_count": 24
        },
        {
          "output_type": "display_data",
          "data": {
            "image/png": "[encoded data removed]",
            "text/plain": [
              "<Figure size 432x288 with 1 Axes>"
            ]
          },
          "metadata": {
            "needs_background": "light"
          }
        }
      ]
    },
    {
      "cell_type": "markdown",
      "source": [
        "### Question 3.4\n",
        "We choose the initial point $(w_0^0 , w^0) = e$ whith $e_i = 1 $ for all $i $ .\n"
      ],
      "metadata": {
        "id": "r_lAnYw58ovw"
      },
      "id": "r_lAnYw58ovw"
    },
    {
      "cell_type": "code",
      "source": [
        "newton(W_e,10e-10)"
      ],
      "metadata": {
        "colab": {
          "base_uri": "https://localhost:8080/",
          "height": 381
        },
        "id": "YvRbr71DhPSk",
        "outputId": "05886d13-2dee-4848-bbe0-4a0dd96b166f"
      },
      "id": "YvRbr71DhPSk",
      "execution_count": 26,
      "outputs": [
        {
          "output_type": "stream",
          "name": "stderr",
          "text": [
            "/usr/local/lib/python3.7/dist-packages/ipykernel_launcher.py:3: RuntimeWarning: overflow encountered in exp\n",
            "  This is separate from the ipykernel package so we can avoid doing imports until\n",
            "/usr/local/lib/python3.7/dist-packages/ipykernel_launcher.py:2: RuntimeWarning: invalid value encountered in true_divide\n",
            "  \n"
          ]
        },
        {
          "output_type": "error",
          "ename": "ValueError",
          "evalue": "ignored",
          "traceback": [
            "\u001b[0;31m---------------------------------------------------------------------------\u001b[0m",
            "\u001b[0;31mValueError\u001b[0m                                Traceback (most recent call last)",
            "\u001b[0;32m<ipython-input-26-1cea09363121>\u001b[0m in \u001b[0;36m<module>\u001b[0;34m()\u001b[0m\n\u001b[0;32m----> 1\u001b[0;31m \u001b[0mnewton\u001b[0m\u001b[0;34m(\u001b[0m\u001b[0mW_e\u001b[0m\u001b[0;34m,\u001b[0m\u001b[0;36m10e-10\u001b[0m\u001b[0;34m)\u001b[0m\u001b[0;34m\u001b[0m\u001b[0;34m\u001b[0m\u001b[0m\n\u001b[0m",
            "\u001b[0;32m<ipython-input-23-03aeca1c3cac>\u001b[0m in \u001b[0;36mnewton\u001b[0;34m(w, eps)\u001b[0m\n\u001b[1;32m      4\u001b[0m     \u001b[0mstep\u001b[0m \u001b[0;34m=\u001b[0m \u001b[0mnp\u001b[0m\u001b[0;34m.\u001b[0m\u001b[0mlinalg\u001b[0m\u001b[0;34m.\u001b[0m\u001b[0minv\u001b[0m\u001b[0;34m(\u001b[0m\u001b[0mhessian1\u001b[0m\u001b[0;34m(\u001b[0m\u001b[0mw\u001b[0m\u001b[0;34m)\u001b[0m\u001b[0;34m)\u001b[0m\u001b[0;34m\u001b[0m\u001b[0;34m\u001b[0m\u001b[0m\n\u001b[1;32m      5\u001b[0m     \u001b[0mw\u001b[0m \u001b[0;34m=\u001b[0m \u001b[0mw\u001b[0m \u001b[0;34m-\u001b[0m \u001b[0mnp\u001b[0m\u001b[0;34m.\u001b[0m\u001b[0mdot\u001b[0m\u001b[0;34m(\u001b[0m\u001b[0mstep\u001b[0m\u001b[0;34m,\u001b[0m\u001b[0mgrad1\u001b[0m\u001b[0;34m(\u001b[0m\u001b[0mw\u001b[0m\u001b[0;34m)\u001b[0m\u001b[0;34m)\u001b[0m\u001b[0;34m\u001b[0m\u001b[0;34m\u001b[0m\u001b[0m\n\u001b[0;32m----> 6\u001b[0;31m     \u001b[0mgrads\u001b[0m\u001b[0;34m.\u001b[0m\u001b[0mappend\u001b[0m\u001b[0;34m(\u001b[0m\u001b[0mnorm\u001b[0m\u001b[0;34m(\u001b[0m\u001b[0mgrad1\u001b[0m\u001b[0;34m(\u001b[0m\u001b[0mw\u001b[0m\u001b[0;34m)\u001b[0m\u001b[0;34m)\u001b[0m\u001b[0;34m)\u001b[0m\u001b[0;34m\u001b[0m\u001b[0;34m\u001b[0m\u001b[0m\n\u001b[0m\u001b[1;32m      7\u001b[0m   \u001b[0mplt\u001b[0m\u001b[0;34m.\u001b[0m\u001b[0mplot\u001b[0m\u001b[0;34m(\u001b[0m\u001b[0mgrads\u001b[0m\u001b[0;34m)\u001b[0m\u001b[0;34m\u001b[0m\u001b[0;34m\u001b[0m\u001b[0m\n\u001b[1;32m      8\u001b[0m   \u001b[0mplt\u001b[0m\u001b[0;34m.\u001b[0m\u001b[0myscale\u001b[0m\u001b[0;34m(\u001b[0m\u001b[0;34m\"log\"\u001b[0m\u001b[0;34m)\u001b[0m\u001b[0;34m\u001b[0m\u001b[0;34m\u001b[0m\u001b[0m\n",
            "\u001b[0;32m/usr/local/lib/python3.7/dist-packages/scipy/linalg/misc.py\u001b[0m in \u001b[0;36mnorm\u001b[0;34m(a, ord, axis, keepdims, check_finite)\u001b[0m\n\u001b[1;32m    140\u001b[0m     \u001b[0;31m# Differs from numpy only in non-finite handling and the use of blas.\u001b[0m\u001b[0;34m\u001b[0m\u001b[0;34m\u001b[0m\u001b[0;34m\u001b[0m\u001b[0m\n\u001b[1;32m    141\u001b[0m     \u001b[0;32mif\u001b[0m \u001b[0mcheck_finite\u001b[0m\u001b[0;34m:\u001b[0m\u001b[0;34m\u001b[0m\u001b[0;34m\u001b[0m\u001b[0m\n\u001b[0;32m--> 142\u001b[0;31m         \u001b[0ma\u001b[0m \u001b[0;34m=\u001b[0m \u001b[0mnp\u001b[0m\u001b[0;34m.\u001b[0m\u001b[0masarray_chkfinite\u001b[0m\u001b[0;34m(\u001b[0m\u001b[0ma\u001b[0m\u001b[0;34m)\u001b[0m\u001b[0;34m\u001b[0m\u001b[0;34m\u001b[0m\u001b[0m\n\u001b[0m\u001b[1;32m    143\u001b[0m     \u001b[0;32melse\u001b[0m\u001b[0;34m:\u001b[0m\u001b[0;34m\u001b[0m\u001b[0;34m\u001b[0m\u001b[0m\n\u001b[1;32m    144\u001b[0m         \u001b[0ma\u001b[0m \u001b[0;34m=\u001b[0m \u001b[0mnp\u001b[0m\u001b[0;34m.\u001b[0m\u001b[0masarray\u001b[0m\u001b[0;34m(\u001b[0m\u001b[0ma\u001b[0m\u001b[0;34m)\u001b[0m\u001b[0;34m\u001b[0m\u001b[0;34m\u001b[0m\u001b[0m\n",
            "\u001b[0;32m/usr/local/lib/python3.7/dist-packages/numpy/lib/function_base.py\u001b[0m in \u001b[0;36masarray_chkfinite\u001b[0;34m(a, dtype, order)\u001b[0m\n\u001b[1;32m    484\u001b[0m     \u001b[0;32mif\u001b[0m \u001b[0ma\u001b[0m\u001b[0;34m.\u001b[0m\u001b[0mdtype\u001b[0m\u001b[0;34m.\u001b[0m\u001b[0mchar\u001b[0m \u001b[0;32min\u001b[0m \u001b[0mtypecodes\u001b[0m\u001b[0;34m[\u001b[0m\u001b[0;34m'AllFloat'\u001b[0m\u001b[0;34m]\u001b[0m \u001b[0;32mand\u001b[0m \u001b[0;32mnot\u001b[0m \u001b[0mnp\u001b[0m\u001b[0;34m.\u001b[0m\u001b[0misfinite\u001b[0m\u001b[0;34m(\u001b[0m\u001b[0ma\u001b[0m\u001b[0;34m)\u001b[0m\u001b[0;34m.\u001b[0m\u001b[0mall\u001b[0m\u001b[0;34m(\u001b[0m\u001b[0;34m)\u001b[0m\u001b[0;34m:\u001b[0m\u001b[0;34m\u001b[0m\u001b[0;34m\u001b[0m\u001b[0m\n\u001b[1;32m    485\u001b[0m         raise ValueError(\n\u001b[0;32m--> 486\u001b[0;31m             \"array must not contain infs or NaNs\")\n\u001b[0m\u001b[1;32m    487\u001b[0m     \u001b[0;32mreturn\u001b[0m \u001b[0ma\u001b[0m\u001b[0;34m\u001b[0m\u001b[0;34m\u001b[0m\u001b[0m\n\u001b[1;32m    488\u001b[0m \u001b[0;34m\u001b[0m\u001b[0m\n",
            "\u001b[0;31mValueError\u001b[0m: array must not contain infs or NaNs"
          ]
        }
      ]
    },
    {
      "cell_type": "markdown",
      "source": [
        "The computation with the vector **ones** doesnt converge because this value is too far from the minimum. It gives us many large components of the gradients that we consider as infinity. We need to add a seach line step."
      ],
      "metadata": {
        "id": "iRMrgcDxlwVS"
      },
      "id": "iRMrgcDxlwVS"
    }
  ],
  "metadata": {
    "kernelspec": {
      "display_name": "Python 3 (ipykernel)",
      "language": "python",
      "name": "python3"
    },
    "language_info": {
      "codemirror_mode": {
        "name": "ipython",
        "version": 3
      },
      "file_extension": ".py",
      "mimetype": "text/x-python",
      "name": "python",
      "nbconvert_exporter": "python",
      "pygments_lexer": "ipython3",
      "version": "3.9.7"
    },
    "colab": {
      "name": "Report_BACCARI_EL-ASRI.ipynb",
      "provenance": [],
      "collapsed_sections": []
    }
  },
  "nbformat": 4,
  "nbformat_minor": 5
}