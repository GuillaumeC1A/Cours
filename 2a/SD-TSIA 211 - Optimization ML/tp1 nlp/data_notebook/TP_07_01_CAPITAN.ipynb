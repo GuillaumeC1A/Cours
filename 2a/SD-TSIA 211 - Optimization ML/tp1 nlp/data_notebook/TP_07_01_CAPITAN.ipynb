{
 "cells": [
  {
   "cell_type": "markdown",
   "id": "d1b6d4a8",
   "metadata": {},
   "source": [
    "npy -> {import numpy as np\n",
    "       {np.load\n",
    "       \n",
    "npz -> {import scipy.sparse as sp\n",
    "       {sp.load_npz\n",
    "\n",
    "Remark : problem in load_data.\n",
    "         add : n_test = X_test.shape[0]\n",
    "         modify in X.test hstack : replace n by n_test"
   ]
  },
  {
   "cell_type": "code",
   "execution_count": null,
   "id": "d959d31c",
   "metadata": {},
   "outputs": [],
   "source": []
  },
  {
   "cell_type": "markdown",
   "id": "41f59827",
   "metadata": {},
   "source": [
    "TP 07/01/2022 : SD-TSIA 211 - Optimization for machine learning - NLP"
   ]
  },
  {
   "cell_type": "code",
   "execution_count": 9,
   "id": "1911f4a2",
   "metadata": {},
   "outputs": [
    {
     "data": {
      "text/plain": [
       "array([-1, -1,  1, ..., -1,  1,  1])"
      ]
     },
     "execution_count": 9,
     "metadata": {},
     "output_type": "execute_result"
    }
   ],
   "source": [
    "import numpy as np\n",
    "import scipy.sparse as sp\n",
    "from scipy.linalg import norm, solve\n",
    "from scipy.optimize import check_grad\n",
    "import matplotlib.pyplot as plt\n",
    "import time\n",
    "\n",
    "def load_data(file_name_matrix='tfidf_matrix_97MB.npz', file_name_feature_names='feature_names_97MB.npy',\n",
    "\t      file_name_labels='train_labels.npy', samples_in_train_set=10000,\n",
    "\t      samples_in_test_set=137562):\n",
    "\t# Recuperation des donnees\n",
    "\tTF_IDF_matrix = sp.load_npz(file_name_matrix)\n",
    "\tTF_IDF_feature_names = np.load(file_name_feature_names)\n",
    "\ttrain_labels = np.load(file_name_labels, allow_pickle=True)\n",
    "\ttrain_labels_numeric = ((train_labels == 'Oui') + 0)\n",
    "\n",
    "\tX = TF_IDF_matrix[:samples_in_train_set].toarray()\n",
    "\ty = train_labels_numeric[:samples_in_train_set] * 2 - 1\n",
    "\n",
    "\tX_test = TF_IDF_matrix[samples_in_train_set:samples_in_train_set+samples_in_test_set].toarray()\n",
    "\ty_test = train_labels_numeric[samples_in_train_set:samples_in_train_set+samples_in_test_set] * 2 - 1\n",
    "\n",
    "\n",
    "\t# Standardisation des données\n",
    "\tstd_X = np.maximum(np.std(X, axis=0), 1e-7)\n",
    "\tX = X / std_X\n",
    "\tX_test = X_test / std_X\n",
    "\n",
    "\tn = X.shape[0]\n",
    "\tn_test = X_test.shape[0]\n",
    "\tm = X.shape[1]\n",
    "\n",
    "\t# Ajout d'une colonne de uns\n",
    "\teX = np.hstack((np.ones((n,1)), X))\n",
    "\teX_test = np.hstack((np.ones((n_test,1)), X_test))\n",
    "\n",
    "\treturn eX, y, eX_test, y_test\n",
    "\n",
    "eX, y, eX_test, y_test = load_data()\n",
    "y"
   ]
  },
  {
   "cell_type": "markdown",
   "id": "290ee719",
   "metadata": {},
   "source": [
    "**<h4>Q3.1/ Gradient and Hessian computations </h4>**\n",
    "**The function :** $$f_{1}: (\\omega_0,\\omega) \\mapsto \\frac{1}{n} \\sum\\limits_{i=1}^n \\log (1 +  \\exp(-y_{i} (x_{i}^{T} \\omega + \\omega_{0} ))) + \\frac{\\rho}{2} \\left\\|w\\right\\|^{2}_{2}$$\n",
    "\n",
    "**The gradient, a vector of size p+1 (p from $\\omega$, 1 from $\\omega_{0}$) :**\n",
    "\n",
    "$$\\nabla f_{1}: (\\omega_0,\\omega) \\mapsto \\left[\\begin{array}{c}\n",
    "\\frac{1}{n} \\sum\\limits_{i=1}^n -y_{i} \\frac{\\exp(-y_{i} (x_{i}^{T} \\omega + \\omega_{0}))}{1 + \\exp(-y_{i} (x_{i}^{T} \\omega + \\omega_{0}))}\n",
    "\\\\\n",
    "\\frac{1}{n} \\sum\\limits_{i=1}^n -y_{i} \\frac{\\exp(-y_{i} (x_{i}^{T} \\omega + \\omega_{0}))}{1 + \\exp(-y_{i} (x_{i}^{T} \\omega + \\omega_{0}))} x_{i}  + \\rho \\omega\n",
    "\\end{array}\\right]\n",
    "$$\n",
    "The second coordinate actually corresponds to p coordinates (there are the terms $x_{i}$ and $\\rho \\omega$) but I couldn't find any easy way to write it.\n",
    "\n",
    "**The Hessian matrix, a square matrix of size (p+1) x (p+1). It is constituted of a 1x1 array (double derivative on $\\omega_{0}$, in the top-left), a px1 and 1xp arrays (cross derivatives on $\\omega$ and $\\omega_{0}$, each one being the transposed of the other one, in the top-right and bottom-left), and a pxp array (double derivative on $\\omega$, in the bottom-right). Here is the result :**\n",
    "\n",
    "$$\\nabla^{2} f_{1}: (\\omega_0,\\omega) \\mapsto \\begin{bmatrix}\n",
    "\\frac{1}{n} \\sum\\limits_{i=1}^n y_{i}^2 \\frac{\\exp(-y_{i} (x_{i}^{T} \\omega + \\omega_{0}))}{(1 + \\exp(-y_{i} (x_{i}^{T} \\omega + \\omega_{0})))^{2}} & \\frac{1}{n} \\sum\\limits_{i=1}^n y_{i}^2 \\frac{\\exp(-y_{i} (x_{i}^{T} \\omega + \\omega_{0}))}{(1 + \\exp(-y_{i} (x_{i}^{T} \\omega + \\omega_{0})))^{2}} x_{i}^{T}\\\\\n",
    "\\frac{1}{n} \\sum\\limits_{i=1}^n y_{i}^2 \\frac{\\exp(-y_{i} (x_{i}^{T} \\omega + \\omega_{0}))}{(1 + \\exp(-y_{i} (x_{i}^{T} \\omega + \\omega_{0})))^{2}} x_{i} & \\frac{1}{n} \\sum\\limits_{i=1}^n y_{i}^2 \\frac{\\exp(-y_{i} (x_{i}^{T} \\omega + \\omega_{0}))}{(1 + \\exp(-y_{i} (x_{i}^{T} \\omega + \\omega_{0})))^{2}} x_{i} x_{i}^{T} + \\rho I_{pp}\n",
    "\\end{bmatrix}$$\n",
    "\n",
    "By simply looking at how this Hessian matrix is constructed, we can determine right away it is symmetric. \n",
    "Now, for the convex proof, we will use a linear algebra argument. \n",
    "\n",
    "First, we decompose it as the sum of two different matrices, as follows :\n",
    "\n",
    "$$\\nabla^{2} f_{1} (\\omega_0,\\omega) = \\begin{bmatrix} \n",
    "\\frac{1}{n} \\sum\\limits_{i=1}^p y_{i}^2 \\frac{\\exp(-y_{i} (x_{i}^{T} \\omega + \\omega_{0}))}{(1 + \\exp(-y_{i} (x_{i}^{T} \\omega + \\omega_{0})))^{2}} & \\frac{1}{n} \\sum\\limits_{i=1}^p y_{i}^2 \\frac{\\exp(-y_{i} (x_{i}^{T} \\omega + \\omega_{0}))}{(1 + \\exp(-y_{i} (x_{i}^{T} \\omega + \\omega_{0})))^{2}} x_{i}^{T}\\\\\n",
    "\\frac{1}{n} \\sum\\limits_{i=1}^p y_{i}^2 \\frac{\\exp(-y_{i} (x_{i}^{T} \\omega + \\omega_{0}))}{(1 + \\exp(-y_{i} (x_{i}^{T} \\omega + \\omega_{0})))^{2}} x_{i} & \\frac{1}{n} \\sum\\limits_{i=1}^p y_{i}^2 \\frac{\\exp(-y_{i} (x_{i}^{T} \\omega + \\omega_{0}))}{(1 + \\exp(-y_{i} (x_{i}^{T} \\omega + \\omega_{0})))^{2}} x_{i} x_{i}^{T}\n",
    "\\end{bmatrix} + \\begin{bmatrix} 0 & 0_{p}^{T}\\\\ 0_{p} & + \\rho I_{pp} \\end{bmatrix}$$\n",
    "\n",
    "The main argument is the following : **the sum of two semi-definite positive matrices remains positive. Thus we will study both matrices.**    \n",
    "\n",
    "For the left-hand one, that we will name A :\n",
    "We can see that all columns are proportional to the first one, as we can simply multiply column $1$ by $x_{i}$ to get column $i+1$.\n",
    "This means that this matrix is of rank 1. \n",
    "So all of its eigenvalues (that we will name $\\lambda_{i}$) are $0$ except one. (to get into the details, we can write $dim(Ker(\\nabla^{2} f_{1})) = p$ y seeing this matrix as a linear operator)   \n",
    "We can determine the last one using the trace, as we know that the trace is equal to the sum of the eigenvalues, and as we can compute it explicitly as follows :   \n",
    "$tr(A) = \\sum\\limits_{i=1}^{p+1} \\lambda_{i} = \\lambda = \\frac{1}{n} \\sum\\limits_{i=1}^n y_{i}^2 \\frac{\\exp(-y_{i} (x_{i}^{T} \\omega + \\omega_{0}))}{(1 + \\exp(-y_{i} (x_{i}^{T} \\omega + \\omega_{0})))^{2}} \\ge 0$   \n",
    "We finally get the last eigenvalue, positive as it is a sum of positive terms ($y_{i}^2$ and $\\frac{\\exp(-y_{i} (x_{i}^{T} \\omega + \\omega_{0}))}{(1 + \\exp(-y_{i} (x_{i}^{T} \\omega + \\omega_{0})))^{2}}$ are of course positive). This proves that the first matrix is semi-definite positive.   \n",
    "\n",
    "For the right-hand one, it is much easier : it is the identity matrix with a column / row of zeros, it is clearly diagonal so we can identify the eigenvalues very easily :  \n",
    "$p$ eigenvalues are equal to $1$, and the last one is $0$. All are thus positive and the matrix is semi-definite positive.   \n",
    "\n",
    "Which finally proves that the Hessian matrix of $f_{1}$ is symmetric, semi-definite positive, which means, $f_{1}$ is convex.  "
   ]
  },
  {
   "cell_type": "markdown",
   "id": "376a71ea",
   "metadata": {},
   "source": [
    "Q3.2/ Code"
   ]
  },
  {
   "cell_type": "code",
   "execution_count": 35,
   "id": "efbf7155",
   "metadata": {},
   "outputs": [],
   "source": [
    "#Fake & empty data to start with\n",
    "n = np.size(y_test)\n",
    "rho = 1/n\n",
    "\n",
    "#A function computing the value of f1 :\n",
    "def f1(w0,w):\n",
    "    res = 0\n",
    "    for i in range(n):\n",
    "        res+=m.log(1+m.exp(-y_test[i]*(np.dot(eX_test[i],w)+w0)))\n",
    "    return res/n + rho*np.dot(w,w)/2\n",
    "\n",
    "def grad_f1(wo,w):\n",
    "    tmp_down = np.ones((1,n))/n\n",
    "    tmp_up = 0\n",
    "    for i in range(n):\n",
    "        expp = m.exp(-y[i]*(np.dot(xi,w)+w0))\n",
    "        tmp_down += xi*(-y[i]/(1+expp)*(expp))\n",
    "        tmp_up -= y[i]*expp\n",
    "        #Pour que tout se passe bien, xi doit être un nparray. Idem w\n",
    "    return np.concatenate((tmp_up, tmp_down), axis=0)\n",
    "\n",
    "w_test = np.ones((n,1))\n",
    "grad_f1(0,w_test)"
   ]
  },
  {
   "cell_type": "code",
   "execution_count": null,
   "id": "c670b089",
   "metadata": {},
   "outputs": [],
   "source": []
  },
  {
   "cell_type": "code",
   "execution_count": null,
   "id": "e91be31d",
   "metadata": {},
   "outputs": [],
   "source": []
  },
  {
   "cell_type": "code",
   "execution_count": 34,
   "id": "1007c1d7",
   "metadata": {},
   "outputs": [
    {
     "data": {
      "text/plain": [
       "array([[0.33333333],\n",
       "       [0.33333333],\n",
       "       [0.33333333]])"
      ]
     },
     "execution_count": 34,
     "metadata": {},
     "output_type": "execute_result"
    }
   ],
   "source": [
    "#a = np.array([[1],[2]],[[1],[2]])\n",
    "#b = np.array([[3],[4]],[[0],[0]])\n",
    "p=3\n",
    "c = np.ones((1,p))/p\n",
    "c = c.reshape(p,1)\n",
    "c"
   ]
  },
  {
   "cell_type": "code",
   "execution_count": null,
   "id": "cd1d7560",
   "metadata": {},
   "outputs": [],
   "source": []
  }
 ],
 "metadata": {
  "kernelspec": {
   "display_name": "Python 3 (ipykernel)",
   "language": "python",
   "name": "python3"
  },
  "language_info": {
   "codemirror_mode": {
    "name": "ipython",
    "version": 3
   },
   "file_extension": ".py",
   "mimetype": "text/x-python",
   "name": "python",
   "nbconvert_exporter": "python",
   "pygments_lexer": "ipython3",
   "version": "3.9.5"
  }
 },
 "nbformat": 4,
 "nbformat_minor": 5
}
