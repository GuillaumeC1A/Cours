{
 "cells": [
  {
   "cell_type": "markdown",
   "metadata": {},
   "source": [
    "# Mini-Projet de Statistiques\n",
    "\n",
    "**BEN FRIHA Adame**"
   ]
  },
  {
   "cell_type": "code",
   "execution_count": 137,
   "metadata": {},
   "outputs": [],
   "source": [
    "# Preamble: importing stuff\n",
    "import os\n",
    "import pandas as pd\n",
    "import datetime as dt\n",
    "import numpy as np\n",
    "import scipy.stats as ss\n",
    "import matplotlib.pyplot as plt\n",
    "import random as rd"
   ]
  },
  {
   "cell_type": "markdown",
   "metadata": {},
   "source": [
    "## Exercice 1"
   ]
  },
  {
   "cell_type": "markdown",
   "metadata": {},
   "source": [
    "1. On charge le fichier **NuclearPowerAccidents2016.csv**."
   ]
  },
  {
   "cell_type": "code",
   "execution_count": 58,
   "metadata": {},
   "outputs": [],
   "source": [
    "# Loading file\n",
    "data_path = os.getcwd()\n",
    "filename = 'NuclearPowerAccidents2016.csv'\n",
    "filepath = os.path.join(data_path, filename)\n",
    "\n",
    "# Loading CSV data with pandas\n",
    "full_data = pd.read_csv(filepath)"
   ]
  },
  {
   "cell_type": "markdown",
   "metadata": {},
   "source": [
    "Dans le fichier, on récupère tous les coûts des accidents nucléaires antérieurs à celui du Three Mile Island du 28 mars 1979."
   ]
  },
  {
   "cell_type": "code",
   "execution_count": 134,
   "metadata": {},
   "outputs": [],
   "source": [
    "# Storing data\n",
    "date_format = '%m/%d/%Y'\n",
    "lines_to_keep = []\n",
    "\n",
    "# Going through all dates, looking for old enough incidents and deciding whether to keep them\n",
    "for d in full_data['Date']:\n",
    "    d = dt.datetime.strptime(d, date_format)\n",
    "    lines_to_keep.append(d < dt.datetime(1979, 3, 28))\n",
    "\n",
    "# Remove undesired lines, then isolate costs Series\n",
    "final_data = full_data[lines_to_keep]\n",
    "costs_data = final_data['Cost (millions 2013US$)'].dropna() # removing NaN entries with dropna()"
   ]
  },
  {
   "cell_type": "markdown",
   "metadata": {},
   "source": [
    "Enfin, on vérifie que notre série statistique contient bien 55 échantillons."
   ]
  },
  {
   "cell_type": "code",
   "execution_count": 61,
   "metadata": {},
   "outputs": [
    {
     "data": {
      "text/plain": [
       "55"
      ]
     },
     "execution_count": 61,
     "metadata": {},
     "output_type": "execute_result"
    }
   ],
   "source": [
    "costs_data.size"
   ]
  },
  {
   "cell_type": "markdown",
   "metadata": {},
   "source": [
    "2. a) Soit $\\mu \\in \\mathbb{R}$ et $\\sigma > 0$. La fonction de répartition d'une loi normale $\\mathcal{N}(\\mu,\\sigma^2)$ est définie par :\n",
    "$$F: x \\mapsto \\int_{-\\infty}^x \\frac{1}{\\sqrt{2\\pi\\sigma^2}} \\exp\\left(-\\frac{(t-\\mu)^2}{2\\sigma^2}\\right) \\mathrm{d}t.$$\n",
    "On constate que $F$ est strictement croissante sur $\\mathbb{R}^+$, donc $F^{-1}$ existe sur cet intervalle.<br /><br />Soit $p \\in [0,1]$. On a :\n",
    "$$F(\\sigma F^{-1}(p; \\mu, \\sigma^2)+\\mu) = \\int_{-\\infty}^{\\sigma F^{-1}(p; \\mu, \\sigma^2)+\\mu} \\frac{1}{\\sqrt{2\\pi\\sigma^2}} \\exp\\left(-\\frac{(t-\\mu)^2}{2\\sigma^2}\\right) \\mathrm{d}t.$$\n",
    "Posons : $u = \\dfrac{x-\\mu}{\\sigma}$. Alors $\\mathrm{d}u = \\dfrac{1}{\\sigma} \\mathrm{d}t$. Alors :\n",
    "$$F(\\sigma F^{-1}(p; \\mu, \\sigma^2)+\\mu) = \\int_{-\\infty}^{F^{-1}(p; 0,1)} \\frac{1}{\\sqrt{2\\pi}} \\mathrm{e}^{-u^2} \\mathrm{d}u$$\n",
    "On reconnaît alors, au niveau de l'intégrale, l'expression de $\\widetilde{F}(F^{-1}(p; 0,1))$ où $\\widetilde{F}$ est la fonction de répartition de la loi normale centrée réduite. Or comme $\\widetilde{F}$ est la réciproque de $F^{-1}(.; 0,1)$, il vient :\n",
    "$$F(\\sigma F^{-1}(p; \\mu, \\sigma^2)+\\mu) = p.$$"
   ]
  },
  {
   "cell_type": "markdown",
   "metadata": {},
   "source": [
    "b) On affiche le diagramme QQ associé à nos données pour la loi normale."
   ]
  },
  {
   "cell_type": "code",
   "execution_count": 72,
   "metadata": {},
   "outputs": [
    {
     "data": {
      "text/plain": [
       "((array([-2.24067415, -1.87510362, -1.66006004, -1.50227431, -1.37493955,\n",
       "         -1.26666782, -1.17149966, -1.08590302, -1.00760151, -0.93503607,\n",
       "         -0.86708833, -0.80292598, -0.74191073, -0.68354056, -0.62741195,\n",
       "         -0.5731943 , -0.52061206, -0.4694319 , -0.41945333, -0.37050163,\n",
       "         -0.32242247, -0.27507767, -0.22834187, -0.18209983, -0.13624414,\n",
       "         -0.0906733 , -0.04529008,  0.        ,  0.04529008,  0.0906733 ,\n",
       "          0.13624414,  0.18209983,  0.22834187,  0.27507767,  0.32242247,\n",
       "          0.37050163,  0.41945333,  0.4694319 ,  0.52061206,  0.5731943 ,\n",
       "          0.62741195,  0.68354056,  0.74191073,  0.80292598,  0.86708833,\n",
       "          0.93503607,  1.00760151,  1.08590302,  1.17149966,  1.26666782,\n",
       "          1.37493955,  1.50227431,  1.66006004,  1.87510362,  2.24067415]),\n",
       "  array([0.0000e+00, 0.0000e+00, 0.0000e+00, 0.0000e+00, 0.0000e+00,\n",
       "         0.0000e+00, 0.0000e+00, 0.0000e+00, 1.1000e+00, 1.2000e+00,\n",
       "         4.4000e+00, 6.1000e+00, 1.1400e+01, 1.1800e+01, 1.3900e+01,\n",
       "         1.5000e+01, 1.6100e+01, 1.7100e+01, 2.5700e+01, 2.5700e+01,\n",
       "         3.7500e+01, 3.8000e+01, 5.2400e+01, 6.0100e+01, 7.7000e+01,\n",
       "         8.4500e+01, 8.7700e+01, 8.9900e+01, 9.8000e+01, 9.9500e+01,\n",
       "         1.0000e+02, 1.0000e+02, 1.5000e+02, 1.8000e+02, 2.7710e+02,\n",
       "         4.2520e+02, 5.1150e+02, 5.4140e+02, 7.8840e+02, 7.9390e+02,\n",
       "         8.0000e+02, 9.9000e+02, 1.1000e+03, 1.1000e+03, 1.3000e+03,\n",
       "         1.3300e+03, 1.5000e+03, 1.7334e+03, 1.9000e+03, 1.9645e+03,\n",
       "         2.5000e+03, 2.9000e+03, 3.5000e+03, 4.4000e+03, 8.1890e+03])),\n",
       " (1071.5607256749959, 726.3363636363639, 0.7438969625276352))"
      ]
     },
     "execution_count": 72,
     "metadata": {},
     "output_type": "execute_result"
    },
    {
     "data": {
      "image/png": "[encoded data removed]",
      "text/plain": [
       "<Figure size 432x288 with 1 Axes>"
      ]
     },
     "metadata": {
      "needs_background": "light"
     },
     "output_type": "display_data"
    }
   ],
   "source": [
    "ss.probplot(costs_data, plot=plt)"
   ]
  },
  {
   "cell_type": "markdown",
   "metadata": {},
   "source": [
    "3. a) Pour tout $\\lambda > 0$, la fonction de répartition de $\\mathcal{E}(\\lambda)$ vérifie :\n",
    "$$F : x \\mapsto \\int_0^x \\lambda \\mathrm{e}^{-\\lambda t} \\mathrm{d}t.$$\n",
    "Là aussi, $F$ est strictement croissante sur $\\mathbb{R}^+$, donc $F^{-1}$ existe sur cet intervalle.<br /><br />Soit $p \\in ]0,1[$. On a :\n",
    "$$F\\left(\\frac{1}{\\lambda }F^{-1}(p; 1)\\right) = \\int_0^{\\frac{1}{\\lambda} F^{-1}(p; 1)} \\mathrm{e}^{-\\lambda t} \\mathrm{d}t.$$\n",
    "On pose $u = \\lambda t$. On a alors $\\mathrm{d}t = \\dfrac{1}{\\lambda} \\mathrm{d}u$ et l'intégrale se réécrit :\n",
    "$$F\\left(\\frac{1}{\\lambda} F^{-1}(p; 1)\\right) = \\frac{1}{\\lambda} \\int_0^{F^{-1}(p; 1)} \\mathrm{e}^{-u} \\mathrm{d}u.$$\n",
    "On reconnaît alors l'expression de $\\widetilde{F}(F^{-1}(p; 1))$, où $\\widetilde{F}$ est la fonction de répartition de la loi $\\mathcal{E}(1)$. Ainsi, l'expression de départ est égal à $p$, ce qu'il fallait établir."
   ]
  },
  {
   "cell_type": "markdown",
   "metadata": {},
   "source": [
    "b) Diagramme QQ associé à nos données et pour une loi exponentielle"
   ]
  },
  {
   "cell_type": "code",
   "execution_count": 73,
   "metadata": {},
   "outputs": [
    {
     "data": {
      "text/plain": [
       "((array([0.01260268, 0.03086056, 0.04966429, 0.06882839, 0.08836694,\n",
       "         0.10829487, 0.128628  , 0.14938317, 0.17057826, 0.19223233,\n",
       "         0.2143657 , 0.23700006, 0.26015862, 0.28386625, 0.3081496 ,\n",
       "         0.33303734, 0.35856032, 0.38475183, 0.41164782, 0.43928725,\n",
       "         0.46771239, 0.49696921, 0.52710786, 0.55818315, 0.59025517,\n",
       "         0.62338998, 0.65766044, 0.69314718, 0.72993971, 0.7681378 ,\n",
       "         0.80785313, 0.84921125, 0.89235392, 0.93744214, 0.98465969,\n",
       "         1.03421771, 1.08636037, 1.14137218, 1.19958736, 1.26140218,\n",
       "         1.32729132, 1.39782998, 1.47372453, 1.55585563, 1.64534074,\n",
       "         1.74362749, 1.85263812, 1.97500261, 2.11445546, 2.27655635,\n",
       "         2.47011547, 2.71035576, 3.02719843, 3.49366684, 4.38014083]),\n",
       "  array([0.0000e+00, 0.0000e+00, 0.0000e+00, 0.0000e+00, 0.0000e+00,\n",
       "         0.0000e+00, 0.0000e+00, 0.0000e+00, 1.1000e+00, 1.2000e+00,\n",
       "         4.4000e+00, 6.1000e+00, 1.1400e+01, 1.1800e+01, 1.3900e+01,\n",
       "         1.5000e+01, 1.6100e+01, 1.7100e+01, 2.5700e+01, 2.5700e+01,\n",
       "         3.7500e+01, 3.8000e+01, 5.2400e+01, 6.0100e+01, 7.7000e+01,\n",
       "         8.4500e+01, 8.7700e+01, 8.9900e+01, 9.8000e+01, 9.9500e+01,\n",
       "         1.0000e+02, 1.0000e+02, 1.5000e+02, 1.8000e+02, 2.7710e+02,\n",
       "         4.2520e+02, 5.1150e+02, 5.4140e+02, 7.8840e+02, 7.9390e+02,\n",
       "         8.0000e+02, 9.9000e+02, 1.1000e+03, 1.1000e+03, 1.3000e+03,\n",
       "         1.3300e+03, 1.5000e+03, 1.7334e+03, 1.9000e+03, 1.9645e+03,\n",
       "         2.5000e+03, 2.9000e+03, 3.5000e+03, 4.4000e+03, 8.1890e+03])),\n",
       " (1391.6206084719065, -639.5019850177933, 0.9305092443126555))"
      ]
     },
     "execution_count": 73,
     "metadata": {},
     "output_type": "execute_result"
    },
    {
     "data": {
      "image/png": "[encoded data removed]",
      "text/plain": [
       "<Figure size 432x288 with 1 Axes>"
      ]
     },
     "metadata": {
      "needs_background": "light"
     },
     "output_type": "display_data"
    }
   ],
   "source": [
    "ss.probplot(costs_data, dist='expon', plot=plt)"
   ]
  },
  {
   "cell_type": "markdown",
   "metadata": {},
   "source": [
    "4. Au vu des résultats des questions 2b et 3b, une loi exponentielle serait plus plausible qu'une loi normale, car c'est le diagramme QQ de loi exponentielle qui se rapproche le plus d'une droite."
   ]
  },
  {
   "cell_type": "markdown",
   "metadata": {},
   "source": [
    "## Exercice 2"
   ]
  },
  {
   "cell_type": "markdown",
   "metadata": {},
   "source": [
    "1. Pour estimer le paramètre $\\lambda$, on commence par exprimer la vraisemblance :\n",
    "$$L(x_1,\\dots,x_n,\\lambda) = \\prod\\limits_{i=1}^n \\lambda \\mathrm{e}^{-\\lambda x_{i}} = \\lambda^n \\mathrm{e}^{-\\lambda \\sum\\limits_{i=1}^n x_i}.$$\n",
    "Pour trouver le maximum de vraisemblance, on préfèrera trouver le maximum du $\\ln$ de cette vraisemblance (le $\\ln$ ayant le  bon goût d'être croissant) :\n",
    "$$\\ln(L(x_1,\\dots,x_n,\\lambda) = n \\ln(\\lambda) - \\lambda \\sum\\limits_{i=1}^n x_i.$$\n",
    "On dérive :\n",
    "$$\\frac{\\partial \\ln(L(x_1,\\dots,x_n,\\lambda)}{\\partial \\lambda} = \\frac{n}{\\lambda} - \\lambda \\sum\\limits_{i=1}^n x_i.$$\n",
    "Or on cherche à annuler cette dérivée. $\\hat{\\lambda_n}$ vérifie :\n",
    "$$0 = \\frac{n}{\\hat{\\lambda_n}} - \\hat{\\lambda_n} \\sum\\limits_{i=1}^n x_i,$$\n",
    "d'où :\n",
    "$$\\hat{\\lambda_n} = \\frac{n}{\\sum\\limits_{i=1}^n x_i}.$$"
   ]
  },
  {
   "cell_type": "markdown",
   "metadata": {},
   "source": [
    "2. On trace l'histogramme des données et la densité de probabilité de $\\mathcal{E}(\\hat{\\lambda_n})$."
   ]
  },
  {
   "cell_type": "code",
   "execution_count": 88,
   "metadata": {},
   "outputs": [
    {
     "data": {
      "image/png": "[encoded data removed]",
      "text/plain": [
       "<Figure size 432x288 with 1 Axes>"
      ]
     },
     "metadata": {
      "needs_background": "light"
     },
     "output_type": "display_data"
    }
   ],
   "source": [
    "plt.hist(x=costs_data, bins='auto',density=True, color='#109f20',edgecolor=\"k\")\n",
    "x = np.arange(0,8500)\n",
    "param = 1/costs_data.mean()\n",
    "y = param*np.exp(-param*x)\n",
    "plt.plot(x,y,color='blue')\n",
    "plt.show()"
   ]
  },
  {
   "cell_type": "markdown",
   "metadata": {},
   "source": [
    "3. On veut montrer que $T_1(X) := \\dfrac{1}{n} \\sum\\limits_{i=1}^n X_i$ est un estimateur efficace pour $g_1(\\lambda) := \\dfrac{1}{\\lambda}$.\n",
    "\n",
    "On a :\n",
    "$$\\mathbb{E}[T_1(X) - g_1(\\lambda)] = \\frac{1}{n} \\sum\\limits_{i=1}^n \\mathbb{E}[X_i] - g_1(\\lambda) \\underset{X_i \\sim X_1}{=} \\frac{n}{n} \\frac{1}{\\lambda} - \\frac{1}{\\lambda} = 0,$$\n",
    "donc cet estimateur est non-biaisé.\n",
    "\n",
    "On a :\n",
    "$$\\mathbb{V}\\mathrm{ar}(T_1(X)) = \\dfrac{1}{n^2} \\mathbb{V}\\mathrm{ar}\\left(\\sum\\limits_{i=1}^n X_i\\right) \\underset{i.i.d.}{=} \\frac{1}{n} \\mathbb{V}\\mathrm{ar}(X_1) = \\frac{1}{n\\lambda^2}.$$\n",
    "\n",
    "Or, pour tout $\\lambda > 0$, on a $g'_1(\\lambda)^2 = \\dfrac{1}{\\lambda^4}$ et\n",
    "$$I_n(\\lambda) = n I_1(\\lambda) = - n \\mathbb{E}\\left[\\frac{\\partial^2 \\ln (\\lambda e^{-\\lambda X_1})}{\\partial \\lambda^2}\\right],$$\n",
    "soit, par propriété du $\\ln$,\n",
    "$$I_n(\\lambda) = - n \\mathbb{E}\\left[\\frac{\\partial^2 [\\ln (\\lambda) - \\lambda X_1]}{\\partial \\lambda^2}\\right],$$\n",
    "puis :\n",
    "$$I_n(\\lambda) = - n \\mathbb{E}\\left[- \\frac{1}{\\lambda^2} - \\dfrac{\\partial^2 [\\lambda X_1]}{\\partial \\lambda^2}\\right].$$\n",
    "Alors, via la linéarité de $\\mathbb{E}$,\n",
    "$$I_n(\\lambda) = \\frac{n}{\\lambda^2} + \\frac{\\partial^2 [\\lambda \\mathbb{E}[X_1]]}{\\partial \\lambda^2}.$$\n",
    "Or $\\lambda \\mathbb{E}[X_1] = 1$ donc le second terme s'annule, d'où $I_n(\\lambda) = \\dfrac{n}{\\lambda^2}$.\n",
    "\n",
    "Bref, $\\mathbb{V}\\mathrm{ar}(T_1(X)) = \\dfrac{g'_1(\\lambda)^2}{I(\\lambda)}$ et ainsi, la borne de Cramér-Rao est atteinte par cet estimateur.\n",
    "\n",
    "**Conclusion :** l'estimateur $T_1(X)$ est efficace pour $g_1(\\lambda)$."
   ]
  },
  {
   "cell_type": "markdown",
   "metadata": {},
   "source": [
    "4. Calculons $g_1(\\lambda)$ à partir de $T_1(X)$."
   ]
  },
  {
   "cell_type": "code",
   "execution_count": 94,
   "metadata": {},
   "outputs": [
    {
     "name": "stdout",
     "output_type": "stream",
     "text": [
      "726.3363636363636\n"
     ]
    }
   ],
   "source": [
    "g1 = costs_data.mean()\n",
    "print(g1)"
   ]
  },
  {
   "cell_type": "markdown",
   "metadata": {},
   "source": [
    "5. Pour tout $\\eta > 0$, on considère $\\tilde{T}_{1,\\eta}(X) := \\eta T_1(X)$.\n",
    "\n",
    "D'une part, comme $T_1(X)$ est non-biaisé, on a $R(\\lambda, T_1) = \\mathbb{V}\\mathrm{ar}(T_1(X))=\\dfrac{1}{n\\lambda^2}$.\n",
    "\n",
    "D'autre part, on a :\n",
    "$$R(\\lambda, \\tilde{T}_{1,\\eta}) = \\mathbb{E}[(\\tilde{T}_{1,\\eta}(X) - g(\\lambda))]^2 + \\mathbb{V}\\mathrm{ar}(\\tilde{T}_{1,\\eta}(X))$$\n",
    "$$= \\left(\\eta \\mathbb{E}[T_1(X)] - \\dfrac{1}{\\lambda}\\right)^2 + \\eta^2\\mathbb{V}\\mathrm{ar}(T_1(X))$$\n",
    "$$= \\frac{\\eta^2 - 2 \\eta + 1}{\\lambda^2} + \\eta^2\\dfrac{1}{n\\lambda^2}$$\n",
    "$$= \\frac{1}{\\lambda^2}\\left(\\eta^2 \\frac{n+1}{n} - 2 \\eta + 1\\right).$$\n",
    "\n",
    "On cherche les valeurs de $\\eta$ telles que:\n",
    "$$R(\\lambda, \\tilde{T}_{1,\\eta}) - R(\\lambda, T_1) < 0$$\n",
    "$$\\iff \\frac{1}{\\lambda^2}\\left(\\eta^2 \\frac{n+1}{n} - 2 \\eta + 1\\right) - \\frac{1}{n\\lambda^2} < 0$$\n",
    "$$\\iff \\eta^2 \\frac{n+1}{n} - 2 \\eta + \\frac{n-1}{n} > 0.$$\n",
    "Les racines de ce trinôme sont $\\eta_1 = \\dfrac{n-1}{n+1}$ et $\\eta_2 = 1$, donc l'inégalité recherchée sur les risques quadratiques est vraie pour $\\eta \\in \\left[\\dfrac{n-1}{n+1}, 1\\right]$."
   ]
  },
  {
   "cell_type": "markdown",
   "metadata": {},
   "source": [
    "Le fait que l'inégalité $R(\\lambda,\\tilde{T}_{1,\\eta}) < R(\\lambda,T_1)$ puisse être vraie ne contredit pas la question 3, car si $\\eta \\neq 1$, l'estimateur est biaisé, et donc le théorème de Cramér-Rao ne s'applique pas et ainsi, on ne peut pas dire que l'estimateur est efficace."
   ]
  },
  {
   "cell_type": "markdown",
   "metadata": {},
   "source": [
    "6. On cherche la valeur de $\\eta$ qui donnerait un estimateur $\\tilde{T}_{1,\\eta}$ sans biais de la médiane.<br /><br />\n",
    "Tout d'abord, cherchons la médiane théorique d'une loi exponentielle. On cherche $x$ tel que :\n",
    "$$F(x) = 1 - \\mathrm{e}^{-\\lambda x} = \\frac{1}{2}$$\n",
    "$$\\iff \\mathrm{e}^{-\\lambda x} = \\frac{1}{2}$$\n",
    "$$\\iff -\\lambda x = -\\ln 2$$\n",
    "$$\\iff x = \\frac{\\ln 2}{\\lambda}.$$\n",
    "<br />\n",
    "On pose alors $g_2 : \\lambda \\mapsto \\ln 2 g_1(\\lambda) = \\dfrac{\\ln 2}{\\lambda}$ la médiane théorique de la loi $\\mathcal{E}(\\lambda)$.\n",
    "<br />\n",
    "On cherche alors $\\eta$ tel que : $\\mathbb{E}\\left[\\eta T_1(X) - \\dfrac{\\ln 2}{\\lambda}\\right] = 0$,\n",
    "<br />\n",
    "i.e. $\\eta \\mathbb{E}[T_1(X)] - \\dfrac{\\ln 2}{\\lambda} = 0$,\n",
    "<br />\n",
    "i.e. $\\dfrac{\\eta - \\ln 2}{\\lambda} = 0$ i.e. $\\eta = \\ln 2$."
   ]
  },
  {
   "cell_type": "code",
   "execution_count": 95,
   "metadata": {},
   "outputs": [
    {
     "name": "stdout",
     "output_type": "stream",
     "text": [
      "503.45800259270857\n",
      "89.9\n"
     ]
    }
   ],
   "source": [
    "eta = np.log(2)\n",
    "g2 = eta * g1\n",
    "print(g2)\n",
    "print(costs_data.median())"
   ]
  },
  {
   "cell_type": "markdown",
   "metadata": {},
   "source": [
    "La médiane théorique est surévaluée par rapport à la médiane de l'échantillon statistique étudié, et le fait de travailler sur une loi exponentielle accentue l'écart entre médiane théorique et médiane empirique."
   ]
  },
  {
   "cell_type": "markdown",
   "metadata": {},
   "source": [
    "7. Au vu des résultats des questions précédentes, répondre à cette question 7 revient à chercher pour quelles valeurs de $n$ on a $\\ln 2 \\in \\left[\\dfrac{n-1}{n+1}, 1\\right]$. La borne de gauche de cet intervalle étant croissante, on cherche ci-dessous le $n$ minimum qui ne vérifie plus cette condition."
   ]
  },
  {
   "cell_type": "code",
   "execution_count": 97,
   "metadata": {},
   "outputs": [
    {
     "name": "stdout",
     "output_type": "stream",
     "text": [
      "6\n"
     ]
    }
   ],
   "source": [
    "n = 2\n",
    "while (n-1)/(n+1) <= eta:\n",
    "    n += 1\n",
    "print(n)"
   ]
  },
  {
   "cell_type": "markdown",
   "metadata": {},
   "source": [
    "* Pour $n \\leqslant 5$, le risque quadratique est plus faible avec l'estimateur $\\tilde{T}_{1,\\eta}(X)$.\n",
    "* Pour $n \\geqslant 6$, le risque quadratique est plus faible avec l'estimateur $T_1(X)$. *Pour notre problème, on sera donc plutôt dans ce second cas.*"
   ]
  },
  {
   "cell_type": "markdown",
   "metadata": {},
   "source": [
    "## Exercice 3"
   ]
  },
  {
   "cell_type": "markdown",
   "metadata": {},
   "source": [
    "1. On pose $H_0 : \\mathbb{E}[X_1] < 10^9$, i.e. $H_0 : \\lambda > 10^{-9}$ comme hypothèse nulle, et $H_1 : \\lambda \\leqslant 10^{-9}$ comme hypothèse alternative."
   ]
  },
  {
   "cell_type": "markdown",
   "metadata": {},
   "source": [
    "2. On va s'inspirer de l'approche de Neyman-Pearson. On ne peut pas utiliser directement le théorème éponyme, parce que les hypothèses ne distinguent pas des valeurs constantes pour $\\lambda$, mais des plages de valeurs ; néanmoins on peut adapter le raisonnement.<br /><br />Notamment, il nous faudra une hypothèse supplémentaire : on doit supposer que le rapport de vraisemblance peut s'écrire comme une fonction strictement monotone d'une statistique (à trouver).<br /><br />Soit $x_1,\\dots,x_n$ des réels. Pour tout réel $\\lambda > 0$ :\n",
    "$$L(\\lambda,x_1,\\dots,x_n) = \\prod\\limits_{i=1}^n \\lambda \\mathrm{e}^{-\\lambda x_i} = \\lambda^n \\mathrm{e}^{-\\lambda\\sum\\limits_{i=1}^n x_i}$$\n",
    "Alors, pour tous réels $0 < \\lambda < \\mu$, le **rapport de vraisemblance** s'écrit :\n",
    "$$\\rho := \\frac{L(\\lambda,x_1,\\dots,x_n)}{L(\\mu,x_1,\\dots,x_n)} = \\left(\\frac{\\lambda}{\\mu}\\right)^n \\mathrm{e}^{(\\mu-\\lambda)\\sum\\limits_{i=1}^n x_i}$$\n",
    "On considère la statistique $\\Sigma(X) := X_1 + \\dots + X_n$. On a alors que, avec les conditions sur $\\lambda$ et $\\mu$, $\\rho$ est une fonction décroissante de $\\Sigma$.<br /><br />\n",
    "Pour $\\alpha \\in [0,1]$, la région de rejet de l'hypothèse avec un niveau de test $\\alpha$ est de la forme : $\\{ \\Sigma < k(\\alpha) \\}$. On sait que le test de Neyman-Pearson est UPP pour le niveau $\\alpha$. On sait que $\\alpha(\\lambda)$ est maximal pour $\\lambda = 10^{-9}$. Alors, on cherche $k(\\alpha)$ tel que :\n",
    "$$\\mathbb{P}(\\Sigma < k(\\alpha) | \\lambda = 10^{-9}) = \\alpha.$$\n",
    "Avec les compléments du début du sujet, on remarque que $\\mathcal{E}(\\lambda) \\sim \\Gamma\\left(1,\\dfrac{1}{\\lambda}\\right)$ (puisque ces deux lois ont même fonction caractéristique).\n",
    "\n",
    "Calculons la fonction de répartition de la variable aléatoire $\\Sigma$ :\n",
    "$$\\phi_\\Sigma : t \\mapsto \\mathrm{e}^{\\mathrm{i}t\\Sigma} = \\prod\\limits_{k=1}^n \\mathrm{e}^{\\mathrm{i}tX_k} = \\left(\\mathrm{e}^{\\mathrm{i}tX_1}\\right)^n$$\n",
    "Or $X_1 \\sim \\mathcal{E}(\\lambda)$ d'où, pour tout $t \\in \\mathbb{R}$, $\\mathrm{e}^{\\mathrm{i}tX_1} = \\dfrac{1}{1-\\frac{\\mathrm{i}t}{\\lambda}}$. Donc, pour tout $t\\in\\mathbb{R}$, $\\phi_\\Sigma(t) = \\dfrac{1}{\\left(1-\\frac{\\mathrm{i}t}{\\lambda}\\right)^n}$ : on reconnait ici la fonction génératrice de $\\Gamma\\left(n,\\dfrac{1}{\\lambda}\\right)$ ! On peut alors calculer $k(\\alpha)$ grâce aux quantiles de cette loi $\\Gamma$."
   ]
  },
  {
   "cell_type": "markdown",
   "metadata": {},
   "source": [
    "3. Calculons $k(\\alpha)$ et comparons-le à $\\Sigma$."
   ]
  },
  {
   "cell_type": "code",
   "execution_count": 121,
   "metadata": {},
   "outputs": [
    {
     "name": "stdout",
     "output_type": "stream",
     "text": [
      "k(alpha) = 67740.08896417975\n",
      "Sigma = 39948.5\n",
      "Reject H_0\n",
      "\n",
      "p-value = 0.013717486423264914\n"
     ]
    }
   ],
   "source": [
    "testing_threshold = 10**-3 # In the CSV file, costs are given in millions of dollars, hence a billion just being a thousand\n",
    "alpha = .05\n",
    "\n",
    "# Computing k(alpha) using properties of the Gamma(n,1/lambda) law\n",
    "k_alpha = ss.gamma.ppf(q=1.-alpha, a=costs_data.size, scale=(1/testing_threshold))\n",
    "print('k(alpha) = '+str(k_alpha))\n",
    "\n",
    "# Now computing Sigma\n",
    "Sigma = costs_data.sum()\n",
    "print('Sigma = '+str(Sigma))\n",
    "\n",
    "if Sigma < k_alpha: # Rejecting zone\n",
    "    print('Reject H_0\\n')\n",
    "else:\n",
    "    print('Accept H_0\\n')\n",
    "    \n",
    "# Compute p-value\n",
    "p_value = ss.gamma.cdf(Sigma, a=costs_data.size, scale=(1/testing_threshold))\n",
    "print('p-value = '+str(p_value))"
   ]
  },
  {
   "cell_type": "markdown",
   "metadata": {},
   "source": [
    "4. On trace ci-dessous la densité de la loi de notre statistique $\\Sigma$ en matérialisant en orange la zone de rejet de l'hypothèse $H_0$."
   ]
  },
  {
   "cell_type": "code",
   "execution_count": 136,
   "metadata": {},
   "outputs": [
    {
     "name": "stdout",
     "output_type": "stream",
     "text": [
      "67740.08896417975\n"
     ]
    },
    {
     "data": {
      "image/png": "[encoded data removed]",
      "text/plain": [
       "<Figure size 432x288 with 1 Axes>"
      ]
     },
     "metadata": {
      "needs_background": "light"
     },
     "output_type": "display_data"
    }
   ],
   "source": [
    "print(k_alpha)\n",
    "full_x = np.linspace(0, 10**5, 100000)\n",
    "reject_x = np.linspace(0, k_alpha, 100000) \n",
    "full_y = ss.gamma.pdf(full_x, a=55, scale=(1/testing_threshold))\n",
    "reject_y = ss.gamma.pdf(reject_x, a=55, scale=(1/testing_threshold))\n",
    "plt.plot(full_x, full_y)\n",
    "plt.plot(reject_x, reject_y)\n",
    "plt.show()"
   ]
  },
  {
   "cell_type": "markdown",
   "metadata": {},
   "source": [
    "5. On trace la fonction puissance de test pour le niveau $\\alpha$ en fonction de $\\lambda$ pour $n=10, 50, 100, 500, 100000$."
   ]
  },
  {
   "cell_type": "code",
   "execution_count": 133,
   "metadata": {},
   "outputs": [
    {
     "name": "stderr",
     "output_type": "stream",
     "text": [
      "C:\\ProgramData\\Anaconda3\\lib\\site-packages\\ipykernel_launcher.py:2: RuntimeWarning: divide by zero encountered in true_divide\n",
      "  \n"
     ]
    },
    {
     "data": {
      "image/png": "[encoded data removed]",
      "text/plain": [
       "<Figure size 432x288 with 1 Axes>"
      ]
     },
     "metadata": {
      "needs_background": "light"
     },
     "output_type": "display_data"
    }
   ],
   "source": [
    "def test_power(l, n, k):\n",
    "    return ss.gamma.cdf(k, a=n, scale=(1/l))\n",
    "\n",
    "def k(n):\n",
    "    return ss.gamma.ppf(q=1.-alpha, a=n, scale=(1/testing_threshold))\n",
    "\n",
    "x = np.linspace(0, testing_threshold, 1000)\n",
    "n = 10\n",
    "plt.plot(x, test_power(x, n, k(n)), label=\"n = 10\")\n",
    "n = 50\n",
    "plt.plot(x, test_power(x, n, k(n)), label=\"n = 50\")\n",
    "n = 100\n",
    "plt.plot(x, test_power(x, n, k(n)), label=\"n = 100\")\n",
    "n = 500\n",
    "plt.plot(x, test_power(x, n, k(n)), label=\"n = 500\")\n",
    "n = 100000\n",
    "plt.plot(x, test_power(x, n, k(n)), label=\"n = 100 000\")\n",
    "plt.legend()\n",
    "plt.show()"
   ]
  },
  {
   "cell_type": "markdown",
   "metadata": {},
   "source": [
    "On constate que plus l'échantillon est grand, et plus le test est puissant."
   ]
  },
  {
   "cell_type": "markdown",
   "metadata": {},
   "source": [
    "6. Comme les $X_i$ sont i.i.d. et de carré intégrable, le théorème de la limite centrée assure que $\\sum\\limits_{i=1}^n X_i$ converge en loi vers $\\mathcal{N}(n \\mathbb{E}[X_1], n \\mathbb{V}\\mathrm{ar}(X_1))$.<br /><br />\n",
    "À supposer qu'on peut considérer $n$ comme assez grand, on peut alors approximer $T_1$ par $Z \\sim \\mathcal{N}\\left(\\dfrac{1}{\\lambda},\\dfrac{1}{n\\lambda^2}\\right)$.<br /><br />\n",
    "Trouvons un nouveau test. On utilise les mêmes hypothèses $H_0$ et $H_1$, et on utilise $T_1(X)$ comme statistique de test. On va chercher $c$ tel que notre fonction de test $\\delta$ vérifie pour tout $x$ :\n",
    "$$\\delta(x) = \\begin{cases} 1 &\\text{si }T_1(X) < c \\\\ 0 &\\text{sinon} \\end{cases}.$$\n",
    "On considère $\\alpha \\in [0,1]$ le niveau du test, i.e. on a $\\mathbb{P}(Z < c | H_0) = \\alpha$.<br />Dans la région $\\{ \\lambda < 10^{-9} \\}$, tout risque de première espèce est inférieur à $\\alpha$ donc il suffit de chercher $c$ tel que $\\mathbb{P}(T_1(X) = c | H_0) = \\alpha$. On regarde ce seuil $c$ sur la gaussienne :"
   ]
  },
  {
   "cell_type": "code",
   "execution_count": 161,
   "metadata": {},
   "outputs": [
    {
     "name": "stdout",
     "output_type": "stream",
     "text": [
      "Threshold = 778.2079821874304\n"
     ]
    }
   ],
   "source": [
    "threshold = ss.norm.ppf(.05, 1/testing_threshold, 1/(costs_data.size**(1/2)*testing_threshold))\n",
    "print('Threshold = '+str(threshold))"
   ]
  },
  {
   "cell_type": "markdown",
   "metadata": {},
   "source": [
    "Qu'on compare à notre statistique de test $T_1(X)$ :"
   ]
  },
  {
   "cell_type": "code",
   "execution_count": 164,
   "metadata": {},
   "outputs": [
    {
     "name": "stdout",
     "output_type": "stream",
     "text": [
      "Mean = 726.3363636363636\n",
      "\n",
      "Reject H_0\n"
     ]
    }
   ],
   "source": [
    "m = costs_data.mean()\n",
    "print('Mean = '+str(m))\n",
    "if m < threshold: # Rejecting zone\n",
    "    print('\\nReject H_0')\n",
    "else:\n",
    "    print('\\nAccept H_0')"
   ]
  },
  {
   "cell_type": "markdown",
   "metadata": {},
   "source": [
    "On obtient le même résultat que pour le test précédent."
   ]
  }
 ],
 "metadata": {
  "kernelspec": {
   "display_name": "Python 3 (ipykernel)",
   "language": "python",
   "name": "python3"
  },
  "language_info": {
   "codemirror_mode": {
    "name": "ipython",
    "version": 3
   },
   "file_extension": ".py",
   "mimetype": "text/x-python",
   "name": "python",
   "nbconvert_exporter": "python",
   "pygments_lexer": "ipython3",
   "version": "3.9.5"
  }
 },
 "nbformat": 4,
 "nbformat_minor": 4
}
