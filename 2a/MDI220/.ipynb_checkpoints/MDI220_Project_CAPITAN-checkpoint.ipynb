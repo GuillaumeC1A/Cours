{
 "cells": [
  {
   "cell_type": "markdown",
   "id": "893e4bc2-6864-4774-9a67-faed4b5facf2",
   "metadata": {},
   "source": [
    "**<h1> MDI 220 Project - Statistics</h1>**"
   ]
  },
  {
   "cell_type": "markdown",
   "id": "058c827e-c40d-4c9a-aef9-df38ba23e463",
   "metadata": {},
   "source": [
    "***<h5>Guillaume CAPITAN</h5>***"
   ]
  },
  {
   "cell_type": "markdown",
   "id": "4dcdeb4d-f9f7-41cf-a4ba-ff124689335c",
   "metadata": {},
   "source": [
    "**<h2>Sommaire :</h2>**\n",
    "**Exercise 1 - Statistical Model\n",
    "<br  />\n",
    "Exercise 2 - Point Estimation\n",
    "<br  />\n",
    "Exercise 3 - Hypothesis Testing**"
   ]
  },
  {
   "cell_type": "markdown",
   "id": "646f0be1-c684-4df3-889c-3ebadd040bd5",
   "metadata": {},
   "source": [
    "-- **<h3>Imports</h3>** --"
   ]
  },
  {
   "cell_type": "code",
   "execution_count": 81,
   "id": "121637a0-e1e6-421b-b190-e1d5460a392c",
   "metadata": {},
   "outputs": [],
   "source": [
    "import pandas as pd\n",
    "import numpy as np \n",
    "import scipy as sp\n",
    "import matplotlib.pyplot as plt\n",
    "\n",
    "from scipy import stats\n",
    "from matplotlib import pylab\n",
    "from pylab import *\n",
    "\n",
    "np.random.seed(5599553)"
   ]
  },
  {
   "cell_type": "markdown",
   "id": "3814daed-4cb6-49e3-87e3-cefafd003c44",
   "metadata": {
    "tags": []
   },
   "source": [
    "-- **<h3> Exercise 1 - Statistical model </h3>** --"
   ]
  },
  {
   "cell_type": "markdown",
   "id": "158dc0fe-eabd-469c-82ca-4194ffce17d1",
   "metadata": {},
   "source": [
    "**<h4>1./ Data loading and cleansing of the csv file </h4>**"
   ]
  },
  {
   "cell_type": "code",
   "execution_count": 82,
   "id": "0691989f-f1bb-4bbb-8ba5-aba630fe8734",
   "metadata": {},
   "outputs": [
    {
     "name": "stdout",
     "output_type": "stream",
     "text": [
      "<class 'pandas.core.frame.DataFrame'>\n",
      "DatetimeIndex: 55 entries, 1946-05-21 to 1979-02-04\n",
      "Data columns (total 1 columns):\n",
      " #   Column                   Non-Null Count  Dtype  \n",
      "---  ------                   --------------  -----  \n",
      " 0   Cost (millions 2013US$)  55 non-null     float64\n",
      "dtypes: float64(1)\n",
      "memory usage: 880.0 bytes\n"
     ]
    }
   ],
   "source": [
    "###Loading\n",
    "data = pd.read_csv(\"C_id_35_NuclearPowerAccidents2016.csv\", index_col='Date', parse_dates=['Date'])\n",
    "data.index = pd.to_datetime(data.index)\n",
    "\n",
    "###Cleansing part\n",
    "#Slicing works with dates, so we expunge dates after March 27th, 1979\n",
    "tmp = data.loc(0)\n",
    "dataccidents = tmp[:'1979-03-27'] \n",
    "\n",
    "#Now we want to keep only the interesting values : the date and the cost of the accidents.\n",
    "dataccidents = dataccidents.drop(['Location','INES','Smyth Magnitude','Region','Description','Fatalities'], axis = 1)\n",
    "dataccidents = dataccidents.dropna() #Removing missing or NaN values (not the zeros though)\n",
    "dataccidents = dataccidents.sort_index() #Sorting depending on Date (axis = 0 is implicit)\n",
    "\n",
    "#For some reason dataccidents.sort_index() doesn't sort dataccidents. \n",
    "#It instead RETURNS directly the sorted data set, which didn't seem intuitive to me.\n",
    "\n",
    "###Visualizing part\n",
    "#print(dataccidents)\n",
    "dataccidents.info()\n",
    "#dataccidents.describe()\n",
    "#These last three are different ways of seeing the same set of data, now cleansed, parsed and sorted.\n",
    "#We see with the .info() that we have 55 entries of cost, sorted from roughly 1946 to 1979."
   ]
  },
  {
   "cell_type": "code",
   "execution_count": 83,
   "id": "34fbf2f0-d923-4032-aad3-7e6d40d86a40",
   "metadata": {},
   "outputs": [
    {
     "data": {
      "image/png": "[encoded data removed]",
      "text/plain": [
       "<Figure size 432x288 with 1 Axes>"
      ]
     },
     "metadata": {
      "needs_background": "light"
     },
     "output_type": "display_data"
    },
    {
     "data": {
      "text/html": [
       "<div>\n",
       "<style scoped>\n",
       "    .dataframe tbody tr th:only-of-type {\n",
       "        vertical-align: middle;\n",
       "    }\n",
       "\n",
       "    .dataframe tbody tr th {\n",
       "        vertical-align: top;\n",
       "    }\n",
       "\n",
       "    .dataframe thead th {\n",
       "        text-align: right;\n",
       "    }\n",
       "</style>\n",
       "<table border=\"1\" class=\"dataframe\">\n",
       "  <thead>\n",
       "    <tr style=\"text-align: right;\">\n",
       "      <th></th>\n",
       "      <th>Cost (millions 2013US$)</th>\n",
       "    </tr>\n",
       "  </thead>\n",
       "  <tbody>\n",
       "    <tr>\n",
       "      <th>count</th>\n",
       "      <td>55.000000</td>\n",
       "    </tr>\n",
       "    <tr>\n",
       "      <th>mean</th>\n",
       "      <td>726.336364</td>\n",
       "    </tr>\n",
       "    <tr>\n",
       "      <th>std</th>\n",
       "      <td>1405.912516</td>\n",
       "    </tr>\n",
       "    <tr>\n",
       "      <th>min</th>\n",
       "      <td>0.000000</td>\n",
       "    </tr>\n",
       "    <tr>\n",
       "      <th>25%</th>\n",
       "      <td>12.850000</td>\n",
       "    </tr>\n",
       "    <tr>\n",
       "      <th>50%</th>\n",
       "      <td>89.900000</td>\n",
       "    </tr>\n",
       "    <tr>\n",
       "      <th>75%</th>\n",
       "      <td>895.000000</td>\n",
       "    </tr>\n",
       "    <tr>\n",
       "      <th>max</th>\n",
       "      <td>8189.000000</td>\n",
       "    </tr>\n",
       "  </tbody>\n",
       "</table>\n",
       "</div>"
      ],
      "text/plain": [
       "       Cost (millions 2013US$)\n",
       "count                55.000000\n",
       "mean                726.336364\n",
       "std                1405.912516\n",
       "min                   0.000000\n",
       "25%                  12.850000\n",
       "50%                  89.900000\n",
       "75%                 895.000000\n",
       "max                8189.000000"
      ]
     },
     "execution_count": 83,
     "metadata": {},
     "output_type": "execute_result"
    }
   ],
   "source": [
    "#Graphical visualization\n",
    "dataccidents.plot()\n",
    "plt.show()\n",
    "dataccidents.describe()"
   ]
  },
  {
   "cell_type": "markdown",
   "id": "ceb7389b-08d4-4a41-8703-0611927b83aa",
   "metadata": {},
   "source": [
    "**<h4>1./ (bis) Data loading in a single vector</h4>**"
   ]
  },
  {
   "cell_type": "code",
   "execution_count": 84,
   "id": "5c97fc56-d414-4887-9b8b-8202087293c4",
   "metadata": {},
   "outputs": [],
   "source": [
    "accList = []\n",
    "for acc in dataccidents['Cost (millions 2013US$)']:\n",
    "    accList.append(acc)"
   ]
  },
  {
   "cell_type": "markdown",
   "id": "ebe1558f-be63-4d0c-9de1-78e040de9e35",
   "metadata": {},
   "source": [
    "**<h4>2./ (a) Quantile function for the Gaussian model</h4>**"
   ]
  },
  {
   "cell_type": "markdown",
   "id": "ec92000e-6cc4-458c-ab1f-a0c5ca670bf2",
   "metadata": {},
   "source": [
    "Let $\\mu \\in \\mathbb{R}$ and $\\sigma > 0$. The cumulative distribution of a Gaussian variable of parameter $\\mathcal{N}(\\mu,\\sigma^2)$ is defined as follow :\n",
    "\n",
    "$$F_{\\theta}: x \\mapsto \\int_{-\\infty}^x \\frac{1}{\\sqrt{2\\pi\\sigma^2}} \\exp\\left(-\\frac{(t-\\mu)^2}{2\\sigma^2}\\right) \\mathrm{d}t, $$ with $$\\theta = (\\mu,\\sigma^2).$$\n",
    "\n",
    "As the value inside the integral is strictly positive for all t, $F$ is increasing (strictly) on $\\mathbb{R}^+$, so it establishes a bijection on this interval.\n",
    "Hence $F^{-1}$ exists on this interval.<br /><br /> Let $p \\in [0,1]$. We have :\n",
    "\n",
    "$$F_{\\theta}(\\sigma F^{-1}_{\\theta}(p) + \\mu) = \\int_{-\\infty}^{\\sigma F^{-1}_{\\theta}(p)+\\mu} \\frac{1}{\\sqrt{2\\pi\\sigma^2}} \\exp\\left(-\\frac{(t-\\mu)^2}{2\\sigma^2}\\right) \\mathrm{d}t = \\int_{-\\infty}^{F^{-1}_{(0,1)}(p)} \\frac{1}{\\sqrt{2\\pi}} \\exp\\left(-\\frac{u^2}{2}\\right)\\mathrm{d}u.$$\n",
    "\n",
    "With the following change of variables : $u = \\dfrac{t-\\mu}{\\sigma}$. (Which implies $\\mathrm{d}u = \\dfrac{1}{\\sigma} \\mathrm{d}t$.)\n",
    "\n",
    "Finally, we recognize the expression of the centered-reduced normal law $F_{(0,1)}$, taken in $x = {F^{-1}_{(0,1)}(p)}$, thus by applying $F^{-1}_{\\theta}$ to it, the equation yields : \n",
    "\n",
    "$$F_{\\theta}(\\sigma F^{-1}_{(0,1)}(p) + \\mu) = p \\iff F^{-1}_{\\theta}(p) = \\sigma F^{-1}_{(0,1)}(p) + \\mu.$$\n"
   ]
  },
  {
   "cell_type": "markdown",
   "id": "06cc9c57-b86e-46c5-aaf7-6bbed0d419fb",
   "metadata": {},
   "source": [
    "**<h4>2./ (b) Q-Q plot for the Gaussian model</h4>**"
   ]
  },
  {
   "cell_type": "code",
   "execution_count": 85,
   "id": "8e1c6f6d-07e3-4fa3-8e05-0031656f4f62",
   "metadata": {},
   "outputs": [
    {
     "data": {
      "image/png": "[encoded data removed]",
      "text/plain": [
       "<Figure size 432x288 with 1 Axes>"
      ]
     },
     "metadata": {
      "needs_background": "light"
     },
     "output_type": "display_data"
    }
   ],
   "source": [
    "plt.figure()\n",
    "stats.probplot(accList, dist=\"norm\",plot=pylab)\n",
    "plt.show()"
   ]
  },
  {
   "cell_type": "markdown",
   "id": "a8799c9d-9231-4d66-8f33-f258fcad5834",
   "metadata": {},
   "source": [
    "**<h4>3./ (a) Quantile function for the exponential model</h4>**"
   ]
  },
  {
   "cell_type": "markdown",
   "id": "df71c898-f635-4c22-9d98-a5c2171abc4a",
   "metadata": {},
   "source": [
    "Let $p>0$.\n",
    "\n",
    "For an exponential distribution, the cumulative distribution function of parameter $\\theta$ is known :\n",
    "\n",
    "$$F_{\\theta}(t) = 1 - \\exp\\left(-\\theta t\\right)$$ for $t > 0$, and $0$ otherwise.\n",
    "\n",
    "Also, for $\\theta = 1$, we have \n",
    "\n",
    "$$F_1(t) = p \\iff \\exp\\left({-t}\\right) = 1 - p \\iff t = \\ln(\\frac{1}{1-p})$$\n",
    "\n",
    "Finally, for all $\\theta \\in \\mathbf{R}$,\n",
    "\n",
    "$$F_{\\theta}(t) = p \\iff \\exp\\left({-\\theta t}\\right) = 1 - p \\iff t = \\frac{\\ln(\\frac{1}{1-p})}{\\theta} = \\frac{F_1(p)}{\\theta}$$\n"
   ]
  },
  {
   "cell_type": "markdown",
   "id": "9a60f99b-f268-44a7-8801-a6429c4abc02",
   "metadata": {},
   "source": [
    "**<h4>3./ (b) Q-Q plot for the exponential model</h4>**"
   ]
  },
  {
   "cell_type": "code",
   "execution_count": 86,
   "id": "fb3cde30-5bb6-4504-b8f7-b19547111cac",
   "metadata": {},
   "outputs": [
    {
     "data": {
      "image/png": "[encoded data removed]",
      "text/plain": [
       "<Figure size 432x288 with 1 Axes>"
      ]
     },
     "metadata": {
      "needs_background": "light"
     },
     "output_type": "display_data"
    }
   ],
   "source": [
    "stats.probplot(accList, sparams = (1,), dist=\"expon\",plot=pylab)\n",
    "plt.show()"
   ]
  },
  {
   "cell_type": "markdown",
   "id": "743668b3-978b-4097-be28-7aa3a722a02f",
   "metadata": {},
   "source": [
    "**<h4>4./ Discussion of the results</4>**"
   ]
  },
  {
   "cell_type": "markdown",
   "id": "a076640f-b7fe-4764-8245-5f3e7d15e974",
   "metadata": {},
   "source": [
    "For the exponential model, it makes a roughly nice line (even though there's quite a mismatch for the wider results), whereas for the gaussian one it is safe to say it's definitely not the right model, not following the curve. \n",
    "The exponential model has a better correlation with the data distribution than the gaussian one."
   ]
  },
  {
   "cell_type": "markdown",
   "id": "23ab707c-bba4-4372-9b0e-9d3f56215ce0",
   "metadata": {},
   "source": [
    "-- **<h3> Exercise 2 - Point estimation </h3>** --"
   ]
  },
  {
   "cell_type": "markdown",
   "id": "28c2a77c-c2db-4f4f-9c33-fbec36bb2eb4",
   "metadata": {},
   "source": [
    "**<h4>1./ Maximum Likelihood estimator </h4>**"
   ]
  },
  {
   "cell_type": "markdown",
   "id": "1685eded-d3d9-4ba4-aef4-21d74af18adb",
   "metadata": {},
   "source": [
    "Let's apply the method seen in tutorials to find the MLE $\\hat{\\theta}$.\n",
    "\n",
    "Let $x = (x_1,\\dots, x_n)$. \n",
    "As $\\ln$ is convex and strictly increasing, we can take the ln of the likelihood and then differentiate to find the maximum likelihood. As follows :\n",
    "\n",
    "$$L(x,\\theta) = -\\ln(p(x,\\theta)) = -\\ln(\\prod_{i=1}^n \\theta \\mathrm{e}^{-\\theta x_{i}}) = -\\ln(\\theta^n\\exp\\left({-\\theta S}\\right)) = n\\ln(\\theta) - \\theta S$$\n",
    "With $S = \\sum_{i=1}^n x_i.$\n",
    "\n",
    "We now differentiate this likelihood :\n",
    "\n",
    "$$\\frac{\\partial \\ln(L(x,\\theta)}{\\partial \\theta} = \\frac{n}{\\theta} -  S = 0 .$$\n",
    "\n",
    "Finally, with the MLE cancelling the derivative, we get :\n",
    "\n",
    "$$0 = \\frac{n}{\\hat{\\theta_n}} -  S \\iff \\hat{\\theta_n} = \\frac{n}{S}.$$"
   ]
  },
  {
   "cell_type": "markdown",
   "id": "754e7eb0-4d94-4bf8-8bf5-1121305a7645",
   "metadata": {},
   "source": [
    "**<h4>2./ Histogram and Density plots for the exponential distribution </h4>**"
   ]
  },
  {
   "cell_type": "code",
   "execution_count": 87,
   "id": "83810380-82eb-4261-8b71-75cf7c893adc",
   "metadata": {},
   "outputs": [
    {
     "name": "stdout",
     "output_type": "stream",
     "text": [
      "0.0013767725947156965\n"
     ]
    },
    {
     "data": {
      "image/png": "[encoded data removed]",
      "text/plain": [
       "<Figure size 432x288 with 1 Axes>"
      ]
     },
     "metadata": {
      "needs_background": "light"
     },
     "output_type": "display_data"
    }
   ],
   "source": [
    "plt.hist(accList,'auto',density=True,edgecolor=\"k\")\n",
    "x_axis = np.arange(0,8500)\n",
    "thetan = 1/float(dataccidents.mean()) #pandas' frames have a nice mean attribute\n",
    "\n",
    "#We now compute the exponential density\n",
    "y_axis = thetan*np.exp(-thetan*x_axis)\n",
    "\n",
    "#And we show the result, with a different color for that density.\n",
    "print(thetan)\n",
    "plt.plot(x_axis,y_axis,color='red')\n",
    "plt.show()"
   ]
  },
  {
   "cell_type": "markdown",
   "id": "4cc63383-e365-4d6d-a86d-1611ee006beb",
   "metadata": {},
   "source": [
    "**<h4>3./ Efficient estimator </h4>**"
   ]
  },
  {
   "cell_type": "markdown",
   "id": "f4ad32b6-adbb-4fc7-ae20-492f95e7ca8b",
   "metadata": {},
   "source": [
    "Let's compute the expectancy of the difference between the estimator and g :\n",
    "\n",
    "$$\\mathbb{E}[\\hat{g}(X) - g(\\theta)] \\underset{linearity}= \\frac{1}{n} \\sum\\limits_{i=1}^n \\mathbb{E}[X_i] - \\frac{1}{\\theta} \\underset{X_i \\sim X_1}{=} \\frac{n}{n} \\frac{1}{\\theta} - \\frac{1}{\\theta} = 0$$\n",
    "\n",
    "This shows the estimator is **unbiased**.\n",
    "\n",
    "Now we compute the variance. As a reminder, the $X_i$ are $i.i.d.$\n",
    "$$\\mathbb{V}\\mathrm{ar}(\\hat{g}(X)) = \\dfrac{1}{n^2} \\mathbb{V}\\mathrm{ar}\\left(\\sum\\limits_{i=1}^n X_i\\right) \\underset{i.i.d.}{=} \\frac{n}{n^2} \\mathbb{V}\\mathrm{ar}(X_1) = \\frac{1}{n\\theta^2}.$$\n",
    "\n",
    "Let's now compute the Fisher Information. \n",
    "By **Proposition 3.2.9**, the formula is as follows :\n",
    "$$I_n(\\theta) \\underset{i.i.d.}= n I_1(\\theta) = - n \\mathbb{E}\\left[\\frac{\\partial^2 \\ln (\\theta e^{-\\theta X_1})}{\\partial \\theta^2}\\right],$$\n",
    "\n",
    "By linearity of both the expectancy and the derivative, the derivative and the expectancy can be switched. We get :\n",
    "\n",
    "$$I_n(\\theta) = - n \\mathbb{E}\\left[\\frac{\\partial^2 [\\ln (\\theta) - \\theta X_1]}{\\partial \\theta^2}\\right] $$ \n",
    "\n",
    "$$= - n \\mathbb{E}\\left[- \\frac{1}{\\theta^2} - \\frac{\\partial^2 [\\theta X_1]}{\\partial \\theta^2}\\right]$$\n",
    "\n",
    "$$ \\underset{linearity}= \\frac{n}{\\theta^2} + \\frac{\\partial^2 [\\theta \\mathbb{E}[X_1]]}{\\partial \\theta^2}$$\n",
    "\n",
    "$$\\underset{X_1 \\sim exp(\\theta)}= \\frac{n}{\\theta^2} + \\frac{\\partial^2 [\\theta/\\theta]}{\\partial \\theta^2}$$\n",
    "\n",
    "$$= \\frac{n}{\\theta^2}$$\n",
    "\n",
    "Finally,\n",
    "\n",
    "$$g'(\\theta)^2 = (-\\frac{1}{\\theta^2})^2 = \\dfrac{1}{\\theta^4}$$\n",
    "\n",
    "Thus we get the wanted formula :\n",
    "\n",
    "$$\\mathbb{V}\\mathrm{ar}(\\hat{g}(X)) = \\frac{\\theta^2}{n\\theta^4} = \\frac{g'(\\theta)^2}{I(\\theta)}$$\n",
    "\n",
    "Which proves that this estimator reaches the Cramér-Rao bound, which in turn proves that the estimator $\\hat{g}$ is efficient for $g$."
   ]
  },
  {
   "cell_type": "markdown",
   "id": "7998d193-24f5-4e63-ae97-4dfbcb4b66e5",
   "metadata": {},
   "source": [
    "**<h4>4./ Computation of this efficient estimator with the observations </h4>**"
   ]
  },
  {
   "cell_type": "code",
   "execution_count": 88,
   "id": "a94bb2ad-de60-4ff9-afd4-bb0c27cc96b7",
   "metadata": {},
   "outputs": [
    {
     "name": "stdout",
     "output_type": "stream",
     "text": [
      "Cost (millions 2013US$)    726.336364\n",
      "dtype: float64\n"
     ]
    }
   ],
   "source": [
    "print(dataccidents.mean())\n",
    "#We use pandas' tools, they're made for that. \n",
    "#This is exactly the same as summing all values and dividing by the cardinal (55)."
   ]
  },
  {
   "cell_type": "markdown",
   "id": "ff331e0d-2c20-443a-8965-9fcd26cffe0a",
   "metadata": {},
   "source": [
    "$\\hat{g}(x) = 726.336364 \\simeq 726.34$"
   ]
  },
  {
   "cell_type": "markdown",
   "id": "168374aa-0031-4090-81c7-370e17c64625",
   "metadata": {},
   "source": [
    "**<h4>5./ Quadratic risks </h4>**"
   ]
  },
  {
   "cell_type": "markdown",
   "id": "b9490bbe-67d3-4d58-8f0c-70be163b0573",
   "metadata": {},
   "source": [
    "Let's compute the quadratic risks, denoted R, associated to each of the estimators :\n",
    "$\\hat{g}$ and $\\hat{g}_{\\eta}$.\n",
    "\n",
    "* We will use for both cases **Proposition 3.1.1** which states that $R(\\theta,\\hat{g})=(bias(\\theta,\\hat{g}))^2 + \\mathbb{V}\\mathrm{ar}(\\hat{g}(X))$\n",
    "\n",
    "* $R(\\theta,\\hat{g}) \\underset{unbiased}= \\mathbb{V}\\mathrm{ar}(\\hat{g}(X))=\\dfrac{1}{n\\theta^2}$\n",
    "\n",
    "* $R(\\theta,\\hat{g}_\\eta)=\\mathbb{E}_{\\theta}[(\\hat{g}_{\\eta}(X) - g(\\theta))]^2 + \\mathbb{V}\\mathrm{ar}(\\hat{g}_{\\eta}(X))$\n",
    "$=\\mathbb{E}_{\\theta}[(\\eta-1)g(\\theta)]^2 + \\eta^2\\mathbb{V}\\mathrm{ar}(\\hat{g}(X))$\n",
    "$=(\\dfrac{\\eta-1}{\\theta})^2 + \\dfrac{\\eta^2}{n\\theta^2}$\n",
    "\n",
    "Now we compute the condition :\n",
    "$$R(\\theta, \\hat{g}_{\\eta}) - R(\\theta, \\hat{g}) < 0$$\n",
    "\n",
    "$$\\iff (\\dfrac{\\eta-1}{\\theta})^2 + \\dfrac{\\eta^2}{n\\theta^2} - \\dfrac{1}{n\\theta^2} < 0$$\n",
    "\n",
    "$$\\iff \\dfrac{n^2(\\eta^2-2\\eta+1)+\\eta^2-1}{n\\theta^2}<0$$\n",
    "\n",
    "$$\\iff (n^2+1)\\eta^2-2n^2\\eta+n^2-1<0$$\n",
    "\n",
    "This is a very easy polynom to solve, with a>0. We compute $\\Delta$:\n",
    "\n",
    "$$\\Delta = (2n^2)^2-4(n^4-1)=4>0$$\n",
    "\n",
    "Finally, \n",
    "$$\\forall \\theta>0, R(\\theta, \\hat{g}_{\\eta}) - R(\\theta, \\hat{g}) < 0$$\n",
    "\n",
    "$\\iff \\forall \\theta>0, \\eta$ $\\in$ $]\\dfrac{2n^2-2}{2n^2+2};\\dfrac{2n^2+2}{2n^2+2}[$ $=$ $]\\dfrac{n-1}{n+1};1[$\n",
    "\n",
    "The fact that the risk of the optimal estimator $\\hat{g}$ is worse (which means higher) than this new estimator $\\hat{g}_{\\eta}$ is not contradictory to what we know because $\\hat{g}_{\\eta}$ is biased for $\\eta \\ne 1$, so the Cramér-Rao bound does not apply to it. In that sight, there's not way to tell if it's efficient. And for $\\eta = 1$ we have equality of both estimators.\n"
   ]
  },
  {
   "cell_type": "markdown",
   "id": "774fe652-eb40-49c8-bce2-38107b41e1b5",
   "metadata": {},
   "source": [
    "**<h4>6./ Unbiased estimator </h4>**"
   ]
  },
  {
   "cell_type": "markdown",
   "id": "90c71275-8533-4adf-a0d5-702f41f4d72d",
   "metadata": {},
   "source": [
    "The median value m for an exponential variable of parameter $\\theta$ is given by $F(m) = 1 - e^{-m\\theta} = \\frac{1}{2} \\iff m = \\dfrac{\\ln(2)}{\\theta}$\n",
    "\n",
    "We thus are looking for $\\eta$ s.t. $\\mathbb{E}_{\\theta}(\\hat{g}_{\\eta}(X))=m$, which yields $\\mathbb{E}_{\\theta}(\\hat{g}(X))=\\dfrac{m}{\\eta}$ and we get $\\dfrac{1}{\\theta} = \\dfrac{\\ln(2)}{\\eta\\theta}$ e.g. $\\eta = \\ln(2)$"
   ]
  },
  {
   "cell_type": "code",
   "execution_count": 89,
   "id": "c115ea69-69cf-45e7-a267-a77d1aea0a86",
   "metadata": {},
   "outputs": [
    {
     "name": "stdout",
     "output_type": "stream",
     "text": [
      "Estimated median : Cost (millions 2013US$)    503.458003\n",
      "dtype: float64\n",
      "Empirical median : Cost (millions 2013US$)    89.9\n",
      "dtype: float64\n"
     ]
    }
   ],
   "source": [
    "eta = np.log(2)\n",
    "print('Estimated median :' , np.log(2)*dataccidents.mean())\n",
    "print('Empirical median :' , dataccidents.median())"
   ]
  },
  {
   "cell_type": "markdown",
   "id": "3db84382-fc30-4fd1-a98d-dfc9858be59f",
   "metadata": {},
   "source": [
    "The theoretical median is much higher than the empirical one. This is due to two major factors : we are working with an exponential model, and there are a lot of very low values (a handful of zeros).\n",
    "\n",
    "(These zeros are in the filtered list, yes. Accidents with *zero-cost* happened, and it's not the same thing as *null-values*, the *voids* we removed in Ex1Q1)"
   ]
  },
  {
   "cell_type": "markdown",
   "id": "ab2051e3-798e-46db-b737-6a9b9a559d3f",
   "metadata": {},
   "source": [
    "**<h4>7./ Comparison between estimators </h4>**"
   ]
  },
  {
   "cell_type": "markdown",
   "id": "39fdd686-f917-49b4-b403-89e7efe1c841",
   "metadata": {},
   "source": [
    "According to **5./**, \n",
    "$$\\forall \\theta >0, R(\\theta, \\hat{g}_{\\eta})<R(\\theta, \\hat{g}) \\iff\n",
    "\\eta \\in ]\\frac{n-1}{n+1},1[$$\n",
    "\n",
    "Thus we can compute for increasing n when, for this $\\eta = \\ln(2)$, it stays in this interval and conclude :"
   ]
  },
  {
   "cell_type": "code",
   "execution_count": 90,
   "id": "1c53be86-32a7-432d-ab57-b4322ab562d4",
   "metadata": {},
   "outputs": [
    {
     "name": "stdout",
     "output_type": "stream",
     "text": [
      "5\n"
     ]
    }
   ],
   "source": [
    "n=0\n",
    "while (n-1)/(n+1)<eta:\n",
    "    n+=1\n",
    "print(n-1)\n",
    "#The loop is exited when the boolean isn't true the first time.\n",
    "#So it was true the last iteration."
   ]
  },
  {
   "cell_type": "markdown",
   "id": "5eca077b-a90a-4d78-8d85-264b749f7ce9",
   "metadata": {},
   "source": [
    "We yield that $\\hat{g}_{\\eta}$ has a better risk (e.g. lower) when $n<=5$, even if it biased. We will prefer $\\hat{g}$ otherwise."
   ]
  },
  {
   "cell_type": "markdown",
   "id": "ee538c5e-cedb-46a8-ae8a-d92328ec2474",
   "metadata": {},
   "source": [
    "-- **<h3> Exercise 3 - Hypothesis testing </h3>** --"
   ]
  },
  {
   "cell_type": "markdown",
   "id": "1df6e564-d1d6-4f82-9550-9d43bb8d3b78",
   "metadata": {},
   "source": [
    "**<h4>1./ Null hypothesis and Alternative hypothesis </h4>**"
   ]
  },
  {
   "cell_type": "markdown",
   "id": "da25b650-effd-486e-84f4-d512cddb74d1",
   "metadata": {},
   "source": [
    "On suppose que le coût des accidents suit une loi exponentielle de paramètre $\\theta$. Hypotheses $H_{0,1}$ can then be written as\n",
    "\n",
    "$H_0: \\mathbb{E}(X)\\leq10^9\\Leftrightarrow\\theta^{-1}\\leq10^9\\Leftrightarrow\\theta\\geq10^{-9}$\n",
    "and\n",
    "$H_1 : 0<\\theta<10^{-9}$."
   ]
  },
  {
   "cell_type": "markdown",
   "id": "84afdee4-9ec7-471f-9d32-412b06956cb6",
   "metadata": {},
   "source": [
    "**<h4>2./ Neyman-Pearson's Approach </h4>**"
   ]
  },
  {
   "cell_type": "markdown",
   "id": "1967e1ee-501e-4e74-a624-2646acb94361",
   "metadata": {},
   "source": [
    "I'll detail further below, but the idea is to formulate intermediate hypotheses in order to apply Neyman-Pearson, as it does not apply onto region but on singular values.\n",
    "\n",
    "According to Neyman-Pearson, the likelihood-ratio test is the most powerful (in the UMP sense) for all $\\alpha$. But this test, as aforementioned, can only apply when the main parameter can take two different values. \n",
    "\n",
    "Let $\\theta_0\\geq10^{-9}>\\theta_1>0$ be some parameters in $H_{0,1}$ regions.\n",
    "The likelihood ratio can now be computed :\n",
    "$\\frac{p(x_1,\\dots,x_n,\\theta_0)}{p(x_1,\\dots,x_n,\\theta_1)}=\\frac{\\theta_0^n \\mathrm{e}^{-\\theta_0 \\sum\\limits_{i=1}^n x_i}}{\\theta_1^n \\mathrm{e}^{-\\theta_1 \\sum\\limits_{i=1}^n x_i}}=(\\frac{\\theta_0}{\\theta_1})^n e^{-(\\theta_0-\\theta_1) s }$\n",
    "\n",
    "Following the principle of monotonous likelihood ratio, we see that the ratio above only depends on s. Moreover it is decreasing with s, as $\\theta_0\\geq10^{-9}>\\theta_1>0$. Thus, the test on hypotheses on thetas can be seen as a test in the form of $S>k_\\alpha$ for some parameter $\\alpha \\in ]0;1[$. By definition we want $\\alpha=\\mathbb{P}(S\\leq k_\\alpha|H_0)$ so we compute the cumulative distribution function of S.\n",
    "<br />\n",
    "S has for characteristic function $\\phi_S=\\phi_{\\sum\\limits_{i=1}^n X_i}$   $X_i$ are independent, <br />\n",
    "so we get $\\phi_S=\\prod\\limits_{i=1}^n \\phi_Xi=\\frac{1}{(1-\\frac{it}{\\theta})^n} $\n",
    "<br /> In the characteristic functions sense (see MDI104 course), this gives that S follow a unique distribution, being the gamma distribution of parameter $(n,\\frac{1}{\\theta})$ and we conclude that :\n",
    "$\\mathbb{P}(T\\leq k_\\alpha)=F_T(k_\\alpha)=\\frac{\\gamma(n,k_\\alpha\\theta)}{\\Gamma(n)}=\\frac{\\theta(k_\\alpha\\theta)^{n-1}}{\\Gamma(n)}e^{-t\\theta}$ <br />\n",
    "\n",
    "We just proved it is possible to give $k_\\alpha$ for any $\\alpha$ to get the UMP test, by taking the inverse of the cumulative distribution function (which is the quantile one)."
   ]
  },
  {
   "cell_type": "markdown",
   "id": "6df31db4-4780-4c25-a848-827b8dfeb016",
   "metadata": {},
   "source": [
    "**<h4>3./ Test at level 5% </h4>**"
   ]
  },
  {
   "cell_type": "code",
   "execution_count": 91,
   "id": "0ba5fb8e-1ba8-4a1c-abd9-8d3e3659d659",
   "metadata": {},
   "outputs": [
    {
     "name": "stdout",
     "output_type": "stream",
     "text": [
      "Cost (millions 2013US$)    726.336364\n",
      "dtype: float64\n",
      "k_alpha= 67740.08896417975\n",
      "H0 Rejected\n",
      "la p-valeur vaut 0.013717486423264914\n"
     ]
    }
   ],
   "source": [
    "threshold=10**-3 #Converting the values to billions\n",
    "SCALE=threshold**(-1)\n",
    "alpha=0.05 #Test at 5%\n",
    "n=len(accList)\n",
    "print(dataccidents.mean())\n",
    "k_alpha=stats.gamma.ppf(q=1.-alpha,a=n,scale=SCALE)\n",
    "print('k_alpha= '+str(k_alpha))\n",
    "S=sum(accList)\n",
    "\n",
    "#Now the likelihood test. If we are in one region or the other, we reject or not H0.\n",
    "if S>k_alpha:\n",
    "    print('H0 Accepted')\n",
    "else:\n",
    "    print('H0 Rejected')\n",
    "    \n",
    "#Pvalue computation :\n",
    "pvalue=stats.gamma.cdf(S,a=n,scale=SCALE)\n",
    "print('la p-valeur vaut',pvalue)"
   ]
  },
  {
   "cell_type": "markdown",
   "id": "efd80c9a-0487-437a-aa04-79e79e325bed",
   "metadata": {},
   "source": [
    "**<h4>4./ Probability density plot and rejection region </h4>**"
   ]
  },
  {
   "cell_type": "code",
   "execution_count": 92,
   "id": "bccd2610-348b-4307-86c3-e08ca720a087",
   "metadata": {},
   "outputs": [
    {
     "name": "stdout",
     "output_type": "stream",
     "text": [
      "Reminder : k_alpha =  67740.08896417975\n"
     ]
    },
    {
     "data": {
      "image/png": "[encoded data removed]",
      "text/plain": [
       "<Figure size 432x288 with 1 Axes>"
      ]
     },
     "metadata": {
      "needs_background": "light"
     },
     "output_type": "display_data"
    }
   ],
   "source": [
    "#We color in orange the reject zone of hypothesis HO and in blue its accept zone.\n",
    "#As a reminder, our statistic is still S = Sum(Xi)\n",
    "\n",
    "print('Reminder : k_alpha = ',k_alpha)\n",
    "ax = np.linspace(0, 10**5, 100000)\n",
    "bx = np.linspace(0, k_alpha, 100000) \n",
    "ay = stats.gamma.pdf(ax, a=55, scale=(1/threshold)) # 55 non-zero values \n",
    "by = stats.gamma.pdf(bx, a=55, scale=(1/threshold)) # Same\n",
    "plt.plot(ax, ay)\n",
    "plt.plot(bx, by)\n",
    "plt.show()"
   ]
  },
  {
   "cell_type": "markdown",
   "id": "ce9ccddf-a2b8-4bfa-acc3-8c018257f4b3",
   "metadata": {},
   "source": [
    "**<h4>5./ Results at level alpha for different sample sizes </h4>**"
   ]
  },
  {
   "cell_type": "markdown",
   "id": "24e5bcef-9db2-489c-a843-8e83a7514507",
   "metadata": {},
   "source": [
    "We plot different test power functions at level $\\alpha$ for variable $\\theta$ and different values for $n = (10,30,50,100,500,10000,100000)$"
   ]
  },
  {
   "cell_type": "code",
   "execution_count": 93,
   "id": "993d7c95-6902-4565-bd62-ae4f64e09bdc",
   "metadata": {},
   "outputs": [
    {
     "data": {
      "image/png": "[encoded data removed]",
      "text/plain": [
       "<Figure size 432x288 with 1 Axes>"
      ]
     },
     "metadata": {
      "needs_background": "light"
     },
     "output_type": "display_data"
    }
   ],
   "source": [
    "nL=[10,30,50,100,500,10000,100000] #Spaced so the graph is nice\n",
    "def k_alpha(m):\n",
    "    return stats.gamma.ppf(q=1.-alpha,a=m,scale=SCALE)\n",
    "xL=np.linspace(1e-6, threshold,1000)\n",
    "for m in nL:\n",
    "    plt.plot(xL,1-stats.gamma.cdf(k_alpha(m), a=m, scale=(1/xL)), label=\"n = \"+str(m))\n",
    "plt.legend()\n",
    "plt.title('Probability to accept H0 given n')\n",
    "plt.show()"
   ]
  },
  {
   "cell_type": "markdown",
   "id": "c93ac5a3-3d67-43f2-b415-dd54fbbe00ae",
   "metadata": {},
   "source": [
    "As one can see, the higher n is, e.g. the more samples we have, more powerful the test is. These results simply illustrate the law of large numbers, stating that the more samples you have, the more the empirical average converges towards the expectancy. "
   ]
  },
  {
   "cell_type": "markdown",
   "id": "a4801f28-9598-48b4-9143-067358d050c2",
   "metadata": {},
   "source": [
    "**<h4>6./ A new test and its result </h4>**"
   ]
  },
  {
   "cell_type": "markdown",
   "id": "002f982a-6c5e-4ac1-9fcd-7ed2d1346bf0",
   "metadata": {},
   "source": [
    "As the $X_i$ are i.i.d. and in $L^2$, the central-limit theorem applies and yields $\\sum\\limits_{i=1}^n X_i$ converges in law (weakly) towards $\\mathcal{N}(n \\mathbb{E}[X_1], n \\mathbb{V}\\mathrm{ar}(X_1))$. This means that with n big enough, the average $\\hat{g}$ gets close to $Z \\sim \\mathcal{N}\\left(\\dfrac{1}{\\lambda},\\dfrac{1}{n\\lambda^2}\\right)$.<br /><br />\n",
    "One last test thus consists of the same hypotheses, but this time $\\hat{g}(X)$ is our test statistic, which just means we replaced the sum $g = S$ by the average $\\hat{g} = S/n$.\n",
    "Let's use back question **2./**, which yields: $\\mathbb{P}(T_1 < k'_\\alpha | H_0)=\\alpha=\\mathbb{P}(n\\hat{g}\\leq k_\\alpha|H_0)$ as $\\hat{g}$ is equal to $S/n$.\n",
    "Under the approximation of the CLT, below is the computation of $k'_{\\alpha}$:"
   ]
  },
  {
   "cell_type": "code",
   "execution_count": 94,
   "id": "0a799c19-eb55-43b4-a1bf-68eaf9969439",
   "metadata": {},
   "outputs": [
    {
     "name": "stdout",
     "output_type": "stream",
     "text": [
      "778.2079821874304\n",
      "H0 rejected\n"
     ]
    }
   ],
   "source": [
    "kprime_alpha=stats.norm.ppf(alpha,SCALE,SCALE*n**(-1/2))\n",
    "print(kprime_alpha)\n",
    "if mean(accList)<kprime_alpha:\n",
    "    print('H0 rejected')\n",
    "else:\n",
    "    print('H0 accepted')"
   ]
  },
  {
   "cell_type": "markdown",
   "id": "9a235845-6c7d-4e38-8a8d-8a57f44283e3",
   "metadata": {},
   "source": [
    "As we get the same result than before, we can safely say our approximation is good !"
   ]
  },
  {
   "cell_type": "markdown",
   "id": "a078a1e4-f6be-4135-82c9-fd380de9642c",
   "metadata": {},
   "source": [
    "                                               - 30/10/2021 -"
   ]
  }
 ],
 "metadata": {
  "kernelspec": {
   "display_name": "Python 3 (ipykernel)",
   "language": "python",
   "name": "python3"
  },
  "language_info": {
   "codemirror_mode": {
    "name": "ipython",
    "version": 3
   },
   "file_extension": ".py",
   "mimetype": "text/x-python",
   "name": "python",
   "nbconvert_exporter": "python",
   "pygments_lexer": "ipython3",
   "version": "3.9.5"
  }
 },
 "nbformat": 4,
 "nbformat_minor": 5
}
